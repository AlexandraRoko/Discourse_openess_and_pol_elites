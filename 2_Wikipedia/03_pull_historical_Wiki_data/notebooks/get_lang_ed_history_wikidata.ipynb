{
 "cells": [
  {
   "cell_type": "code",
   "execution_count": null,
   "metadata": {},
   "outputs": [],
   "source": []
  },
  {
   "cell_type": "code",
   "execution_count": 499,
   "metadata": {},
   "outputs": [],
   "source": [
    "#import relevant packages\n",
    "import requests\n",
    "import pandas as pd\n",
    "import datetime as dt\n",
    "import seaborn as sns\n",
    "import matplotlib.pyplot as plt\n",
    "import numpy as np\n",
    "import regex as re\n",
    "from datetime import datetime"
   ]
  },
  {
   "cell_type": "code",
   "execution_count": 500,
   "metadata": {},
   "outputs": [],
   "source": [
    "PATH = \"/Users/alexandrarottenkolber/Documents/02_Hertie_School/Master thesis/Master_Thesis_Hertie/data_analysis/01_data/Wikipedia/output/\"\n",
    "MP_data= pd.read_csv(PATH + \"MP_data.csv\")"
   ]
  },
  {
   "cell_type": "code",
   "execution_count": 501,
   "metadata": {},
   "outputs": [
    {
     "data": {
      "text/html": [
       "<div>\n",
       "<style scoped>\n",
       "    .dataframe tbody tr th:only-of-type {\n",
       "        vertical-align: middle;\n",
       "    }\n",
       "\n",
       "    .dataframe tbody tr th {\n",
       "        vertical-align: top;\n",
       "    }\n",
       "\n",
       "    .dataframe thead th {\n",
       "        text-align: right;\n",
       "    }\n",
       "</style>\n",
       "<table border=\"1\" class=\"dataframe\">\n",
       "  <thead>\n",
       "    <tr style=\"text-align: right;\">\n",
       "      <th></th>\n",
       "      <th>country</th>\n",
       "      <th>pageid</th>\n",
       "      <th>wikidataid</th>\n",
       "      <th>wikititle</th>\n",
       "      <th>name</th>\n",
       "      <th>sex</th>\n",
       "      <th>ethnicity</th>\n",
       "      <th>religion</th>\n",
       "      <th>birth</th>\n",
       "      <th>death</th>\n",
       "      <th>birthplace</th>\n",
       "      <th>deathplace</th>\n",
       "      <th>id_raw</th>\n",
       "      <th>id_query</th>\n",
       "      <th>wikiurl</th>\n",
       "      <th>no_lang_ed</th>\n",
       "      <th>pageRankGlobalALL</th>\n",
       "    </tr>\n",
       "  </thead>\n",
       "  <tbody>\n",
       "    <tr>\n",
       "      <th>0</th>\n",
       "      <td>DEU</td>\n",
       "      <td>1518001</td>\n",
       "      <td>Q2514</td>\n",
       "      <td>Willy_Brandt</td>\n",
       "      <td>Willy Brandt</td>\n",
       "      <td>male</td>\n",
       "      <td>white</td>\n",
       "      <td>protestantism evangelical</td>\n",
       "      <td>1913-12-18</td>\n",
       "      <td>1992-10-08</td>\n",
       "      <td>53.86972,10.68639</td>\n",
       "      <td>5.060084e+06</td>\n",
       "      <td>Q2514</td>\n",
       "      <td>wd:Q2514</td>\n",
       "      <td>https://de.wikipedia.org/wiki/Willy_Brandt</td>\n",
       "      <td>95</td>\n",
       "      <td>236.884284</td>\n",
       "    </tr>\n",
       "    <tr>\n",
       "      <th>1</th>\n",
       "      <td>DEU</td>\n",
       "      <td>38440</td>\n",
       "      <td>Q90837</td>\n",
       "      <td>Wolfgang_Mischnick</td>\n",
       "      <td>Wolfgang Mischnick</td>\n",
       "      <td>male</td>\n",
       "      <td>white</td>\n",
       "      <td>protestantism evangelical</td>\n",
       "      <td>1921-09-29</td>\n",
       "      <td>2002-10-06</td>\n",
       "      <td>51.04926,13.73836</td>\n",
       "      <td>5.014244e+06</td>\n",
       "      <td>Q90837</td>\n",
       "      <td>wd:Q90837</td>\n",
       "      <td>https://de.wikipedia.org/wiki/Wolfgang_Mischnick</td>\n",
       "      <td>7</td>\n",
       "      <td>1.644895</td>\n",
       "    </tr>\n",
       "    <tr>\n",
       "      <th>2</th>\n",
       "      <td>DEU</td>\n",
       "      <td>2952220</td>\n",
       "      <td>Q1612710</td>\n",
       "      <td>Hermann_Schwörer</td>\n",
       "      <td>Hermann Schwörer</td>\n",
       "      <td>male</td>\n",
       "      <td>white</td>\n",
       "      <td>catholicism</td>\n",
       "      <td>1922-05-01</td>\n",
       "      <td>2017-11-24</td>\n",
       "      <td>48.34778,9.37278</td>\n",
       "      <td>NaN</td>\n",
       "      <td>Q1612710</td>\n",
       "      <td>wd:Q1612710</td>\n",
       "      <td>https://de.wikipedia.org/wiki/Hermann_Schw%C3%...</td>\n",
       "      <td>5</td>\n",
       "      <td>2.251840</td>\n",
       "    </tr>\n",
       "    <tr>\n",
       "      <th>3</th>\n",
       "      <td>DEU</td>\n",
       "      <td>59449</td>\n",
       "      <td>Q62214</td>\n",
       "      <td>Gerhard_Stoltenberg</td>\n",
       "      <td>Gerhard Stoltenberg</td>\n",
       "      <td>male</td>\n",
       "      <td>white</td>\n",
       "      <td>protestantism lutheran</td>\n",
       "      <td>1928-09-29</td>\n",
       "      <td>2001-11-23</td>\n",
       "      <td>54.32333,10.13944</td>\n",
       "      <td>5.068334e+06</td>\n",
       "      <td>Q62214</td>\n",
       "      <td>wd:Q62214</td>\n",
       "      <td>https://de.wikipedia.org/wiki/Gerhard_Stoltenberg</td>\n",
       "      <td>17</td>\n",
       "      <td>10.736113</td>\n",
       "    </tr>\n",
       "    <tr>\n",
       "      <th>4</th>\n",
       "      <td>DEU</td>\n",
       "      <td>2443947</td>\n",
       "      <td>Q1603517</td>\n",
       "      <td>Helmut_Esters</td>\n",
       "      <td>Helmut Esters</td>\n",
       "      <td>male</td>\n",
       "      <td>NaN</td>\n",
       "      <td>catholicism</td>\n",
       "      <td>1935-12-15</td>\n",
       "      <td>2017-08-09</td>\n",
       "      <td>51.51972,6.3325</td>\n",
       "      <td>5.158334e+06</td>\n",
       "      <td>Q1603517</td>\n",
       "      <td>wd:Q1603517</td>\n",
       "      <td>https://de.wikipedia.org/wiki/Helmut_Esters</td>\n",
       "      <td>2</td>\n",
       "      <td>0.257832</td>\n",
       "    </tr>\n",
       "  </tbody>\n",
       "</table>\n",
       "</div>"
      ],
      "text/plain": [
       "  country   pageid wikidataid            wikititle                 name   sex  \\\n",
       "0     DEU  1518001      Q2514         Willy_Brandt         Willy Brandt  male   \n",
       "1     DEU    38440     Q90837   Wolfgang_Mischnick   Wolfgang Mischnick  male   \n",
       "2     DEU  2952220   Q1612710     Hermann_Schwörer     Hermann Schwörer  male   \n",
       "3     DEU    59449     Q62214  Gerhard_Stoltenberg  Gerhard Stoltenberg  male   \n",
       "4     DEU  2443947   Q1603517        Helmut_Esters        Helmut Esters  male   \n",
       "\n",
       "  ethnicity                   religion       birth       death  \\\n",
       "0     white  protestantism evangelical  1913-12-18  1992-10-08   \n",
       "1     white  protestantism evangelical  1921-09-29  2002-10-06   \n",
       "2     white                catholicism  1922-05-01  2017-11-24   \n",
       "3     white     protestantism lutheran  1928-09-29  2001-11-23   \n",
       "4       NaN                catholicism  1935-12-15  2017-08-09   \n",
       "\n",
       "          birthplace    deathplace    id_raw     id_query  \\\n",
       "0  53.86972,10.68639  5.060084e+06     Q2514     wd:Q2514   \n",
       "1  51.04926,13.73836  5.014244e+06    Q90837    wd:Q90837   \n",
       "2   48.34778,9.37278           NaN  Q1612710  wd:Q1612710   \n",
       "3  54.32333,10.13944  5.068334e+06    Q62214    wd:Q62214   \n",
       "4    51.51972,6.3325  5.158334e+06  Q1603517  wd:Q1603517   \n",
       "\n",
       "                                             wikiurl  no_lang_ed  \\\n",
       "0         https://de.wikipedia.org/wiki/Willy_Brandt          95   \n",
       "1   https://de.wikipedia.org/wiki/Wolfgang_Mischnick           7   \n",
       "2  https://de.wikipedia.org/wiki/Hermann_Schw%C3%...           5   \n",
       "3  https://de.wikipedia.org/wiki/Gerhard_Stoltenberg          17   \n",
       "4        https://de.wikipedia.org/wiki/Helmut_Esters           2   \n",
       "\n",
       "   pageRankGlobalALL  \n",
       "0         236.884284  \n",
       "1           1.644895  \n",
       "2           2.251840  \n",
       "3          10.736113  \n",
       "4           0.257832  "
      ]
     },
     "execution_count": 501,
     "metadata": {},
     "output_type": "execute_result"
    }
   ],
   "source": [
    "MP_data.head()"
   ]
  },
  {
   "cell_type": "code",
   "execution_count": 502,
   "metadata": {},
   "outputs": [],
   "source": [
    "titles = MP_data[\"wikidataid\"]"
   ]
  },
  {
   "cell_type": "code",
   "execution_count": 503,
   "metadata": {},
   "outputs": [
    {
     "data": {
      "text/plain": [
       "0           Q2514\n",
       "1          Q90837\n",
       "2        Q1612710\n",
       "3          Q62214\n",
       "4        Q1603517\n",
       "          ...    \n",
       "2211    Q40897036\n",
       "2212    Q40974956\n",
       "2213    Q40473868\n",
       "2214    Q40983704\n",
       "2215    Q18169686\n",
       "Name: wikidataid, Length: 2216, dtype: object"
      ]
     },
     "execution_count": 503,
     "metadata": {},
     "output_type": "execute_result"
    }
   ],
   "source": [
    "titles"
   ]
  },
  {
   "cell_type": "code",
   "execution_count": null,
   "metadata": {},
   "outputs": [],
   "source": []
  },
  {
   "cell_type": "code",
   "execution_count": 504,
   "metadata": {},
   "outputs": [
    {
     "data": {
      "text/plain": [
       "618    Q567\n",
       "Name: wikidataid, dtype: object"
      ]
     },
     "execution_count": 504,
     "metadata": {},
     "output_type": "execute_result"
    }
   ],
   "source": [
    "MP_data[\"wikidataid\"][MP_data[\"wikititle\"] == \"Angela_Merkel\"]"
   ]
  },
  {
   "cell_type": "code",
   "execution_count": 467,
   "metadata": {},
   "outputs": [],
   "source": [
    "from bs4 import BeautifulSoup\n",
    "import urllib.request\n",
    "\n",
    "\n",
    "url = \"https://www.wikidata.org/wiki/Q85516\"\n",
    "\n",
    "html = urllib.request.urlopen(url).read()\n",
    "soup = BeautifulSoup(html, 'html.parser')"
   ]
  },
  {
   "cell_type": "code",
   "execution_count": 468,
   "metadata": {},
   "outputs": [],
   "source": [
    "#soup"
   ]
  },
  {
   "cell_type": "code",
   "execution_count": 469,
   "metadata": {},
   "outputs": [],
   "source": [
    "#dir(soup)\n",
    "#soup.html.body"
   ]
  },
  {
   "cell_type": "raw",
   "metadata": {},
   "source": [
    "# The structure\n",
    "\n",
    "<div class=\"mw-collapsible-content\">\n",
    "\n",
    "\n",
    "</span><span class=\"wikibase-sitelinkview-link wikibase-sitelinkview-link-frwiki\"><span class=\"wikibase-sitelinkview-page\" dir=\"auto\" lang=\"fr\"><a href=\"https://fr.wikipedia.org/wiki/Kay_Gottschalk\" hreflang=\"fr\" title=\"Kay Gottschalk\">Kay Gottschalk</a></span><span class=\"wikibase-badgeselector wikibase-sitelinkview-badges\"></span></span>\n",
    "\n",
    "'''''''''''\n",
    "\n",
    "\n",
    "<div class=\"mw-collapsible-content\">\n",
    "<div class=\"wikibase-sitelinklistview\">\n",
    "<ul class=\"wikibase-sitelinklistview-listview\"><li class=\"wikibase-sitelinkview wikibase-sitelinkview-arwiki\" data-wb-siteid=\"arwiki\">\n",
    "<span class=\"wikibase-sitelinkview-siteid-container\">\n",
    "<span class=\"wikibase-sitelinkview-siteid wikibase-sitelinkview-siteid-arwiki\" title=\"Arabic\">arwiki</span>\n",
    "</span><span class=\"wikibase-sitelinkview-link wikibase-sitelinkview-link-arwiki\"><span class=\"wikibase-sitelinkview-page\" dir=\"auto\" lang=\"ar\"><a href=\"https://ar.wikipedia.org/wiki/%D9%83%D8%A7%D9%8A_%D8%BA%D9%88%D8%AA%D8%B4%D8%A7%D9%84%D9%83\" hreflang=\"ar\" title=\"كاي غوتشالك\">كاي غوتشالك</a></span><span class=\"wikibase-badgeselector wikibase-sitelinkview-badges\"></span></span>\n"
   ]
  },
  {
   "cell_type": "code",
   "execution_count": 470,
   "metadata": {},
   "outputs": [],
   "source": [
    "div_uls = soup.find_all(\"div\", {\"class\": \"wikibase-sitelinklistview\"})[0].find_all(\"ul\", {\"class\": \"wikibase-sitelinklistview-listview\"})"
   ]
  },
  {
   "cell_type": "code",
   "execution_count": 471,
   "metadata": {},
   "outputs": [],
   "source": [
    "div_uls_str = str(div_uls[0])\n",
    "div_uls_ls = div_uls_str.split(\"</span></span>\")\n",
    "#div_uls_ls = [item.replace(\"/span>\", \"\").replace(\"<span\", \"\").replace(\"<a\", \"\").replace(\"a>\", \"\").replace(\"<\", \"\").replace(\">\", \"\").replace(\"li\", \"\").replace(\"ul\", \"\").replace(\"\\n\", \"\") for item in div_uls_ls]"
   ]
  },
  {
   "cell_type": "code",
   "execution_count": 472,
   "metadata": {},
   "outputs": [
    {
     "data": {
      "text/plain": [
       "'<ul class=\"wikibase-sitelinklistview-listview\"><li class=\"wikibase-sitelinkview wikibase-sitelinkview-alswiki\" data-wb-siteid=\"alswiki\">\\n<span class=\"wikibase-sitelinkview-siteid-container\">\\n<span class=\"wikibase-sitelinkview-siteid wikibase-sitelinkview-siteid-alswiki\" title=\"Alemannisch\">alswiki</span>\\n</span><span class=\"wikibase-sitelinkview-link wikibase-sitelinkview-link-alswiki\"><span class=\"wikibase-sitelinkview-page\" dir=\"auto\" lang=\"gsw\"><a href=\"https://als.wikipedia.org/wiki/Gerd_M%C3%BCller_(CSU)\" hreflang=\"gsw\" title=\"Gerd Müller (CSU)\">Gerd Müller (CSU)</a></span><span class=\"wikibase-badgeselector wikibase-sitelinkview-badges\"></span></span>\\n</li><li class=\"wikibase-sitelinkview wikibase-sitelinkview-arwiki\" data-wb-siteid=\"arwiki\">\\n<span class=\"wikibase-sitelinkview-siteid-container\">\\n<span class=\"wikibase-sitelinkview-siteid wikibase-sitelinkview-siteid-arwiki\" title=\"Arabic\">arwiki</span>\\n</span><span class=\"wikibase-sitelinkview-link wikibase-sitelinkview-link-arwiki\"><span class=\"wikibase-sitelinkview-page\" dir=\"auto\" lang=\"ar\"><a href=\"https://ar.wikipedia.org/wiki/%D8%BA%D9%8A%D8%B1%D8%AF_%D9%85%D9%88%D9%84%D8%B1_(%D8%B3%D9%8A%D8%A7%D8%B3%D9%8A)\" hreflang=\"ar\" title=\"غيرد مولر (سياسي)\">غيرد مولر (سياسي)</a></span><span class=\"wikibase-badgeselector wikibase-sitelinkview-badges\"></span></span>\\n</li><li class=\"wikibase-sitelinkview wikibase-sitelinkview-dewiki\" data-wb-siteid=\"dewiki\">\\n<span class=\"wikibase-sitelinkview-siteid-container\">\\n<span class=\"wikibase-sitelinkview-siteid wikibase-sitelinkview-siteid-dewiki\" title=\"German\">dewiki</span>\\n</span><span class=\"wikibase-sitelinkview-link wikibase-sitelinkview-link-dewiki\"><span class=\"wikibase-sitelinkview-page\" dir=\"auto\" lang=\"de\"><a href=\"https://de.wikipedia.org/wiki/Gerd_M%C3%BCller_(Politiker,_1955)\" hreflang=\"de\" title=\"Gerd Müller (Politiker, 1955)\">Gerd Müller (Politiker, 1955)</a></span><span class=\"wikibase-badgeselector wikibase-sitelinkview-badges\"></span></span>\\n</li><li class=\"wikibase-sitelinkview wikibase-sitelinkview-enwiki\" data-wb-siteid=\"enwiki\">\\n<span class=\"wikibase-sitelinkview-siteid-container\">\\n<span class=\"wikibase-sitelinkview-siteid wikibase-sitelinkview-siteid-enwiki\" title=\"English\">enwiki</span>\\n</span><span class=\"wikibase-sitelinkview-link wikibase-sitelinkview-link-enwiki\"><span class=\"wikibase-sitelinkview-page\" dir=\"auto\" lang=\"en\"><a href=\"https://en.wikipedia.org/wiki/Gerd_M%C3%BCller_(politician)\" hreflang=\"en\" title=\"Gerd Müller (politician)\">Gerd Müller (politician)</a></span><span class=\"wikibase-badgeselector wikibase-sitelinkview-badges\"></span></span>\\n</li><li class=\"wikibase-sitelinkview wikibase-sitelinkview-eowiki\" data-wb-siteid=\"eowiki\">\\n<span class=\"wikibase-sitelinkview-siteid-container\">\\n<span class=\"wikibase-sitelinkview-siteid wikibase-sitelinkview-siteid-eowiki\" title=\"Esperanto\">eowiki</span>\\n</span><span class=\"wikibase-sitelinkview-link wikibase-sitelinkview-link-eowiki\"><span class=\"wikibase-sitelinkview-page\" dir=\"auto\" lang=\"eo\"><a href=\"https://eo.wikipedia.org/wiki/Gerd_M%C3%BCller_(politikisto)\" hreflang=\"eo\" title=\"Gerd Müller (politikisto)\">Gerd Müller (politikisto)</a></span><span class=\"wikibase-badgeselector wikibase-sitelinkview-badges\"></span></span>\\n</li><li class=\"wikibase-sitelinkview wikibase-sitelinkview-eswiki\" data-wb-siteid=\"eswiki\">\\n<span class=\"wikibase-sitelinkview-siteid-container\">\\n<span class=\"wikibase-sitelinkview-siteid wikibase-sitelinkview-siteid-eswiki\" title=\"Spanish\">eswiki</span>\\n</span><span class=\"wikibase-sitelinkview-link wikibase-sitelinkview-link-eswiki\"><span class=\"wikibase-sitelinkview-page\" dir=\"auto\" lang=\"es\"><a href=\"https://es.wikipedia.org/wiki/Gerd_M%C3%BCller_(pol%C3%ADtico)\" hreflang=\"es\" title=\"Gerd Müller (político)\">Gerd Müller (político)</a></span><span class=\"wikibase-badgeselector wikibase-sitelinkview-badges\"></span></span>\\n</li><li class=\"wikibase-sitelinkview wikibase-sitelinkview-frwiki\" data-wb-siteid=\"frwiki\">\\n<span class=\"wikibase-sitelinkview-siteid-container\">\\n<span class=\"wikibase-sitelinkview-siteid wikibase-sitelinkview-siteid-frwiki\" title=\"French\">frwiki</span>\\n</span><span class=\"wikibase-sitelinkview-link wikibase-sitelinkview-link-frwiki\"><span class=\"wikibase-sitelinkview-page\" dir=\"auto\" lang=\"fr\"><a href=\"https://fr.wikipedia.org/wiki/Gerd_M%C3%BCller_(homme_politique)\" hreflang=\"fr\" title=\"Gerd Müller (homme politique)\">Gerd Müller (homme politique)</a></span><span class=\"wikibase-badgeselector wikibase-sitelinkview-badges\"></span></span>\\n</li><li class=\"wikibase-sitelinkview wikibase-sitelinkview-lawiki\" data-wb-siteid=\"lawiki\">\\n<span class=\"wikibase-sitelinkview-siteid-container\">\\n<span class=\"wikibase-sitelinkview-siteid wikibase-sitelinkview-siteid-lawiki\" title=\"Latin\">lawiki</span>\\n</span><span class=\"wikibase-sitelinkview-link wikibase-sitelinkview-link-lawiki\"><span class=\"wikibase-sitelinkview-page\" dir=\"auto\" lang=\"la\"><a href=\"https://la.wikipedia.org/wiki/Gerhardus_M%C3%BCller\" hreflang=\"la\" title=\"Gerhardus Müller\">Gerhardus Müller</a></span><span class=\"wikibase-badgeselector wikibase-sitelinkview-badges\"></span></span>\\n</li><li class=\"wikibase-sitelinkview wikibase-sitelinkview-nlwiki\" data-wb-siteid=\"nlwiki\">\\n<span class=\"wikibase-sitelinkview-siteid-container\">\\n<span class=\"wikibase-sitelinkview-siteid wikibase-sitelinkview-siteid-nlwiki\" title=\"Dutch\">nlwiki</span>\\n</span><span class=\"wikibase-sitelinkview-link wikibase-sitelinkview-link-nlwiki\"><span class=\"wikibase-sitelinkview-page\" dir=\"auto\" lang=\"nl\"><a href=\"https://nl.wikipedia.org/wiki/Gerd_M%C3%BCller_(CSU-politicus)\" hreflang=\"nl\" title=\"Gerd Müller (CSU-politicus)\">Gerd Müller (CSU-politicus)</a></span><span class=\"wikibase-badgeselector wikibase-sitelinkview-badges\"></span></span>\\n</li><li class=\"wikibase-sitelinkview wikibase-sitelinkview-nowiki\" data-wb-siteid=\"nowiki\">\\n<span class=\"wikibase-sitelinkview-siteid-container\">\\n<span class=\"wikibase-sitelinkview-siteid wikibase-sitelinkview-siteid-nowiki\" title=\"Norwegian\">nowiki</span>\\n</span><span class=\"wikibase-sitelinkview-link wikibase-sitelinkview-link-nowiki\"><span class=\"wikibase-sitelinkview-page\" dir=\"auto\" lang=\"no\"><a href=\"https://no.wikipedia.org/wiki/Gerd_M%C3%BCller_(politiker)\" hreflang=\"no\" title=\"Gerd Müller (politiker)\">Gerd Müller (politiker)</a></span><span class=\"wikibase-badgeselector wikibase-sitelinkview-badges\"></span></span>\\n</li><li class=\"wikibase-sitelinkview wikibase-sitelinkview-plwiki\" data-wb-siteid=\"plwiki\">\\n<span class=\"wikibase-sitelinkview-siteid-container\">\\n<span class=\"wikibase-sitelinkview-siteid wikibase-sitelinkview-siteid-plwiki\" title=\"Polish\">plwiki</span>\\n</span><span class=\"wikibase-sitelinkview-link wikibase-sitelinkview-link-plwiki\"><span class=\"wikibase-sitelinkview-page\" dir=\"auto\" lang=\"pl\"><a href=\"https://pl.wikipedia.org/wiki/Gerd_M%C3%BCller_(polityk)\" hreflang=\"pl\" title=\"Gerd Müller (polityk)\">Gerd Müller (polityk)</a></span><span class=\"wikibase-badgeselector wikibase-sitelinkview-badges\"></span></span>\\n</li><li class=\"wikibase-sitelinkview wikibase-sitelinkview-ptwiki\" data-wb-siteid=\"ptwiki\">\\n<span class=\"wikibase-sitelinkview-siteid-container\">\\n<span class=\"wikibase-sitelinkview-siteid wikibase-sitelinkview-siteid-ptwiki\" title=\"Portuguese\">ptwiki</span>\\n</span><span class=\"wikibase-sitelinkview-link wikibase-sitelinkview-link-ptwiki\"><span class=\"wikibase-sitelinkview-page\" dir=\"auto\" lang=\"pt\"><a href=\"https://pt.wikipedia.org/wiki/Gerd_M%C3%BCller_(pol%C3%ADtico)\" hreflang=\"pt\" title=\"Gerd Müller (político)\">Gerd Müller (político)</a></span><span class=\"wikibase-badgeselector wikibase-sitelinkview-badges\"></span></span>\\n</li><li class=\"wikibase-sitelinkview wikibase-sitelinkview-ruwiki\" data-wb-siteid=\"ruwiki\">\\n<span class=\"wikibase-sitelinkview-siteid-container\">\\n<span class=\"wikibase-sitelinkview-siteid wikibase-sitelinkview-siteid-ruwiki\" title=\"Russian\">ruwiki</span>\\n</span><span class=\"wikibase-sitelinkview-link wikibase-sitelinkview-link-ruwiki\"><span class=\"wikibase-sitelinkview-page\" dir=\"auto\" lang=\"ru\"><a href=\"https://ru.wikipedia.org/wiki/%D0%9C%D1%8E%D0%BB%D0%BB%D0%B5%D1%80,_%D0%93%D0%B5%D1%80%D0%B4_(%D0%BF%D0%BE%D0%BB%D0%B8%D1%82%D0%B8%D0%BA)\" hreflang=\"ru\" title=\"Мюллер, Герд (политик)\">Мюллер, Герд (политик)</a></span><span class=\"wikibase-badgeselector wikibase-sitelinkview-badges\"></span></span>\\n</li><li class=\"wikibase-sitelinkview wikibase-sitelinkview-svwiki\" data-wb-siteid=\"svwiki\">\\n<span class=\"wikibase-sitelinkview-siteid-container\">\\n<span class=\"wikibase-sitelinkview-siteid wikibase-sitelinkview-siteid-svwiki\" title=\"Swedish\">svwiki</span>\\n</span><span class=\"wikibase-sitelinkview-link wikibase-sitelinkview-link-svwiki\"><span class=\"wikibase-sitelinkview-page\" dir=\"auto\" lang=\"sv\"><a href=\"https://sv.wikipedia.org/wiki/Gerd_M%C3%BCller_(CSU)\" hreflang=\"sv\" title=\"Gerd Müller (CSU)\">Gerd Müller (CSU)</a></span><span class=\"wikibase-badgeselector wikibase-sitelinkview-badges\"></span></span>\\n</li><li class=\"wikibase-sitelinkview wikibase-sitelinkview-ukwiki\" data-wb-siteid=\"ukwiki\">\\n<span class=\"wikibase-sitelinkview-siteid-container\">\\n<span class=\"wikibase-sitelinkview-siteid wikibase-sitelinkview-siteid-ukwiki\" title=\"Ukrainian\">ukwiki</span>\\n</span><span class=\"wikibase-sitelinkview-link wikibase-sitelinkview-link-ukwiki\"><span class=\"wikibase-sitelinkview-page\" dir=\"auto\" lang=\"uk\"><a href=\"https://uk.wikipedia.org/wiki/%D0%93%D0%B5%D1%80%D0%B4_%D0%9C%D1%8E%D0%BB%D0%BB%D0%B5%D1%80_(%D0%BF%D0%BE%D0%BB%D1%96%D1%82%D0%B8%D0%BA)\" hreflang=\"uk\" title=\"Герд Мюллер (політик)\">Герд Мюллер (політик)</a></span><span class=\"wikibase-badgeselector wikibase-sitelinkview-badges\"></span></span>\\n</li><li class=\"wikibase-sitelinkview wikibase-sitelinkview-zhwiki\" data-wb-siteid=\"zhwiki\">\\n<span class=\"wikibase-sitelinkview-siteid-container\">\\n<span class=\"wikibase-sitelinkview-siteid wikibase-sitelinkview-siteid-zhwiki\" title=\"Chinese\">zhwiki</span>\\n</span><span class=\"wikibase-sitelinkview-link wikibase-sitelinkview-link-zhwiki\"><span class=\"wikibase-sitelinkview-page\" dir=\"auto\" lang=\"zh\"><a href=\"https://zh.wikipedia.org/wiki/%E8%93%8B%E5%BE%B7%C2%B7%E7%A9%86%E5%8B%92_(%E6%94%BF%E6%B2%BB%E5%AE%B6)\" hreflang=\"zh\" title=\"蓋德·穆勒 (政治家)\">蓋德·穆勒 (政治家)</a></span><span class=\"wikibase-badgeselector wikibase-sitelinkview-badges\"></span></span>\\n</li></ul>'"
      ]
     },
     "execution_count": 472,
     "metadata": {},
     "output_type": "execute_result"
    }
   ],
   "source": [
    "div_uls_str"
   ]
  },
  {
   "cell_type": "code",
   "execution_count": 272,
   "metadata": {
    "collapsed": true,
    "jupyter": {
     "outputs_hidden": true
    }
   },
   "outputs": [
    {
     "data": {
      "text/plain": [
       "['<ul class=\"wikibase-sitelinklistview-listview\"><li class=\"wikibase-sitelinkview wikibase-sitelinkview-afwiki\" data-wb-siteid=\"afwiki\">\\n<span class=\"wikibase-sitelinkview-siteid-container\">\\n<span class=\"wikibase-sitelinkview-siteid wikibase-sitelinkview-siteid-afwiki\" title=\"Afrikaans\">afwiki</span>\\n</span><span class=\"wikibase-sitelinkview-link wikibase-sitelinkview-link-afwiki\"><span class=\"wikibase-sitelinkview-page\" dir=\"auto\" lang=\"af\"><a href=\"https://af.wikipedia.org/wiki/Willy_Brandt\" hreflang=\"af\" title=\"Willy Brandt\">Willy Brandt</a></span><span class=\"wikibase-badgeselector wikibase-sitelinkview-badges\">',\n",
       " '\\n</li><li class=\"wikibase-sitelinkview wikibase-sitelinkview-alswiki\" data-wb-siteid=\"alswiki\">\\n<span class=\"wikibase-sitelinkview-siteid-container\">\\n<span class=\"wikibase-sitelinkview-siteid wikibase-sitelinkview-siteid-alswiki\" title=\"Alemannisch\">alswiki</span>\\n</span><span class=\"wikibase-sitelinkview-link wikibase-sitelinkview-link-alswiki\"><span class=\"wikibase-sitelinkview-page\" dir=\"auto\" lang=\"gsw\"><a href=\"https://als.wikipedia.org/wiki/Willy_Brandt\" hreflang=\"gsw\" title=\"Willy Brandt\">Willy Brandt</a></span><span class=\"wikibase-badgeselector wikibase-sitelinkview-badges\">',\n",
       " '\\n</li><li class=\"wikibase-sitelinkview wikibase-sitelinkview-anwiki\" data-wb-siteid=\"anwiki\">\\n<span class=\"wikibase-sitelinkview-siteid-container\">\\n<span class=\"wikibase-sitelinkview-siteid wikibase-sitelinkview-siteid-anwiki\" title=\"Aragonese\">anwiki</span>\\n</span><span class=\"wikibase-sitelinkview-link wikibase-sitelinkview-link-anwiki\"><span class=\"wikibase-sitelinkview-page\" dir=\"auto\" lang=\"an\"><a href=\"https://an.wikipedia.org/wiki/Willy_Brandt\" hreflang=\"an\" title=\"Willy Brandt\">Willy Brandt</a></span><span class=\"wikibase-badgeselector wikibase-sitelinkview-badges\">',\n",
       " '\\n</li><li class=\"wikibase-sitelinkview wikibase-sitelinkview-arwiki\" data-wb-siteid=\"arwiki\">\\n<span class=\"wikibase-sitelinkview-siteid-container\">\\n<span class=\"wikibase-sitelinkview-siteid wikibase-sitelinkview-siteid-arwiki\" title=\"Arabic\">arwiki</span>\\n</span><span class=\"wikibase-sitelinkview-link wikibase-sitelinkview-link-arwiki\"><span class=\"wikibase-sitelinkview-page\" dir=\"auto\" lang=\"ar\"><a href=\"https://ar.wikipedia.org/wiki/%D9%88%D9%8A%D9%84%D9%8A_%D8%A8%D8%B1%D8%A7%D9%86%D8%AF%D8%AA\" hreflang=\"ar\" title=\"ويلي براندت\">ويلي براندت</a></span><span class=\"wikibase-badgeselector wikibase-sitelinkview-badges\">',\n",
       " '\\n</li><li class=\"wikibase-sitelinkview wikibase-sitelinkview-arzwiki\" data-wb-siteid=\"arzwiki\">\\n<span class=\"wikibase-sitelinkview-siteid-container\">\\n<span class=\"wikibase-sitelinkview-siteid wikibase-sitelinkview-siteid-arzwiki\" title=\"Egyptian Arabic\">arzwiki</span>\\n</span><span class=\"wikibase-sitelinkview-link wikibase-sitelinkview-link-arzwiki\"><span class=\"wikibase-sitelinkview-page\" dir=\"auto\" lang=\"arz\"><a href=\"https://arz.wikipedia.org/wiki/%D9%81%D9%8A%D9%84%D9%89_%D8%A8%D8%B1%D8%A7%D9%86%D8%AF%D8%AA\" hreflang=\"arz\" title=\"فيلى براندت\">فيلى براندت</a></span><span class=\"wikibase-badgeselector wikibase-sitelinkview-badges\">',\n",
       " '\\n</li><li class=\"wikibase-sitelinkview wikibase-sitelinkview-astwiki\" data-wb-siteid=\"astwiki\">\\n<span class=\"wikibase-sitelinkview-siteid-container\">\\n<span class=\"wikibase-sitelinkview-siteid wikibase-sitelinkview-siteid-astwiki\" title=\"Asturian\">astwiki</span>\\n</span><span class=\"wikibase-sitelinkview-link wikibase-sitelinkview-link-astwiki\"><span class=\"wikibase-sitelinkview-page\" dir=\"auto\" lang=\"ast\"><a href=\"https://ast.wikipedia.org/wiki/Willy_Brandt\" hreflang=\"ast\" title=\"Willy Brandt\">Willy Brandt</a></span><span class=\"wikibase-badgeselector wikibase-sitelinkview-badges\">',\n",
       " '\\n</li><li class=\"wikibase-sitelinkview wikibase-sitelinkview-azbwiki\" data-wb-siteid=\"azbwiki\">\\n<span class=\"wikibase-sitelinkview-siteid-container\">\\n<span class=\"wikibase-sitelinkview-siteid wikibase-sitelinkview-siteid-azbwiki\" title=\"South Azerbaijani\">azbwiki</span>\\n</span><span class=\"wikibase-sitelinkview-link wikibase-sitelinkview-link-azbwiki\"><span class=\"wikibase-sitelinkview-page\" dir=\"auto\" lang=\"azb\"><a href=\"https://azb.wikipedia.org/wiki/%D9%88%DB%8C%D9%84%DB%8C_%D8%A8%D8%B1%D8%A7%D9%86%D8%AA\" hreflang=\"azb\" title=\"ویلی برانت\">ویلی برانت</a></span><span class=\"wikibase-badgeselector wikibase-sitelinkview-badges\">',\n",
       " '\\n</li><li class=\"wikibase-sitelinkview wikibase-sitelinkview-azwiki\" data-wb-siteid=\"azwiki\">\\n<span class=\"wikibase-sitelinkview-siteid-container\">\\n<span class=\"wikibase-sitelinkview-siteid wikibase-sitelinkview-siteid-azwiki\" title=\"Azerbaijani\">azwiki</span>\\n</span><span class=\"wikibase-sitelinkview-link wikibase-sitelinkview-link-azwiki\"><span class=\"wikibase-sitelinkview-page\" dir=\"auto\" lang=\"az\"><a href=\"https://az.wikipedia.org/wiki/Villi_Brandt\" hreflang=\"az\" title=\"Villi Brandt\">Villi Brandt</a></span><span class=\"wikibase-badgeselector wikibase-sitelinkview-badges\">',\n",
       " '\\n</li><li class=\"wikibase-sitelinkview wikibase-sitelinkview-barwiki\" data-wb-siteid=\"barwiki\">\\n<span class=\"wikibase-sitelinkview-siteid-container\">\\n<span class=\"wikibase-sitelinkview-siteid wikibase-sitelinkview-siteid-barwiki\" title=\"Bavarian\">barwiki</span>\\n</span><span class=\"wikibase-sitelinkview-link wikibase-sitelinkview-link-barwiki\"><span class=\"wikibase-sitelinkview-page\" dir=\"auto\" lang=\"bar\"><a href=\"https://bar.wikipedia.org/wiki/Willy_Brandt\" hreflang=\"bar\" title=\"Willy Brandt\">Willy Brandt</a></span><span class=\"wikibase-badgeselector wikibase-sitelinkview-badges\">',\n",
       " '\\n</li><li class=\"wikibase-sitelinkview wikibase-sitelinkview-be_x_oldwiki\" data-wb-siteid=\"be_x_oldwiki\">\\n<span class=\"wikibase-sitelinkview-siteid-container\">\\n<span class=\"wikibase-sitelinkview-siteid wikibase-sitelinkview-siteid-be_x_oldwiki\" title=\"Belarusian (Taraškievica orthography)\">be_x_oldwiki</span>\\n</span><span class=\"wikibase-sitelinkview-link wikibase-sitelinkview-link-be_x_oldwiki\"><span class=\"wikibase-sitelinkview-page\" dir=\"auto\" lang=\"be-tarask\"><a href=\"https://be-tarask.wikipedia.org/wiki/%D0%92%D1%96%D0%BB%D1%96_%D0%91%D1%80%D0%B0%D0%BD%D1%82\" hreflang=\"be-tarask\" title=\"Вілі Брант\">Вілі Брант</a></span><span class=\"wikibase-badgeselector wikibase-sitelinkview-badges\">',\n",
       " '\\n</li><li class=\"wikibase-sitelinkview wikibase-sitelinkview-bewiki\" data-wb-siteid=\"bewiki\">\\n<span class=\"wikibase-sitelinkview-siteid-container\">\\n<span class=\"wikibase-sitelinkview-siteid wikibase-sitelinkview-siteid-bewiki\" title=\"Belarusian\">bewiki</span>\\n</span><span class=\"wikibase-sitelinkview-link wikibase-sitelinkview-link-bewiki\"><span class=\"wikibase-sitelinkview-page\" dir=\"auto\" lang=\"be\"><a href=\"https://be.wikipedia.org/wiki/%D0%92%D1%96%D0%BB%D1%96_%D0%91%D1%80%D0%B0%D0%BD%D1%82\" hreflang=\"be\" title=\"Вілі Брант\">Вілі Брант</a></span><span class=\"wikibase-badgeselector wikibase-sitelinkview-badges\">',\n",
       " '\\n</li><li class=\"wikibase-sitelinkview wikibase-sitelinkview-bgwiki\" data-wb-siteid=\"bgwiki\">\\n<span class=\"wikibase-sitelinkview-siteid-container\">\\n<span class=\"wikibase-sitelinkview-siteid wikibase-sitelinkview-siteid-bgwiki\" title=\"Bulgarian\">bgwiki</span>\\n</span><span class=\"wikibase-sitelinkview-link wikibase-sitelinkview-link-bgwiki\"><span class=\"wikibase-sitelinkview-page\" dir=\"auto\" lang=\"bg\"><a href=\"https://bg.wikipedia.org/wiki/%D0%92%D0%B8%D0%BB%D0%B8_%D0%91%D1%80%D0%B0%D0%BD%D0%B4\" hreflang=\"bg\" title=\"Вили Бранд\">Вили Бранд</a></span><span class=\"wikibase-badgeselector wikibase-sitelinkview-badges\">',\n",
       " '\\n</li><li class=\"wikibase-sitelinkview wikibase-sitelinkview-bnwiki\" data-wb-siteid=\"bnwiki\">\\n<span class=\"wikibase-sitelinkview-siteid-container\">\\n<span class=\"wikibase-sitelinkview-siteid wikibase-sitelinkview-siteid-bnwiki\" title=\"Bangla\">bnwiki</span>\\n</span><span class=\"wikibase-sitelinkview-link wikibase-sitelinkview-link-bnwiki\"><span class=\"wikibase-sitelinkview-page\" dir=\"auto\" lang=\"bn\"><a href=\"https://bn.wikipedia.org/wiki/%E0%A6%89%E0%A6%87%E0%A6%B2%E0%A6%BF_%E0%A6%AC%E0%A7%8D%E0%A6%B0%E2%80%8C%E0%A7%8D%E0%A6%AF%E0%A6%BE%E0%A6%A8%E0%A7%8D%E0%A6%9F\" hreflang=\"bn\" title=\"উইলি ব্র\\u200c্যান্ট\">উইলি ব্র\\u200c্যান্ট</a></span><span class=\"wikibase-badgeselector wikibase-sitelinkview-badges\">',\n",
       " '\\n</li><li class=\"wikibase-sitelinkview wikibase-sitelinkview-brwiki\" data-wb-siteid=\"brwiki\">\\n<span class=\"wikibase-sitelinkview-siteid-container\">\\n<span class=\"wikibase-sitelinkview-siteid wikibase-sitelinkview-siteid-brwiki\" title=\"Breton\">brwiki</span>\\n</span><span class=\"wikibase-sitelinkview-link wikibase-sitelinkview-link-brwiki\"><span class=\"wikibase-sitelinkview-page\" dir=\"auto\" lang=\"br\"><a href=\"https://br.wikipedia.org/wiki/Willy_Brandt\" hreflang=\"br\" title=\"Willy Brandt\">Willy Brandt</a></span><span class=\"wikibase-badgeselector wikibase-sitelinkview-badges\">',\n",
       " '\\n</li><li class=\"wikibase-sitelinkview wikibase-sitelinkview-bswiki\" data-wb-siteid=\"bswiki\">\\n<span class=\"wikibase-sitelinkview-siteid-container\">\\n<span class=\"wikibase-sitelinkview-siteid wikibase-sitelinkview-siteid-bswiki\" title=\"Bosnian\">bswiki</span>\\n</span><span class=\"wikibase-sitelinkview-link wikibase-sitelinkview-link-bswiki\"><span class=\"wikibase-sitelinkview-page\" dir=\"auto\" lang=\"bs\"><a href=\"https://bs.wikipedia.org/wiki/Willy_Brandt\" hreflang=\"bs\" title=\"Willy Brandt\">Willy Brandt</a></span><span class=\"wikibase-badgeselector wikibase-sitelinkview-badges\">',\n",
       " '\\n</li><li class=\"wikibase-sitelinkview wikibase-sitelinkview-cawiki\" data-wb-siteid=\"cawiki\">\\n<span class=\"wikibase-sitelinkview-siteid-container\">\\n<span class=\"wikibase-sitelinkview-siteid wikibase-sitelinkview-siteid-cawiki\" title=\"Catalan\">cawiki</span>\\n</span><span class=\"wikibase-sitelinkview-link wikibase-sitelinkview-link-cawiki\"><span class=\"wikibase-sitelinkview-page\" dir=\"auto\" lang=\"ca\"><a href=\"https://ca.wikipedia.org/wiki/Willy_Brandt\" hreflang=\"ca\" title=\"Willy Brandt\">Willy Brandt</a></span><span class=\"wikibase-badgeselector wikibase-sitelinkview-badges\">',\n",
       " '\\n</li><li class=\"wikibase-sitelinkview wikibase-sitelinkview-cswiki\" data-wb-siteid=\"cswiki\">\\n<span class=\"wikibase-sitelinkview-siteid-container\">\\n<span class=\"wikibase-sitelinkview-siteid wikibase-sitelinkview-siteid-cswiki\" title=\"Czech\">cswiki</span>\\n</span><span class=\"wikibase-sitelinkview-link wikibase-sitelinkview-link-cswiki\"><span class=\"wikibase-sitelinkview-page\" dir=\"auto\" lang=\"cs\"><a href=\"https://cs.wikipedia.org/wiki/Willy_Brandt\" hreflang=\"cs\" title=\"Willy Brandt\">Willy Brandt</a></span><span class=\"wikibase-badgeselector wikibase-sitelinkview-badges\">',\n",
       " '\\n</li><li class=\"wikibase-sitelinkview wikibase-sitelinkview-cywiki\" data-wb-siteid=\"cywiki\">\\n<span class=\"wikibase-sitelinkview-siteid-container\">\\n<span class=\"wikibase-sitelinkview-siteid wikibase-sitelinkview-siteid-cywiki\" title=\"Welsh\">cywiki</span>\\n</span><span class=\"wikibase-sitelinkview-link wikibase-sitelinkview-link-cywiki\"><span class=\"wikibase-sitelinkview-page\" dir=\"auto\" lang=\"cy\"><a href=\"https://cy.wikipedia.org/wiki/Willy_Brandt\" hreflang=\"cy\" title=\"Willy Brandt\">Willy Brandt</a></span><span class=\"wikibase-badgeselector wikibase-sitelinkview-badges\">',\n",
       " '\\n</li><li class=\"wikibase-sitelinkview wikibase-sitelinkview-dawiki\" data-wb-siteid=\"dawiki\">\\n<span class=\"wikibase-sitelinkview-siteid-container\">\\n<span class=\"wikibase-sitelinkview-siteid wikibase-sitelinkview-siteid-dawiki\" title=\"Danish\">dawiki</span>\\n</span><span class=\"wikibase-sitelinkview-link wikibase-sitelinkview-link-dawiki\"><span class=\"wikibase-sitelinkview-page\" dir=\"auto\" lang=\"da\"><a href=\"https://da.wikipedia.org/wiki/Willy_Brandt\" hreflang=\"da\" title=\"Willy Brandt\">Willy Brandt</a></span><span class=\"wikibase-badgeselector wikibase-sitelinkview-badges\">',\n",
       " '\\n</li><li class=\"wikibase-sitelinkview wikibase-sitelinkview-dewiki\" data-wb-siteid=\"dewiki\">\\n<span class=\"wikibase-sitelinkview-siteid-container\">\\n<span class=\"wikibase-sitelinkview-siteid wikibase-sitelinkview-siteid-dewiki\" title=\"German\">dewiki</span>\\n</span><span class=\"wikibase-sitelinkview-link wikibase-sitelinkview-link-dewiki\"><span class=\"wikibase-sitelinkview-page\" dir=\"auto\" lang=\"de\"><a href=\"https://de.wikipedia.org/wiki/Willy_Brandt\" hreflang=\"de\" title=\"Willy Brandt\">Willy Brandt</a></span><span class=\"wikibase-badgeselector wikibase-sitelinkview-badges\"><span class=\"wb-badge wb-badge-Q17437798 wb-badge-goodarticle\" data-wb-badge=\"Q17437798\" title=\"good article badge\">',\n",
       " '</span>\\n</li><li class=\"wikibase-sitelinkview wikibase-sitelinkview-diqwiki\" data-wb-siteid=\"diqwiki\">\\n<span class=\"wikibase-sitelinkview-siteid-container\">\\n<span class=\"wikibase-sitelinkview-siteid wikibase-sitelinkview-siteid-diqwiki\" title=\"Zazaki\">diqwiki</span>\\n</span><span class=\"wikibase-sitelinkview-link wikibase-sitelinkview-link-diqwiki\"><span class=\"wikibase-sitelinkview-page\" dir=\"auto\" lang=\"diq\"><a href=\"https://diq.wikipedia.org/wiki/Willy_Brandt\" hreflang=\"diq\" title=\"Willy Brandt\">Willy Brandt</a></span><span class=\"wikibase-badgeselector wikibase-sitelinkview-badges\">',\n",
       " '\\n</li><li class=\"wikibase-sitelinkview wikibase-sitelinkview-dsbwiki\" data-wb-siteid=\"dsbwiki\">\\n<span class=\"wikibase-sitelinkview-siteid-container\">\\n<span class=\"wikibase-sitelinkview-siteid wikibase-sitelinkview-siteid-dsbwiki\" title=\"Lower Sorbian\">dsbwiki</span>\\n</span><span class=\"wikibase-sitelinkview-link wikibase-sitelinkview-link-dsbwiki\"><span class=\"wikibase-sitelinkview-page\" dir=\"auto\" lang=\"dsb\"><a href=\"https://dsb.wikipedia.org/wiki/Willy_Brandt\" hreflang=\"dsb\" title=\"Willy Brandt\">Willy Brandt</a></span><span class=\"wikibase-badgeselector wikibase-sitelinkview-badges\">',\n",
       " '\\n</li><li class=\"wikibase-sitelinkview wikibase-sitelinkview-elwiki\" data-wb-siteid=\"elwiki\">\\n<span class=\"wikibase-sitelinkview-siteid-container\">\\n<span class=\"wikibase-sitelinkview-siteid wikibase-sitelinkview-siteid-elwiki\" title=\"Greek\">elwiki</span>\\n</span><span class=\"wikibase-sitelinkview-link wikibase-sitelinkview-link-elwiki\"><span class=\"wikibase-sitelinkview-page\" dir=\"auto\" lang=\"el\"><a href=\"https://el.wikipedia.org/wiki/%CE%92%CE%AF%CE%BB%CE%BB%CF%85_%CE%9C%CF%80%CF%81%CE%B1%CE%BD%CF%84\" hreflang=\"el\" title=\"Βίλλυ Μπραντ\">Βίλλυ Μπραντ</a></span><span class=\"wikibase-badgeselector wikibase-sitelinkview-badges\">',\n",
       " '\\n</li><li class=\"wikibase-sitelinkview wikibase-sitelinkview-enwiki\" data-wb-siteid=\"enwiki\">\\n<span class=\"wikibase-sitelinkview-siteid-container\">\\n<span class=\"wikibase-sitelinkview-siteid wikibase-sitelinkview-siteid-enwiki\" title=\"English\">enwiki</span>\\n</span><span class=\"wikibase-sitelinkview-link wikibase-sitelinkview-link-enwiki\"><span class=\"wikibase-sitelinkview-page\" dir=\"auto\" lang=\"en\"><a href=\"https://en.wikipedia.org/wiki/Willy_Brandt\" hreflang=\"en\" title=\"Willy Brandt\">Willy Brandt</a></span><span class=\"wikibase-badgeselector wikibase-sitelinkview-badges\">',\n",
       " '\\n</li><li class=\"wikibase-sitelinkview wikibase-sitelinkview-eowiki\" data-wb-siteid=\"eowiki\">\\n<span class=\"wikibase-sitelinkview-siteid-container\">\\n<span class=\"wikibase-sitelinkview-siteid wikibase-sitelinkview-siteid-eowiki\" title=\"Esperanto\">eowiki</span>\\n</span><span class=\"wikibase-sitelinkview-link wikibase-sitelinkview-link-eowiki\"><span class=\"wikibase-sitelinkview-page\" dir=\"auto\" lang=\"eo\"><a href=\"https://eo.wikipedia.org/wiki/Willy_Brandt\" hreflang=\"eo\" title=\"Willy Brandt\">Willy Brandt</a></span><span class=\"wikibase-badgeselector wikibase-sitelinkview-badges\">',\n",
       " '\\n</li><li class=\"wikibase-sitelinkview wikibase-sitelinkview-eswiki\" data-wb-siteid=\"eswiki\">\\n<span class=\"wikibase-sitelinkview-siteid-container\">\\n<span class=\"wikibase-sitelinkview-siteid wikibase-sitelinkview-siteid-eswiki\" title=\"Spanish\">eswiki</span>\\n</span><span class=\"wikibase-sitelinkview-link wikibase-sitelinkview-link-eswiki\"><span class=\"wikibase-sitelinkview-page\" dir=\"auto\" lang=\"es\"><a href=\"https://es.wikipedia.org/wiki/Willy_Brandt\" hreflang=\"es\" title=\"Willy Brandt\">Willy Brandt</a></span><span class=\"wikibase-badgeselector wikibase-sitelinkview-badges\">',\n",
       " '\\n</li><li class=\"wikibase-sitelinkview wikibase-sitelinkview-etwiki\" data-wb-siteid=\"etwiki\">\\n<span class=\"wikibase-sitelinkview-siteid-container\">\\n<span class=\"wikibase-sitelinkview-siteid wikibase-sitelinkview-siteid-etwiki\" title=\"Estonian\">etwiki</span>\\n</span><span class=\"wikibase-sitelinkview-link wikibase-sitelinkview-link-etwiki\"><span class=\"wikibase-sitelinkview-page\" dir=\"auto\" lang=\"et\"><a href=\"https://et.wikipedia.org/wiki/Willy_Brandt\" hreflang=\"et\" title=\"Willy Brandt\">Willy Brandt</a></span><span class=\"wikibase-badgeselector wikibase-sitelinkview-badges\">',\n",
       " '\\n</li><li class=\"wikibase-sitelinkview wikibase-sitelinkview-euwiki\" data-wb-siteid=\"euwiki\">\\n<span class=\"wikibase-sitelinkview-siteid-container\">\\n<span class=\"wikibase-sitelinkview-siteid wikibase-sitelinkview-siteid-euwiki\" title=\"Basque\">euwiki</span>\\n</span><span class=\"wikibase-sitelinkview-link wikibase-sitelinkview-link-euwiki\"><span class=\"wikibase-sitelinkview-page\" dir=\"auto\" lang=\"eu\"><a href=\"https://eu.wikipedia.org/wiki/Willy_Brandt\" hreflang=\"eu\" title=\"Willy Brandt\">Willy Brandt</a></span><span class=\"wikibase-badgeselector wikibase-sitelinkview-badges\">',\n",
       " '\\n</li><li class=\"wikibase-sitelinkview wikibase-sitelinkview-fawiki\" data-wb-siteid=\"fawiki\">\\n<span class=\"wikibase-sitelinkview-siteid-container\">\\n<span class=\"wikibase-sitelinkview-siteid wikibase-sitelinkview-siteid-fawiki\" title=\"Persian\">fawiki</span>\\n</span><span class=\"wikibase-sitelinkview-link wikibase-sitelinkview-link-fawiki\"><span class=\"wikibase-sitelinkview-page\" dir=\"auto\" lang=\"fa\"><a href=\"https://fa.wikipedia.org/wiki/%D9%88%DB%8C%D9%84%DB%8C_%D8%A8%D8%B1%D8%A7%D9%86%D8%AA\" hreflang=\"fa\" title=\"ویلی برانت\">ویلی برانت</a></span><span class=\"wikibase-badgeselector wikibase-sitelinkview-badges\">',\n",
       " '\\n</li><li class=\"wikibase-sitelinkview wikibase-sitelinkview-fiwiki\" data-wb-siteid=\"fiwiki\">\\n<span class=\"wikibase-sitelinkview-siteid-container\">\\n<span class=\"wikibase-sitelinkview-siteid wikibase-sitelinkview-siteid-fiwiki\" title=\"Finnish\">fiwiki</span>\\n</span><span class=\"wikibase-sitelinkview-link wikibase-sitelinkview-link-fiwiki\"><span class=\"wikibase-sitelinkview-page\" dir=\"auto\" lang=\"fi\"><a href=\"https://fi.wikipedia.org/wiki/Willy_Brandt\" hreflang=\"fi\" title=\"Willy Brandt\">Willy Brandt</a></span><span class=\"wikibase-badgeselector wikibase-sitelinkview-badges\">',\n",
       " '\\n</li><li class=\"wikibase-sitelinkview wikibase-sitelinkview-frrwiki\" data-wb-siteid=\"frrwiki\">\\n<span class=\"wikibase-sitelinkview-siteid-container\">\\n<span class=\"wikibase-sitelinkview-siteid wikibase-sitelinkview-siteid-frrwiki\" title=\"Northern Frisian\">frrwiki</span>\\n</span><span class=\"wikibase-sitelinkview-link wikibase-sitelinkview-link-frrwiki\"><span class=\"wikibase-sitelinkview-page\" dir=\"auto\" lang=\"frr\"><a href=\"https://frr.wikipedia.org/wiki/Willy_Brandt\" hreflang=\"frr\" title=\"Willy Brandt\">Willy Brandt</a></span><span class=\"wikibase-badgeselector wikibase-sitelinkview-badges\">',\n",
       " '\\n</li><li class=\"wikibase-sitelinkview wikibase-sitelinkview-frwiki\" data-wb-siteid=\"frwiki\">\\n<span class=\"wikibase-sitelinkview-siteid-container\">\\n<span class=\"wikibase-sitelinkview-siteid wikibase-sitelinkview-siteid-frwiki\" title=\"French\">frwiki</span>\\n</span><span class=\"wikibase-sitelinkview-link wikibase-sitelinkview-link-frwiki\"><span class=\"wikibase-sitelinkview-page\" dir=\"auto\" lang=\"fr\"><a href=\"https://fr.wikipedia.org/wiki/Willy_Brandt\" hreflang=\"fr\" title=\"Willy Brandt\">Willy Brandt</a></span><span class=\"wikibase-badgeselector wikibase-sitelinkview-badges\">',\n",
       " '\\n</li><li class=\"wikibase-sitelinkview wikibase-sitelinkview-fywiki\" data-wb-siteid=\"fywiki\">\\n<span class=\"wikibase-sitelinkview-siteid-container\">\\n<span class=\"wikibase-sitelinkview-siteid wikibase-sitelinkview-siteid-fywiki\" title=\"Western Frisian\">fywiki</span>\\n</span><span class=\"wikibase-sitelinkview-link wikibase-sitelinkview-link-fywiki\"><span class=\"wikibase-sitelinkview-page\" dir=\"auto\" lang=\"fy\"><a href=\"https://fy.wikipedia.org/wiki/Willy_Brandt\" hreflang=\"fy\" title=\"Willy Brandt\">Willy Brandt</a></span><span class=\"wikibase-badgeselector wikibase-sitelinkview-badges\">',\n",
       " '\\n</li><li class=\"wikibase-sitelinkview wikibase-sitelinkview-glwiki\" data-wb-siteid=\"glwiki\">\\n<span class=\"wikibase-sitelinkview-siteid-container\">\\n<span class=\"wikibase-sitelinkview-siteid wikibase-sitelinkview-siteid-glwiki\" title=\"Galician\">glwiki</span>\\n</span><span class=\"wikibase-sitelinkview-link wikibase-sitelinkview-link-glwiki\"><span class=\"wikibase-sitelinkview-page\" dir=\"auto\" lang=\"gl\"><a href=\"https://gl.wikipedia.org/wiki/Willy_Brandt\" hreflang=\"gl\" title=\"Willy Brandt\">Willy Brandt</a></span><span class=\"wikibase-badgeselector wikibase-sitelinkview-badges\">',\n",
       " '\\n</li><li class=\"wikibase-sitelinkview wikibase-sitelinkview-hewiki\" data-wb-siteid=\"hewiki\">\\n<span class=\"wikibase-sitelinkview-siteid-container\">\\n<span class=\"wikibase-sitelinkview-siteid wikibase-sitelinkview-siteid-hewiki\" title=\"Hebrew\">hewiki</span>\\n</span><span class=\"wikibase-sitelinkview-link wikibase-sitelinkview-link-hewiki\"><span class=\"wikibase-sitelinkview-page\" dir=\"auto\" lang=\"he\"><a href=\"https://he.wikipedia.org/wiki/%D7%95%D7%99%D7%9C%D7%99_%D7%91%D7%A8%D7%A0%D7%93%D7%98\" hreflang=\"he\" title=\"וילי ברנדט\">וילי ברנדט</a></span><span class=\"wikibase-badgeselector wikibase-sitelinkview-badges\">',\n",
       " '\\n</li><li class=\"wikibase-sitelinkview wikibase-sitelinkview-hiwiki\" data-wb-siteid=\"hiwiki\">\\n<span class=\"wikibase-sitelinkview-siteid-container\">\\n<span class=\"wikibase-sitelinkview-siteid wikibase-sitelinkview-siteid-hiwiki\" title=\"Hindi\">hiwiki</span>\\n</span><span class=\"wikibase-sitelinkview-link wikibase-sitelinkview-link-hiwiki\"><span class=\"wikibase-sitelinkview-page\" dir=\"auto\" lang=\"hi\"><a href=\"https://hi.wikipedia.org/wiki/%E0%A4%B5%E0%A4%BF%E0%A4%B2%E0%A5%80_%E0%A4%AC%E0%A5%8D%E0%A4%B0%E0%A4%BE%E0%A4%82%E0%A4%9F\" hreflang=\"hi\" title=\"विली ब्रांट\">विली ब्रांट</a></span><span class=\"wikibase-badgeselector wikibase-sitelinkview-badges\">',\n",
       " '\\n</li><li class=\"wikibase-sitelinkview wikibase-sitelinkview-hrwiki\" data-wb-siteid=\"hrwiki\">\\n<span class=\"wikibase-sitelinkview-siteid-container\">\\n<span class=\"wikibase-sitelinkview-siteid wikibase-sitelinkview-siteid-hrwiki\" title=\"Croatian\">hrwiki</span>\\n</span><span class=\"wikibase-sitelinkview-link wikibase-sitelinkview-link-hrwiki\"><span class=\"wikibase-sitelinkview-page\" dir=\"auto\" lang=\"hr\"><a href=\"https://hr.wikipedia.org/wiki/Willy_Brandt\" hreflang=\"hr\" title=\"Willy Brandt\">Willy Brandt</a></span><span class=\"wikibase-badgeselector wikibase-sitelinkview-badges\">',\n",
       " '\\n</li><li class=\"wikibase-sitelinkview wikibase-sitelinkview-hsbwiki\" data-wb-siteid=\"hsbwiki\">\\n<span class=\"wikibase-sitelinkview-siteid-container\">\\n<span class=\"wikibase-sitelinkview-siteid wikibase-sitelinkview-siteid-hsbwiki\" title=\"Upper Sorbian\">hsbwiki</span>\\n</span><span class=\"wikibase-sitelinkview-link wikibase-sitelinkview-link-hsbwiki\"><span class=\"wikibase-sitelinkview-page\" dir=\"auto\" lang=\"hsb\"><a href=\"https://hsb.wikipedia.org/wiki/Willy_Brandt\" hreflang=\"hsb\" title=\"Willy Brandt\">Willy Brandt</a></span><span class=\"wikibase-badgeselector wikibase-sitelinkview-badges\">',\n",
       " '\\n</li><li class=\"wikibase-sitelinkview wikibase-sitelinkview-huwiki\" data-wb-siteid=\"huwiki\">\\n<span class=\"wikibase-sitelinkview-siteid-container\">\\n<span class=\"wikibase-sitelinkview-siteid wikibase-sitelinkview-siteid-huwiki\" title=\"Hungarian\">huwiki</span>\\n</span><span class=\"wikibase-sitelinkview-link wikibase-sitelinkview-link-huwiki\"><span class=\"wikibase-sitelinkview-page\" dir=\"auto\" lang=\"hu\"><a href=\"https://hu.wikipedia.org/wiki/Willy_Brandt\" hreflang=\"hu\" title=\"Willy Brandt\">Willy Brandt</a></span><span class=\"wikibase-badgeselector wikibase-sitelinkview-badges\">',\n",
       " '\\n</li><li class=\"wikibase-sitelinkview wikibase-sitelinkview-hywiki\" data-wb-siteid=\"hywiki\">\\n<span class=\"wikibase-sitelinkview-siteid-container\">\\n<span class=\"wikibase-sitelinkview-siteid wikibase-sitelinkview-siteid-hywiki\" title=\"Armenian\">hywiki</span>\\n</span><span class=\"wikibase-sitelinkview-link wikibase-sitelinkview-link-hywiki\"><span class=\"wikibase-sitelinkview-page\" dir=\"auto\" lang=\"hy\"><a href=\"https://hy.wikipedia.org/wiki/%D5%8E%D5%AB%D5%AC%D5%AB_%D4%B2%D6%80%D5%A1%D5%B6%D5%A4%D5%BF\" hreflang=\"hy\" title=\"Վիլի Բրանդտ\">Վիլի Բրանդտ</a></span><span class=\"wikibase-badgeselector wikibase-sitelinkview-badges\">',\n",
       " '\\n</li><li class=\"wikibase-sitelinkview wikibase-sitelinkview-iawiki\" data-wb-siteid=\"iawiki\">\\n<span class=\"wikibase-sitelinkview-siteid-container\">\\n<span class=\"wikibase-sitelinkview-siteid wikibase-sitelinkview-siteid-iawiki\" title=\"Interlingua\">iawiki</span>\\n</span><span class=\"wikibase-sitelinkview-link wikibase-sitelinkview-link-iawiki\"><span class=\"wikibase-sitelinkview-page\" dir=\"auto\" lang=\"ia\"><a href=\"https://ia.wikipedia.org/wiki/Willy_Brandt\" hreflang=\"ia\" title=\"Willy Brandt\">Willy Brandt</a></span><span class=\"wikibase-badgeselector wikibase-sitelinkview-badges\">',\n",
       " '\\n</li><li class=\"wikibase-sitelinkview wikibase-sitelinkview-idwiki\" data-wb-siteid=\"idwiki\">\\n<span class=\"wikibase-sitelinkview-siteid-container\">\\n<span class=\"wikibase-sitelinkview-siteid wikibase-sitelinkview-siteid-idwiki\" title=\"Indonesian\">idwiki</span>\\n</span><span class=\"wikibase-sitelinkview-link wikibase-sitelinkview-link-idwiki\"><span class=\"wikibase-sitelinkview-page\" dir=\"auto\" lang=\"id\"><a href=\"https://id.wikipedia.org/wiki/Willy_Brandt\" hreflang=\"id\" title=\"Willy Brandt\">Willy Brandt</a></span><span class=\"wikibase-badgeselector wikibase-sitelinkview-badges\">',\n",
       " '\\n</li><li class=\"wikibase-sitelinkview wikibase-sitelinkview-iowiki\" data-wb-siteid=\"iowiki\">\\n<span class=\"wikibase-sitelinkview-siteid-container\">\\n<span class=\"wikibase-sitelinkview-siteid wikibase-sitelinkview-siteid-iowiki\" title=\"Ido\">iowiki</span>\\n</span><span class=\"wikibase-sitelinkview-link wikibase-sitelinkview-link-iowiki\"><span class=\"wikibase-sitelinkview-page\" dir=\"auto\" lang=\"io\"><a href=\"https://io.wikipedia.org/wiki/Willy_Brandt\" hreflang=\"io\" title=\"Willy Brandt\">Willy Brandt</a></span><span class=\"wikibase-badgeselector wikibase-sitelinkview-badges\">',\n",
       " '\\n</li><li class=\"wikibase-sitelinkview wikibase-sitelinkview-iswiki\" data-wb-siteid=\"iswiki\">\\n<span class=\"wikibase-sitelinkview-siteid-container\">\\n<span class=\"wikibase-sitelinkview-siteid wikibase-sitelinkview-siteid-iswiki\" title=\"Icelandic\">iswiki</span>\\n</span><span class=\"wikibase-sitelinkview-link wikibase-sitelinkview-link-iswiki\"><span class=\"wikibase-sitelinkview-page\" dir=\"auto\" lang=\"is\"><a href=\"https://is.wikipedia.org/wiki/Willy_Brandt\" hreflang=\"is\" title=\"Willy Brandt\">Willy Brandt</a></span><span class=\"wikibase-badgeselector wikibase-sitelinkview-badges\">',\n",
       " '\\n</li><li class=\"wikibase-sitelinkview wikibase-sitelinkview-itwiki\" data-wb-siteid=\"itwiki\">\\n<span class=\"wikibase-sitelinkview-siteid-container\">\\n<span class=\"wikibase-sitelinkview-siteid wikibase-sitelinkview-siteid-itwiki\" title=\"Italian\">itwiki</span>\\n</span><span class=\"wikibase-sitelinkview-link wikibase-sitelinkview-link-itwiki\"><span class=\"wikibase-sitelinkview-page\" dir=\"auto\" lang=\"it\"><a href=\"https://it.wikipedia.org/wiki/Willy_Brandt\" hreflang=\"it\" title=\"Willy Brandt\">Willy Brandt</a></span><span class=\"wikibase-badgeselector wikibase-sitelinkview-badges\">',\n",
       " '\\n</li><li class=\"wikibase-sitelinkview wikibase-sitelinkview-jawiki\" data-wb-siteid=\"jawiki\">\\n<span class=\"wikibase-sitelinkview-siteid-container\">\\n<span class=\"wikibase-sitelinkview-siteid wikibase-sitelinkview-siteid-jawiki\" title=\"Japanese\">jawiki</span>\\n</span><span class=\"wikibase-sitelinkview-link wikibase-sitelinkview-link-jawiki\"><span class=\"wikibase-sitelinkview-page\" dir=\"auto\" lang=\"ja\"><a href=\"https://ja.wikipedia.org/wiki/%E3%83%B4%E3%82%A3%E3%83%AA%E3%83%BC%E3%83%BB%E3%83%96%E3%83%A9%E3%83%B3%E3%83%88\" hreflang=\"ja\" title=\"ヴィリー・ブラント\">ヴィリー・ブラント</a></span><span class=\"wikibase-badgeselector wikibase-sitelinkview-badges\">',\n",
       " '\\n</li><li class=\"wikibase-sitelinkview wikibase-sitelinkview-kawiki\" data-wb-siteid=\"kawiki\">\\n<span class=\"wikibase-sitelinkview-siteid-container\">\\n<span class=\"wikibase-sitelinkview-siteid wikibase-sitelinkview-siteid-kawiki\" title=\"Georgian\">kawiki</span>\\n</span><span class=\"wikibase-sitelinkview-link wikibase-sitelinkview-link-kawiki\"><span class=\"wikibase-sitelinkview-page\" dir=\"auto\" lang=\"ka\"><a href=\"https://ka.wikipedia.org/wiki/%E1%83%95%E1%83%98%E1%83%9A%E1%83%98_%E1%83%91%E1%83%A0%E1%83%90%E1%83%9C%E1%83%93%E1%83%A2%E1%83%98\" hreflang=\"ka\" title=\"ვილი ბრანდტი\">ვილი ბრანდტი</a></span><span class=\"wikibase-badgeselector wikibase-sitelinkview-badges\">',\n",
       " '\\n</li><li class=\"wikibase-sitelinkview wikibase-sitelinkview-kowiki\" data-wb-siteid=\"kowiki\">\\n<span class=\"wikibase-sitelinkview-siteid-container\">\\n<span class=\"wikibase-sitelinkview-siteid wikibase-sitelinkview-siteid-kowiki\" title=\"Korean\">kowiki</span>\\n</span><span class=\"wikibase-sitelinkview-link wikibase-sitelinkview-link-kowiki\"><span class=\"wikibase-sitelinkview-page\" dir=\"auto\" lang=\"ko\"><a href=\"https://ko.wikipedia.org/wiki/%EB%B9%8C%EB%A6%AC_%EB%B8%8C%EB%9E%80%ED%8A%B8\" hreflang=\"ko\" title=\"빌리 브란트\">빌리 브란트</a></span><span class=\"wikibase-badgeselector wikibase-sitelinkview-badges\">',\n",
       " '\\n</li><li class=\"wikibase-sitelinkview wikibase-sitelinkview-kshwiki\" data-wb-siteid=\"kshwiki\">\\n<span class=\"wikibase-sitelinkview-siteid-container\">\\n<span class=\"wikibase-sitelinkview-siteid wikibase-sitelinkview-siteid-kshwiki\" title=\"Colognian\">kshwiki</span>\\n</span><span class=\"wikibase-sitelinkview-link wikibase-sitelinkview-link-kshwiki\"><span class=\"wikibase-sitelinkview-page\" dir=\"auto\" lang=\"ksh\"><a href=\"https://ksh.wikipedia.org/wiki/Willy_Brandt\" hreflang=\"ksh\" title=\"Willy Brandt\">Willy Brandt</a></span><span class=\"wikibase-badgeselector wikibase-sitelinkview-badges\">',\n",
       " '\\n</li><li class=\"wikibase-sitelinkview wikibase-sitelinkview-kuwiki\" data-wb-siteid=\"kuwiki\">\\n<span class=\"wikibase-sitelinkview-siteid-container\">\\n<span class=\"wikibase-sitelinkview-siteid wikibase-sitelinkview-siteid-kuwiki\" title=\"Kurdish\">kuwiki</span>\\n</span><span class=\"wikibase-sitelinkview-link wikibase-sitelinkview-link-kuwiki\"><span class=\"wikibase-sitelinkview-page\" dir=\"auto\" lang=\"ku\"><a href=\"https://ku.wikipedia.org/wiki/Willy_Brandt\" hreflang=\"ku\" title=\"Willy Brandt\">Willy Brandt</a></span><span class=\"wikibase-badgeselector wikibase-sitelinkview-badges\">',\n",
       " '\\n</li><li class=\"wikibase-sitelinkview wikibase-sitelinkview-lawiki\" data-wb-siteid=\"lawiki\">\\n<span class=\"wikibase-sitelinkview-siteid-container\">\\n<span class=\"wikibase-sitelinkview-siteid wikibase-sitelinkview-siteid-lawiki\" title=\"Latin\">lawiki</span>\\n</span><span class=\"wikibase-sitelinkview-link wikibase-sitelinkview-link-lawiki\"><span class=\"wikibase-sitelinkview-page\" dir=\"auto\" lang=\"la\"><a href=\"https://la.wikipedia.org/wiki/Gulielmus_Brandt\" hreflang=\"la\" title=\"Gulielmus Brandt\">Gulielmus Brandt</a></span><span class=\"wikibase-badgeselector wikibase-sitelinkview-badges\">',\n",
       " '\\n</li><li class=\"wikibase-sitelinkview wikibase-sitelinkview-lbwiki\" data-wb-siteid=\"lbwiki\">\\n<span class=\"wikibase-sitelinkview-siteid-container\">\\n<span class=\"wikibase-sitelinkview-siteid wikibase-sitelinkview-siteid-lbwiki\" title=\"Luxembourgish\">lbwiki</span>\\n</span><span class=\"wikibase-sitelinkview-link wikibase-sitelinkview-link-lbwiki\"><span class=\"wikibase-sitelinkview-page\" dir=\"auto\" lang=\"lb\"><a href=\"https://lb.wikipedia.org/wiki/Willy_Brandt\" hreflang=\"lb\" title=\"Willy Brandt\">Willy Brandt</a></span><span class=\"wikibase-badgeselector wikibase-sitelinkview-badges\">',\n",
       " '\\n</li><li class=\"wikibase-sitelinkview wikibase-sitelinkview-ltwiki\" data-wb-siteid=\"ltwiki\">\\n<span class=\"wikibase-sitelinkview-siteid-container\">\\n<span class=\"wikibase-sitelinkview-siteid wikibase-sitelinkview-siteid-ltwiki\" title=\"Lithuanian\">ltwiki</span>\\n</span><span class=\"wikibase-sitelinkview-link wikibase-sitelinkview-link-ltwiki\"><span class=\"wikibase-sitelinkview-page\" dir=\"auto\" lang=\"lt\"><a href=\"https://lt.wikipedia.org/wiki/Willy_Brandt\" hreflang=\"lt\" title=\"Willy Brandt\">Willy Brandt</a></span><span class=\"wikibase-badgeselector wikibase-sitelinkview-badges\">',\n",
       " '\\n</li><li class=\"wikibase-sitelinkview wikibase-sitelinkview-lvwiki\" data-wb-siteid=\"lvwiki\">\\n<span class=\"wikibase-sitelinkview-siteid-container\">\\n<span class=\"wikibase-sitelinkview-siteid wikibase-sitelinkview-siteid-lvwiki\" title=\"Latvian\">lvwiki</span>\\n</span><span class=\"wikibase-sitelinkview-link wikibase-sitelinkview-link-lvwiki\"><span class=\"wikibase-sitelinkview-page\" dir=\"auto\" lang=\"lv\"><a href=\"https://lv.wikipedia.org/wiki/Villijs_Brants\" hreflang=\"lv\" title=\"Villijs Brants\">Villijs Brants</a></span><span class=\"wikibase-badgeselector wikibase-sitelinkview-badges\">',\n",
       " '\\n</li><li class=\"wikibase-sitelinkview wikibase-sitelinkview-mgwiki\" data-wb-siteid=\"mgwiki\">\\n<span class=\"wikibase-sitelinkview-siteid-container\">\\n<span class=\"wikibase-sitelinkview-siteid wikibase-sitelinkview-siteid-mgwiki\" title=\"Malagasy\">mgwiki</span>\\n</span><span class=\"wikibase-sitelinkview-link wikibase-sitelinkview-link-mgwiki\"><span class=\"wikibase-sitelinkview-page\" dir=\"auto\" lang=\"mg\"><a href=\"https://mg.wikipedia.org/wiki/Willy_Brandt\" hreflang=\"mg\" title=\"Willy Brandt\">Willy Brandt</a></span><span class=\"wikibase-badgeselector wikibase-sitelinkview-badges\">',\n",
       " '\\n</li><li class=\"wikibase-sitelinkview wikibase-sitelinkview-mkwiki\" data-wb-siteid=\"mkwiki\">\\n<span class=\"wikibase-sitelinkview-siteid-container\">\\n<span class=\"wikibase-sitelinkview-siteid wikibase-sitelinkview-siteid-mkwiki\" title=\"Macedonian\">mkwiki</span>\\n</span><span class=\"wikibase-sitelinkview-link wikibase-sitelinkview-link-mkwiki\"><span class=\"wikibase-sitelinkview-page\" dir=\"auto\" lang=\"mk\"><a href=\"https://mk.wikipedia.org/wiki/%D0%92%D0%B8%D0%BB%D0%B8_%D0%91%D1%80%D0%B0%D0%BD%D1%82\" hreflang=\"mk\" title=\"Вили Брант\">Вили Брант</a></span><span class=\"wikibase-badgeselector wikibase-sitelinkview-badges\">',\n",
       " '\\n</li><li class=\"wikibase-sitelinkview wikibase-sitelinkview-mrwiki\" data-wb-siteid=\"mrwiki\">\\n<span class=\"wikibase-sitelinkview-siteid-container\">\\n<span class=\"wikibase-sitelinkview-siteid wikibase-sitelinkview-siteid-mrwiki\" title=\"Marathi\">mrwiki</span>\\n</span><span class=\"wikibase-sitelinkview-link wikibase-sitelinkview-link-mrwiki\"><span class=\"wikibase-sitelinkview-page\" dir=\"auto\" lang=\"mr\"><a href=\"https://mr.wikipedia.org/wiki/%E0%A4%B5%E0%A4%BF%E0%A4%B2%E0%A5%80_%E0%A4%AC%E0%A5%8D%E0%A4%B0%E0%A4%BE%E0%A4%82%E0%A4%9F\" hreflang=\"mr\" title=\"विली ब्रांट\">विली ब्रांट</a></span><span class=\"wikibase-badgeselector wikibase-sitelinkview-badges\">',\n",
       " '\\n</li><li class=\"wikibase-sitelinkview wikibase-sitelinkview-mswiki\" data-wb-siteid=\"mswiki\">\\n<span class=\"wikibase-sitelinkview-siteid-container\">\\n<span class=\"wikibase-sitelinkview-siteid wikibase-sitelinkview-siteid-mswiki\" title=\"Malay\">mswiki</span>\\n</span><span class=\"wikibase-sitelinkview-link wikibase-sitelinkview-link-mswiki\"><span class=\"wikibase-sitelinkview-page\" dir=\"auto\" lang=\"ms\"><a href=\"https://ms.wikipedia.org/wiki/Willy_Brandt\" hreflang=\"ms\" title=\"Willy Brandt\">Willy Brandt</a></span><span class=\"wikibase-badgeselector wikibase-sitelinkview-badges\">',\n",
       " '\\n</li><li class=\"wikibase-sitelinkview wikibase-sitelinkview-mznwiki\" data-wb-siteid=\"mznwiki\">\\n<span class=\"wikibase-sitelinkview-siteid-container\">\\n<span class=\"wikibase-sitelinkview-siteid wikibase-sitelinkview-siteid-mznwiki\" title=\"Mazanderani\">mznwiki</span>\\n</span><span class=\"wikibase-sitelinkview-link wikibase-sitelinkview-link-mznwiki\"><span class=\"wikibase-sitelinkview-page\" dir=\"auto\" lang=\"mzn\"><a href=\"https://mzn.wikipedia.org/wiki/%D9%88%DB%8C%D9%84%DB%8C_%D8%A8%D8%B1%D8%A7%D9%86%D8%AA\" hreflang=\"mzn\" title=\"ویلی برانت\">ویلی برانت</a></span><span class=\"wikibase-badgeselector wikibase-sitelinkview-badges\">',\n",
       " '\\n</li><li class=\"wikibase-sitelinkview wikibase-sitelinkview-ndswiki\" data-wb-siteid=\"ndswiki\">\\n<span class=\"wikibase-sitelinkview-siteid-container\">\\n<span class=\"wikibase-sitelinkview-siteid wikibase-sitelinkview-siteid-ndswiki\" title=\"Low German\">ndswiki</span>\\n</span><span class=\"wikibase-sitelinkview-link wikibase-sitelinkview-link-ndswiki\"><span class=\"wikibase-sitelinkview-page\" dir=\"auto\" lang=\"nds\"><a href=\"https://nds.wikipedia.org/wiki/Willy_Brandt\" hreflang=\"nds\" title=\"Willy Brandt\">Willy Brandt</a></span><span class=\"wikibase-badgeselector wikibase-sitelinkview-badges\">',\n",
       " '\\n</li><li class=\"wikibase-sitelinkview wikibase-sitelinkview-nlwiki\" data-wb-siteid=\"nlwiki\">\\n<span class=\"wikibase-sitelinkview-siteid-container\">\\n<span class=\"wikibase-sitelinkview-siteid wikibase-sitelinkview-siteid-nlwiki\" title=\"Dutch\">nlwiki</span>\\n</span><span class=\"wikibase-sitelinkview-link wikibase-sitelinkview-link-nlwiki\"><span class=\"wikibase-sitelinkview-page\" dir=\"auto\" lang=\"nl\"><a href=\"https://nl.wikipedia.org/wiki/Willy_Brandt\" hreflang=\"nl\" title=\"Willy Brandt\">Willy Brandt</a></span><span class=\"wikibase-badgeselector wikibase-sitelinkview-badges\">',\n",
       " '\\n</li><li class=\"wikibase-sitelinkview wikibase-sitelinkview-nnwiki\" data-wb-siteid=\"nnwiki\">\\n<span class=\"wikibase-sitelinkview-siteid-container\">\\n<span class=\"wikibase-sitelinkview-siteid wikibase-sitelinkview-siteid-nnwiki\" title=\"Norwegian Nynorsk\">nnwiki</span>\\n</span><span class=\"wikibase-sitelinkview-link wikibase-sitelinkview-link-nnwiki\"><span class=\"wikibase-sitelinkview-page\" dir=\"auto\" lang=\"nn\"><a href=\"https://nn.wikipedia.org/wiki/Willy_Brandt\" hreflang=\"nn\" title=\"Willy Brandt\">Willy Brandt</a></span><span class=\"wikibase-badgeselector wikibase-sitelinkview-badges\">',\n",
       " '\\n</li><li class=\"wikibase-sitelinkview wikibase-sitelinkview-nowiki\" data-wb-siteid=\"nowiki\">\\n<span class=\"wikibase-sitelinkview-siteid-container\">\\n<span class=\"wikibase-sitelinkview-siteid wikibase-sitelinkview-siteid-nowiki\" title=\"Norwegian\">nowiki</span>\\n</span><span class=\"wikibase-sitelinkview-link wikibase-sitelinkview-link-nowiki\"><span class=\"wikibase-sitelinkview-page\" dir=\"auto\" lang=\"no\"><a href=\"https://no.wikipedia.org/wiki/Willy_Brandt\" hreflang=\"no\" title=\"Willy Brandt\">Willy Brandt</a></span><span class=\"wikibase-badgeselector wikibase-sitelinkview-badges\">',\n",
       " '\\n</li><li class=\"wikibase-sitelinkview wikibase-sitelinkview-ocwiki\" data-wb-siteid=\"ocwiki\">\\n<span class=\"wikibase-sitelinkview-siteid-container\">\\n<span class=\"wikibase-sitelinkview-siteid wikibase-sitelinkview-siteid-ocwiki\" title=\"Occitan\">ocwiki</span>\\n</span><span class=\"wikibase-sitelinkview-link wikibase-sitelinkview-link-ocwiki\"><span class=\"wikibase-sitelinkview-page\" dir=\"auto\" lang=\"oc\"><a href=\"https://oc.wikipedia.org/wiki/Willy_Brandt\" hreflang=\"oc\" title=\"Willy Brandt\">Willy Brandt</a></span><span class=\"wikibase-badgeselector wikibase-sitelinkview-badges\">',\n",
       " '\\n</li><li class=\"wikibase-sitelinkview wikibase-sitelinkview-plwiki\" data-wb-siteid=\"plwiki\">\\n<span class=\"wikibase-sitelinkview-siteid-container\">\\n<span class=\"wikibase-sitelinkview-siteid wikibase-sitelinkview-siteid-plwiki\" title=\"Polish\">plwiki</span>\\n</span><span class=\"wikibase-sitelinkview-link wikibase-sitelinkview-link-plwiki\"><span class=\"wikibase-sitelinkview-page\" dir=\"auto\" lang=\"pl\"><a href=\"https://pl.wikipedia.org/wiki/Willy_Brandt\" hreflang=\"pl\" title=\"Willy Brandt\">Willy Brandt</a></span><span class=\"wikibase-badgeselector wikibase-sitelinkview-badges\">',\n",
       " '\\n</li><li class=\"wikibase-sitelinkview wikibase-sitelinkview-pmswiki\" data-wb-siteid=\"pmswiki\">\\n<span class=\"wikibase-sitelinkview-siteid-container\">\\n<span class=\"wikibase-sitelinkview-siteid wikibase-sitelinkview-siteid-pmswiki\" title=\"Piedmontese\">pmswiki</span>\\n</span><span class=\"wikibase-sitelinkview-link wikibase-sitelinkview-link-pmswiki\"><span class=\"wikibase-sitelinkview-page\" dir=\"auto\" lang=\"pms\"><a href=\"https://pms.wikipedia.org/wiki/Willy_Brandt\" hreflang=\"pms\" title=\"Willy Brandt\">Willy Brandt</a></span><span class=\"wikibase-badgeselector wikibase-sitelinkview-badges\">',\n",
       " '\\n</li><li class=\"wikibase-sitelinkview wikibase-sitelinkview-pnbwiki\" data-wb-siteid=\"pnbwiki\">\\n<span class=\"wikibase-sitelinkview-siteid-container\">\\n<span class=\"wikibase-sitelinkview-siteid wikibase-sitelinkview-siteid-pnbwiki\" title=\"Western Punjabi\">pnbwiki</span>\\n</span><span class=\"wikibase-sitelinkview-link wikibase-sitelinkview-link-pnbwiki\"><span class=\"wikibase-sitelinkview-page\" dir=\"auto\" lang=\"pnb\"><a href=\"https://pnb.wikipedia.org/wiki/%D9%88%D9%84%DB%8C_%D8%A8%D8%B1%D8%A7%D9%86%D8%AA\" hreflang=\"pnb\" title=\"ولی برانت\">ولی برانت</a></span><span class=\"wikibase-badgeselector wikibase-sitelinkview-badges\">',\n",
       " '\\n</li><li class=\"wikibase-sitelinkview wikibase-sitelinkview-ptwiki\" data-wb-siteid=\"ptwiki\">\\n<span class=\"wikibase-sitelinkview-siteid-container\">\\n<span class=\"wikibase-sitelinkview-siteid wikibase-sitelinkview-siteid-ptwiki\" title=\"Portuguese\">ptwiki</span>\\n</span><span class=\"wikibase-sitelinkview-link wikibase-sitelinkview-link-ptwiki\"><span class=\"wikibase-sitelinkview-page\" dir=\"auto\" lang=\"pt\"><a href=\"https://pt.wikipedia.org/wiki/Willy_Brandt\" hreflang=\"pt\" title=\"Willy Brandt\">Willy Brandt</a></span><span class=\"wikibase-badgeselector wikibase-sitelinkview-badges\">',\n",
       " '\\n</li><li class=\"wikibase-sitelinkview wikibase-sitelinkview-quwiki\" data-wb-siteid=\"quwiki\">\\n<span class=\"wikibase-sitelinkview-siteid-container\">\\n<span class=\"wikibase-sitelinkview-siteid wikibase-sitelinkview-siteid-quwiki\" title=\"Quechua\">quwiki</span>\\n</span><span class=\"wikibase-sitelinkview-link wikibase-sitelinkview-link-quwiki\"><span class=\"wikibase-sitelinkview-page\" dir=\"auto\" lang=\"qu\"><a href=\"https://qu.wikipedia.org/wiki/Willy_Brandt\" hreflang=\"qu\" title=\"Willy Brandt\">Willy Brandt</a></span><span class=\"wikibase-badgeselector wikibase-sitelinkview-badges\">',\n",
       " '\\n</li><li class=\"wikibase-sitelinkview wikibase-sitelinkview-rowiki\" data-wb-siteid=\"rowiki\">\\n<span class=\"wikibase-sitelinkview-siteid-container\">\\n<span class=\"wikibase-sitelinkview-siteid wikibase-sitelinkview-siteid-rowiki\" title=\"Romanian\">rowiki</span>\\n</span><span class=\"wikibase-sitelinkview-link wikibase-sitelinkview-link-rowiki\"><span class=\"wikibase-sitelinkview-page\" dir=\"auto\" lang=\"ro\"><a href=\"https://ro.wikipedia.org/wiki/Willy_Brandt\" hreflang=\"ro\" title=\"Willy Brandt\">Willy Brandt</a></span><span class=\"wikibase-badgeselector wikibase-sitelinkview-badges\">',\n",
       " '\\n</li><li class=\"wikibase-sitelinkview wikibase-sitelinkview-ruwiki\" data-wb-siteid=\"ruwiki\">\\n<span class=\"wikibase-sitelinkview-siteid-container\">\\n<span class=\"wikibase-sitelinkview-siteid wikibase-sitelinkview-siteid-ruwiki\" title=\"Russian\">ruwiki</span>\\n</span><span class=\"wikibase-sitelinkview-link wikibase-sitelinkview-link-ruwiki\"><span class=\"wikibase-sitelinkview-page\" dir=\"auto\" lang=\"ru\"><a href=\"https://ru.wikipedia.org/wiki/%D0%91%D1%80%D0%B0%D0%BD%D0%B4%D1%82,_%D0%92%D0%B8%D0%BB%D0%BB%D0%B8\" hreflang=\"ru\" title=\"Брандт, Вилли\">Брандт, Вилли</a></span><span class=\"wikibase-badgeselector wikibase-sitelinkview-badges\">',\n",
       " '\\n</li><li class=\"wikibase-sitelinkview wikibase-sitelinkview-scwiki\" data-wb-siteid=\"scwiki\">\\n<span class=\"wikibase-sitelinkview-siteid-container\">\\n<span class=\"wikibase-sitelinkview-siteid wikibase-sitelinkview-siteid-scwiki\" title=\"Sardinian\">scwiki</span>\\n</span><span class=\"wikibase-sitelinkview-link wikibase-sitelinkview-link-scwiki\"><span class=\"wikibase-sitelinkview-page\" dir=\"auto\" lang=\"sc\"><a href=\"https://sc.wikipedia.org/wiki/Willy_Brandt\" hreflang=\"sc\" title=\"Willy Brandt\">Willy Brandt</a></span><span class=\"wikibase-badgeselector wikibase-sitelinkview-badges\">',\n",
       " '\\n</li><li class=\"wikibase-sitelinkview wikibase-sitelinkview-shwiki\" data-wb-siteid=\"shwiki\">\\n<span class=\"wikibase-sitelinkview-siteid-container\">\\n<span class=\"wikibase-sitelinkview-siteid wikibase-sitelinkview-siteid-shwiki\" title=\"Serbo-Croatian\">shwiki</span>\\n</span><span class=\"wikibase-sitelinkview-link wikibase-sitelinkview-link-shwiki\"><span class=\"wikibase-sitelinkview-page\" dir=\"auto\" lang=\"sh\"><a href=\"https://sh.wikipedia.org/wiki/Willy_Brandt\" hreflang=\"sh\" title=\"Willy Brandt\">Willy Brandt</a></span><span class=\"wikibase-badgeselector wikibase-sitelinkview-badges\"><span class=\"wb-badge wb-badge-Q17437796 wb-badge-featuredarticle\" data-wb-badge=\"Q17437796\" title=\"featured article badge\">',\n",
       " '</span>\\n</li><li class=\"wikibase-sitelinkview wikibase-sitelinkview-simplewiki\" data-wb-siteid=\"simplewiki\">\\n<span class=\"wikibase-sitelinkview-siteid-container\">\\n<span class=\"wikibase-sitelinkview-siteid wikibase-sitelinkview-siteid-simplewiki\" title=\"Simple English\">simplewiki</span>\\n</span><span class=\"wikibase-sitelinkview-link wikibase-sitelinkview-link-simplewiki\"><span class=\"wikibase-sitelinkview-page\" dir=\"auto\" lang=\"en-simple\"><a href=\"https://simple.wikipedia.org/wiki/Willy_Brandt\" hreflang=\"en-simple\" title=\"Willy Brandt\">Willy Brandt</a></span><span class=\"wikibase-badgeselector wikibase-sitelinkview-badges\">',\n",
       " '\\n</li><li class=\"wikibase-sitelinkview wikibase-sitelinkview-siwiki\" data-wb-siteid=\"siwiki\">\\n<span class=\"wikibase-sitelinkview-siteid-container\">\\n<span class=\"wikibase-sitelinkview-siteid wikibase-sitelinkview-siteid-siwiki\" title=\"Sinhala\">siwiki</span>\\n</span><span class=\"wikibase-sitelinkview-link wikibase-sitelinkview-link-siwiki\"><span class=\"wikibase-sitelinkview-page\" dir=\"auto\" lang=\"si\"><a href=\"https://si.wikipedia.org/wiki/%E0%B7%80%E0%B7%92%E0%B6%BD%E0%B7%93_%E0%B6%B6%E0%B7%8A%E2%80%8D%E0%B6%BB%E0%B6%B1%E0%B7%8A%E0%B6%A7%E0%B7%8A\" hreflang=\"si\" title=\"විලී බ්\\u200dරන්ට්\">විලී බ්\\u200dරන්ට්</a></span><span class=\"wikibase-badgeselector wikibase-sitelinkview-badges\">',\n",
       " '\\n</li><li class=\"wikibase-sitelinkview wikibase-sitelinkview-skwiki\" data-wb-siteid=\"skwiki\">\\n<span class=\"wikibase-sitelinkview-siteid-container\">\\n<span class=\"wikibase-sitelinkview-siteid wikibase-sitelinkview-siteid-skwiki\" title=\"Slovak\">skwiki</span>\\n</span><span class=\"wikibase-sitelinkview-link wikibase-sitelinkview-link-skwiki\"><span class=\"wikibase-sitelinkview-page\" dir=\"auto\" lang=\"sk\"><a href=\"https://sk.wikipedia.org/wiki/Willy_Brandt\" hreflang=\"sk\" title=\"Willy Brandt\">Willy Brandt</a></span><span class=\"wikibase-badgeselector wikibase-sitelinkview-badges\">',\n",
       " '\\n</li><li class=\"wikibase-sitelinkview wikibase-sitelinkview-slwiki\" data-wb-siteid=\"slwiki\">\\n<span class=\"wikibase-sitelinkview-siteid-container\">\\n<span class=\"wikibase-sitelinkview-siteid wikibase-sitelinkview-siteid-slwiki\" title=\"Slovenian\">slwiki</span>\\n</span><span class=\"wikibase-sitelinkview-link wikibase-sitelinkview-link-slwiki\"><span class=\"wikibase-sitelinkview-page\" dir=\"auto\" lang=\"sl\"><a href=\"https://sl.wikipedia.org/wiki/Willy_Brandt\" hreflang=\"sl\" title=\"Willy Brandt\">Willy Brandt</a></span><span class=\"wikibase-badgeselector wikibase-sitelinkview-badges\">',\n",
       " '\\n</li><li class=\"wikibase-sitelinkview wikibase-sitelinkview-sqwiki\" data-wb-siteid=\"sqwiki\">\\n<span class=\"wikibase-sitelinkview-siteid-container\">\\n<span class=\"wikibase-sitelinkview-siteid wikibase-sitelinkview-siteid-sqwiki\" title=\"Albanian\">sqwiki</span>\\n</span><span class=\"wikibase-sitelinkview-link wikibase-sitelinkview-link-sqwiki\"><span class=\"wikibase-sitelinkview-page\" dir=\"auto\" lang=\"sq\"><a href=\"https://sq.wikipedia.org/wiki/Willy_Brandt\" hreflang=\"sq\" title=\"Willy Brandt\">Willy Brandt</a></span><span class=\"wikibase-badgeselector wikibase-sitelinkview-badges\">',\n",
       " '\\n</li><li class=\"wikibase-sitelinkview wikibase-sitelinkview-srwiki\" data-wb-siteid=\"srwiki\">\\n<span class=\"wikibase-sitelinkview-siteid-container\">\\n<span class=\"wikibase-sitelinkview-siteid wikibase-sitelinkview-siteid-srwiki\" title=\"Serbian\">srwiki</span>\\n</span><span class=\"wikibase-sitelinkview-link wikibase-sitelinkview-link-srwiki\"><span class=\"wikibase-sitelinkview-page\" dir=\"auto\" lang=\"sr\"><a href=\"https://sr.wikipedia.org/wiki/%D0%92%D0%B8%D0%BB%D0%B8_%D0%91%D1%80%D0%B0%D0%BD%D1%82\" hreflang=\"sr\" title=\"Вили Брант\">Вили Брант</a></span><span class=\"wikibase-badgeselector wikibase-sitelinkview-badges\">',\n",
       " '\\n</li><li class=\"wikibase-sitelinkview wikibase-sitelinkview-stqwiki\" data-wb-siteid=\"stqwiki\">\\n<span class=\"wikibase-sitelinkview-siteid-container\">\\n<span class=\"wikibase-sitelinkview-siteid wikibase-sitelinkview-siteid-stqwiki\" title=\"Saterland Frisian\">stqwiki</span>\\n</span><span class=\"wikibase-sitelinkview-link wikibase-sitelinkview-link-stqwiki\"><span class=\"wikibase-sitelinkview-page\" dir=\"auto\" lang=\"stq\"><a href=\"https://stq.wikipedia.org/wiki/Willy_Brandt\" hreflang=\"stq\" title=\"Willy Brandt\">Willy Brandt</a></span><span class=\"wikibase-badgeselector wikibase-sitelinkview-badges\">',\n",
       " '\\n</li><li class=\"wikibase-sitelinkview wikibase-sitelinkview-svwiki\" data-wb-siteid=\"svwiki\">\\n<span class=\"wikibase-sitelinkview-siteid-container\">\\n<span class=\"wikibase-sitelinkview-siteid wikibase-sitelinkview-siteid-svwiki\" title=\"Swedish\">svwiki</span>\\n</span><span class=\"wikibase-sitelinkview-link wikibase-sitelinkview-link-svwiki\"><span class=\"wikibase-sitelinkview-page\" dir=\"auto\" lang=\"sv\"><a href=\"https://sv.wikipedia.org/wiki/Willy_Brandt\" hreflang=\"sv\" title=\"Willy Brandt\">Willy Brandt</a></span><span class=\"wikibase-badgeselector wikibase-sitelinkview-badges\"><span class=\"wb-badge wb-badge-Q17559452 wb-badge-recommendedarticle\" data-wb-badge=\"Q17559452\" title=\"recommended article\">',\n",
       " '</span>\\n</li><li class=\"wikibase-sitelinkview wikibase-sitelinkview-swwiki\" data-wb-siteid=\"swwiki\">\\n<span class=\"wikibase-sitelinkview-siteid-container\">\\n<span class=\"wikibase-sitelinkview-siteid wikibase-sitelinkview-siteid-swwiki\" title=\"Swahili\">swwiki</span>\\n</span><span class=\"wikibase-sitelinkview-link wikibase-sitelinkview-link-swwiki\"><span class=\"wikibase-sitelinkview-page\" dir=\"auto\" lang=\"sw\"><a href=\"https://sw.wikipedia.org/wiki/Willy_Brandt\" hreflang=\"sw\" title=\"Willy Brandt\">Willy Brandt</a></span><span class=\"wikibase-badgeselector wikibase-sitelinkview-badges\">',\n",
       " '\\n</li><li class=\"wikibase-sitelinkview wikibase-sitelinkview-tgwiki\" data-wb-siteid=\"tgwiki\">\\n<span class=\"wikibase-sitelinkview-siteid-container\">\\n<span class=\"wikibase-sitelinkview-siteid wikibase-sitelinkview-siteid-tgwiki\" title=\"Tajik\">tgwiki</span>\\n</span><span class=\"wikibase-sitelinkview-link wikibase-sitelinkview-link-tgwiki\"><span class=\"wikibase-sitelinkview-page\" dir=\"auto\" lang=\"tg\"><a href=\"https://tg.wikipedia.org/wiki/%D0%A3%D0%B8%D0%BB%D0%BB%D0%B8_%D0%91%D1%80%D0%B0%D0%BD%D0%B4%D1%82\" hreflang=\"tg\" title=\"Уилли Брандт\">Уилли Брандт</a></span><span class=\"wikibase-badgeselector wikibase-sitelinkview-badges\">',\n",
       " '\\n</li><li class=\"wikibase-sitelinkview wikibase-sitelinkview-thwiki\" data-wb-siteid=\"thwiki\">\\n<span class=\"wikibase-sitelinkview-siteid-container\">\\n<span class=\"wikibase-sitelinkview-siteid wikibase-sitelinkview-siteid-thwiki\" title=\"Thai\">thwiki</span>\\n</span><span class=\"wikibase-sitelinkview-link wikibase-sitelinkview-link-thwiki\"><span class=\"wikibase-sitelinkview-page\" dir=\"auto\" lang=\"th\"><a href=\"https://th.wikipedia.org/wiki/%E0%B8%A7%E0%B8%B4%E0%B8%A5%E0%B8%A5%E0%B8%B5_%E0%B8%9A%E0%B8%A3%E0%B8%B1%E0%B8%99%E0%B8%97%E0%B9%8C\" hreflang=\"th\" title=\"วิลลี บรันท์\">วิลลี บรันท์</a></span><span class=\"wikibase-badgeselector wikibase-sitelinkview-badges\">',\n",
       " '\\n</li><li class=\"wikibase-sitelinkview wikibase-sitelinkview-tlwiki\" data-wb-siteid=\"tlwiki\">\\n<span class=\"wikibase-sitelinkview-siteid-container\">\\n<span class=\"wikibase-sitelinkview-siteid wikibase-sitelinkview-siteid-tlwiki\" title=\"Tagalog\">tlwiki</span>\\n</span><span class=\"wikibase-sitelinkview-link wikibase-sitelinkview-link-tlwiki\"><span class=\"wikibase-sitelinkview-page\" dir=\"auto\" lang=\"tl\"><a href=\"https://tl.wikipedia.org/wiki/Willy_Brandt\" hreflang=\"tl\" title=\"Willy Brandt\">Willy Brandt</a></span><span class=\"wikibase-badgeselector wikibase-sitelinkview-badges\">',\n",
       " '\\n</li><li class=\"wikibase-sitelinkview wikibase-sitelinkview-trwiki\" data-wb-siteid=\"trwiki\">\\n<span class=\"wikibase-sitelinkview-siteid-container\">\\n<span class=\"wikibase-sitelinkview-siteid wikibase-sitelinkview-siteid-trwiki\" title=\"Turkish\">trwiki</span>\\n</span><span class=\"wikibase-sitelinkview-link wikibase-sitelinkview-link-trwiki\"><span class=\"wikibase-sitelinkview-page\" dir=\"auto\" lang=\"tr\"><a href=\"https://tr.wikipedia.org/wiki/Willy_Brandt\" hreflang=\"tr\" title=\"Willy Brandt\">Willy Brandt</a></span><span class=\"wikibase-badgeselector wikibase-sitelinkview-badges\">',\n",
       " '\\n</li><li class=\"wikibase-sitelinkview wikibase-sitelinkview-ukwiki\" data-wb-siteid=\"ukwiki\">\\n<span class=\"wikibase-sitelinkview-siteid-container\">\\n<span class=\"wikibase-sitelinkview-siteid wikibase-sitelinkview-siteid-ukwiki\" title=\"Ukrainian\">ukwiki</span>\\n</span><span class=\"wikibase-sitelinkview-link wikibase-sitelinkview-link-ukwiki\"><span class=\"wikibase-sitelinkview-page\" dir=\"auto\" lang=\"uk\"><a href=\"https://uk.wikipedia.org/wiki/%D0%92%D1%96%D0%BB%D0%BB%D1%96_%D0%91%D1%80%D0%B0%D0%BD%D0%B4%D1%82\" hreflang=\"uk\" title=\"Віллі Брандт\">Віллі Брандт</a></span><span class=\"wikibase-badgeselector wikibase-sitelinkview-badges\">',\n",
       " '\\n</li><li class=\"wikibase-sitelinkview wikibase-sitelinkview-urwiki\" data-wb-siteid=\"urwiki\">\\n<span class=\"wikibase-sitelinkview-siteid-container\">\\n<span class=\"wikibase-sitelinkview-siteid wikibase-sitelinkview-siteid-urwiki\" title=\"Urdu\">urwiki</span>\\n</span><span class=\"wikibase-sitelinkview-link wikibase-sitelinkview-link-urwiki\"><span class=\"wikibase-sitelinkview-page\" dir=\"auto\" lang=\"ur\"><a href=\"https://ur.wikipedia.org/wiki/%D9%88%D9%84%DB%8C_%D8%A8%D8%B1%D8%A7%D9%86%D8%AA\" hreflang=\"ur\" title=\"ولی برانت\">ولی برانت</a></span><span class=\"wikibase-badgeselector wikibase-sitelinkview-badges\">',\n",
       " '\\n</li><li class=\"wikibase-sitelinkview wikibase-sitelinkview-uzwiki\" data-wb-siteid=\"uzwiki\">\\n<span class=\"wikibase-sitelinkview-siteid-container\">\\n<span class=\"wikibase-sitelinkview-siteid wikibase-sitelinkview-siteid-uzwiki\" title=\"Uzbek\">uzwiki</span>\\n</span><span class=\"wikibase-sitelinkview-link wikibase-sitelinkview-link-uzwiki\"><span class=\"wikibase-sitelinkview-page\" dir=\"auto\" lang=\"uz\"><a href=\"https://uz.wikipedia.org/wiki/Willy_Brandt\" hreflang=\"uz\" title=\"Willy Brandt\">Willy Brandt</a></span><span class=\"wikibase-badgeselector wikibase-sitelinkview-badges\">',\n",
       " '\\n</li><li class=\"wikibase-sitelinkview wikibase-sitelinkview-viwiki\" data-wb-siteid=\"viwiki\">\\n<span class=\"wikibase-sitelinkview-siteid-container\">\\n<span class=\"wikibase-sitelinkview-siteid wikibase-sitelinkview-siteid-viwiki\" title=\"Vietnamese\">viwiki</span>\\n</span><span class=\"wikibase-sitelinkview-link wikibase-sitelinkview-link-viwiki\"><span class=\"wikibase-sitelinkview-page\" dir=\"auto\" lang=\"vi\"><a href=\"https://vi.wikipedia.org/wiki/Willy_Brandt\" hreflang=\"vi\" title=\"Willy Brandt\">Willy Brandt</a></span><span class=\"wikibase-badgeselector wikibase-sitelinkview-badges\">',\n",
       " '\\n</li><li class=\"wikibase-sitelinkview wikibase-sitelinkview-warwiki\" data-wb-siteid=\"warwiki\">\\n<span class=\"wikibase-sitelinkview-siteid-container\">\\n<span class=\"wikibase-sitelinkview-siteid wikibase-sitelinkview-siteid-warwiki\" title=\"Waray\">warwiki</span>\\n</span><span class=\"wikibase-sitelinkview-link wikibase-sitelinkview-link-warwiki\"><span class=\"wikibase-sitelinkview-page\" dir=\"auto\" lang=\"war\"><a href=\"https://war.wikipedia.org/wiki/Willy_Brandt\" hreflang=\"war\" title=\"Willy Brandt\">Willy Brandt</a></span><span class=\"wikibase-badgeselector wikibase-sitelinkview-badges\">',\n",
       " '\\n</li><li class=\"wikibase-sitelinkview wikibase-sitelinkview-wuuwiki\" data-wb-siteid=\"wuuwiki\">\\n<span class=\"wikibase-sitelinkview-siteid-container\">\\n<span class=\"wikibase-sitelinkview-siteid wikibase-sitelinkview-siteid-wuuwiki\" title=\"Wu Chinese\">wuuwiki</span>\\n</span><span class=\"wikibase-sitelinkview-link wikibase-sitelinkview-link-wuuwiki\"><span class=\"wikibase-sitelinkview-page\" dir=\"auto\" lang=\"wuu\"><a href=\"https://wuu.wikipedia.org/wiki/%E7%BB%B4%E5%88%A9%C2%B7%E5%8B%83%E5%85%B0%E7%89%B9\" hreflang=\"wuu\" title=\"维利·勃兰特\">维利·勃兰特</a></span><span class=\"wikibase-badgeselector wikibase-sitelinkview-badges\">',\n",
       " '\\n</li><li class=\"wikibase-sitelinkview wikibase-sitelinkview-yowiki\" data-wb-siteid=\"yowiki\">\\n<span class=\"wikibase-sitelinkview-siteid-container\">\\n<span class=\"wikibase-sitelinkview-siteid wikibase-sitelinkview-siteid-yowiki\" title=\"Yoruba\">yowiki</span>\\n</span><span class=\"wikibase-sitelinkview-link wikibase-sitelinkview-link-yowiki\"><span class=\"wikibase-sitelinkview-page\" dir=\"auto\" lang=\"yo\"><a href=\"https://yo.wikipedia.org/wiki/Willy_Brandt\" hreflang=\"yo\" title=\"Willy Brandt\">Willy Brandt</a></span><span class=\"wikibase-badgeselector wikibase-sitelinkview-badges\">',\n",
       " '\\n</li><li class=\"wikibase-sitelinkview wikibase-sitelinkview-zh_yuewiki\" data-wb-siteid=\"zh_yuewiki\">\\n<span class=\"wikibase-sitelinkview-siteid-container\">\\n<span class=\"wikibase-sitelinkview-siteid wikibase-sitelinkview-siteid-zh_yuewiki\" title=\"Cantonese\">zh_yuewiki</span>\\n</span><span class=\"wikibase-sitelinkview-link wikibase-sitelinkview-link-zh_yuewiki\"><span class=\"wikibase-sitelinkview-page\" dir=\"auto\" lang=\"yue\"><a href=\"https://zh-yue.wikipedia.org/wiki/%E5%A8%81%E5%88%A9%E5%B8%83%E8%98%AD%E7%89%B9\" hreflang=\"yue\" title=\"威利布蘭特\">威利布蘭特</a></span><span class=\"wikibase-badgeselector wikibase-sitelinkview-badges\">',\n",
       " '\\n</li><li class=\"wikibase-sitelinkview wikibase-sitelinkview-zhwiki\" data-wb-siteid=\"zhwiki\">\\n<span class=\"wikibase-sitelinkview-siteid-container\">\\n<span class=\"wikibase-sitelinkview-siteid wikibase-sitelinkview-siteid-zhwiki\" title=\"Chinese\">zhwiki</span>\\n</span><span class=\"wikibase-sitelinkview-link wikibase-sitelinkview-link-zhwiki\"><span class=\"wikibase-sitelinkview-page\" dir=\"auto\" lang=\"zh\"><a href=\"https://zh.wikipedia.org/wiki/%E7%BB%B4%E5%88%A9%C2%B7%E5%8B%83%E5%85%B0%E7%89%B9\" hreflang=\"zh\" title=\"维利·勃兰特\">维利·勃兰特</a></span><span class=\"wikibase-badgeselector wikibase-sitelinkview-badges\">',\n",
       " '\\n</li></ul>']"
      ]
     },
     "execution_count": 272,
     "metadata": {},
     "output_type": "execute_result"
    }
   ],
   "source": [
    "div_uls_ls"
   ]
  },
  {
   "cell_type": "code",
   "execution_count": 273,
   "metadata": {},
   "outputs": [],
   "source": [
    "#div_uls_ls[0].split(\" \")#<.replace(\"class\", \"'class'\").replace(\"=\", \"':'\").split(\" \")"
   ]
  },
  {
   "cell_type": "code",
   "execution_count": null,
   "metadata": {},
   "outputs": [],
   "source": [
    "https://ru.wikipedia.org/wiki/%D0%91%D1%80%D0%B0%D0%BD%D0%B4%D1%82,_%D0%92%D0%B8%D0%BB%D0%BB%D0%B8"
   ]
  },
  {
   "cell_type": "code",
   "execution_count": null,
   "metadata": {},
   "outputs": [],
   "source": [
    "https://ru.wikipedia.org/wiki/%D0%91%D1%80%D0%B0%D0%BD%D0%B4%D1%82,_%D0%92%D0%B8%D0%BB%D0%BB%D0%B8"
   ]
  },
  {
   "cell_type": "code",
   "execution_count": 496,
   "metadata": {},
   "outputs": [
    {
     "data": {
      "text/plain": [
       "['https://pt.wikipedia.org/wiki/Gerd_M%C3%BCller_']"
      ]
     },
     "execution_count": 496,
     "metadata": {},
     "output_type": "execute_result"
    }
   ],
   "source": [
    "href=\"https://pt.wikipedia.org/wiki/Gerd_M%C3%BCller_(pol%C3%ADtico)\"\n",
    "href2 = \"https://fa.wikipedia.org/wiki/%D9%88%D8%B1%D9%86%D8%B1_%D8%B4%D9%88%D8%B3%D8%AA%D8%B1_(%D8%B3%DB%8C%D8%A7%D8%B3%D8%AA%D9%85%D8%AF%D8%A7%D8%B1)\"\n",
    "href3 = \"https://sw.wikipedia.org/wiki/Werner_Schuster_(mwanasiasa)\"\n",
    "re.findall(r'(?:(?:https?|ftp):\\/\\/)?[\\w/\\-?=%.,]+\\.[\\w/\\-&?=%.,]+', href)"
   ]
  },
  {
   "cell_type": "code",
   "execution_count": 480,
   "metadata": {},
   "outputs": [
    {
     "data": {
      "text/plain": [
       "[]"
      ]
     },
     "execution_count": 480,
     "metadata": {},
     "output_type": "execute_result"
    }
   ],
   "source": [
    "re.findall(\"\\b(?:(?:https?|ftp|file)://|www\\.|ftp\\.)(?:\\([-A-Z0-9+&@#/%=~_|$?!:,.]*\\)|[-A-Z0-9+&@#/%=~_|$?!:,.])*(?:\\([-A-Z0-9+&@#/%=~_|$?!:,.]*\\)|[A-Z0-9+&@#/%=~_|$])\", \n",
    "           href)"
   ]
  },
  {
   "cell_type": "code",
   "execution_count": 482,
   "metadata": {},
   "outputs": [
    {
     "data": {
      "text/plain": [
       "[('https://pt.wikipedia.org/wiki/Gerd_M%C3%BCller_(pol%C3%ADtico)',\n",
       "  'https',\n",
       "  '//',\n",
       "  '//',\n",
       "  '',\n",
       "  ')',\n",
       "  '')]"
      ]
     },
     "execution_count": 482,
     "metadata": {},
     "output_type": "execute_result"
    }
   ],
   "source": [
    "re.findall(\"((https?):((//)|(\\\\\\\\))+([\\w\\d:#@%/;$()~_?\\+-=\\\\\\.&](#!)?)*)\", \n",
    "           href)"
   ]
  },
  {
   "cell_type": "code",
   "execution_count": 494,
   "metadata": {},
   "outputs": [
    {
     "data": {
      "text/plain": [
       "['https://pt.wikipedia.org/wiki/Gerd_M%C3%BCller_(pol%C3%ADtico)']"
      ]
     },
     "execution_count": 494,
     "metadata": {},
     "output_type": "execute_result"
    }
   ],
   "source": [
    "re.findall(r'(?:(?:https?|ftp):\\/\\/)?[\\w/\\-?=%.,]+\\.[\\w/\\-&?=%().,]+', href) # this looks good!"
   ]
  },
  {
   "cell_type": "code",
   "execution_count": 498,
   "metadata": {},
   "outputs": [
    {
     "data": {
      "text/plain": [
       "['https://sw.wikipedia.org/wiki/Werner_Schuster_(mwanasiasa)']"
      ]
     },
     "execution_count": 498,
     "metadata": {},
     "output_type": "execute_result"
    }
   ],
   "source": [
    "re.findall(r'(?:(?:https?|ftp):\\/\\/)?[\\w/\\-?=%.,]+\\.[\\w/\\-&?=%().,]+', href3)"
   ]
  },
  {
   "cell_type": "code",
   "execution_count": 495,
   "metadata": {},
   "outputs": [
    {
     "data": {
      "text/plain": [
       "('https://fa.wikipedia.org/wiki/%D9%88%D8%B1%D9%86%D8%B1_%D8%B4%D9%88%D8%B3%D8%AA%D8%B1_(%D8%B3%DB%8C%D8%A7%D8%B3%D8%AA%D9%85%D8%AF%D8%A7%D8%B1)',)"
      ]
     },
     "execution_count": 495,
     "metadata": {},
     "output_type": "execute_result"
    }
   ],
   "source": [
    "href2"
   ]
  },
  {
   "cell_type": "code",
   "execution_count": null,
   "metadata": {},
   "outputs": [],
   "source": []
  },
  {
   "cell_type": "code",
   "execution_count": null,
   "metadata": {},
   "outputs": [],
   "source": []
  },
  {
   "cell_type": "code",
   "execution_count": null,
   "metadata": {},
   "outputs": [],
   "source": []
  },
  {
   "cell_type": "code",
   "execution_count": null,
   "metadata": {},
   "outputs": [],
   "source": []
  },
  {
   "cell_type": "code",
   "execution_count": 278,
   "metadata": {
    "collapsed": true,
    "jupyter": {
     "outputs_hidden": true
    }
   },
   "outputs": [
    {
     "data": {
      "text/plain": [
       "[['https://af.wikipedia.org/wiki/Willy_Brandt'],\n",
       " ['https://als.wikipedia.org/wiki/Willy_Brandt'],\n",
       " ['https://an.wikipedia.org/wiki/Willy_Brandt'],\n",
       " ['https://ar.wikipedia.org/wiki/%D9%88%D9%8A%D9%84%D9%8A_%D8%A8%D8%B1%D8%A7%D9%86%D8%AF%D8%AA'],\n",
       " ['https://arz.wikipedia.org/wiki/%D9%81%D9%8A%D9%84%D9%89_%D8%A8%D8%B1%D8%A7%D9%86%D8%AF%D8%AA'],\n",
       " ['https://ast.wikipedia.org/wiki/Willy_Brandt'],\n",
       " ['https://azb.wikipedia.org/wiki/%D9%88%DB%8C%D9%84%DB%8C_%D8%A8%D8%B1%D8%A7%D9%86%D8%AA'],\n",
       " ['https://az.wikipedia.org/wiki/Villi_Brandt'],\n",
       " ['https://bar.wikipedia.org/wiki/Willy_Brandt'],\n",
       " ['https://be-tarask.wikipedia.org/wiki/%D0%92%D1%96%D0%BB%D1%96_%D0%91%D1%80%D0%B0%D0%BD%D1%82'],\n",
       " ['https://be.wikipedia.org/wiki/%D0%92%D1%96%D0%BB%D1%96_%D0%91%D1%80%D0%B0%D0%BD%D1%82'],\n",
       " ['https://bg.wikipedia.org/wiki/%D0%92%D0%B8%D0%BB%D0%B8_%D0%91%D1%80%D0%B0%D0%BD%D0%B4'],\n",
       " ['https://bn.wikipedia.org/wiki/%E0%A6%89%E0%A6%87%E0%A6%B2%E0%A6%BF_%E0%A6%AC%E0%A7%8D%E0%A6%B0%E2%80%8C%E0%A7%8D%E0%A6%AF%E0%A6%BE%E0%A6%A8%E0%A7%8D%E0%A6%9F'],\n",
       " ['https://br.wikipedia.org/wiki/Willy_Brandt'],\n",
       " ['https://bs.wikipedia.org/wiki/Willy_Brandt'],\n",
       " ['https://ca.wikipedia.org/wiki/Willy_Brandt'],\n",
       " ['https://cs.wikipedia.org/wiki/Willy_Brandt'],\n",
       " ['https://cy.wikipedia.org/wiki/Willy_Brandt'],\n",
       " ['https://da.wikipedia.org/wiki/Willy_Brandt'],\n",
       " ['https://de.wikipedia.org/wiki/Willy_Brandt'],\n",
       " ['https://diq.wikipedia.org/wiki/Willy_Brandt'],\n",
       " ['https://dsb.wikipedia.org/wiki/Willy_Brandt'],\n",
       " ['https://el.wikipedia.org/wiki/%CE%92%CE%AF%CE%BB%CE%BB%CF%85_%CE%9C%CF%80%CF%81%CE%B1%CE%BD%CF%84'],\n",
       " ['https://en.wikipedia.org/wiki/Willy_Brandt'],\n",
       " ['https://eo.wikipedia.org/wiki/Willy_Brandt'],\n",
       " ['https://es.wikipedia.org/wiki/Willy_Brandt'],\n",
       " ['https://et.wikipedia.org/wiki/Willy_Brandt'],\n",
       " ['https://eu.wikipedia.org/wiki/Willy_Brandt'],\n",
       " ['https://fa.wikipedia.org/wiki/%D9%88%DB%8C%D9%84%DB%8C_%D8%A8%D8%B1%D8%A7%D9%86%D8%AA'],\n",
       " ['https://fi.wikipedia.org/wiki/Willy_Brandt'],\n",
       " ['https://frr.wikipedia.org/wiki/Willy_Brandt'],\n",
       " ['https://fr.wikipedia.org/wiki/Willy_Brandt'],\n",
       " ['https://fy.wikipedia.org/wiki/Willy_Brandt'],\n",
       " ['https://gl.wikipedia.org/wiki/Willy_Brandt'],\n",
       " ['https://he.wikipedia.org/wiki/%D7%95%D7%99%D7%9C%D7%99_%D7%91%D7%A8%D7%A0%D7%93%D7%98'],\n",
       " ['https://hi.wikipedia.org/wiki/%E0%A4%B5%E0%A4%BF%E0%A4%B2%E0%A5%80_%E0%A4%AC%E0%A5%8D%E0%A4%B0%E0%A4%BE%E0%A4%82%E0%A4%9F'],\n",
       " ['https://hr.wikipedia.org/wiki/Willy_Brandt'],\n",
       " ['https://hsb.wikipedia.org/wiki/Willy_Brandt'],\n",
       " ['https://hu.wikipedia.org/wiki/Willy_Brandt'],\n",
       " ['https://hy.wikipedia.org/wiki/%D5%8E%D5%AB%D5%AC%D5%AB_%D4%B2%D6%80%D5%A1%D5%B6%D5%A4%D5%BF'],\n",
       " ['https://ia.wikipedia.org/wiki/Willy_Brandt'],\n",
       " ['https://id.wikipedia.org/wiki/Willy_Brandt'],\n",
       " ['https://io.wikipedia.org/wiki/Willy_Brandt'],\n",
       " ['https://is.wikipedia.org/wiki/Willy_Brandt'],\n",
       " ['https://it.wikipedia.org/wiki/Willy_Brandt'],\n",
       " ['https://ja.wikipedia.org/wiki/%E3%83%B4%E3%82%A3%E3%83%AA%E3%83%BC%E3%83%BB%E3%83%96%E3%83%A9%E3%83%B3%E3%83%88'],\n",
       " ['https://ka.wikipedia.org/wiki/%E1%83%95%E1%83%98%E1%83%9A%E1%83%98_%E1%83%91%E1%83%A0%E1%83%90%E1%83%9C%E1%83%93%E1%83%A2%E1%83%98'],\n",
       " ['https://ko.wikipedia.org/wiki/%EB%B9%8C%EB%A6%AC_%EB%B8%8C%EB%9E%80%ED%8A%B8'],\n",
       " ['https://ksh.wikipedia.org/wiki/Willy_Brandt'],\n",
       " ['https://ku.wikipedia.org/wiki/Willy_Brandt'],\n",
       " ['https://la.wikipedia.org/wiki/Gulielmus_Brandt'],\n",
       " ['https://lb.wikipedia.org/wiki/Willy_Brandt'],\n",
       " ['https://lt.wikipedia.org/wiki/Willy_Brandt'],\n",
       " ['https://lv.wikipedia.org/wiki/Villijs_Brants'],\n",
       " ['https://mg.wikipedia.org/wiki/Willy_Brandt'],\n",
       " ['https://mk.wikipedia.org/wiki/%D0%92%D0%B8%D0%BB%D0%B8_%D0%91%D1%80%D0%B0%D0%BD%D1%82'],\n",
       " ['https://mr.wikipedia.org/wiki/%E0%A4%B5%E0%A4%BF%E0%A4%B2%E0%A5%80_%E0%A4%AC%E0%A5%8D%E0%A4%B0%E0%A4%BE%E0%A4%82%E0%A4%9F'],\n",
       " ['https://ms.wikipedia.org/wiki/Willy_Brandt'],\n",
       " ['https://mzn.wikipedia.org/wiki/%D9%88%DB%8C%D9%84%DB%8C_%D8%A8%D8%B1%D8%A7%D9%86%D8%AA'],\n",
       " ['https://nds.wikipedia.org/wiki/Willy_Brandt'],\n",
       " ['https://nl.wikipedia.org/wiki/Willy_Brandt'],\n",
       " ['https://nn.wikipedia.org/wiki/Willy_Brandt'],\n",
       " ['https://no.wikipedia.org/wiki/Willy_Brandt'],\n",
       " ['https://oc.wikipedia.org/wiki/Willy_Brandt'],\n",
       " ['https://pl.wikipedia.org/wiki/Willy_Brandt'],\n",
       " ['https://pms.wikipedia.org/wiki/Willy_Brandt'],\n",
       " ['https://pnb.wikipedia.org/wiki/%D9%88%D9%84%DB%8C_%D8%A8%D8%B1%D8%A7%D9%86%D8%AA'],\n",
       " ['https://pt.wikipedia.org/wiki/Willy_Brandt'],\n",
       " ['https://qu.wikipedia.org/wiki/Willy_Brandt'],\n",
       " ['https://ro.wikipedia.org/wiki/Willy_Brandt'],\n",
       " ['https://ru.wikipedia.org/wiki/%D0%91%D1%80%D0%B0%D0%BD%D0%B4%D1%82,_%D0%92%D0%B8%D0%BB%D0%BB%D0%B8'],\n",
       " ['https://sc.wikipedia.org/wiki/Willy_Brandt'],\n",
       " ['https://sh.wikipedia.org/wiki/Willy_Brandt'],\n",
       " ['https://simple.wikipedia.org/wiki/Willy_Brandt'],\n",
       " ['https://si.wikipedia.org/wiki/%E0%B7%80%E0%B7%92%E0%B6%BD%E0%B7%93_%E0%B6%B6%E0%B7%8A%E2%80%8D%E0%B6%BB%E0%B6%B1%E0%B7%8A%E0%B6%A7%E0%B7%8A'],\n",
       " ['https://sk.wikipedia.org/wiki/Willy_Brandt'],\n",
       " ['https://sl.wikipedia.org/wiki/Willy_Brandt'],\n",
       " ['https://sq.wikipedia.org/wiki/Willy_Brandt'],\n",
       " ['https://sr.wikipedia.org/wiki/%D0%92%D0%B8%D0%BB%D0%B8_%D0%91%D1%80%D0%B0%D0%BD%D1%82'],\n",
       " ['https://stq.wikipedia.org/wiki/Willy_Brandt'],\n",
       " ['https://sv.wikipedia.org/wiki/Willy_Brandt'],\n",
       " ['https://sw.wikipedia.org/wiki/Willy_Brandt'],\n",
       " ['https://tg.wikipedia.org/wiki/%D0%A3%D0%B8%D0%BB%D0%BB%D0%B8_%D0%91%D1%80%D0%B0%D0%BD%D0%B4%D1%82'],\n",
       " ['https://th.wikipedia.org/wiki/%E0%B8%A7%E0%B8%B4%E0%B8%A5%E0%B8%A5%E0%B8%B5_%E0%B8%9A%E0%B8%A3%E0%B8%B1%E0%B8%99%E0%B8%97%E0%B9%8C'],\n",
       " ['https://tl.wikipedia.org/wiki/Willy_Brandt'],\n",
       " ['https://tr.wikipedia.org/wiki/Willy_Brandt'],\n",
       " ['https://uk.wikipedia.org/wiki/%D0%92%D1%96%D0%BB%D0%BB%D1%96_%D0%91%D1%80%D0%B0%D0%BD%D0%B4%D1%82'],\n",
       " ['https://ur.wikipedia.org/wiki/%D9%88%D9%84%DB%8C_%D8%A8%D8%B1%D8%A7%D9%86%D8%AA'],\n",
       " ['https://uz.wikipedia.org/wiki/Willy_Brandt'],\n",
       " ['https://vi.wikipedia.org/wiki/Willy_Brandt'],\n",
       " ['https://war.wikipedia.org/wiki/Willy_Brandt'],\n",
       " ['https://wuu.wikipedia.org/wiki/%E7%BB%B4%E5%88%A9%C2%B7%E5%8B%83%E5%85%B0%E7%89%B9'],\n",
       " ['https://yo.wikipedia.org/wiki/Willy_Brandt'],\n",
       " ['https://zh-yue.wikipedia.org/wiki/%E5%A8%81%E5%88%A9%E5%B8%83%E8%98%AD%E7%89%B9'],\n",
       " ['https://zh.wikipedia.org/wiki/%E7%BB%B4%E5%88%A9%C2%B7%E5%8B%83%E5%85%B0%E7%89%B9'],\n",
       " []]"
      ]
     },
     "execution_count": 278,
     "metadata": {},
     "output_type": "execute_result"
    }
   ],
   "source": [
    "urls = [re.findall(r'(?:(?:https?|ftp):\\/\\/)?[\\w/\\-?=%.,]+\\.[\\w/\\-&?=%.,]+', entry) for entry in div_uls_ls]\n",
    "urls"
   ]
  },
  {
   "cell_type": "code",
   "execution_count": 130,
   "metadata": {},
   "outputs": [],
   "source": [
    "lang_eds = [\"af\",\n",
    "\"als\",\n",
    "\"am\",\n",
    "\"an\",\n",
    "\"ar\",\n",
    "\"ary\",\n",
    "\"arz\",\n",
    "\"ast\",\n",
    "\"ay\",\n",
    "\"azb\",\n",
    "\"az\",\n",
    "\"bar\",\n",
    "\"ba\",\n",
    "\"be\",\n",
    "\"bg\",\n",
    "\"bh\",\n",
    "\"bi\",\n",
    "\"bn\",\n",
    "\"bo\",\n",
    "\"br\",\n",
    "\"bs\",\n",
    "\"ca\",\n",
    "\"ce\",\n",
    "\"ckb\",\n",
    "\"cs\",\n",
    "\"cv\",\n",
    "\"cy\",\n",
    "\"da\",\n",
    "\"de\",\n",
    "\"diq\",\n",
    "\"dsb\",\n",
    "\"dty\",\n",
    "\"el\",\n",
    "\"en\",\n",
    "\"eo\",\n",
    "\"es\",\n",
    "\"et\",\n",
    "\"eu\",\n",
    "\"ext\",\n",
    "\"fa\",\n",
    "\"fi\",\n",
    "\"fo\",\n",
    "\"frp\",\n",
    "\"frr\",\n",
    "\"fr\",\n",
    "\"fy\",\n",
    "\"ga\",\n",
    "\"gd\",\n",
    "\"gl\",\n",
    "\"gn\",\n",
    "\"gv\",\n",
    "\"hak\",\n",
    "\"ha\",\n",
    "\"he\",\n",
    "\"hi\",\n",
    "\"hr\",\n",
    "\"hsb\",\n",
    "\"hu\",\n",
    "\"hy\",\n",
    "\"ia\",\n",
    "\"id\",\n",
    "\"ie\",\n",
    "\"ig\",\n",
    "\"ilo\",\n",
    "\"io\",\n",
    "\"is\",\n",
    "\"ja\",\n",
    "\"jv\",\n",
    "\"ka\",\n",
    "\"kbp\",\n",
    "\"kk\",\n",
    "\"kn\",\n",
    "\"koi\",\n",
    "\"ko\",\n",
    "\"ku\",\n",
    "\"kw\",\n",
    "\"ky\",\n",
    "\"lad\",\n",
    "\"la\",\n",
    "\"lb\",\n",
    "\"lfn\",\n",
    "\"li\",\n",
    "\"lmo\",\n",
    "\"lo\",\n",
    "\"lt\",\n",
    "\"lv\",\n",
    "\"main\",\n",
    "\"mg\",\n",
    "\"mhr\",\n",
    "\"mk\",\n",
    "\"ml\",\n",
    "\"mn\",\n",
    "\"mr\",\n",
    "\"ms\",\n",
    "\"mt\",\n",
    "\"my\",\n",
    "\"mzn\",\n",
    "\"nds\",\n",
    "\"ne\",\n",
    "\"nia\",\n",
    "\"nl\",\n",
    "\"nn\",\n",
    "\"nov\",\n",
    "\"no\",\n",
    "\"oc\",\n",
    "\"or\",\n",
    "\"pag\",\n",
    "\"pap\",\n",
    "\"pa\",\n",
    "\"pdc\",\n",
    "\"pih\",\n",
    "\"pl\",\n",
    "\"pms\",\n",
    "\"pnb\",\n",
    "\"ps\",\n",
    "\"pt\",\n",
    "\"qu\",\n",
    "\"ro\",\n",
    "\"ru\",\n",
    "\"sah\",\n",
    "\"scn\",\n",
    "\"sco\",\n",
    "\"se\",\n",
    "\"sh\",\n",
    "\"simple\",\n",
    "\"sk\",\n",
    "\"el\",\n",
    "\"so\",\n",
    "\"sq\",\n",
    "\"ssr\",\n",
    "\"stq\",\n",
    "\"sv\",\n",
    "\"sw\",\n",
    "\"szl\",\n",
    "\"ta\",\n",
    "\"tet\",\n",
    "\"te\",\n",
    "\"tg\",\n",
    "\"th\",\n",
    "\"tl\",\n",
    "\"tr\",\n",
    "\"tt\",\n",
    "\"ty\",\n",
    "\"uk\",\n",
    "\"ur\",\n",
    "\"uz\",\n",
    "\"vec\",\n",
    "\"vi\",\n",
    "\"vo\",\n",
    "\"war\",\n",
    "\"wa\",\n",
    "\"wuu\",\n",
    "\"yi\",\n",
    "\"yo\",\n",
    "\"zea\",\n",
    "\"zh_min_nan\",\n",
    "\"zh_yue\",\n",
    "\"zh\"]\n",
    "\n",
    "\n",
    "\n",
    "\n"
   ]
  },
  {
   "cell_type": "code",
   "execution_count": 505,
   "metadata": {},
   "outputs": [
    {
     "data": {
      "text/plain": [
       "2216"
      ]
     },
     "execution_count": 505,
     "metadata": {},
     "output_type": "execute_result"
    }
   ],
   "source": [
    "wikidata_ids = list(MP_data[\"wikidataid\"])\n",
    "len(wikidata_ids)"
   ]
  },
  {
   "cell_type": "code",
   "execution_count": 506,
   "metadata": {},
   "outputs": [
    {
     "data": {
      "text/html": [
       "<div>\n",
       "<style scoped>\n",
       "    .dataframe tbody tr th:only-of-type {\n",
       "        vertical-align: middle;\n",
       "    }\n",
       "\n",
       "    .dataframe tbody tr th {\n",
       "        vertical-align: top;\n",
       "    }\n",
       "\n",
       "    .dataframe thead th {\n",
       "        text-align: right;\n",
       "    }\n",
       "</style>\n",
       "<table border=\"1\" class=\"dataframe\">\n",
       "  <thead>\n",
       "    <tr style=\"text-align: right;\">\n",
       "      <th></th>\n",
       "      <th>country</th>\n",
       "      <th>pageid</th>\n",
       "      <th>wikidataid</th>\n",
       "      <th>wikititle</th>\n",
       "      <th>name</th>\n",
       "      <th>sex</th>\n",
       "      <th>ethnicity</th>\n",
       "      <th>religion</th>\n",
       "      <th>birth</th>\n",
       "      <th>death</th>\n",
       "      <th>birthplace</th>\n",
       "      <th>deathplace</th>\n",
       "      <th>id_raw</th>\n",
       "      <th>id_query</th>\n",
       "      <th>wikiurl</th>\n",
       "      <th>no_lang_ed</th>\n",
       "      <th>pageRankGlobalALL</th>\n",
       "    </tr>\n",
       "  </thead>\n",
       "  <tbody>\n",
       "    <tr>\n",
       "      <th>0</th>\n",
       "      <td>DEU</td>\n",
       "      <td>1518001</td>\n",
       "      <td>Q2514</td>\n",
       "      <td>Willy_Brandt</td>\n",
       "      <td>Willy Brandt</td>\n",
       "      <td>male</td>\n",
       "      <td>white</td>\n",
       "      <td>protestantism evangelical</td>\n",
       "      <td>1913-12-18</td>\n",
       "      <td>1992-10-08</td>\n",
       "      <td>53.86972,10.68639</td>\n",
       "      <td>5.060084e+06</td>\n",
       "      <td>Q2514</td>\n",
       "      <td>wd:Q2514</td>\n",
       "      <td>https://de.wikipedia.org/wiki/Willy_Brandt</td>\n",
       "      <td>95</td>\n",
       "      <td>236.884284</td>\n",
       "    </tr>\n",
       "    <tr>\n",
       "      <th>1</th>\n",
       "      <td>DEU</td>\n",
       "      <td>38440</td>\n",
       "      <td>Q90837</td>\n",
       "      <td>Wolfgang_Mischnick</td>\n",
       "      <td>Wolfgang Mischnick</td>\n",
       "      <td>male</td>\n",
       "      <td>white</td>\n",
       "      <td>protestantism evangelical</td>\n",
       "      <td>1921-09-29</td>\n",
       "      <td>2002-10-06</td>\n",
       "      <td>51.04926,13.73836</td>\n",
       "      <td>5.014244e+06</td>\n",
       "      <td>Q90837</td>\n",
       "      <td>wd:Q90837</td>\n",
       "      <td>https://de.wikipedia.org/wiki/Wolfgang_Mischnick</td>\n",
       "      <td>7</td>\n",
       "      <td>1.644895</td>\n",
       "    </tr>\n",
       "  </tbody>\n",
       "</table>\n",
       "</div>"
      ],
      "text/plain": [
       "  country   pageid wikidataid           wikititle                name   sex  \\\n",
       "0     DEU  1518001      Q2514        Willy_Brandt        Willy Brandt  male   \n",
       "1     DEU    38440     Q90837  Wolfgang_Mischnick  Wolfgang Mischnick  male   \n",
       "\n",
       "  ethnicity                   religion       birth       death  \\\n",
       "0     white  protestantism evangelical  1913-12-18  1992-10-08   \n",
       "1     white  protestantism evangelical  1921-09-29  2002-10-06   \n",
       "\n",
       "          birthplace    deathplace  id_raw   id_query  \\\n",
       "0  53.86972,10.68639  5.060084e+06   Q2514   wd:Q2514   \n",
       "1  51.04926,13.73836  5.014244e+06  Q90837  wd:Q90837   \n",
       "\n",
       "                                            wikiurl  no_lang_ed  \\\n",
       "0        https://de.wikipedia.org/wiki/Willy_Brandt          95   \n",
       "1  https://de.wikipedia.org/wiki/Wolfgang_Mischnick           7   \n",
       "\n",
       "   pageRankGlobalALL  \n",
       "0         236.884284  \n",
       "1           1.644895  "
      ]
     },
     "execution_count": 506,
     "metadata": {},
     "output_type": "execute_result"
    }
   ],
   "source": [
    "MP_data.head(2)"
   ]
  },
  {
   "cell_type": "code",
   "execution_count": 507,
   "metadata": {},
   "outputs": [],
   "source": [
    "id2name = MP_data[[\"wikidataid\", \"wikititle\", \"name\"]].drop_duplicates().set_index(\"wikidataid\").to_dict(orient='dict')"
   ]
  },
  {
   "cell_type": "code",
   "execution_count": 508,
   "metadata": {},
   "outputs": [],
   "source": [
    "wikidataids = []\n",
    "url_lang_eds = []\n",
    "lang_eds = []\n",
    "\n",
    "for id_ in wikidata_ids:\n",
    "\n",
    "    url = \"https://www.wikidata.org/wiki/\" + str(id_)\n",
    "\n",
    "    html = urllib.request.urlopen(url).read()\n",
    "    soup = BeautifulSoup(html, 'html.parser')\n",
    "    \n",
    "    div_uls = soup.find_all(\"div\", {\"class\": \"wikibase-sitelinklistview\"})[0].find_all(\"ul\", {\"class\": \"wikibase-sitelinklistview-listview\"})\n",
    "    \n",
    "    div_uls_str = str(div_uls[0])\n",
    "    div_uls_ls = div_uls_str.split(\"</span></span>\")\n",
    "    #div_uls_ls = [item.replace(\"/span>\", \"\").replace(\"<span\", \"\").replace(\"<a\", \"\").replace(\"a>\", \"\").replace(\"<\", \"\").replace(\">\", \"\").replace(\"li\", \"\").replace(\"ul\", \"\").replace(\"\\n\", \"\") for item in div_uls_ls]\n",
    "    \n",
    "    r'(?:(?:https?|ftp):\\/\\/)?[\\w/\\-?=%.,]+\\.[\\w/\\-&?=%().,]+'\n",
    "    \n",
    "    #urls = [re.findall(r'(?:(?:https?|ftp):\\/\\/)?[\\w/\\-?=%.,]+\\.[\\w/\\-&?=%.,]+', entry) for entry in div_uls_ls]\n",
    "    urls = [re.findall(r'(?:(?:https?|ftp):\\/\\/)?[\\w/\\-?=%.,]+\\.[\\w/\\-&?=%().,]+', entry) for entry in div_uls_ls]\n",
    "    urls = [url for url in urls if len(url) > 0] #remove empty detection\n",
    "    lang_ed = [url[0].split(\".\")[0].split(\"//\")[1] for url in urls]\n",
    "    \n",
    "    for url in urls: \n",
    "        wikidataids.append(id_)\n",
    "        url_lang_eds.append(url[0])\n",
    "        lang_eds.append(url[0].split(\".\")[0].split(\"//\")[1])"
   ]
  },
  {
   "cell_type": "code",
   "execution_count": 509,
   "metadata": {},
   "outputs": [
    {
     "data": {
      "text/plain": [
       "(10511, 10511, 10511)"
      ]
     },
     "execution_count": 509,
     "metadata": {},
     "output_type": "execute_result"
    }
   ],
   "source": [
    "results = pd.DataFrame()\n",
    "len(wikidataids), len(url_lang_eds), len(lang_eds)"
   ]
  },
  {
   "cell_type": "code",
   "execution_count": 510,
   "metadata": {},
   "outputs": [],
   "source": [
    "results[\"wikidataid\"] = wikidataids\n",
    "results[\"url_lang_ed\"] = url_lang_eds\n",
    "results[\"lang_ed\"] = lang_eds"
   ]
  },
  {
   "cell_type": "code",
   "execution_count": 511,
   "metadata": {},
   "outputs": [
    {
     "data": {
      "text/html": [
       "<div>\n",
       "<style scoped>\n",
       "    .dataframe tbody tr th:only-of-type {\n",
       "        vertical-align: middle;\n",
       "    }\n",
       "\n",
       "    .dataframe tbody tr th {\n",
       "        vertical-align: top;\n",
       "    }\n",
       "\n",
       "    .dataframe thead th {\n",
       "        text-align: right;\n",
       "    }\n",
       "</style>\n",
       "<table border=\"1\" class=\"dataframe\">\n",
       "  <thead>\n",
       "    <tr style=\"text-align: right;\">\n",
       "      <th></th>\n",
       "      <th>wikidataid</th>\n",
       "      <th>url_lang_ed</th>\n",
       "      <th>lang_ed</th>\n",
       "    </tr>\n",
       "  </thead>\n",
       "  <tbody>\n",
       "    <tr>\n",
       "      <th>0</th>\n",
       "      <td>Q2514</td>\n",
       "      <td>https://af.wikipedia.org/wiki/Willy_Brandt</td>\n",
       "      <td>af</td>\n",
       "    </tr>\n",
       "    <tr>\n",
       "      <th>1</th>\n",
       "      <td>Q2514</td>\n",
       "      <td>https://als.wikipedia.org/wiki/Willy_Brandt</td>\n",
       "      <td>als</td>\n",
       "    </tr>\n",
       "    <tr>\n",
       "      <th>2</th>\n",
       "      <td>Q2514</td>\n",
       "      <td>https://an.wikipedia.org/wiki/Willy_Brandt</td>\n",
       "      <td>an</td>\n",
       "    </tr>\n",
       "    <tr>\n",
       "      <th>3</th>\n",
       "      <td>Q2514</td>\n",
       "      <td>https://ar.wikipedia.org/wiki/%D9%88%D9%8A%D9%...</td>\n",
       "      <td>ar</td>\n",
       "    </tr>\n",
       "    <tr>\n",
       "      <th>4</th>\n",
       "      <td>Q2514</td>\n",
       "      <td>https://arz.wikipedia.org/wiki/%D9%81%D9%8A%D9...</td>\n",
       "      <td>arz</td>\n",
       "    </tr>\n",
       "    <tr>\n",
       "      <th>5</th>\n",
       "      <td>Q2514</td>\n",
       "      <td>https://ast.wikipedia.org/wiki/Willy_Brandt</td>\n",
       "      <td>ast</td>\n",
       "    </tr>\n",
       "    <tr>\n",
       "      <th>6</th>\n",
       "      <td>Q2514</td>\n",
       "      <td>https://azb.wikipedia.org/wiki/%D9%88%DB%8C%D9...</td>\n",
       "      <td>azb</td>\n",
       "    </tr>\n",
       "    <tr>\n",
       "      <th>7</th>\n",
       "      <td>Q2514</td>\n",
       "      <td>https://az.wikipedia.org/wiki/Villi_Brandt</td>\n",
       "      <td>az</td>\n",
       "    </tr>\n",
       "    <tr>\n",
       "      <th>8</th>\n",
       "      <td>Q2514</td>\n",
       "      <td>https://bar.wikipedia.org/wiki/Willy_Brandt</td>\n",
       "      <td>bar</td>\n",
       "    </tr>\n",
       "    <tr>\n",
       "      <th>9</th>\n",
       "      <td>Q2514</td>\n",
       "      <td>https://be-tarask.wikipedia.org/wiki/%D0%92%D1...</td>\n",
       "      <td>be-tarask</td>\n",
       "    </tr>\n",
       "  </tbody>\n",
       "</table>\n",
       "</div>"
      ],
      "text/plain": [
       "  wikidataid                                        url_lang_ed    lang_ed\n",
       "0      Q2514         https://af.wikipedia.org/wiki/Willy_Brandt         af\n",
       "1      Q2514        https://als.wikipedia.org/wiki/Willy_Brandt        als\n",
       "2      Q2514         https://an.wikipedia.org/wiki/Willy_Brandt         an\n",
       "3      Q2514  https://ar.wikipedia.org/wiki/%D9%88%D9%8A%D9%...         ar\n",
       "4      Q2514  https://arz.wikipedia.org/wiki/%D9%81%D9%8A%D9...        arz\n",
       "5      Q2514        https://ast.wikipedia.org/wiki/Willy_Brandt        ast\n",
       "6      Q2514  https://azb.wikipedia.org/wiki/%D9%88%DB%8C%D9...        azb\n",
       "7      Q2514         https://az.wikipedia.org/wiki/Villi_Brandt         az\n",
       "8      Q2514        https://bar.wikipedia.org/wiki/Willy_Brandt        bar\n",
       "9      Q2514  https://be-tarask.wikipedia.org/wiki/%D0%92%D1...  be-tarask"
      ]
     },
     "execution_count": 511,
     "metadata": {},
     "output_type": "execute_result"
    }
   ],
   "source": [
    "results.head(10)"
   ]
  },
  {
   "cell_type": "code",
   "execution_count": 512,
   "metadata": {},
   "outputs": [
    {
     "data": {
      "text/plain": [
       "dict_keys(['wikititle', 'name'])"
      ]
     },
     "execution_count": 512,
     "metadata": {},
     "output_type": "execute_result"
    }
   ],
   "source": [
    "id2name.keys()"
   ]
  },
  {
   "cell_type": "code",
   "execution_count": 513,
   "metadata": {},
   "outputs": [],
   "source": [
    "results[\"name\"] = results[\"wikidataid\"].map(id2name[\"name\"])\n",
    "results[\"wikititle\"] = results[\"wikidataid\"].map(id2name[\"wikititle\"])"
   ]
  },
  {
   "cell_type": "code",
   "execution_count": 514,
   "metadata": {},
   "outputs": [
    {
     "data": {
      "text/html": [
       "<div>\n",
       "<style scoped>\n",
       "    .dataframe tbody tr th:only-of-type {\n",
       "        vertical-align: middle;\n",
       "    }\n",
       "\n",
       "    .dataframe tbody tr th {\n",
       "        vertical-align: top;\n",
       "    }\n",
       "\n",
       "    .dataframe thead th {\n",
       "        text-align: right;\n",
       "    }\n",
       "</style>\n",
       "<table border=\"1\" class=\"dataframe\">\n",
       "  <thead>\n",
       "    <tr style=\"text-align: right;\">\n",
       "      <th></th>\n",
       "      <th>wikidataid</th>\n",
       "      <th>url_lang_ed</th>\n",
       "      <th>lang_ed</th>\n",
       "      <th>name</th>\n",
       "      <th>wikititle</th>\n",
       "    </tr>\n",
       "  </thead>\n",
       "  <tbody>\n",
       "    <tr>\n",
       "      <th>0</th>\n",
       "      <td>Q2514</td>\n",
       "      <td>https://af.wikipedia.org/wiki/Willy_Brandt</td>\n",
       "      <td>af</td>\n",
       "      <td>Willy Brandt</td>\n",
       "      <td>Willy_Brandt</td>\n",
       "    </tr>\n",
       "    <tr>\n",
       "      <th>1</th>\n",
       "      <td>Q2514</td>\n",
       "      <td>https://als.wikipedia.org/wiki/Willy_Brandt</td>\n",
       "      <td>als</td>\n",
       "      <td>Willy Brandt</td>\n",
       "      <td>Willy_Brandt</td>\n",
       "    </tr>\n",
       "  </tbody>\n",
       "</table>\n",
       "</div>"
      ],
      "text/plain": [
       "  wikidataid                                  url_lang_ed lang_ed  \\\n",
       "0      Q2514   https://af.wikipedia.org/wiki/Willy_Brandt      af   \n",
       "1      Q2514  https://als.wikipedia.org/wiki/Willy_Brandt     als   \n",
       "\n",
       "           name     wikititle  \n",
       "0  Willy Brandt  Willy_Brandt  \n",
       "1  Willy Brandt  Willy_Brandt  "
      ]
     },
     "execution_count": 514,
     "metadata": {},
     "output_type": "execute_result"
    }
   ],
   "source": [
    "results.head(2)"
   ]
  },
  {
   "cell_type": "code",
   "execution_count": 515,
   "metadata": {},
   "outputs": [
    {
     "data": {
      "text/plain": [
       "array(['af', 'als', 'an', 'ar', 'arz', 'ast', 'azb', 'az', 'bar',\n",
       "       'be-tarask', 'be', 'bg', 'bn', 'br', 'bs', 'ca', 'cs', 'cy', 'da',\n",
       "       'de', 'diq', 'dsb', 'el', 'en', 'eo', 'es', 'et', 'eu', 'fa', 'fi',\n",
       "       'frr', 'fr', 'fy', 'gl', 'he', 'hi', 'hr', 'hsb', 'hu', 'hy', 'ia',\n",
       "       'id', 'io', 'is', 'it', 'ja', 'ka', 'ko', 'ksh', 'ku', 'la', 'lb',\n",
       "       'lt', 'lv', 'mg', 'mk', 'mr', 'ms', 'mzn', 'nds', 'nl', 'nn', 'no',\n",
       "       'oc', 'pl', 'pms', 'pnb', 'pt', 'qu', 'ro', 'ru', 'sc', 'sh',\n",
       "       'simple', 'si', 'sk', 'sl', 'sq', 'sr', 'stq', 'sv', 'sw', 'tg',\n",
       "       'th', 'tl', 'tr', 'uk', 'ur', 'uz', 'vi', 'war', 'wuu', 'yo',\n",
       "       'zh-yue', 'zh'], dtype=object)"
      ]
     },
     "execution_count": 515,
     "metadata": {},
     "output_type": "execute_result"
    }
   ],
   "source": [
    "results[\"lang_ed\"][results[\"name\"] == \"Willy Brandt\"].unique()"
   ]
  },
  {
   "cell_type": "code",
   "execution_count": 516,
   "metadata": {},
   "outputs": [
    {
     "data": {
      "text/plain": [
       "'https://ru.wikipedia.org/wiki/%D0%91%D1%80%D0%B0%D0%BD%D0%B4%D1%82,_%D0%92%D0%B8%D0%BB%D0%BB%D0%B8'"
      ]
     },
     "execution_count": 516,
     "metadata": {},
     "output_type": "execute_result"
    }
   ],
   "source": [
    "results[\"url_lang_ed\"][results[\"lang_ed\"] == \"ru\"][70]"
   ]
  },
  {
   "cell_type": "markdown",
   "metadata": {},
   "source": [
    "## Map creation date of page "
   ]
  },
  {
   "cell_type": "code",
   "execution_count": 517,
   "metadata": {},
   "outputs": [],
   "source": [
    "import requests"
   ]
  },
  {
   "cell_type": "code",
   "execution_count": 518,
   "metadata": {},
   "outputs": [],
   "source": [
    "Ses = requests.Session()"
   ]
  },
  {
   "cell_type": "code",
   "execution_count": 519,
   "metadata": {},
   "outputs": [
    {
     "data": {
      "text/plain": [
       "'Брандт,_Вилли'"
      ]
     },
     "execution_count": 519,
     "metadata": {},
     "output_type": "execute_result"
    }
   ],
   "source": [
    "lang = \"ru\"\n",
    "title = urllib.parse.unquote(\"%D0%91%D1%80%D0%B0%D0%BD%D0%B4%D1%82,_%D0%92%D0%B8%D0%BB%D0%BB%D0%B8\")\n",
    "title"
   ]
  },
  {
   "cell_type": "code",
   "execution_count": 520,
   "metadata": {},
   "outputs": [
    {
     "data": {
      "text/plain": [
       "'https://arz.wikipedia.org/wiki/Брандт,_Вилли'"
      ]
     },
     "execution_count": 520,
     "metadata": {},
     "output_type": "execute_result"
    }
   ],
   "source": [
    "\"https://arz.wikipedia.org/wiki/\"+title #az Vil_Brandt"
   ]
  },
  {
   "cell_type": "code",
   "execution_count": 371,
   "metadata": {},
   "outputs": [
    {
     "name": "stdout",
     "output_type": "stream",
     "text": [
      "az Villi_Brandt\n"
     ]
    }
   ],
   "source": [
    "lang = \"az\"\n",
    "title = urllib.parse.unquote(\"%D0%91%D1%80%D0%B0%D0%BD%D0%B4%D1%82,_%D0%92%D0%B8%D0%BB%D0%BB%D0%B8\")\n",
    "title = urllib.parse.unquote(\"Villi_Brandt\")\n",
    "print(lang, title)\n",
    "\n",
    "URL = f\"https://{lang}.wikipedia.org/w/api.php\"\n",
    "\n",
    "PARAMS = {\n",
    "    \"action\": \"query\",\n",
    "    \"prop\":\"revisions\",\n",
    "    \"titles\": f\"{title}\",\n",
    "    \"rvlimit\": \"1\",\n",
    "    \"rvprop\":\"timestamp\",\n",
    "    \"rvdir\" : \"newer\", \n",
    "    \"format\": \"json\"\n",
    "}\n",
    "\n",
    "\n",
    "R = Ses.get(url=URL, params=PARAMS)\n",
    "\n",
    "history_data = R.json()\n",
    "\n",
    "\n",
    "\n",
    "#revision_df = pd.json_normalize(history_data[\"query\"][\"pages\"][f\"{pageid}\"][\"revisions\"])"
   ]
  },
  {
   "cell_type": "code",
   "execution_count": 372,
   "metadata": {},
   "outputs": [
    {
     "data": {
      "text/plain": [
       "{'continue': {'rvcontinue': '20160613214501|3613216', 'continue': '||'},\n",
       " 'query': {'normalized': [{'from': 'Villi_Brandt', 'to': 'Villi Brandt'}],\n",
       "  'pages': {'451320': {'pageid': 451320,\n",
       "    'ns': 0,\n",
       "    'title': 'Villi Brandt',\n",
       "    'revisions': [{'timestamp': '2016-06-13T21:39:00Z'}]}}}}"
      ]
     },
     "execution_count": 372,
     "metadata": {},
     "output_type": "execute_result"
    }
   ],
   "source": [
    "history_data"
   ]
  },
  {
   "cell_type": "code",
   "execution_count": 373,
   "metadata": {},
   "outputs": [],
   "source": [
    "pageid = list(history_data[\"query\"][\"pages\"].keys())[0]\n",
    "creation_date = history_data['query'][\"pages\"][f\"{pageid}\"][\"revisions\"][0][\"timestamp\"]"
   ]
  },
  {
   "cell_type": "code",
   "execution_count": 374,
   "metadata": {},
   "outputs": [
    {
     "data": {
      "text/html": [
       "<div>\n",
       "<style scoped>\n",
       "    .dataframe tbody tr th:only-of-type {\n",
       "        vertical-align: middle;\n",
       "    }\n",
       "\n",
       "    .dataframe tbody tr th {\n",
       "        vertical-align: top;\n",
       "    }\n",
       "\n",
       "    .dataframe thead th {\n",
       "        text-align: right;\n",
       "    }\n",
       "</style>\n",
       "<table border=\"1\" class=\"dataframe\">\n",
       "  <thead>\n",
       "    <tr style=\"text-align: right;\">\n",
       "      <th></th>\n",
       "      <th>wikidataid</th>\n",
       "      <th>url_lang_ed</th>\n",
       "      <th>lang_ed</th>\n",
       "      <th>name</th>\n",
       "      <th>wikititle</th>\n",
       "    </tr>\n",
       "  </thead>\n",
       "  <tbody>\n",
       "    <tr>\n",
       "      <th>0</th>\n",
       "      <td>Q2514</td>\n",
       "      <td>https://af.wikipedia.org/wiki/Willy_Brandt</td>\n",
       "      <td>af</td>\n",
       "      <td>Willy Brandt</td>\n",
       "      <td>Willy_Brandt</td>\n",
       "    </tr>\n",
       "    <tr>\n",
       "      <th>1</th>\n",
       "      <td>Q2514</td>\n",
       "      <td>https://als.wikipedia.org/wiki/Willy_Brandt</td>\n",
       "      <td>als</td>\n",
       "      <td>Willy Brandt</td>\n",
       "      <td>Willy_Brandt</td>\n",
       "    </tr>\n",
       "    <tr>\n",
       "      <th>2</th>\n",
       "      <td>Q2514</td>\n",
       "      <td>https://an.wikipedia.org/wiki/Willy_Brandt</td>\n",
       "      <td>an</td>\n",
       "      <td>Willy Brandt</td>\n",
       "      <td>Willy_Brandt</td>\n",
       "    </tr>\n",
       "    <tr>\n",
       "      <th>3</th>\n",
       "      <td>Q2514</td>\n",
       "      <td>https://ar.wikipedia.org/wiki/%D9%88%D9%8A%D9%...</td>\n",
       "      <td>ar</td>\n",
       "      <td>Willy Brandt</td>\n",
       "      <td>Willy_Brandt</td>\n",
       "    </tr>\n",
       "    <tr>\n",
       "      <th>4</th>\n",
       "      <td>Q2514</td>\n",
       "      <td>https://arz.wikipedia.org/wiki/%D9%81%D9%8A%D9...</td>\n",
       "      <td>arz</td>\n",
       "      <td>Willy Brandt</td>\n",
       "      <td>Willy_Brandt</td>\n",
       "    </tr>\n",
       "    <tr>\n",
       "      <th>5</th>\n",
       "      <td>Q2514</td>\n",
       "      <td>https://ast.wikipedia.org/wiki/Willy_Brandt</td>\n",
       "      <td>ast</td>\n",
       "      <td>Willy Brandt</td>\n",
       "      <td>Willy_Brandt</td>\n",
       "    </tr>\n",
       "    <tr>\n",
       "      <th>6</th>\n",
       "      <td>Q2514</td>\n",
       "      <td>https://azb.wikipedia.org/wiki/%D9%88%DB%8C%D9...</td>\n",
       "      <td>azb</td>\n",
       "      <td>Willy Brandt</td>\n",
       "      <td>Willy_Brandt</td>\n",
       "    </tr>\n",
       "    <tr>\n",
       "      <th>7</th>\n",
       "      <td>Q2514</td>\n",
       "      <td>https://az.wikipedia.org/wiki/Villi_Brandt</td>\n",
       "      <td>az</td>\n",
       "      <td>Willy Brandt</td>\n",
       "      <td>Willy_Brandt</td>\n",
       "    </tr>\n",
       "    <tr>\n",
       "      <th>8</th>\n",
       "      <td>Q2514</td>\n",
       "      <td>https://bar.wikipedia.org/wiki/Willy_Brandt</td>\n",
       "      <td>bar</td>\n",
       "      <td>Willy Brandt</td>\n",
       "      <td>Willy_Brandt</td>\n",
       "    </tr>\n",
       "    <tr>\n",
       "      <th>9</th>\n",
       "      <td>Q2514</td>\n",
       "      <td>https://be-tarask.wikipedia.org/wiki/%D0%92%D1...</td>\n",
       "      <td>be-tarask</td>\n",
       "      <td>Willy Brandt</td>\n",
       "      <td>Willy_Brandt</td>\n",
       "    </tr>\n",
       "  </tbody>\n",
       "</table>\n",
       "</div>"
      ],
      "text/plain": [
       "  wikidataid                                        url_lang_ed    lang_ed  \\\n",
       "0      Q2514         https://af.wikipedia.org/wiki/Willy_Brandt         af   \n",
       "1      Q2514        https://als.wikipedia.org/wiki/Willy_Brandt        als   \n",
       "2      Q2514         https://an.wikipedia.org/wiki/Willy_Brandt         an   \n",
       "3      Q2514  https://ar.wikipedia.org/wiki/%D9%88%D9%8A%D9%...         ar   \n",
       "4      Q2514  https://arz.wikipedia.org/wiki/%D9%81%D9%8A%D9...        arz   \n",
       "5      Q2514        https://ast.wikipedia.org/wiki/Willy_Brandt        ast   \n",
       "6      Q2514  https://azb.wikipedia.org/wiki/%D9%88%DB%8C%D9...        azb   \n",
       "7      Q2514         https://az.wikipedia.org/wiki/Villi_Brandt         az   \n",
       "8      Q2514        https://bar.wikipedia.org/wiki/Willy_Brandt        bar   \n",
       "9      Q2514  https://be-tarask.wikipedia.org/wiki/%D0%92%D1...  be-tarask   \n",
       "\n",
       "           name     wikititle  \n",
       "0  Willy Brandt  Willy_Brandt  \n",
       "1  Willy Brandt  Willy_Brandt  \n",
       "2  Willy Brandt  Willy_Brandt  \n",
       "3  Willy Brandt  Willy_Brandt  \n",
       "4  Willy Brandt  Willy_Brandt  \n",
       "5  Willy Brandt  Willy_Brandt  \n",
       "6  Willy Brandt  Willy_Brandt  \n",
       "7  Willy Brandt  Willy_Brandt  \n",
       "8  Willy Brandt  Willy_Brandt  \n",
       "9  Willy Brandt  Willy_Brandt  "
      ]
     },
     "execution_count": 374,
     "metadata": {},
     "output_type": "execute_result"
    }
   ],
   "source": [
    "results.head(10)"
   ]
  },
  {
   "cell_type": "code",
   "execution_count": 521,
   "metadata": {},
   "outputs": [],
   "source": [
    "wikidataids = list(results[\"wikidataid\"])\n",
    "url_lang_eds = list(results[\"url_lang_ed\"])\n",
    "lang_eds = list(results[\"lang_ed\"])\n",
    "names = list(results[\"name\"])\n",
    "wikititles = list(results[\"wikititle\"])"
   ]
  },
  {
   "cell_type": "code",
   "execution_count": 522,
   "metadata": {},
   "outputs": [],
   "source": [
    "#wikidataids"
   ]
  },
  {
   "cell_type": "code",
   "execution_count": 523,
   "metadata": {},
   "outputs": [],
   "source": [
    "'''\n",
    "function to get creation date of different language pages\n",
    "'''\n",
    "\n",
    "def get_creation_date_lang_ed(wikidataids, url_lang_eds, lang_eds, names, wikititles): \n",
    "    \n",
    "    wikiID = []\n",
    "    date_of_creation = []\n",
    "    language = []\n",
    "    titles = []\n",
    "    problem_id_ls = []\n",
    "    problem_url_ls = []\n",
    "\n",
    "    for i in range(len(url_lang_eds)):\n",
    "        \n",
    "        if i % 1000 == 0: \n",
    "            print(f'processed {i} pages.')\n",
    "        \n",
    "        lang = lang_eds[i]\n",
    "        title = urllib.parse.unquote(url_lang_eds[i].split(\"/\")[-1])\n",
    "        #print(i, lang, title)\n",
    "\n",
    "        URL = f\"https://{lang}.wikipedia.org/w/api.php\"\n",
    "\n",
    "        PARAMS = {\n",
    "            \"action\": \"query\",\n",
    "            \"prop\":\"revisions\",\n",
    "            \"titles\": f\"{title}\",\n",
    "            \"rvlimit\": \"1\",\n",
    "            \"rvprop\":\"timestamp\",\n",
    "            \"rvdir\" : \"newer\", \n",
    "            \"format\": \"json\"\n",
    "        }\n",
    "\n",
    "\n",
    "        R = Ses.get(url=URL, params=PARAMS)\n",
    "        \n",
    "        try:\n",
    "            history_data = R.json()\n",
    "\n",
    "            pageid = list(history_data[\"query\"][\"pages\"].keys())[0]\n",
    "            creation_date = history_data['query'][\"pages\"][f\"{pageid}\"][\"revisions\"][0][\"timestamp\"]\n",
    "\n",
    "            wikiID.append(wikidataids[i])\n",
    "            date_of_creation.append(creation_date)\n",
    "            language.append(lang)\n",
    "            titles.append(title)\n",
    "            \n",
    "        except KeyError:\n",
    "            print(url_lang_eds[i])\n",
    "            problem_id_ls.append(wikidataids[i])\n",
    "            problem_url_ls.append(url_lang_eds[i])\n",
    "        \n",
    "    #everything into one dataframe\n",
    "    creation_date_df = pd.DataFrame()\n",
    "    creation_date_df['wikidataid'] = wikiID\n",
    "    creation_date_df['creation_date_lang'] = date_of_creation\n",
    "    creation_date_df['language'] = language\n",
    "    creation_date_df['wikititle'] = titles\n",
    "        \n",
    "    creation_date_df['creation_year_lang'] = creation_date_df['creation_date_lang'].map(lambda x: datetime.strptime(x, \"%Y-%m-%dT%H:%M:%SZ\").year)\n",
    "    creation_date_df['creation_month_lang'] = creation_date_df['creation_date_lang'].map(lambda x: datetime.strptime(x, \"%Y-%m-%dT%H:%M:%SZ\").month)\n",
    "    creation_date_df['creation_day_lang'] = creation_date_df['creation_date_lang'].map(lambda x: datetime.strptime(x, \"%Y-%m-%dT%H:%M:%SZ\").day)\n",
    "    \n",
    "    problem_df = pd.DataFrame()\n",
    "    problem_df['prob_id'] = problem_id_ls\n",
    "    problem_df['prob_url'] = problem_url_ls\n",
    "    \n",
    "    return creation_date_df, problem_df"
   ]
  },
  {
   "cell_type": "code",
   "execution_count": 524,
   "metadata": {},
   "outputs": [
    {
     "data": {
      "text/plain": [
       "(10511, 10511, 10511, 10511, 10511)"
      ]
     },
     "execution_count": 524,
     "metadata": {},
     "output_type": "execute_result"
    }
   ],
   "source": [
    "len(wikidataids), len(url_lang_eds), len(lang_eds), len(names), len(wikititles) #(10510, 10510, 10510, 10510, 10510)"
   ]
  },
  {
   "cell_type": "code",
   "execution_count": 525,
   "metadata": {},
   "outputs": [
    {
     "name": "stdout",
     "output_type": "stream",
     "text": [
      "processed 0 pages.\n",
      "processed 1000 pages.\n",
      "processed 2000 pages.\n",
      "https://bg.wikipedia.org/wiki/%D0%9A%D0%BB%D0%B0%D1%83%D1%81-%D0%A5%D0%B0%D0%B9%D0%BD%D0%B5%D1%80_%D0%9B%D0%B5%D0%BD%D0%B5\n",
      "processed 3000 pages.\n",
      "processed 4000 pages.\n",
      "processed 5000 pages.\n",
      "processed 6000 pages.\n",
      "processed 7000 pages.\n",
      "processed 8000 pages.\n",
      "processed 9000 pages.\n",
      "processed 10000 pages.\n"
     ]
    }
   ],
   "source": [
    "creation_date_df, problem_df = get_creation_date_lang_ed(wikidataids, url_lang_eds, lang_eds, names, wikititles)"
   ]
  },
  {
   "cell_type": "code",
   "execution_count": 526,
   "metadata": {},
   "outputs": [
    {
     "data": {
      "text/html": [
       "<div>\n",
       "<style scoped>\n",
       "    .dataframe tbody tr th:only-of-type {\n",
       "        vertical-align: middle;\n",
       "    }\n",
       "\n",
       "    .dataframe tbody tr th {\n",
       "        vertical-align: top;\n",
       "    }\n",
       "\n",
       "    .dataframe thead th {\n",
       "        text-align: right;\n",
       "    }\n",
       "</style>\n",
       "<table border=\"1\" class=\"dataframe\">\n",
       "  <thead>\n",
       "    <tr style=\"text-align: right;\">\n",
       "      <th></th>\n",
       "      <th>wikidataid</th>\n",
       "      <th>creation_date_lang</th>\n",
       "      <th>language</th>\n",
       "      <th>wikititle</th>\n",
       "      <th>creation_year_lang</th>\n",
       "      <th>creation_month_lang</th>\n",
       "      <th>creation_day_lang</th>\n",
       "    </tr>\n",
       "  </thead>\n",
       "  <tbody>\n",
       "    <tr>\n",
       "      <th>0</th>\n",
       "      <td>Q2514</td>\n",
       "      <td>2018-06-25T09:40:49Z</td>\n",
       "      <td>af</td>\n",
       "      <td>Willy_Brandt</td>\n",
       "      <td>2018</td>\n",
       "      <td>6</td>\n",
       "      <td>25</td>\n",
       "    </tr>\n",
       "    <tr>\n",
       "      <th>1</th>\n",
       "      <td>Q2514</td>\n",
       "      <td>2013-12-18T13:58:41Z</td>\n",
       "      <td>als</td>\n",
       "      <td>Willy_Brandt</td>\n",
       "      <td>2013</td>\n",
       "      <td>12</td>\n",
       "      <td>18</td>\n",
       "    </tr>\n",
       "    <tr>\n",
       "      <th>2</th>\n",
       "      <td>Q2514</td>\n",
       "      <td>2009-10-08T13:55:56Z</td>\n",
       "      <td>an</td>\n",
       "      <td>Willy_Brandt</td>\n",
       "      <td>2009</td>\n",
       "      <td>10</td>\n",
       "      <td>8</td>\n",
       "    </tr>\n",
       "    <tr>\n",
       "      <th>3</th>\n",
       "      <td>Q2514</td>\n",
       "      <td>2007-07-08T21:03:22Z</td>\n",
       "      <td>ar</td>\n",
       "      <td>ويلي_براندت</td>\n",
       "      <td>2007</td>\n",
       "      <td>7</td>\n",
       "      <td>8</td>\n",
       "    </tr>\n",
       "    <tr>\n",
       "      <th>4</th>\n",
       "      <td>Q2514</td>\n",
       "      <td>2020-02-12T01:49:31Z</td>\n",
       "      <td>arz</td>\n",
       "      <td>فيلى_براندت</td>\n",
       "      <td>2020</td>\n",
       "      <td>2</td>\n",
       "      <td>12</td>\n",
       "    </tr>\n",
       "  </tbody>\n",
       "</table>\n",
       "</div>"
      ],
      "text/plain": [
       "  wikidataid    creation_date_lang language     wikititle  creation_year_lang  \\\n",
       "0      Q2514  2018-06-25T09:40:49Z       af  Willy_Brandt                2018   \n",
       "1      Q2514  2013-12-18T13:58:41Z      als  Willy_Brandt                2013   \n",
       "2      Q2514  2009-10-08T13:55:56Z       an  Willy_Brandt                2009   \n",
       "3      Q2514  2007-07-08T21:03:22Z       ar   ويلي_براندت                2007   \n",
       "4      Q2514  2020-02-12T01:49:31Z      arz   فيلى_براندت                2020   \n",
       "\n",
       "   creation_month_lang  creation_day_lang  \n",
       "0                    6                 25  \n",
       "1                   12                 18  \n",
       "2                   10                  8  \n",
       "3                    7                  8  \n",
       "4                    2                 12  "
      ]
     },
     "execution_count": 526,
     "metadata": {},
     "output_type": "execute_result"
    }
   ],
   "source": [
    "creation_date_df.head()"
   ]
  },
  {
   "cell_type": "code",
   "execution_count": 527,
   "metadata": {},
   "outputs": [],
   "source": [
    "creation_date_df.to_csv(\"/Users/alexandrarottenkolber/Documents/02_Hertie_School/Master thesis/Master_Thesis_Hertie/data_analysis/01_data/Wikipedia/output/history_lang_eds_df_complete.csv\")"
   ]
  },
  {
   "cell_type": "code",
   "execution_count": 528,
   "metadata": {},
   "outputs": [],
   "source": [
    "problem_df.to_csv(\"/Users/alexandrarottenkolber/Documents/02_Hertie_School/Master thesis/Master_Thesis_Hertie/data_analysis/01_data/Wikipedia/output/history_lang_eds_problem_df.csv\")"
   ]
  },
  {
   "cell_type": "code",
   "execution_count": 529,
   "metadata": {},
   "outputs": [],
   "source": [
    "results.to_csv(\"/Users/alexandrarottenkolber/Documents/02_Hertie_School/Master thesis/Master_Thesis_Hertie/data_analysis/01_data/Wikipedia/output/lang_urls_per_MP.csv\")"
   ]
  },
  {
   "cell_type": "code",
   "execution_count": 530,
   "metadata": {},
   "outputs": [
    {
     "data": {
      "text/html": [
       "<div>\n",
       "<style scoped>\n",
       "    .dataframe tbody tr th:only-of-type {\n",
       "        vertical-align: middle;\n",
       "    }\n",
       "\n",
       "    .dataframe tbody tr th {\n",
       "        vertical-align: top;\n",
       "    }\n",
       "\n",
       "    .dataframe thead th {\n",
       "        text-align: right;\n",
       "    }\n",
       "</style>\n",
       "<table border=\"1\" class=\"dataframe\">\n",
       "  <thead>\n",
       "    <tr style=\"text-align: right;\">\n",
       "      <th></th>\n",
       "      <th>wikidataid</th>\n",
       "      <th>url_lang_ed</th>\n",
       "      <th>lang_ed</th>\n",
       "      <th>name</th>\n",
       "      <th>wikititle</th>\n",
       "    </tr>\n",
       "  </thead>\n",
       "  <tbody>\n",
       "    <tr>\n",
       "      <th>0</th>\n",
       "      <td>Q2514</td>\n",
       "      <td>https://af.wikipedia.org/wiki/Willy_Brandt</td>\n",
       "      <td>af</td>\n",
       "      <td>Willy Brandt</td>\n",
       "      <td>Willy_Brandt</td>\n",
       "    </tr>\n",
       "    <tr>\n",
       "      <th>1</th>\n",
       "      <td>Q2514</td>\n",
       "      <td>https://als.wikipedia.org/wiki/Willy_Brandt</td>\n",
       "      <td>als</td>\n",
       "      <td>Willy Brandt</td>\n",
       "      <td>Willy_Brandt</td>\n",
       "    </tr>\n",
       "    <tr>\n",
       "      <th>2</th>\n",
       "      <td>Q2514</td>\n",
       "      <td>https://an.wikipedia.org/wiki/Willy_Brandt</td>\n",
       "      <td>an</td>\n",
       "      <td>Willy Brandt</td>\n",
       "      <td>Willy_Brandt</td>\n",
       "    </tr>\n",
       "    <tr>\n",
       "      <th>3</th>\n",
       "      <td>Q2514</td>\n",
       "      <td>https://ar.wikipedia.org/wiki/%D9%88%D9%8A%D9%...</td>\n",
       "      <td>ar</td>\n",
       "      <td>Willy Brandt</td>\n",
       "      <td>Willy_Brandt</td>\n",
       "    </tr>\n",
       "    <tr>\n",
       "      <th>4</th>\n",
       "      <td>Q2514</td>\n",
       "      <td>https://arz.wikipedia.org/wiki/%D9%81%D9%8A%D9...</td>\n",
       "      <td>arz</td>\n",
       "      <td>Willy Brandt</td>\n",
       "      <td>Willy_Brandt</td>\n",
       "    </tr>\n",
       "  </tbody>\n",
       "</table>\n",
       "</div>"
      ],
      "text/plain": [
       "  wikidataid                                        url_lang_ed lang_ed  \\\n",
       "0      Q2514         https://af.wikipedia.org/wiki/Willy_Brandt      af   \n",
       "1      Q2514        https://als.wikipedia.org/wiki/Willy_Brandt     als   \n",
       "2      Q2514         https://an.wikipedia.org/wiki/Willy_Brandt      an   \n",
       "3      Q2514  https://ar.wikipedia.org/wiki/%D9%88%D9%8A%D9%...      ar   \n",
       "4      Q2514  https://arz.wikipedia.org/wiki/%D9%81%D9%8A%D9...     arz   \n",
       "\n",
       "           name     wikititle  \n",
       "0  Willy Brandt  Willy_Brandt  \n",
       "1  Willy Brandt  Willy_Brandt  \n",
       "2  Willy Brandt  Willy_Brandt  \n",
       "3  Willy Brandt  Willy_Brandt  \n",
       "4  Willy Brandt  Willy_Brandt  "
      ]
     },
     "execution_count": 530,
     "metadata": {},
     "output_type": "execute_result"
    }
   ],
   "source": [
    "results.head()"
   ]
  },
  {
   "cell_type": "code",
   "execution_count": 531,
   "metadata": {},
   "outputs": [
    {
     "data": {
      "text/plain": [
       "(10511, 10510, 1, 10511)"
      ]
     },
     "execution_count": 531,
     "metadata": {},
     "output_type": "execute_result"
    }
   ],
   "source": [
    "len(results), len(creation_date_df), len(problem_df), len(creation_date_df)+ len(problem_df)"
   ]
  },
  {
   "cell_type": "code",
   "execution_count": 463,
   "metadata": {},
   "outputs": [
    {
     "data": {
      "text/plain": [
       "16    Q1775158\n",
       "Name: prob_id, dtype: object"
      ]
     },
     "execution_count": 463,
     "metadata": {},
     "output_type": "execute_result"
    }
   ],
   "source": [
    "problem_df[\"prob_id\"][problem_df[\"prob_url\"] == \"https://pt.wikipedia.org/wiki/Sabine_Zimmermann_\"]"
   ]
  },
  {
   "cell_type": "code",
   "execution_count": null,
   "metadata": {},
   "outputs": [],
   "source": [
    "['https://en.wikipedia.org/wiki/Klaus_Beckmann_' : \"https://en.wikipedia.org/wiki/Klaus_Beckmann_(politician)\",\n",
    " 'https://no.wikipedia.org/wiki/Dirk_Fischer_' : \"https://no.wikipedia.org/wiki/Dirk_Fischer_(politiker)\",\n",
    " 'https://en.wikipedia.org/wiki/Joachim_G%C3%BCnther_' : \"https://en.wikipedia.org/wiki/Joachim_G%C3%BCnther_(politician,_born_1948)\",\n",
    " 'https://bg.wikipedia.org/wiki/%D0%9A%D0%BB%D0%B0%D1%83%D1%81-%D0%A5%D0%B0%D0%B9%D0%BD%D0%B5%D1%80_%D0%9B%D0%B5%D0%BD%D0%B5' : \n",
    " np.nan,\n",
    " 'https://fa.wikipedia.org/wiki/%D9%88%D8%B1%D9%86%D8%B1_%D8%B4%D9%88%D8%B3%D8%AA%D8%B1_' : \"https://fa.wikipedia.org/wiki/%D9%88%D8%B1%D9%86%D8%B1_%D8%B4%D9%88%D8%B3%D8%AA%D8%B1_(%D8%B3%DB%8C%D8%A7%D8%B3%D8%AA%D9%85%D8%AF%D8%A7%D8%B1)\",\n",
    " 'https://sw.wikipedia.org/wiki/Werner_Schuster_' : \"https://sw.wikipedia.org/wiki/Werner_Schuster_(mwanasiasa)\",\n",
    " 'https://vi.wikipedia.org/wiki/Volker_Beck_' : \"https://vi.wikipedia.org/wiki/Volker_Beck_(ch%C3%ADnh_kh%C3%A1ch)\",\n",
    " 'https://als.wikipedia.org/wiki/Barbara_Hendricks_' : \"https://als.wikipedia.org/wiki/Barbara_Hendricks_(Politikerin)\",\n",
    " 'https://als.wikipedia.org/wiki/Gerd_M%C3%BCller_' : \"https://als.wikipedia.org/wiki/Gerd_M%C3%BCller_(CSU)\",\n",
    " 'https://fa.wikipedia.org/wiki/%D8%A7%DA%A9%D8%B3%D9%84_%D8%A8%D8%B1%DA%AF_' : \"https://fa.wikipedia.org/wiki/%D8%A7%DA%A9%D8%B3%D9%84_%D8%A8%D8%B1%DA%AF_(%D8%B3%DB%8C%D8%A7%D8%B3%D8%AA%D9%85%D8%AF%D8%A7%D8%B1)\",\n",
    " 'https://fa.wikipedia.org/wiki/%DA%A9%D9%84%D8%A7%D9%88%D8%B3_%D8%A8%D8%B1%D9%86%D8%AF%D9%86%D8%B1_' : \"https://fa.wikipedia.org/wiki/%DA%A9%D9%84%D8%A7%D9%88%D8%B3_%D8%A8%D8%B1%D9%86%D8%AF%D9%86%D8%B1_(%D8%B3%DB%8C%D8%A7%D8%B3%D8%AA%D9%85%D8%AF%D8%A7%D8%B1)\",\n",
    " 'https://vi.wikipedia.org/wiki/Johannes_Kahrs_' : \"https://vi.wikipedia.org/wiki/Johannes_Kahrs_(ch%C3%ADnh_kh%C3%A1ch)\",\n",
    " 'https://pt.wikipedia.org/wiki/Christian_Lange_' : \"https://pt.wikipedia.org/wiki/Christian_Lange_(pol%C3%ADtico)\",\n",
    " 'https://vi.wikipedia.org/wiki/Michael_Roth_' : \"https://vi.wikipedia.org/wiki/Michael_Roth_(ch%C3%ADnh_kh%C3%A1ch)\",\n",
    " 'https://ar.wikipedia.org/wiki/%D8%B4%D8%AA%D9%8A%D9%81%D8%A7%D9%86_%D9%85%D8%A7%D9%8A%D8%B1_' : \"https://ar.wikipedia.org/wiki/%D8%B4%D8%AA%D9%8A%D9%81%D8%A7%D9%86_%D9%85%D8%A7%D9%8A%D8%B1_(%D8%B3%D9%8A%D8%A7%D8%B3%D9%8A)\",\n",
    " 'https://als.wikipedia.org/wiki/Thomas_Oppermann_' : \"https://als.wikipedia.org/wiki/Thomas_Oppermann_(Politiker)\",\n",
    " 'https://pt.wikipedia.org/wiki/Sabine_Zimmermann_' : \"https://pt.wikipedia.org/wiki/Sabine_Zimmermann_(pol%C3%ADtica)\",\n",
    " 'https://vi.wikipedia.org/wiki/Stefan_Kaufmann_' : ,\n",
    " 'https://pt.wikipedia.org/wiki/Hans-Georg_von_der_Marwitz_' : ,\n",
    " 'https://pt.wikipedia.org/wiki/Alexander_Hoffmann_' : ,\n",
    " 'https://pt.wikipedia.org/wiki/Bettina_M%C3%BCller_' : ,\n",
    " 'https://pt.wikipedia.org/wiki/Martin_Hess_' : ,\n",
    " 'https://pt.wikipedia.org/wiki/Bettina_Hoffmann_' : ,\n",
    " 'https://pt.wikipedia.org/wiki/Rainer_Kraft_' : ,\n",
    " 'https://pt.wikipedia.org/wiki/Christian_Sauter_' : ,\n",
    " 'https://ar.wikipedia.org/wiki/%D8%B4%D8%AA%D9%8A%D9%81%D8%A7%D9%86_%D8%B4%D9%85%D9%8A%D8%AA_' : ,\n",
    " 'https://pt.wikipedia.org/wiki/Uwe_Schmidt_' : ,\n",
    " 'https://pt.wikipedia.org/wiki/J%C3%B6rg_Schneider_' : ,\n",
    " 'https://pt.wikipedia.org/wiki/Andreas_Wagner_' : ]"
   ]
  },
  {
   "cell_type": "code",
   "execution_count": 466,
   "metadata": {},
   "outputs": [
    {
     "data": {
      "text/html": [
       "<div>\n",
       "<style scoped>\n",
       "    .dataframe tbody tr th:only-of-type {\n",
       "        vertical-align: middle;\n",
       "    }\n",
       "\n",
       "    .dataframe tbody tr th {\n",
       "        vertical-align: top;\n",
       "    }\n",
       "\n",
       "    .dataframe thead th {\n",
       "        text-align: right;\n",
       "    }\n",
       "</style>\n",
       "<table border=\"1\" class=\"dataframe\">\n",
       "  <thead>\n",
       "    <tr style=\"text-align: right;\">\n",
       "      <th></th>\n",
       "      <th>wikidataid</th>\n",
       "      <th>creation_date_lang</th>\n",
       "      <th>language</th>\n",
       "      <th>wikititle</th>\n",
       "      <th>creation_year_lang</th>\n",
       "      <th>creation_month_lang</th>\n",
       "      <th>creation_day_lang</th>\n",
       "    </tr>\n",
       "  </thead>\n",
       "  <tbody>\n",
       "    <tr>\n",
       "      <th>7190</th>\n",
       "      <td>Q1775158</td>\n",
       "      <td>2020-02-16T08:47:15Z</td>\n",
       "      <td>arz</td>\n",
       "      <td>سابين_زيميرمان</td>\n",
       "      <td>2020</td>\n",
       "      <td>2</td>\n",
       "      <td>16</td>\n",
       "    </tr>\n",
       "    <tr>\n",
       "      <th>7191</th>\n",
       "      <td>Q1775158</td>\n",
       "      <td>2007-02-23T21:25:38Z</td>\n",
       "      <td>de</td>\n",
       "      <td>Sabine_Zimmermann_</td>\n",
       "      <td>2007</td>\n",
       "      <td>2</td>\n",
       "      <td>23</td>\n",
       "    </tr>\n",
       "    <tr>\n",
       "      <th>7192</th>\n",
       "      <td>Q1775158</td>\n",
       "      <td>2020-05-13T09:38:47Z</td>\n",
       "      <td>en</td>\n",
       "      <td>Sabine_Zimmermann_</td>\n",
       "      <td>2020</td>\n",
       "      <td>5</td>\n",
       "      <td>13</td>\n",
       "    </tr>\n",
       "  </tbody>\n",
       "</table>\n",
       "</div>"
      ],
      "text/plain": [
       "     wikidataid    creation_date_lang language           wikititle  \\\n",
       "7190   Q1775158  2020-02-16T08:47:15Z      arz      سابين_زيميرمان   \n",
       "7191   Q1775158  2007-02-23T21:25:38Z       de  Sabine_Zimmermann_   \n",
       "7192   Q1775158  2020-05-13T09:38:47Z       en  Sabine_Zimmermann_   \n",
       "\n",
       "      creation_year_lang  creation_month_lang  creation_day_lang  \n",
       "7190                2020                    2                 16  \n",
       "7191                2007                    2                 23  \n",
       "7192                2020                    5                 13  "
      ]
     },
     "execution_count": 466,
     "metadata": {},
     "output_type": "execute_result"
    }
   ],
   "source": [
    "creation_date_df[creation_date_df[\"wikidataid\"] == \"Q1775158\"]"
   ]
  },
  {
   "cell_type": "code",
   "execution_count": null,
   "metadata": {},
   "outputs": [],
   "source": [
    "creation_date_df.head()"
   ]
  },
  {
   "cell_type": "code",
   "execution_count": null,
   "metadata": {},
   "outputs": [],
   "source": [
    "len(creation_date_df)"
   ]
  },
  {
   "cell_type": "code",
   "execution_count": 425,
   "metadata": {},
   "outputs": [
    {
     "data": {
      "text/html": [
       "<div>\n",
       "<style scoped>\n",
       "    .dataframe tbody tr th:only-of-type {\n",
       "        vertical-align: middle;\n",
       "    }\n",
       "\n",
       "    .dataframe tbody tr th {\n",
       "        vertical-align: top;\n",
       "    }\n",
       "\n",
       "    .dataframe thead th {\n",
       "        text-align: right;\n",
       "    }\n",
       "</style>\n",
       "<table border=\"1\" class=\"dataframe\">\n",
       "  <thead>\n",
       "    <tr style=\"text-align: right;\">\n",
       "      <th></th>\n",
       "      <th>wikidataid</th>\n",
       "      <th>creation_date_lang</th>\n",
       "      <th>language</th>\n",
       "      <th>wikititle</th>\n",
       "      <th>creation_year_lang</th>\n",
       "      <th>creation_month_lang</th>\n",
       "      <th>creation_day_lang</th>\n",
       "    </tr>\n",
       "  </thead>\n",
       "  <tbody>\n",
       "    <tr>\n",
       "      <th>0</th>\n",
       "      <td>Q2514</td>\n",
       "      <td>2018-06-25T09:40:49Z</td>\n",
       "      <td>af</td>\n",
       "      <td>Willy_Brandt</td>\n",
       "      <td>2018</td>\n",
       "      <td>6</td>\n",
       "      <td>25</td>\n",
       "    </tr>\n",
       "    <tr>\n",
       "      <th>1</th>\n",
       "      <td>Q2514</td>\n",
       "      <td>2013-12-18T13:58:41Z</td>\n",
       "      <td>als</td>\n",
       "      <td>Willy_Brandt</td>\n",
       "      <td>2013</td>\n",
       "      <td>12</td>\n",
       "      <td>18</td>\n",
       "    </tr>\n",
       "    <tr>\n",
       "      <th>2</th>\n",
       "      <td>Q2514</td>\n",
       "      <td>2009-10-08T13:55:56Z</td>\n",
       "      <td>an</td>\n",
       "      <td>Willy_Brandt</td>\n",
       "      <td>2009</td>\n",
       "      <td>10</td>\n",
       "      <td>8</td>\n",
       "    </tr>\n",
       "    <tr>\n",
       "      <th>3</th>\n",
       "      <td>Q2514</td>\n",
       "      <td>2007-07-08T21:03:22Z</td>\n",
       "      <td>ar</td>\n",
       "      <td>ويلي_براندت</td>\n",
       "      <td>2007</td>\n",
       "      <td>7</td>\n",
       "      <td>8</td>\n",
       "    </tr>\n",
       "    <tr>\n",
       "      <th>4</th>\n",
       "      <td>Q2514</td>\n",
       "      <td>2020-02-12T01:49:31Z</td>\n",
       "      <td>arz</td>\n",
       "      <td>فيلى_براندت</td>\n",
       "      <td>2020</td>\n",
       "      <td>2</td>\n",
       "      <td>12</td>\n",
       "    </tr>\n",
       "    <tr>\n",
       "      <th>5</th>\n",
       "      <td>Q2514</td>\n",
       "      <td>2018-06-17T17:54:33Z</td>\n",
       "      <td>ast</td>\n",
       "      <td>Willy_Brandt</td>\n",
       "      <td>2018</td>\n",
       "      <td>6</td>\n",
       "      <td>17</td>\n",
       "    </tr>\n",
       "    <tr>\n",
       "      <th>6</th>\n",
       "      <td>Q2514</td>\n",
       "      <td>2017-06-22T09:54:33Z</td>\n",
       "      <td>azb</td>\n",
       "      <td>ویلی_برانت</td>\n",
       "      <td>2017</td>\n",
       "      <td>6</td>\n",
       "      <td>22</td>\n",
       "    </tr>\n",
       "    <tr>\n",
       "      <th>7</th>\n",
       "      <td>Q2514</td>\n",
       "      <td>2016-06-13T21:39:00Z</td>\n",
       "      <td>az</td>\n",
       "      <td>Villi_Brandt</td>\n",
       "      <td>2016</td>\n",
       "      <td>6</td>\n",
       "      <td>13</td>\n",
       "    </tr>\n",
       "    <tr>\n",
       "      <th>8</th>\n",
       "      <td>Q2514</td>\n",
       "      <td>2013-10-23T10:02:21Z</td>\n",
       "      <td>bar</td>\n",
       "      <td>Willy_Brandt</td>\n",
       "      <td>2013</td>\n",
       "      <td>10</td>\n",
       "      <td>23</td>\n",
       "    </tr>\n",
       "    <tr>\n",
       "      <th>9</th>\n",
       "      <td>Q2514</td>\n",
       "      <td>2010-11-09T08:29:24Z</td>\n",
       "      <td>be-tarask</td>\n",
       "      <td>Вілі_Брант</td>\n",
       "      <td>2010</td>\n",
       "      <td>11</td>\n",
       "      <td>9</td>\n",
       "    </tr>\n",
       "  </tbody>\n",
       "</table>\n",
       "</div>"
      ],
      "text/plain": [
       "  wikidataid    creation_date_lang   language     wikititle  \\\n",
       "0      Q2514  2018-06-25T09:40:49Z         af  Willy_Brandt   \n",
       "1      Q2514  2013-12-18T13:58:41Z        als  Willy_Brandt   \n",
       "2      Q2514  2009-10-08T13:55:56Z         an  Willy_Brandt   \n",
       "3      Q2514  2007-07-08T21:03:22Z         ar   ويلي_براندت   \n",
       "4      Q2514  2020-02-12T01:49:31Z        arz   فيلى_براندت   \n",
       "5      Q2514  2018-06-17T17:54:33Z        ast  Willy_Brandt   \n",
       "6      Q2514  2017-06-22T09:54:33Z        azb    ویلی_برانت   \n",
       "7      Q2514  2016-06-13T21:39:00Z         az  Villi_Brandt   \n",
       "8      Q2514  2013-10-23T10:02:21Z        bar  Willy_Brandt   \n",
       "9      Q2514  2010-11-09T08:29:24Z  be-tarask    Вілі_Брант   \n",
       "\n",
       "   creation_year_lang  creation_month_lang  creation_day_lang  \n",
       "0                2018                    6                 25  \n",
       "1                2013                   12                 18  \n",
       "2                2009                   10                  8  \n",
       "3                2007                    7                  8  \n",
       "4                2020                    2                 12  \n",
       "5                2018                    6                 17  \n",
       "6                2017                    6                 22  \n",
       "7                2016                    6                 13  \n",
       "8                2013                   10                 23  \n",
       "9                2010                   11                  9  "
      ]
     },
     "execution_count": 425,
     "metadata": {},
     "output_type": "execute_result"
    }
   ],
   "source": [
    "creation_date_df"
   ]
  },
  {
   "cell_type": "code",
   "execution_count": null,
   "metadata": {},
   "outputs": [],
   "source": []
  },
  {
   "cell_type": "code",
   "execution_count": null,
   "metadata": {},
   "outputs": [],
   "source": []
  },
  {
   "cell_type": "code",
   "execution_count": null,
   "metadata": {},
   "outputs": [],
   "source": []
  },
  {
   "cell_type": "code",
   "execution_count": null,
   "metadata": {},
   "outputs": [],
   "source": []
  },
  {
   "cell_type": "code",
   "execution_count": null,
   "metadata": {},
   "outputs": [],
   "source": []
  },
  {
   "cell_type": "code",
   "execution_count": null,
   "metadata": {},
   "outputs": [],
   "source": []
  },
  {
   "cell_type": "code",
   "execution_count": null,
   "metadata": {},
   "outputs": [],
   "source": []
  },
  {
   "cell_type": "code",
   "execution_count": null,
   "metadata": {},
   "outputs": [],
   "source": []
  },
  {
   "cell_type": "code",
   "execution_count": null,
   "metadata": {},
   "outputs": [],
   "source": []
  },
  {
   "cell_type": "code",
   "execution_count": null,
   "metadata": {},
   "outputs": [],
   "source": []
  },
  {
   "cell_type": "code",
   "execution_count": null,
   "metadata": {},
   "outputs": [],
   "source": []
  },
  {
   "cell_type": "code",
   "execution_count": null,
   "metadata": {},
   "outputs": [],
   "source": []
  },
  {
   "cell_type": "code",
   "execution_count": 244,
   "metadata": {},
   "outputs": [],
   "source": [
    "import requests\n",
    "\n",
    "S = requests.Session()\n",
    "\n",
    "URL = \"https://www.mediawiki.org/w/api.php\"\n",
    "\n",
    "PARAMS = {\n",
    "    \"action\": \"query\",\n",
    "    \"prop\": \"revisions\",\n",
    "    \"titles\": f\"{title}\",\n",
    "    \"rvprop\": \"timestamp|user|comment|content\",\n",
    "    \"rvslots\": \"main\",\n",
    "    \"formatversion\": \"2\",\n",
    "    \"format\": \"json\"\n",
    "}\n",
    "\n",
    "R = S.get(url=URL, params=PARAMS)\n",
    "DATA = R.json()\n",
    "\n",
    "PAGES = DATA[\"query\"][\"pages\"]"
   ]
  },
  {
   "cell_type": "code",
   "execution_count": 245,
   "metadata": {},
   "outputs": [
    {
     "data": {
      "text/plain": [
       "[{'ns': 0, 'title': 'فيلى براندت', 'missing': True}]"
      ]
     },
     "execution_count": 245,
     "metadata": {},
     "output_type": "execute_result"
    }
   ],
   "source": [
    "PAGES"
   ]
  },
  {
   "cell_type": "code",
   "execution_count": null,
   "metadata": {},
   "outputs": [],
   "source": []
  },
  {
   "cell_type": "code",
   "execution_count": null,
   "metadata": {},
   "outputs": [],
   "source": [
    "#function that quieries the Wikipedia page history and creates dataframe for plotting a histogram \n",
    "\n",
    "# get date of today to specify start date\n",
    "now = dt.datetime.utcnow()\n",
    "\n",
    "#bring date in the right format\n",
    "time_today = now.strftime(\"%Y-%m-%dT%H:%M:%SZ\")\n",
    "\n",
    "def extract_revisions_to_df(title, number_of_revisions = 500, startdate = f\"{time_today}\"):\n",
    "    \"\"\"A function that quieries the Wiki page history and creates a list of dataframes dataframe for plotting a histogram \n",
    "\n",
    "    Arguments:\n",
    "        title: title of the Wikipedia Page\n",
    "        number_of_revisions: how many revisions will be extraced. Number must be between 0 and 500. Insert as integer.\n",
    "        startdate: offset in format 2020-04-06T14:32:32Z\n",
    "          \n",
    "    Returns: \n",
    "        - A dataframe with the number of revisions for a certain wikipedia page.\n",
    "        - The date of the earliest revision     \n",
    "    \"\"\"\n",
    "    \n",
    "    RVLIMIT = str(number_of_revisions)\n",
    "    RVSTART = str(startdate)\n",
    "    PARAMS = {\n",
    "        \"action\": \"query\",\n",
    "        \"format\": \"json\",\n",
    "        \"prop\": \"revisions\",\n",
    "        \"rvlimit\": f\"{RVLIMIT}\",\n",
    "        \"srprop\": \"size|wordcount|timestamp|snippet|titlesnippet\", \n",
    "        \"titles\": f\"{title}\",\n",
    "        #\"rvprop\": \"timestamp\",\n",
    "        \"rvslots\": \"main\", \n",
    "        \"rvdir\" : \"older\", \n",
    "        \"rvstart\": f\"{RVSTART}\"\n",
    "    }\n",
    "\n",
    "    R = Ses.get(url=URL, params=PARAMS)\n",
    "\n",
    "    history_data = R.json()\n",
    "    \n",
    "    pageid = list(history_data[\"query\"][\"pages\"].keys())[0]\n",
    "    \n",
    "    try: \n",
    "    \n",
    "        revision_df = pd.json_normalize(history_data[\"query\"][\"pages\"][f\"{pageid}\"][\"revisions\"])\n",
    "\n",
    "        revision_df[\"time_edited\"] = revision_df[\"timestamp\"].map(lambda x: dt.datetime.strptime(x, '%Y-%m-%dT%H:%M:%SZ'))\n",
    "        revision_df[\"date\"] = revision_df[\"timestamp\"].map(lambda x: x[:10]).map(lambda x: dt.datetime.strptime(x, '%Y-%m-%d'))\n",
    "        revision_df[\"title\"] = f\"{title}\"\n",
    "        earliest_revision = list(revision_df[\"timestamp\"])[-1]\n",
    "        last_revision = list(revision_df[\"timestamp\"])[0]\n",
    "        \n",
    "        date_string = list(revision_df[\"timestamp\"])[-1]\n",
    "        a = dt.datetime.strptime(date_string, '%Y-%m-%dT%H:%M:%SZ')\n",
    "        b = a + dt.timedelta(seconds=60) #add five seconds for offset to not count the earliest revision twice\n",
    "        offset_string = b.strftime(\"%Y-%m-%dT%H:%M:%SZ\")\n",
    "        \n",
    "        #print(f'''\\tCovering the time period from {earliest_revision} to {last_revision}.\\n''')\n",
    "        #If earlier revisions are of interest, use {date_string} as offset for the next query.\\n''')\n",
    "    \n",
    "        \n",
    "        return revision_df, offset_string\n",
    "        \n",
    "    except: \n",
    "        print(f'''=> Problem occured for {title}. Adding empty dataframe. \\n\\n''')\n",
    "        ls = pd.DataFrame([])\n",
    "        earliest_revision = np.nan\n",
    "        \n",
    "        return ls, earliest_revision"
   ]
  },
  {
   "cell_type": "code",
   "execution_count": null,
   "metadata": {},
   "outputs": [],
   "source": [
    "def combine_different_page_histories_to_one_df(list_of_page_titels, offsets_dic):\n",
    "    \"\"\"A function that quieries the Wiki page history and creates a list of dataframes dataframe for plotting a histogram \n",
    "\n",
    "    Arguments:\n",
    "        list_of_page_titels: a list of Wikipedia page titles\n",
    "        offsets_dic: a dictiornary with the dates where to start the query of revisions\n",
    "          \n",
    "    Returns: \n",
    "        - A merged data frame, containing the revision history for the wikipida pages mentioned in list_of_page_titels\n",
    "        - A dictionary containing the titele and date of the last revision which can be used to request ealier revisions\n",
    "    \"\"\"\n",
    "        \n",
    "    ls_of_dfs = []\n",
    "    offset_dic = {}\n",
    "    for title in list_of_page_titels: \n",
    "        #print(\"Processed: \\t\"+title)\n",
    "        temporal_df, earliest_revision = extract_revisions_to_df(title, startdate = offsets_dic[title])\n",
    "        ls_of_dfs.append(temporal_df)\n",
    "        offset_dic[title] = earliest_revision\n",
    "    \n",
    "    temp_merged_df = pd.concat(ls_of_dfs)\n",
    "    merged_df = temp_merged_df.reset_index()\n",
    "        \n",
    "    return merged_df, offset_dic"
   ]
  },
  {
   "cell_type": "code",
   "execution_count": null,
   "metadata": {},
   "outputs": [],
   "source": [
    "#specify start dates\n",
    "start_dates_dic = {}\n",
    "for title in titles: \n",
    "    start_dates_dic[title] = f\"{time_today}\""
   ]
  },
  {
   "cell_type": "code",
   "execution_count": null,
   "metadata": {},
   "outputs": [],
   "source": [
    "# run request\n",
    "\n",
    "result_1, offset_dic_1 = combine_different_page_histories_to_one_df(titles, start_dates_dic)\n",
    "result_2, offset_dic_2 = combine_different_page_histories_to_one_df([titles[i] for i in range(len(titles))], offset_dic_1)\n",
    "result_3, offset_dic_3 = combine_different_page_histories_to_one_df([titles[i] for i in range(len(titles))], offset_dic_2)\n",
    "result_4, offset_dic_4 = combine_different_page_histories_to_one_df([titles[i] for i in range(len(titles))], offset_dic_3)\n",
    "result_5, offset_dic_5 = combine_different_page_histories_to_one_df([titles[i] for i in range(len(titles))], offset_dic_4)\n",
    "result_6, offset_dic_6 = combine_different_page_histories_to_one_df([titles[i] for i in range(len(titles))], offset_dic_5)\n",
    "result_7, offset_dic_7 = combine_different_page_histories_to_one_df([titles[i] for i in range(len(titles))], offset_dic_6)\n",
    "result_8, offset_dic_8 = combine_different_page_histories_to_one_df([titles[i] for i in range(len(titles))], offset_dic_7)\n",
    "result_9, offset_dic_9 = combine_different_page_histories_to_one_df([titles[i] for i in range(len(titles))], offset_dic_8)\n",
    "result_10, offset_dic_10 = combine_different_page_histories_to_one_df([titles[i] for i in range(len(titles))], offset_dic_9)\n",
    "result_11, offset_dic_11 = combine_different_page_histories_to_one_df([titles[i] for i in range(len(titles))], offset_dic_10)\n",
    "result_12, offset_dic_12 = combine_different_page_histories_to_one_df([titles[i] for i in range(len(titles))], offset_dic_11)\n",
    "result_13, offset_dic_13 = combine_different_page_histories_to_one_df([titles[i] for i in range(len(titles))], offset_dic_12)\n",
    "result_14, offset_dic_14 = combine_different_page_histories_to_one_df([titles[i] for i in range(len(titles))], offset_dic_13)\n",
    "result_15, offset_dic_15 = combine_different_page_histories_to_one_df([titles[i] for i in range(len(titles))], offset_dic_14)\n",
    "result_16, offset_dic_16 = combine_different_page_histories_to_one_df([titles[i] for i in range(len(titles))], offset_dic_15)\n",
    "result_17, offset_dic_17 = combine_different_page_histories_to_one_df([titles[i] for i in range(len(titles))], offset_dic_16)\n",
    "result_18, offset_dic_18 = combine_different_page_histories_to_one_df([titles[i] for i in range(len(titles))], offset_dic_17)\n",
    "\n",
    "# concatenate the resulting dataframes to one\n",
    "revisions_df = pd.concat([result_1, result_2, result_3, result_4, result_5, result_6, \n",
    "                          result_7, result_8, result_9, result_10, result_11, result_12, \n",
    "                          result_13, result_14, result_15, result_16, result_17, result_18]).reset_index()\n",
    "\n",
    "# reshape dataframe\n",
    "revisions_count = revisions_df.groupby([\"title\", \"date\"]).count().sort_values(by=['date']).reset_index()\n",
    "revisions_count = revisions_count.drop(columns= [\"level_0\", \"timestamp\", \"time_edited\"]).rename(columns={\"index\": \"no_of_revisions\"}).copy()"
   ]
  },
  {
   "cell_type": "code",
   "execution_count": null,
   "metadata": {},
   "outputs": [],
   "source": []
  }
 ],
 "metadata": {
  "kernelspec": {
   "display_name": "Python 3",
   "language": "python",
   "name": "python3"
  },
  "language_info": {
   "codemirror_mode": {
    "name": "ipython",
    "version": 3
   },
   "file_extension": ".py",
   "mimetype": "text/x-python",
   "name": "python",
   "nbconvert_exporter": "python",
   "pygments_lexer": "ipython3",
   "version": "3.8.5"
  }
 },
 "nbformat": 4,
 "nbformat_minor": 4
}
