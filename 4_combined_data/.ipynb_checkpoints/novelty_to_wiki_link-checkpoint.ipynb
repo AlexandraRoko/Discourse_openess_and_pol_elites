{
 "cells": [
  {
   "cell_type": "code",
   "execution_count": null,
   "metadata": {},
   "outputs": [],
   "source": []
  },
  {
   "cell_type": "code",
   "execution_count": 205,
   "metadata": {},
   "outputs": [],
   "source": [
    "import numpy as np\n",
    "import pandas as pd\n",
    "import matplotlib.pyplot as plt\n",
    "\n",
    "from collections import Counter\n",
    "\n",
    "from itertools import *\n",
    "\n",
    "import json\n",
    "import os\n",
    "import time\n",
    "import sys\n",
    "import xmltodict\n",
    "from datetime import datetime\n",
    "\n",
    "\n",
    "PATH = \"/Users/alexandrarottenkolber/Documents/02_Hertie_School/Master thesis/Master_Thesis_Hertie/data_analysis/01_data/Plenarprotokolle/\""
   ]
  },
  {
   "cell_type": "code",
   "execution_count": 206,
   "metadata": {},
   "outputs": [],
   "source": [
    "with open(PATH + 'processed/id2speech_concat_POSTag_with_AfD_meta_data.txt', 'r') as infile:\n",
    "    id2rede_12_19 = json.load(infile)\n",
    "infile.close()"
   ]
  },
  {
   "cell_type": "code",
   "execution_count": 207,
   "metadata": {},
   "outputs": [
    {
     "data": {
      "text/plain": [
       "dict_keys(['concatSpeech', 'name', 'date', 'data_ready', 'electoralTerm', 'politicianId', 'firstName', 'lastName', 'positionShort', 'timestamp'])"
      ]
     },
     "execution_count": 207,
     "metadata": {},
     "output_type": "execute_result"
    }
   ],
   "source": [
    "id2rede_12_19[\"479132\"].keys()"
   ]
  },
  {
   "cell_type": "code",
   "execution_count": 208,
   "metadata": {},
   "outputs": [],
   "source": [
    "del id2rede_12_19[\"0\"]"
   ]
  },
  {
   "cell_type": "code",
   "execution_count": 209,
   "metadata": {},
   "outputs": [],
   "source": [
    "with open(PATH + 'processed/speech2KL_lda_model_concat_POSTag_self_tuned_all_with_AfD_without_very_short_speeches.txt', 'r') as infile:\n",
    "    speech2KL = json.load(infile)\n",
    "infile.close()"
   ]
  },
  {
   "cell_type": "code",
   "execution_count": 210,
   "metadata": {},
   "outputs": [],
   "source": [
    "NamesAndSpeeches = pd.read_csv(PATH + \"processed/NamesAndSpeeches_full_with_AfD.csv\").drop(columns = [\"Unnamed: 0\"])"
   ]
  },
  {
   "cell_type": "code",
   "execution_count": 211,
   "metadata": {},
   "outputs": [
    {
     "data": {
      "text/html": [
       "<div>\n",
       "<style scoped>\n",
       "    .dataframe tbody tr th:only-of-type {\n",
       "        vertical-align: middle;\n",
       "    }\n",
       "\n",
       "    .dataframe tbody tr th {\n",
       "        vertical-align: top;\n",
       "    }\n",
       "\n",
       "    .dataframe thead th {\n",
       "        text-align: right;\n",
       "    }\n",
       "</style>\n",
       "<table border=\"1\" class=\"dataframe\">\n",
       "  <thead>\n",
       "    <tr style=\"text-align: right;\">\n",
       "      <th></th>\n",
       "      <th>speeches</th>\n",
       "      <th>politicianID</th>\n",
       "      <th>surname_lower_comb</th>\n",
       "      <th>forename_lower_comb</th>\n",
       "      <th>pageid</th>\n",
       "      <th>wikidataid</th>\n",
       "      <th>name</th>\n",
       "    </tr>\n",
       "  </thead>\n",
       "  <tbody>\n",
       "    <tr>\n",
       "      <th>0</th>\n",
       "      <td>[471526, 479132, 489844]</td>\n",
       "      <td>11000246.0</td>\n",
       "      <td>brandt</td>\n",
       "      <td>willy</td>\n",
       "      <td>1518001.0</td>\n",
       "      <td>Q2514</td>\n",
       "      <td>Willy Brandt</td>\n",
       "    </tr>\n",
       "    <tr>\n",
       "      <th>1</th>\n",
       "      <td>[471554, 471574, 471612, 471651, 471680, 47168...</td>\n",
       "      <td>11002287.0</td>\n",
       "      <td>süssmuth</td>\n",
       "      <td>rita</td>\n",
       "      <td>4253.0</td>\n",
       "      <td>Q66286</td>\n",
       "      <td>Rita Süssmuth</td>\n",
       "    </tr>\n",
       "    <tr>\n",
       "      <th>2</th>\n",
       "      <td>[471532, 471825, 471980, 472676, 473851, 47411...</td>\n",
       "      <td>11002354.0</td>\n",
       "      <td>ullmann</td>\n",
       "      <td>wolfgang</td>\n",
       "      <td>300219.0</td>\n",
       "      <td>Q895636</td>\n",
       "      <td>Wolfgang Ullmann</td>\n",
       "    </tr>\n",
       "    <tr>\n",
       "      <th>3</th>\n",
       "      <td>[471527, 471596, 471692, 473651, 479473, 50886...</td>\n",
       "      <td>11000418.0</td>\n",
       "      <td>dregger</td>\n",
       "      <td>alfred</td>\n",
       "      <td>73446.0</td>\n",
       "      <td>Q65389</td>\n",
       "      <td>Alfred Dregger</td>\n",
       "    </tr>\n",
       "    <tr>\n",
       "      <th>4</th>\n",
       "      <td>[471536, 471967, 472560, 473468, 473996, 47411...</td>\n",
       "      <td>11000891.0</td>\n",
       "      <td>heuer</td>\n",
       "      <td>uwe-jens</td>\n",
       "      <td>1097338.0</td>\n",
       "      <td>Q1594398</td>\n",
       "      <td>Uwe-Jens Heuer</td>\n",
       "    </tr>\n",
       "  </tbody>\n",
       "</table>\n",
       "</div>"
      ],
      "text/plain": [
       "                                            speeches  politicianID  \\\n",
       "0                           [471526, 479132, 489844]    11000246.0   \n",
       "1  [471554, 471574, 471612, 471651, 471680, 47168...    11002287.0   \n",
       "2  [471532, 471825, 471980, 472676, 473851, 47411...    11002354.0   \n",
       "3  [471527, 471596, 471692, 473651, 479473, 50886...    11000418.0   \n",
       "4  [471536, 471967, 472560, 473468, 473996, 47411...    11000891.0   \n",
       "\n",
       "  surname_lower_comb forename_lower_comb     pageid wikidataid  \\\n",
       "0             brandt               willy  1518001.0      Q2514   \n",
       "1           süssmuth                rita     4253.0     Q66286   \n",
       "2            ullmann            wolfgang   300219.0    Q895636   \n",
       "3            dregger              alfred    73446.0     Q65389   \n",
       "4              heuer            uwe-jens  1097338.0   Q1594398   \n",
       "\n",
       "               name  \n",
       "0      Willy Brandt  \n",
       "1     Rita Süssmuth  \n",
       "2  Wolfgang Ullmann  \n",
       "3    Alfred Dregger  \n",
       "4    Uwe-Jens Heuer  "
      ]
     },
     "execution_count": 211,
     "metadata": {},
     "output_type": "execute_result"
    }
   ],
   "source": [
    "NamesAndSpeeches.head()"
   ]
  },
  {
   "cell_type": "code",
   "execution_count": 212,
   "metadata": {},
   "outputs": [
    {
     "data": {
      "text/plain": [
       "2187"
      ]
     },
     "execution_count": 212,
     "metadata": {},
     "output_type": "execute_result"
    }
   ],
   "source": [
    "len(NamesAndSpeeches)"
   ]
  },
  {
   "cell_type": "code",
   "execution_count": 304,
   "metadata": {},
   "outputs": [
    {
     "data": {
      "text/html": [
       "<div>\n",
       "<style scoped>\n",
       "    .dataframe tbody tr th:only-of-type {\n",
       "        vertical-align: middle;\n",
       "    }\n",
       "\n",
       "    .dataframe tbody tr th {\n",
       "        vertical-align: top;\n",
       "    }\n",
       "\n",
       "    .dataframe thead th {\n",
       "        text-align: right;\n",
       "    }\n",
       "</style>\n",
       "<table border=\"1\" class=\"dataframe\">\n",
       "  <thead>\n",
       "    <tr style=\"text-align: right;\">\n",
       "      <th></th>\n",
       "      <th>speeches</th>\n",
       "      <th>politicianID</th>\n",
       "      <th>surname_lower_comb</th>\n",
       "      <th>forename_lower_comb</th>\n",
       "      <th>pageid</th>\n",
       "      <th>wikidataid</th>\n",
       "      <th>name</th>\n",
       "    </tr>\n",
       "  </thead>\n",
       "  <tbody>\n",
       "    <tr>\n",
       "      <th>1876</th>\n",
       "      <td>[1000193, 1001634, 1002443, 1004413, 1006873, ...</td>\n",
       "      <td>11004930.0</td>\n",
       "      <td>weidel</td>\n",
       "      <td>alice</td>\n",
       "      <td>9716234.0</td>\n",
       "      <td>Q27975838</td>\n",
       "      <td>Alice Weidel</td>\n",
       "    </tr>\n",
       "  </tbody>\n",
       "</table>\n",
       "</div>"
      ],
      "text/plain": [
       "                                               speeches  politicianID  \\\n",
       "1876  [1000193, 1001634, 1002443, 1004413, 1006873, ...    11004930.0   \n",
       "\n",
       "     surname_lower_comb forename_lower_comb     pageid wikidataid  \\\n",
       "1876             weidel               alice  9716234.0  Q27975838   \n",
       "\n",
       "              name  \n",
       "1876  Alice Weidel  "
      ]
     },
     "execution_count": 304,
     "metadata": {},
     "output_type": "execute_result"
    }
   ],
   "source": [
    "NamesAndSpeeches[NamesAndSpeeches[\"wikidataid\"] == \"Q27975838\"]"
   ]
  },
  {
   "cell_type": "code",
   "execution_count": 214,
   "metadata": {},
   "outputs": [
    {
     "data": {
      "text/html": [
       "<div>\n",
       "<style scoped>\n",
       "    .dataframe tbody tr th:only-of-type {\n",
       "        vertical-align: middle;\n",
       "    }\n",
       "\n",
       "    .dataframe tbody tr th {\n",
       "        vertical-align: top;\n",
       "    }\n",
       "\n",
       "    .dataframe thead th {\n",
       "        text-align: right;\n",
       "    }\n",
       "</style>\n",
       "<table border=\"1\" class=\"dataframe\">\n",
       "  <thead>\n",
       "    <tr style=\"text-align: right;\">\n",
       "      <th></th>\n",
       "      <th>speeches</th>\n",
       "      <th>politicianID</th>\n",
       "      <th>surname_lower_comb</th>\n",
       "      <th>forename_lower_comb</th>\n",
       "      <th>pageid</th>\n",
       "      <th>wikidataid</th>\n",
       "      <th>name</th>\n",
       "    </tr>\n",
       "  </thead>\n",
       "  <tbody>\n",
       "    <tr>\n",
       "      <th>1876</th>\n",
       "      <td>[1000193, 1001634, 1002443, 1004413, 1006873, ...</td>\n",
       "      <td>11004930.0</td>\n",
       "      <td>weidel</td>\n",
       "      <td>alice</td>\n",
       "      <td>9716234.0</td>\n",
       "      <td>Q27975838</td>\n",
       "      <td>Alice Weidel</td>\n",
       "    </tr>\n",
       "  </tbody>\n",
       "</table>\n",
       "</div>"
      ],
      "text/plain": [
       "                                               speeches  politicianID  \\\n",
       "1876  [1000193, 1001634, 1002443, 1004413, 1006873, ...    11004930.0   \n",
       "\n",
       "     surname_lower_comb forename_lower_comb     pageid wikidataid  \\\n",
       "1876             weidel               alice  9716234.0  Q27975838   \n",
       "\n",
       "              name  \n",
       "1876  Alice Weidel  "
      ]
     },
     "execution_count": 214,
     "metadata": {},
     "output_type": "execute_result"
    }
   ],
   "source": [
    "NamesAndSpeeches[NamesAndSpeeches[\"wikidataid\"] == \"Q27975838\"]"
   ]
  },
  {
   "cell_type": "code",
   "execution_count": 215,
   "metadata": {},
   "outputs": [
    {
     "data": {
      "text/plain": [
       "'12'"
      ]
     },
     "execution_count": 215,
     "metadata": {},
     "output_type": "execute_result"
    }
   ],
   "source": [
    "id2rede_12_19['471583']['electoralTerm']#.keys()"
   ]
  },
  {
   "cell_type": "code",
   "execution_count": null,
   "metadata": {},
   "outputs": [],
   "source": []
  },
  {
   "cell_type": "code",
   "execution_count": 216,
   "metadata": {},
   "outputs": [
    {
     "name": "stdout",
     "output_type": "stream",
     "text": [
      "1000193\n",
      "1001634\n",
      "1002443\n",
      "1004413\n",
      "1006873\n",
      "1010475\n",
      "1011305\n",
      "1013712\n",
      "1015653\n",
      "1021772\n",
      "1023744\n",
      "1025060\n",
      "1027674\n",
      "1032634\n",
      "1037320\n",
      "1042282\n",
      "1044082\n",
      "1045242\n",
      "1046243\n",
      "1050792\n",
      "1051595\n",
      "1054623\n",
      "1058625\n"
     ]
    }
   ],
   "source": [
    "error = []\n",
    "for key in id2rede_12_19.keys(): \n",
    "    try:\n",
    "        if id2rede_12_19[key]['name'] == \"Alice Weidel\": \n",
    "            print(key)\n",
    "        elif id2rede_12_19[key]['name'] == \"weidel\": \n",
    "            print(key)\n",
    "        elif id2rede_12_19[key]['firstName'] == \"alice\": \n",
    "            print(key)\n",
    "        elif id2rede_12_19[key]['lastName'] == \"weidel\": \n",
    "            print(key)\n",
    "            \n",
    "    except KeyError: \n",
    "        error.append(key)"
   ]
  },
  {
   "cell_type": "code",
   "execution_count": null,
   "metadata": {},
   "outputs": [],
   "source": []
  },
  {
   "cell_type": "code",
   "execution_count": 217,
   "metadata": {},
   "outputs": [
    {
     "data": {
      "text/plain": [
       "dict_keys(['concatSpeech', 'name', 'date', 'data_ready', 'electoralTerm', 'politicianId', 'firstName', 'lastName', 'positionShort', 'timestamp'])"
      ]
     },
     "execution_count": 217,
     "metadata": {},
     "output_type": "execute_result"
    }
   ],
   "source": [
    "id2rede_12_19[\"1054623\"].keys()"
   ]
  },
  {
   "cell_type": "code",
   "execution_count": 218,
   "metadata": {},
   "outputs": [
    {
     "data": {
      "text/plain": [
       "'11004930'"
      ]
     },
     "execution_count": 218,
     "metadata": {},
     "output_type": "execute_result"
    }
   ],
   "source": [
    "id2rede_12_19[\"1054623\"]['politicianId']"
   ]
  },
  {
   "cell_type": "code",
   "execution_count": 219,
   "metadata": {},
   "outputs": [
    {
     "data": {
      "text/plain": [
       "{'novelty': 2.660255720465394,\n",
       " 'transience': 2.554340203804844,\n",
       " 'resonance': 0.10591551666054988}"
      ]
     },
     "execution_count": 219,
     "metadata": {},
     "output_type": "execute_result"
    }
   ],
   "source": [
    "speech2KL[\"25\"][\"1054623\"]"
   ]
  },
  {
   "cell_type": "code",
   "execution_count": null,
   "metadata": {},
   "outputs": [],
   "source": []
  },
  {
   "cell_type": "code",
   "execution_count": null,
   "metadata": {},
   "outputs": [],
   "source": []
  },
  {
   "cell_type": "code",
   "execution_count": null,
   "metadata": {},
   "outputs": [],
   "source": []
  },
  {
   "cell_type": "code",
   "execution_count": 220,
   "metadata": {},
   "outputs": [
    {
     "data": {
      "text/plain": [
       "dict_keys(['concatSpeech', 'name', 'date', 'data_ready', 'electoralTerm', 'politicianId', 'firstName', 'lastName', 'positionShort', 'timestamp'])"
      ]
     },
     "execution_count": 220,
     "metadata": {},
     "output_type": "execute_result"
    }
   ],
   "source": [
    "id2rede_12_19['471583'].keys()"
   ]
  },
  {
   "cell_type": "code",
   "execution_count": 221,
   "metadata": {},
   "outputs": [
    {
     "data": {
      "text/plain": [
       "dict_keys(['1', '3', '5', '7', '10', '15', '20', '25', '30', '35', '40', '45', '50', '55', '60', '65', '70', '75', '80', '85', '90', '95', '100', '500', '1000'])"
      ]
     },
     "execution_count": 221,
     "metadata": {},
     "output_type": "execute_result"
    }
   ],
   "source": [
    "speech2KL.keys()"
   ]
  },
  {
   "cell_type": "code",
   "execution_count": 222,
   "metadata": {},
   "outputs": [],
   "source": [
    "def string_to_list(string): \n",
    "    if string is np.nan: \n",
    "        res = np.nan\n",
    "    elif type(string) == str: \n",
    "        res = string.replace(\"[\", \"\").replace(\"]\", \"\").split(\", \")\n",
    "        \n",
    "    return res"
   ]
  },
  {
   "cell_type": "code",
   "execution_count": 223,
   "metadata": {},
   "outputs": [],
   "source": [
    "NamesAndSpeeches[\"speeches\"] = NamesAndSpeeches[\"speeches\"].map(lambda x : string_to_list(x))"
   ]
  },
  {
   "cell_type": "code",
   "execution_count": 224,
   "metadata": {},
   "outputs": [
    {
     "data": {
      "text/html": [
       "<div>\n",
       "<style scoped>\n",
       "    .dataframe tbody tr th:only-of-type {\n",
       "        vertical-align: middle;\n",
       "    }\n",
       "\n",
       "    .dataframe tbody tr th {\n",
       "        vertical-align: top;\n",
       "    }\n",
       "\n",
       "    .dataframe thead th {\n",
       "        text-align: right;\n",
       "    }\n",
       "</style>\n",
       "<table border=\"1\" class=\"dataframe\">\n",
       "  <thead>\n",
       "    <tr style=\"text-align: right;\">\n",
       "      <th></th>\n",
       "      <th>speeches</th>\n",
       "      <th>politicianID</th>\n",
       "      <th>surname_lower_comb</th>\n",
       "      <th>forename_lower_comb</th>\n",
       "      <th>pageid</th>\n",
       "      <th>wikidataid</th>\n",
       "      <th>name</th>\n",
       "    </tr>\n",
       "  </thead>\n",
       "  <tbody>\n",
       "    <tr>\n",
       "      <th>0</th>\n",
       "      <td>[471526, 479132, 489844]</td>\n",
       "      <td>11000246.0</td>\n",
       "      <td>brandt</td>\n",
       "      <td>willy</td>\n",
       "      <td>1518001.0</td>\n",
       "      <td>Q2514</td>\n",
       "      <td>Willy Brandt</td>\n",
       "    </tr>\n",
       "    <tr>\n",
       "      <th>1</th>\n",
       "      <td>[471554, 471574, 471612, 471651, 471680, 47168...</td>\n",
       "      <td>11002287.0</td>\n",
       "      <td>süssmuth</td>\n",
       "      <td>rita</td>\n",
       "      <td>4253.0</td>\n",
       "      <td>Q66286</td>\n",
       "      <td>Rita Süssmuth</td>\n",
       "    </tr>\n",
       "    <tr>\n",
       "      <th>2</th>\n",
       "      <td>[471532, 471825, 471980, 472676, 473851, 47411...</td>\n",
       "      <td>11002354.0</td>\n",
       "      <td>ullmann</td>\n",
       "      <td>wolfgang</td>\n",
       "      <td>300219.0</td>\n",
       "      <td>Q895636</td>\n",
       "      <td>Wolfgang Ullmann</td>\n",
       "    </tr>\n",
       "  </tbody>\n",
       "</table>\n",
       "</div>"
      ],
      "text/plain": [
       "                                            speeches  politicianID  \\\n",
       "0                           [471526, 479132, 489844]    11000246.0   \n",
       "1  [471554, 471574, 471612, 471651, 471680, 47168...    11002287.0   \n",
       "2  [471532, 471825, 471980, 472676, 473851, 47411...    11002354.0   \n",
       "\n",
       "  surname_lower_comb forename_lower_comb     pageid wikidataid  \\\n",
       "0             brandt               willy  1518001.0      Q2514   \n",
       "1           süssmuth                rita     4253.0     Q66286   \n",
       "2            ullmann            wolfgang   300219.0    Q895636   \n",
       "\n",
       "               name  \n",
       "0      Willy Brandt  \n",
       "1     Rita Süssmuth  \n",
       "2  Wolfgang Ullmann  "
      ]
     },
     "execution_count": 224,
     "metadata": {},
     "output_type": "execute_result"
    }
   ],
   "source": [
    "NamesAndSpeeches.head(3)"
   ]
  },
  {
   "cell_type": "code",
   "execution_count": 225,
   "metadata": {},
   "outputs": [],
   "source": [
    "NamesAndSpeeches_per_WP = pd.DataFrame()"
   ]
  },
  {
   "cell_type": "code",
   "execution_count": 226,
   "metadata": {},
   "outputs": [],
   "source": [
    "speech_ids = []\n",
    "WPs = []\n",
    "date_stamp = []\n",
    "\n",
    "for key in id2rede_12_19.keys(): \n",
    "    speech_ids.append(key)\n",
    "    WPs.append(id2rede_12_19[key][\"electoralTerm\"])\n",
    "    date_stamp.append(id2rede_12_19[key][\"date\"])"
   ]
  },
  {
   "cell_type": "code",
   "execution_count": 227,
   "metadata": {},
   "outputs": [
    {
     "data": {
      "text/plain": [
       "(122934, 122934, 122934)"
      ]
     },
     "execution_count": 227,
     "metadata": {},
     "output_type": "execute_result"
    }
   ],
   "source": [
    "len(speech_ids), len(WPs), len(date_stamp) #(121038, 121038)"
   ]
  },
  {
   "cell_type": "code",
   "execution_count": 228,
   "metadata": {},
   "outputs": [],
   "source": [
    "speeches_and_WPs = pd.DataFrame(list(zip(speech_ids, WPs, date_stamp)), columns =['speeches', \"WPs\", \"date\"])"
   ]
  },
  {
   "cell_type": "code",
   "execution_count": 229,
   "metadata": {},
   "outputs": [
    {
     "data": {
      "text/html": [
       "<div>\n",
       "<style scoped>\n",
       "    .dataframe tbody tr th:only-of-type {\n",
       "        vertical-align: middle;\n",
       "    }\n",
       "\n",
       "    .dataframe tbody tr th {\n",
       "        vertical-align: top;\n",
       "    }\n",
       "\n",
       "    .dataframe thead th {\n",
       "        text-align: right;\n",
       "    }\n",
       "</style>\n",
       "<table border=\"1\" class=\"dataframe\">\n",
       "  <thead>\n",
       "    <tr style=\"text-align: right;\">\n",
       "      <th></th>\n",
       "      <th>speeches</th>\n",
       "      <th>WPs</th>\n",
       "      <th>date</th>\n",
       "    </tr>\n",
       "  </thead>\n",
       "  <tbody>\n",
       "    <tr>\n",
       "      <th>0</th>\n",
       "      <td>471526</td>\n",
       "      <td>12</td>\n",
       "      <td>1990-12-20</td>\n",
       "    </tr>\n",
       "    <tr>\n",
       "      <th>1</th>\n",
       "      <td>471554</td>\n",
       "      <td>12</td>\n",
       "      <td>1990-12-20</td>\n",
       "    </tr>\n",
       "    <tr>\n",
       "      <th>2</th>\n",
       "      <td>471532</td>\n",
       "      <td>12</td>\n",
       "      <td>1990-12-20</td>\n",
       "    </tr>\n",
       "    <tr>\n",
       "      <th>3</th>\n",
       "      <td>471527</td>\n",
       "      <td>12</td>\n",
       "      <td>1990-12-20</td>\n",
       "    </tr>\n",
       "    <tr>\n",
       "      <th>4</th>\n",
       "      <td>471536</td>\n",
       "      <td>12</td>\n",
       "      <td>1990-12-20</td>\n",
       "    </tr>\n",
       "    <tr>\n",
       "      <th>...</th>\n",
       "      <td>...</td>\n",
       "      <td>...</td>\n",
       "      <td>...</td>\n",
       "    </tr>\n",
       "    <tr>\n",
       "      <th>122929</th>\n",
       "      <td>2066565</td>\n",
       "      <td>19</td>\n",
       "      <td>2021-09-06</td>\n",
       "    </tr>\n",
       "    <tr>\n",
       "      <th>122930</th>\n",
       "      <td>2066537</td>\n",
       "      <td>19</td>\n",
       "      <td>2021-09-06</td>\n",
       "    </tr>\n",
       "    <tr>\n",
       "      <th>122931</th>\n",
       "      <td>2066541</td>\n",
       "      <td>19</td>\n",
       "      <td>2021-09-06</td>\n",
       "    </tr>\n",
       "    <tr>\n",
       "      <th>122932</th>\n",
       "      <td>2066520</td>\n",
       "      <td>19</td>\n",
       "      <td>2021-09-06</td>\n",
       "    </tr>\n",
       "    <tr>\n",
       "      <th>122933</th>\n",
       "      <td>2066606</td>\n",
       "      <td>19</td>\n",
       "      <td>2021-09-06</td>\n",
       "    </tr>\n",
       "  </tbody>\n",
       "</table>\n",
       "<p>122934 rows × 3 columns</p>\n",
       "</div>"
      ],
      "text/plain": [
       "       speeches WPs        date\n",
       "0        471526  12  1990-12-20\n",
       "1        471554  12  1990-12-20\n",
       "2        471532  12  1990-12-20\n",
       "3        471527  12  1990-12-20\n",
       "4        471536  12  1990-12-20\n",
       "...         ...  ..         ...\n",
       "122929  2066565  19  2021-09-06\n",
       "122930  2066537  19  2021-09-06\n",
       "122931  2066541  19  2021-09-06\n",
       "122932  2066520  19  2021-09-06\n",
       "122933  2066606  19  2021-09-06\n",
       "\n",
       "[122934 rows x 3 columns]"
      ]
     },
     "execution_count": 229,
     "metadata": {},
     "output_type": "execute_result"
    }
   ],
   "source": [
    "speeches_and_WPs"
   ]
  },
  {
   "cell_type": "code",
   "execution_count": 230,
   "metadata": {},
   "outputs": [],
   "source": [
    "#id2rede_12_19[\"1066606\"]"
   ]
  },
  {
   "cell_type": "code",
   "execution_count": 231,
   "metadata": {},
   "outputs": [
    {
     "name": "stdout",
     "output_type": "stream",
     "text": [
      "471526\n",
      "479132\n",
      "489844\n"
     ]
    }
   ],
   "source": [
    "for speech in NamesAndSpeeches[\"speeches\"][NamesAndSpeeches[\"wikidataid\"] == \"Q2514\"][0]: \n",
    "    print(speech)"
   ]
  },
  {
   "cell_type": "code",
   "execution_count": 232,
   "metadata": {},
   "outputs": [
    {
     "data": {
      "text/plain": [
       "0    [471526, 479132, 489844]\n",
       "Name: speeches, dtype: object"
      ]
     },
     "execution_count": 232,
     "metadata": {},
     "output_type": "execute_result"
    }
   ],
   "source": [
    "NamesAndSpeeches[\"speeches\"][NamesAndSpeeches[\"wikidataid\"] == \"Q2514\"]"
   ]
  },
  {
   "cell_type": "code",
   "execution_count": 233,
   "metadata": {},
   "outputs": [
    {
     "data": {
      "text/plain": [
       "'Q66286'"
      ]
     },
     "execution_count": 233,
     "metadata": {},
     "output_type": "execute_result"
    }
   ],
   "source": [
    "NamesAndSpeeches[\"wikidataid\"][1]"
   ]
  },
  {
   "cell_type": "code",
   "execution_count": 234,
   "metadata": {},
   "outputs": [
    {
     "data": {
      "text/plain": [
       "Index(['speeches', 'politicianID', 'surname_lower_comb', 'forename_lower_comb',\n",
       "       'pageid', 'wikidataid', 'name'],\n",
       "      dtype='object')"
      ]
     },
     "execution_count": 234,
     "metadata": {},
     "output_type": "execute_result"
    }
   ],
   "source": [
    "NamesAndSpeeches.columns"
   ]
  },
  {
   "cell_type": "code",
   "execution_count": 235,
   "metadata": {},
   "outputs": [],
   "source": [
    "#NamesAndSpeeches[\"speeches\"][NamesAndSpeeches[\"wikidataid\"] == ID]#[0]"
   ]
  },
  {
   "cell_type": "code",
   "execution_count": 236,
   "metadata": {},
   "outputs": [
    {
     "data": {
      "text/plain": [
       "False"
      ]
     },
     "execution_count": 236,
     "metadata": {},
     "output_type": "execute_result"
    }
   ],
   "source": [
    "list(NamesAndSpeeches[\"speeches\"][NamesAndSpeeches[\"wikidataid\"] == \"Q20645389\"])[0] is np.nan #True"
   ]
  },
  {
   "cell_type": "code",
   "execution_count": 237,
   "metadata": {},
   "outputs": [],
   "source": [
    "speech2wikidataid = {}\n",
    "\n",
    "for ID in list(NamesAndSpeeches[\"wikidataid\"]): \n",
    "    \n",
    "    if list(NamesAndSpeeches[\"speeches\"][NamesAndSpeeches[\"wikidataid\"] == ID])[0] is np.nan: \n",
    "        pass\n",
    "    else:\n",
    "        for speech in list(NamesAndSpeeches[\"speeches\"][NamesAndSpeeches[\"wikidataid\"] == ID])[0]: \n",
    "            speech2wikidataid[speech] = ID"
   ]
  },
  {
   "cell_type": "code",
   "execution_count": 238,
   "metadata": {},
   "outputs": [
    {
     "data": {
      "text/plain": [
       "118363"
      ]
     },
     "execution_count": 238,
     "metadata": {},
     "output_type": "execute_result"
    }
   ],
   "source": [
    "len(speech2wikidataid) #116643"
   ]
  },
  {
   "cell_type": "code",
   "execution_count": 239,
   "metadata": {},
   "outputs": [],
   "source": [
    "def apply_dic_mapping(item): \n",
    "    if item in speech2wikidataid.keys(): \n",
    "        res = speech2wikidataid[item]\n",
    "        \n",
    "    else: \n",
    "        res = np.nan\n",
    "        \n",
    "    return res"
   ]
  },
  {
   "cell_type": "code",
   "execution_count": 240,
   "metadata": {},
   "outputs": [],
   "source": [
    "speeches_and_WPs[\"wikidataid\"] = speeches_and_WPs[\"speeches\"].map(lambda x : apply_dic_mapping(x))"
   ]
  },
  {
   "cell_type": "code",
   "execution_count": 241,
   "metadata": {},
   "outputs": [
    {
     "data": {
      "text/html": [
       "<div>\n",
       "<style scoped>\n",
       "    .dataframe tbody tr th:only-of-type {\n",
       "        vertical-align: middle;\n",
       "    }\n",
       "\n",
       "    .dataframe tbody tr th {\n",
       "        vertical-align: top;\n",
       "    }\n",
       "\n",
       "    .dataframe thead th {\n",
       "        text-align: right;\n",
       "    }\n",
       "</style>\n",
       "<table border=\"1\" class=\"dataframe\">\n",
       "  <thead>\n",
       "    <tr style=\"text-align: right;\">\n",
       "      <th></th>\n",
       "      <th>speeches</th>\n",
       "      <th>WPs</th>\n",
       "      <th>date</th>\n",
       "      <th>wikidataid</th>\n",
       "    </tr>\n",
       "  </thead>\n",
       "  <tbody>\n",
       "    <tr>\n",
       "      <th>20</th>\n",
       "      <td>471571</td>\n",
       "      <td>12</td>\n",
       "      <td>1991-01-14</td>\n",
       "      <td>NaN</td>\n",
       "    </tr>\n",
       "    <tr>\n",
       "      <th>21</th>\n",
       "      <td>471573</td>\n",
       "      <td>12</td>\n",
       "      <td>1991-01-14</td>\n",
       "      <td>NaN</td>\n",
       "    </tr>\n",
       "    <tr>\n",
       "      <th>31</th>\n",
       "      <td>471603</td>\n",
       "      <td>12</td>\n",
       "      <td>1991-01-17</td>\n",
       "      <td>NaN</td>\n",
       "    </tr>\n",
       "    <tr>\n",
       "      <th>32</th>\n",
       "      <td>471609</td>\n",
       "      <td>12</td>\n",
       "      <td>1991-01-17</td>\n",
       "      <td>NaN</td>\n",
       "    </tr>\n",
       "    <tr>\n",
       "      <th>37</th>\n",
       "      <td>471616</td>\n",
       "      <td>12</td>\n",
       "      <td>1991-01-18</td>\n",
       "      <td>NaN</td>\n",
       "    </tr>\n",
       "    <tr>\n",
       "      <th>...</th>\n",
       "      <td>...</td>\n",
       "      <td>...</td>\n",
       "      <td>...</td>\n",
       "      <td>...</td>\n",
       "    </tr>\n",
       "    <tr>\n",
       "      <th>122897</th>\n",
       "      <td>2066462</td>\n",
       "      <td>19</td>\n",
       "      <td>2021-08-24</td>\n",
       "      <td>NaN</td>\n",
       "    </tr>\n",
       "    <tr>\n",
       "      <th>122899</th>\n",
       "      <td>2066517</td>\n",
       "      <td>19</td>\n",
       "      <td>2021-09-06</td>\n",
       "      <td>NaN</td>\n",
       "    </tr>\n",
       "    <tr>\n",
       "      <th>122902</th>\n",
       "      <td>2066538</td>\n",
       "      <td>19</td>\n",
       "      <td>2021-09-06</td>\n",
       "      <td>NaN</td>\n",
       "    </tr>\n",
       "    <tr>\n",
       "      <th>122932</th>\n",
       "      <td>2066520</td>\n",
       "      <td>19</td>\n",
       "      <td>2021-09-06</td>\n",
       "      <td>NaN</td>\n",
       "    </tr>\n",
       "    <tr>\n",
       "      <th>122933</th>\n",
       "      <td>2066606</td>\n",
       "      <td>19</td>\n",
       "      <td>2021-09-06</td>\n",
       "      <td>NaN</td>\n",
       "    </tr>\n",
       "  </tbody>\n",
       "</table>\n",
       "<p>4571 rows × 4 columns</p>\n",
       "</div>"
      ],
      "text/plain": [
       "       speeches WPs        date wikidataid\n",
       "20       471571  12  1991-01-14        NaN\n",
       "21       471573  12  1991-01-14        NaN\n",
       "31       471603  12  1991-01-17        NaN\n",
       "32       471609  12  1991-01-17        NaN\n",
       "37       471616  12  1991-01-18        NaN\n",
       "...         ...  ..         ...        ...\n",
       "122897  2066462  19  2021-08-24        NaN\n",
       "122899  2066517  19  2021-09-06        NaN\n",
       "122902  2066538  19  2021-09-06        NaN\n",
       "122932  2066520  19  2021-09-06        NaN\n",
       "122933  2066606  19  2021-09-06        NaN\n",
       "\n",
       "[4571 rows x 4 columns]"
      ]
     },
     "execution_count": 241,
     "metadata": {},
     "output_type": "execute_result"
    }
   ],
   "source": [
    "speeches_and_WPs[speeches_and_WPs[\"wikidataid\"].isna() == True]"
   ]
  },
  {
   "cell_type": "code",
   "execution_count": 242,
   "metadata": {},
   "outputs": [],
   "source": [
    "with open(PATH + 'processed/speech2KL_WP19.txt', 'r') as infile: \n",
    "    speech2KL_WP19 = json.load(infile)\n",
    "infile.close()"
   ]
  },
  {
   "cell_type": "code",
   "execution_count": 243,
   "metadata": {},
   "outputs": [
    {
     "data": {
      "text/html": [
       "<div>\n",
       "<style scoped>\n",
       "    .dataframe tbody tr th:only-of-type {\n",
       "        vertical-align: middle;\n",
       "    }\n",
       "\n",
       "    .dataframe tbody tr th {\n",
       "        vertical-align: top;\n",
       "    }\n",
       "\n",
       "    .dataframe thead th {\n",
       "        text-align: right;\n",
       "    }\n",
       "</style>\n",
       "<table border=\"1\" class=\"dataframe\">\n",
       "  <thead>\n",
       "    <tr style=\"text-align: right;\">\n",
       "      <th></th>\n",
       "      <th>speeches</th>\n",
       "      <th>WPs</th>\n",
       "      <th>date</th>\n",
       "      <th>wikidataid</th>\n",
       "    </tr>\n",
       "  </thead>\n",
       "  <tbody>\n",
       "  </tbody>\n",
       "</table>\n",
       "</div>"
      ],
      "text/plain": [
       "Empty DataFrame\n",
       "Columns: [speeches, WPs, date, wikidataid]\n",
       "Index: []"
      ]
     },
     "execution_count": 243,
     "metadata": {},
     "output_type": "execute_result"
    }
   ],
   "source": [
    "speeches_and_WPs[speeches_and_WPs[\"speeches\"] == '1066506']"
   ]
  },
  {
   "cell_type": "code",
   "execution_count": 244,
   "metadata": {},
   "outputs": [
    {
     "data": {
      "text/plain": [
       "'2066506'"
      ]
     },
     "execution_count": 244,
     "metadata": {},
     "output_type": "execute_result"
    }
   ],
   "source": [
    "list(speeches_and_WPs[\"speeches\"])[-30]"
   ]
  },
  {
   "cell_type": "code",
   "execution_count": 245,
   "metadata": {},
   "outputs": [
    {
     "data": {
      "text/plain": [
       "{'novelty': 2.213904107861204,\n",
       " 'transience': 1.8539109033568522,\n",
       " 'resonance': 0.3599932045043517}"
      ]
     },
     "execution_count": 245,
     "metadata": {},
     "output_type": "execute_result"
    }
   ],
   "source": [
    "speech2KL_WP19[\"10\"]['1066506']"
   ]
  },
  {
   "cell_type": "code",
   "execution_count": 246,
   "metadata": {},
   "outputs": [],
   "source": [
    "novelty = []\n",
    "transience = []\n",
    "resonance = []\n",
    "window = 25\n",
    "\n",
    "no_value = []\n",
    "\n",
    "ls_speeches = list(speeches_and_WPs[\"speeches\"])\n",
    "\n",
    "for i in range(len(ls_speeches)): \n",
    "    #if speech in speech2KL_WP19[str(window)].keys():\n",
    "    #    if \"novelty\" in speech2KL_WP19[str(window)][speech].keys():\n",
    "    #        novelty.append(speech2KL_WP19[str(window)][speech][\"novelty\"])\n",
    "    #    else:\n",
    "    #        novelty.append(np.nan)\n",
    "    #        \n",
    "    #    if \"transience\" in speech2KL_WP19[str(window)][speech].keys():\n",
    "    #        transience.append(speech2KL_WP19[str(window)][speech][\"transience\"])\n",
    "    #    else: \n",
    "    #        transience.append(np.nan)    \n",
    "    #        \n",
    "    #    if \"resonance\" in speech2KL_WP19[str(window)][speech].keys():\n",
    "    #        resonance.append(speech2KL_WP19[str(window)][speech][\"resonance\"])\n",
    "    #    else: \n",
    "    #        resonance.append(np.nan) \n",
    "    \n",
    "    if ls_speeches[i] in speech2KL[str(window)].keys():\n",
    "        if \"novelty\" in speech2KL[str(window)][ls_speeches[i]].keys():\n",
    "            novelty.append(speech2KL[str(window)][ls_speeches[i]][\"novelty\"])\n",
    "        else: \n",
    "            print(i)\n",
    "            novelty.append(np.nan)\n",
    "                \n",
    "        if \"transience\" in speech2KL[str(window)][ls_speeches[i]].keys():\n",
    "            transience.append(speech2KL[str(window)][ls_speeches[i]][\"transience\"])\n",
    "        else: \n",
    "            transience.append(np.nan)    \n",
    "            \n",
    "        if \"resonance\" in speech2KL[str(window)][ls_speeches[i]].keys():\n",
    "            resonance.append(speech2KL[str(window)][ls_speeches[i]][\"resonance\"])\n",
    "        else: \n",
    "            resonance.append(np.nan)  \n",
    "            \n",
    "    else: \n",
    "        no_value.append(i)\n",
    "        novelty.append(np.nan)\n",
    "        transience.append(np.nan)\n",
    "        resonance.append(np.nan)"
   ]
  },
  {
   "cell_type": "code",
   "execution_count": 247,
   "metadata": {},
   "outputs": [
    {
     "data": {
      "text/plain": [
       "(122934, 2561)"
      ]
     },
     "execution_count": 247,
     "metadata": {},
     "output_type": "execute_result"
    }
   ],
   "source": [
    "len(transience), len(no_value) #(121038, 2984)"
   ]
  },
  {
   "cell_type": "code",
   "execution_count": 248,
   "metadata": {},
   "outputs": [
    {
     "data": {
      "text/plain": [
       "122934"
      ]
     },
     "execution_count": 248,
     "metadata": {},
     "output_type": "execute_result"
    }
   ],
   "source": [
    "len(speeches_and_WPs)"
   ]
  },
  {
   "cell_type": "code",
   "execution_count": 249,
   "metadata": {},
   "outputs": [],
   "source": [
    "speeches_and_WPs[\"novelty\"] = pd.Series(novelty)\n",
    "speeches_and_WPs[\"transience\"] = pd.Series(transience)\n",
    "speeches_and_WPs[\"resonance\"] = pd.Series(resonance)"
   ]
  },
  {
   "cell_type": "code",
   "execution_count": 250,
   "metadata": {},
   "outputs": [
    {
     "data": {
      "text/html": [
       "<div>\n",
       "<style scoped>\n",
       "    .dataframe tbody tr th:only-of-type {\n",
       "        vertical-align: middle;\n",
       "    }\n",
       "\n",
       "    .dataframe tbody tr th {\n",
       "        vertical-align: top;\n",
       "    }\n",
       "\n",
       "    .dataframe thead th {\n",
       "        text-align: right;\n",
       "    }\n",
       "</style>\n",
       "<table border=\"1\" class=\"dataframe\">\n",
       "  <thead>\n",
       "    <tr style=\"text-align: right;\">\n",
       "      <th></th>\n",
       "      <th>speeches</th>\n",
       "      <th>WPs</th>\n",
       "      <th>date</th>\n",
       "      <th>wikidataid</th>\n",
       "      <th>novelty</th>\n",
       "      <th>transience</th>\n",
       "      <th>resonance</th>\n",
       "    </tr>\n",
       "  </thead>\n",
       "  <tbody>\n",
       "    <tr>\n",
       "      <th>0</th>\n",
       "      <td>471526</td>\n",
       "      <td>12</td>\n",
       "      <td>1990-12-20</td>\n",
       "      <td>Q2514</td>\n",
       "      <td>2.613467</td>\n",
       "      <td>2.524375</td>\n",
       "      <td>0.089092</td>\n",
       "    </tr>\n",
       "    <tr>\n",
       "      <th>1</th>\n",
       "      <td>471554</td>\n",
       "      <td>12</td>\n",
       "      <td>1990-12-20</td>\n",
       "      <td>Q66286</td>\n",
       "      <td>3.038764</td>\n",
       "      <td>3.269209</td>\n",
       "      <td>-0.230445</td>\n",
       "    </tr>\n",
       "    <tr>\n",
       "      <th>2</th>\n",
       "      <td>471532</td>\n",
       "      <td>12</td>\n",
       "      <td>1990-12-20</td>\n",
       "      <td>Q895636</td>\n",
       "      <td>3.009644</td>\n",
       "      <td>3.468754</td>\n",
       "      <td>-0.459110</td>\n",
       "    </tr>\n",
       "    <tr>\n",
       "      <th>3</th>\n",
       "      <td>471527</td>\n",
       "      <td>12</td>\n",
       "      <td>1990-12-20</td>\n",
       "      <td>Q65389</td>\n",
       "      <td>3.212199</td>\n",
       "      <td>3.226515</td>\n",
       "      <td>-0.014315</td>\n",
       "    </tr>\n",
       "    <tr>\n",
       "      <th>4</th>\n",
       "      <td>471536</td>\n",
       "      <td>12</td>\n",
       "      <td>1990-12-20</td>\n",
       "      <td>Q1594398</td>\n",
       "      <td>3.773353</td>\n",
       "      <td>3.857674</td>\n",
       "      <td>-0.084320</td>\n",
       "    </tr>\n",
       "    <tr>\n",
       "      <th>...</th>\n",
       "      <td>...</td>\n",
       "      <td>...</td>\n",
       "      <td>...</td>\n",
       "      <td>...</td>\n",
       "      <td>...</td>\n",
       "      <td>...</td>\n",
       "      <td>...</td>\n",
       "    </tr>\n",
       "    <tr>\n",
       "      <th>122929</th>\n",
       "      <td>2066565</td>\n",
       "      <td>19</td>\n",
       "      <td>2021-09-06</td>\n",
       "      <td>Q40998965</td>\n",
       "      <td>NaN</td>\n",
       "      <td>NaN</td>\n",
       "      <td>NaN</td>\n",
       "    </tr>\n",
       "    <tr>\n",
       "      <th>122930</th>\n",
       "      <td>2066537</td>\n",
       "      <td>19</td>\n",
       "      <td>2021-09-06</td>\n",
       "      <td>Q18169686</td>\n",
       "      <td>NaN</td>\n",
       "      <td>NaN</td>\n",
       "      <td>NaN</td>\n",
       "    </tr>\n",
       "    <tr>\n",
       "      <th>122931</th>\n",
       "      <td>2066541</td>\n",
       "      <td>19</td>\n",
       "      <td>2021-09-06</td>\n",
       "      <td>Q15606894</td>\n",
       "      <td>NaN</td>\n",
       "      <td>NaN</td>\n",
       "      <td>NaN</td>\n",
       "    </tr>\n",
       "    <tr>\n",
       "      <th>122932</th>\n",
       "      <td>2066520</td>\n",
       "      <td>19</td>\n",
       "      <td>2021-09-06</td>\n",
       "      <td>NaN</td>\n",
       "      <td>NaN</td>\n",
       "      <td>NaN</td>\n",
       "      <td>NaN</td>\n",
       "    </tr>\n",
       "    <tr>\n",
       "      <th>122933</th>\n",
       "      <td>2066606</td>\n",
       "      <td>19</td>\n",
       "      <td>2021-09-06</td>\n",
       "      <td>NaN</td>\n",
       "      <td>NaN</td>\n",
       "      <td>NaN</td>\n",
       "      <td>NaN</td>\n",
       "    </tr>\n",
       "  </tbody>\n",
       "</table>\n",
       "<p>122934 rows × 7 columns</p>\n",
       "</div>"
      ],
      "text/plain": [
       "       speeches WPs        date wikidataid   novelty  transience  resonance\n",
       "0        471526  12  1990-12-20      Q2514  2.613467    2.524375   0.089092\n",
       "1        471554  12  1990-12-20     Q66286  3.038764    3.269209  -0.230445\n",
       "2        471532  12  1990-12-20    Q895636  3.009644    3.468754  -0.459110\n",
       "3        471527  12  1990-12-20     Q65389  3.212199    3.226515  -0.014315\n",
       "4        471536  12  1990-12-20   Q1594398  3.773353    3.857674  -0.084320\n",
       "...         ...  ..         ...        ...       ...         ...        ...\n",
       "122929  2066565  19  2021-09-06  Q40998965       NaN         NaN        NaN\n",
       "122930  2066537  19  2021-09-06  Q18169686       NaN         NaN        NaN\n",
       "122931  2066541  19  2021-09-06  Q15606894       NaN         NaN        NaN\n",
       "122932  2066520  19  2021-09-06        NaN       NaN         NaN        NaN\n",
       "122933  2066606  19  2021-09-06        NaN       NaN         NaN        NaN\n",
       "\n",
       "[122934 rows x 7 columns]"
      ]
     },
     "execution_count": 250,
     "metadata": {},
     "output_type": "execute_result"
    }
   ],
   "source": [
    "speeches_and_WPs #121038 rows × 7 columns"
   ]
  },
  {
   "cell_type": "code",
   "execution_count": 251,
   "metadata": {},
   "outputs": [
    {
     "data": {
      "text/html": [
       "<div>\n",
       "<style scoped>\n",
       "    .dataframe tbody tr th:only-of-type {\n",
       "        vertical-align: middle;\n",
       "    }\n",
       "\n",
       "    .dataframe tbody tr th {\n",
       "        vertical-align: top;\n",
       "    }\n",
       "\n",
       "    .dataframe thead th {\n",
       "        text-align: right;\n",
       "    }\n",
       "</style>\n",
       "<table border=\"1\" class=\"dataframe\">\n",
       "  <thead>\n",
       "    <tr style=\"text-align: right;\">\n",
       "      <th></th>\n",
       "      <th>speeches</th>\n",
       "      <th>WPs</th>\n",
       "      <th>date</th>\n",
       "      <th>wikidataid</th>\n",
       "      <th>novelty</th>\n",
       "      <th>transience</th>\n",
       "      <th>resonance</th>\n",
       "    </tr>\n",
       "  </thead>\n",
       "  <tbody>\n",
       "    <tr>\n",
       "      <th>0</th>\n",
       "      <td>471526</td>\n",
       "      <td>12</td>\n",
       "      <td>1990-12-20</td>\n",
       "      <td>Q2514</td>\n",
       "      <td>2.613467</td>\n",
       "      <td>2.524375</td>\n",
       "      <td>0.089092</td>\n",
       "    </tr>\n",
       "    <tr>\n",
       "      <th>1</th>\n",
       "      <td>471554</td>\n",
       "      <td>12</td>\n",
       "      <td>1990-12-20</td>\n",
       "      <td>Q66286</td>\n",
       "      <td>3.038764</td>\n",
       "      <td>3.269209</td>\n",
       "      <td>-0.230445</td>\n",
       "    </tr>\n",
       "    <tr>\n",
       "      <th>2</th>\n",
       "      <td>471532</td>\n",
       "      <td>12</td>\n",
       "      <td>1990-12-20</td>\n",
       "      <td>Q895636</td>\n",
       "      <td>3.009644</td>\n",
       "      <td>3.468754</td>\n",
       "      <td>-0.459110</td>\n",
       "    </tr>\n",
       "    <tr>\n",
       "      <th>3</th>\n",
       "      <td>471527</td>\n",
       "      <td>12</td>\n",
       "      <td>1990-12-20</td>\n",
       "      <td>Q65389</td>\n",
       "      <td>3.212199</td>\n",
       "      <td>3.226515</td>\n",
       "      <td>-0.014315</td>\n",
       "    </tr>\n",
       "    <tr>\n",
       "      <th>4</th>\n",
       "      <td>471536</td>\n",
       "      <td>12</td>\n",
       "      <td>1990-12-20</td>\n",
       "      <td>Q1594398</td>\n",
       "      <td>3.773353</td>\n",
       "      <td>3.857674</td>\n",
       "      <td>-0.084320</td>\n",
       "    </tr>\n",
       "  </tbody>\n",
       "</table>\n",
       "</div>"
      ],
      "text/plain": [
       "  speeches WPs        date wikidataid   novelty  transience  resonance\n",
       "0   471526  12  1990-12-20      Q2514  2.613467    2.524375   0.089092\n",
       "1   471554  12  1990-12-20     Q66286  3.038764    3.269209  -0.230445\n",
       "2   471532  12  1990-12-20    Q895636  3.009644    3.468754  -0.459110\n",
       "3   471527  12  1990-12-20     Q65389  3.212199    3.226515  -0.014315\n",
       "4   471536  12  1990-12-20   Q1594398  3.773353    3.857674  -0.084320"
      ]
     },
     "execution_count": 251,
     "metadata": {},
     "output_type": "execute_result"
    }
   ],
   "source": [
    "speeches_and_WPs.head(5)"
   ]
  },
  {
   "cell_type": "code",
   "execution_count": 252,
   "metadata": {},
   "outputs": [
    {
     "data": {
      "text/plain": [
       "Index(['speeches', 'politicianID', 'surname_lower_comb', 'forename_lower_comb',\n",
       "       'pageid', 'wikidataid', 'name'],\n",
       "      dtype='object')"
      ]
     },
     "execution_count": 252,
     "metadata": {},
     "output_type": "execute_result"
    }
   ],
   "source": [
    "NamesAndSpeeches.columns"
   ]
  },
  {
   "cell_type": "code",
   "execution_count": 253,
   "metadata": {},
   "outputs": [],
   "source": [
    "NamesWPSpeeches = pd.merge(speeches_and_WPs, NamesAndSpeeches[['politicianID', 'surname_lower_comb', 'forename_lower_comb',\n",
    "       'pageid', 'wikidataid', 'name']], how = \"left\", left_on=[\"wikidataid\"], right_on=[\"wikidataid\"])"
   ]
  },
  {
   "cell_type": "code",
   "execution_count": 254,
   "metadata": {},
   "outputs": [],
   "source": [
    "NamesWPSpeeches = NamesWPSpeeches.rename(columns = {\"speeches\" : \"speech\"})"
   ]
  },
  {
   "cell_type": "code",
   "execution_count": 255,
   "metadata": {},
   "outputs": [
    {
     "data": {
      "text/html": [
       "<div>\n",
       "<style scoped>\n",
       "    .dataframe tbody tr th:only-of-type {\n",
       "        vertical-align: middle;\n",
       "    }\n",
       "\n",
       "    .dataframe tbody tr th {\n",
       "        vertical-align: top;\n",
       "    }\n",
       "\n",
       "    .dataframe thead th {\n",
       "        text-align: right;\n",
       "    }\n",
       "</style>\n",
       "<table border=\"1\" class=\"dataframe\">\n",
       "  <thead>\n",
       "    <tr style=\"text-align: right;\">\n",
       "      <th></th>\n",
       "      <th>speech</th>\n",
       "      <th>WPs</th>\n",
       "      <th>date</th>\n",
       "      <th>wikidataid</th>\n",
       "      <th>novelty</th>\n",
       "      <th>transience</th>\n",
       "      <th>resonance</th>\n",
       "      <th>politicianID</th>\n",
       "      <th>surname_lower_comb</th>\n",
       "      <th>forename_lower_comb</th>\n",
       "      <th>pageid</th>\n",
       "      <th>name</th>\n",
       "    </tr>\n",
       "  </thead>\n",
       "  <tbody>\n",
       "    <tr>\n",
       "      <th>0</th>\n",
       "      <td>471526</td>\n",
       "      <td>12</td>\n",
       "      <td>1990-12-20</td>\n",
       "      <td>Q2514</td>\n",
       "      <td>2.613467</td>\n",
       "      <td>2.524375</td>\n",
       "      <td>0.089092</td>\n",
       "      <td>11000246.0</td>\n",
       "      <td>brandt</td>\n",
       "      <td>willy</td>\n",
       "      <td>1518001.0</td>\n",
       "      <td>Willy Brandt</td>\n",
       "    </tr>\n",
       "    <tr>\n",
       "      <th>1</th>\n",
       "      <td>471554</td>\n",
       "      <td>12</td>\n",
       "      <td>1990-12-20</td>\n",
       "      <td>Q66286</td>\n",
       "      <td>3.038764</td>\n",
       "      <td>3.269209</td>\n",
       "      <td>-0.230445</td>\n",
       "      <td>11002287.0</td>\n",
       "      <td>süssmuth</td>\n",
       "      <td>rita</td>\n",
       "      <td>4253.0</td>\n",
       "      <td>Rita Süssmuth</td>\n",
       "    </tr>\n",
       "    <tr>\n",
       "      <th>2</th>\n",
       "      <td>471532</td>\n",
       "      <td>12</td>\n",
       "      <td>1990-12-20</td>\n",
       "      <td>Q895636</td>\n",
       "      <td>3.009644</td>\n",
       "      <td>3.468754</td>\n",
       "      <td>-0.459110</td>\n",
       "      <td>11002354.0</td>\n",
       "      <td>ullmann</td>\n",
       "      <td>wolfgang</td>\n",
       "      <td>300219.0</td>\n",
       "      <td>Wolfgang Ullmann</td>\n",
       "    </tr>\n",
       "    <tr>\n",
       "      <th>3</th>\n",
       "      <td>471527</td>\n",
       "      <td>12</td>\n",
       "      <td>1990-12-20</td>\n",
       "      <td>Q65389</td>\n",
       "      <td>3.212199</td>\n",
       "      <td>3.226515</td>\n",
       "      <td>-0.014315</td>\n",
       "      <td>11000418.0</td>\n",
       "      <td>dregger</td>\n",
       "      <td>alfred</td>\n",
       "      <td>73446.0</td>\n",
       "      <td>Alfred Dregger</td>\n",
       "    </tr>\n",
       "    <tr>\n",
       "      <th>4</th>\n",
       "      <td>471536</td>\n",
       "      <td>12</td>\n",
       "      <td>1990-12-20</td>\n",
       "      <td>Q1594398</td>\n",
       "      <td>3.773353</td>\n",
       "      <td>3.857674</td>\n",
       "      <td>-0.084320</td>\n",
       "      <td>11000891.0</td>\n",
       "      <td>heuer</td>\n",
       "      <td>uwe-jens</td>\n",
       "      <td>1097338.0</td>\n",
       "      <td>Uwe-Jens Heuer</td>\n",
       "    </tr>\n",
       "  </tbody>\n",
       "</table>\n",
       "</div>"
      ],
      "text/plain": [
       "   speech WPs        date wikidataid   novelty  transience  resonance  \\\n",
       "0  471526  12  1990-12-20      Q2514  2.613467    2.524375   0.089092   \n",
       "1  471554  12  1990-12-20     Q66286  3.038764    3.269209  -0.230445   \n",
       "2  471532  12  1990-12-20    Q895636  3.009644    3.468754  -0.459110   \n",
       "3  471527  12  1990-12-20     Q65389  3.212199    3.226515  -0.014315   \n",
       "4  471536  12  1990-12-20   Q1594398  3.773353    3.857674  -0.084320   \n",
       "\n",
       "   politicianID surname_lower_comb forename_lower_comb     pageid  \\\n",
       "0    11000246.0             brandt               willy  1518001.0   \n",
       "1    11002287.0           süssmuth                rita     4253.0   \n",
       "2    11002354.0            ullmann            wolfgang   300219.0   \n",
       "3    11000418.0            dregger              alfred    73446.0   \n",
       "4    11000891.0              heuer            uwe-jens  1097338.0   \n",
       "\n",
       "               name  \n",
       "0      Willy Brandt  \n",
       "1     Rita Süssmuth  \n",
       "2  Wolfgang Ullmann  \n",
       "3    Alfred Dregger  \n",
       "4    Uwe-Jens Heuer  "
      ]
     },
     "execution_count": 255,
     "metadata": {},
     "output_type": "execute_result"
    }
   ],
   "source": [
    "NamesWPSpeeches.head(5)"
   ]
  },
  {
   "cell_type": "code",
   "execution_count": 256,
   "metadata": {},
   "outputs": [],
   "source": [
    "NamesWPSpeeches[\"year\"] = NamesWPSpeeches[\"date\"].map(lambda x: datetime.strptime(x, '%Y-%m-%d').year)\n",
    "NamesWPSpeeches[\"month\"] = NamesWPSpeeches[\"date\"].map(lambda x: datetime.strptime(x, '%Y-%m-%d').month)"
   ]
  },
  {
   "cell_type": "code",
   "execution_count": 257,
   "metadata": {},
   "outputs": [
    {
     "data": {
      "text/html": [
       "<div>\n",
       "<style scoped>\n",
       "    .dataframe tbody tr th:only-of-type {\n",
       "        vertical-align: middle;\n",
       "    }\n",
       "\n",
       "    .dataframe tbody tr th {\n",
       "        vertical-align: top;\n",
       "    }\n",
       "\n",
       "    .dataframe thead th {\n",
       "        text-align: right;\n",
       "    }\n",
       "</style>\n",
       "<table border=\"1\" class=\"dataframe\">\n",
       "  <thead>\n",
       "    <tr style=\"text-align: right;\">\n",
       "      <th></th>\n",
       "      <th>speech</th>\n",
       "      <th>WPs</th>\n",
       "      <th>date</th>\n",
       "      <th>wikidataid</th>\n",
       "      <th>novelty</th>\n",
       "      <th>transience</th>\n",
       "      <th>resonance</th>\n",
       "      <th>politicianID</th>\n",
       "      <th>surname_lower_comb</th>\n",
       "      <th>forename_lower_comb</th>\n",
       "      <th>pageid</th>\n",
       "      <th>name</th>\n",
       "      <th>year</th>\n",
       "      <th>month</th>\n",
       "    </tr>\n",
       "  </thead>\n",
       "  <tbody>\n",
       "    <tr>\n",
       "      <th>0</th>\n",
       "      <td>471526</td>\n",
       "      <td>12</td>\n",
       "      <td>1990-12-20</td>\n",
       "      <td>Q2514</td>\n",
       "      <td>2.613467</td>\n",
       "      <td>2.524375</td>\n",
       "      <td>0.089092</td>\n",
       "      <td>11000246.0</td>\n",
       "      <td>brandt</td>\n",
       "      <td>willy</td>\n",
       "      <td>1518001.0</td>\n",
       "      <td>Willy Brandt</td>\n",
       "      <td>1990</td>\n",
       "      <td>12</td>\n",
       "    </tr>\n",
       "    <tr>\n",
       "      <th>1</th>\n",
       "      <td>471554</td>\n",
       "      <td>12</td>\n",
       "      <td>1990-12-20</td>\n",
       "      <td>Q66286</td>\n",
       "      <td>3.038764</td>\n",
       "      <td>3.269209</td>\n",
       "      <td>-0.230445</td>\n",
       "      <td>11002287.0</td>\n",
       "      <td>süssmuth</td>\n",
       "      <td>rita</td>\n",
       "      <td>4253.0</td>\n",
       "      <td>Rita Süssmuth</td>\n",
       "      <td>1990</td>\n",
       "      <td>12</td>\n",
       "    </tr>\n",
       "    <tr>\n",
       "      <th>2</th>\n",
       "      <td>471532</td>\n",
       "      <td>12</td>\n",
       "      <td>1990-12-20</td>\n",
       "      <td>Q895636</td>\n",
       "      <td>3.009644</td>\n",
       "      <td>3.468754</td>\n",
       "      <td>-0.459110</td>\n",
       "      <td>11002354.0</td>\n",
       "      <td>ullmann</td>\n",
       "      <td>wolfgang</td>\n",
       "      <td>300219.0</td>\n",
       "      <td>Wolfgang Ullmann</td>\n",
       "      <td>1990</td>\n",
       "      <td>12</td>\n",
       "    </tr>\n",
       "    <tr>\n",
       "      <th>3</th>\n",
       "      <td>471527</td>\n",
       "      <td>12</td>\n",
       "      <td>1990-12-20</td>\n",
       "      <td>Q65389</td>\n",
       "      <td>3.212199</td>\n",
       "      <td>3.226515</td>\n",
       "      <td>-0.014315</td>\n",
       "      <td>11000418.0</td>\n",
       "      <td>dregger</td>\n",
       "      <td>alfred</td>\n",
       "      <td>73446.0</td>\n",
       "      <td>Alfred Dregger</td>\n",
       "      <td>1990</td>\n",
       "      <td>12</td>\n",
       "    </tr>\n",
       "    <tr>\n",
       "      <th>4</th>\n",
       "      <td>471536</td>\n",
       "      <td>12</td>\n",
       "      <td>1990-12-20</td>\n",
       "      <td>Q1594398</td>\n",
       "      <td>3.773353</td>\n",
       "      <td>3.857674</td>\n",
       "      <td>-0.084320</td>\n",
       "      <td>11000891.0</td>\n",
       "      <td>heuer</td>\n",
       "      <td>uwe-jens</td>\n",
       "      <td>1097338.0</td>\n",
       "      <td>Uwe-Jens Heuer</td>\n",
       "      <td>1990</td>\n",
       "      <td>12</td>\n",
       "    </tr>\n",
       "  </tbody>\n",
       "</table>\n",
       "</div>"
      ],
      "text/plain": [
       "   speech WPs        date wikidataid   novelty  transience  resonance  \\\n",
       "0  471526  12  1990-12-20      Q2514  2.613467    2.524375   0.089092   \n",
       "1  471554  12  1990-12-20     Q66286  3.038764    3.269209  -0.230445   \n",
       "2  471532  12  1990-12-20    Q895636  3.009644    3.468754  -0.459110   \n",
       "3  471527  12  1990-12-20     Q65389  3.212199    3.226515  -0.014315   \n",
       "4  471536  12  1990-12-20   Q1594398  3.773353    3.857674  -0.084320   \n",
       "\n",
       "   politicianID surname_lower_comb forename_lower_comb     pageid  \\\n",
       "0    11000246.0             brandt               willy  1518001.0   \n",
       "1    11002287.0           süssmuth                rita     4253.0   \n",
       "2    11002354.0            ullmann            wolfgang   300219.0   \n",
       "3    11000418.0            dregger              alfred    73446.0   \n",
       "4    11000891.0              heuer            uwe-jens  1097338.0   \n",
       "\n",
       "               name  year  month  \n",
       "0      Willy Brandt  1990     12  \n",
       "1     Rita Süssmuth  1990     12  \n",
       "2  Wolfgang Ullmann  1990     12  \n",
       "3    Alfred Dregger  1990     12  \n",
       "4    Uwe-Jens Heuer  1990     12  "
      ]
     },
     "execution_count": 257,
     "metadata": {},
     "output_type": "execute_result"
    }
   ],
   "source": [
    "NamesWPSpeeches.head(5)"
   ]
  },
  {
   "cell_type": "code",
   "execution_count": 259,
   "metadata": {},
   "outputs": [],
   "source": [
    "NamesWPSpeeches.to_csv(PATH + \"./processed/NamesWPSpeeches_with_AfD.csv\")"
   ]
  },
  {
   "cell_type": "code",
   "execution_count": 260,
   "metadata": {},
   "outputs": [
    {
     "data": {
      "text/plain": [
       "dict_keys(['concatSpeech', 'name', 'date', 'data_ready', 'electoralTerm', 'politicianId', 'firstName', 'lastName', 'positionShort', 'timestamp'])"
      ]
     },
     "execution_count": 260,
     "metadata": {},
     "output_type": "execute_result"
    }
   ],
   "source": [
    "id2rede_12_19['471526'].keys() #dict_keys(['concatSpeech', 'name', 'date', 'data_ready', 'electoralTerm', 'firstName', 'lastName', 'politicianId', 'positionShort', 'positionLong', 'date_control', 'timestamp'])"
   ]
  },
  {
   "cell_type": "raw",
   "metadata": {},
   "source": [
    "date = []\n",
    "window = 25\n",
    "\n",
    "for speech in list(NamesWPSpeeches[\"speech\"]): \n",
    "    if speech in id2rede_12_19.keys(): \n",
    "        if \"date\" in id2rede_12_19[speech].keys():\n",
    "            date.append(id2rede_12_19[speech][\"date\"])\n",
    "        else: \n",
    "            date.append(np.nan)\n",
    "    else: \n",
    "        date.append(np.nan)"
   ]
  },
  {
   "cell_type": "raw",
   "metadata": {},
   "source": [
    "len(date), len(NamesWPSpeeches)"
   ]
  },
  {
   "cell_type": "raw",
   "metadata": {},
   "source": [
    "NamesWPSpeeches[\"date\"] = pd.Series(date)"
   ]
  },
  {
   "cell_type": "code",
   "execution_count": 261,
   "metadata": {},
   "outputs": [
    {
     "data": {
      "text/plain": [
       "'1990-12-20'"
      ]
     },
     "execution_count": 261,
     "metadata": {},
     "output_type": "execute_result"
    }
   ],
   "source": [
    "NamesWPSpeeches[\"date\"][10]"
   ]
  },
  {
   "cell_type": "code",
   "execution_count": 262,
   "metadata": {},
   "outputs": [
    {
     "data": {
      "text/html": [
       "<div>\n",
       "<style scoped>\n",
       "    .dataframe tbody tr th:only-of-type {\n",
       "        vertical-align: middle;\n",
       "    }\n",
       "\n",
       "    .dataframe tbody tr th {\n",
       "        vertical-align: top;\n",
       "    }\n",
       "\n",
       "    .dataframe thead th {\n",
       "        text-align: right;\n",
       "    }\n",
       "</style>\n",
       "<table border=\"1\" class=\"dataframe\">\n",
       "  <thead>\n",
       "    <tr style=\"text-align: right;\">\n",
       "      <th></th>\n",
       "      <th>speeches</th>\n",
       "      <th>WPs</th>\n",
       "      <th>date</th>\n",
       "      <th>wikidataid</th>\n",
       "      <th>novelty</th>\n",
       "      <th>transience</th>\n",
       "      <th>resonance</th>\n",
       "    </tr>\n",
       "  </thead>\n",
       "  <tbody>\n",
       "    <tr>\n",
       "      <th>122929</th>\n",
       "      <td>2066565</td>\n",
       "      <td>19</td>\n",
       "      <td>2021-09-06</td>\n",
       "      <td>Q40998965</td>\n",
       "      <td>NaN</td>\n",
       "      <td>NaN</td>\n",
       "      <td>NaN</td>\n",
       "    </tr>\n",
       "    <tr>\n",
       "      <th>122930</th>\n",
       "      <td>2066537</td>\n",
       "      <td>19</td>\n",
       "      <td>2021-09-06</td>\n",
       "      <td>Q18169686</td>\n",
       "      <td>NaN</td>\n",
       "      <td>NaN</td>\n",
       "      <td>NaN</td>\n",
       "    </tr>\n",
       "    <tr>\n",
       "      <th>122931</th>\n",
       "      <td>2066541</td>\n",
       "      <td>19</td>\n",
       "      <td>2021-09-06</td>\n",
       "      <td>Q15606894</td>\n",
       "      <td>NaN</td>\n",
       "      <td>NaN</td>\n",
       "      <td>NaN</td>\n",
       "    </tr>\n",
       "    <tr>\n",
       "      <th>122932</th>\n",
       "      <td>2066520</td>\n",
       "      <td>19</td>\n",
       "      <td>2021-09-06</td>\n",
       "      <td>NaN</td>\n",
       "      <td>NaN</td>\n",
       "      <td>NaN</td>\n",
       "      <td>NaN</td>\n",
       "    </tr>\n",
       "    <tr>\n",
       "      <th>122933</th>\n",
       "      <td>2066606</td>\n",
       "      <td>19</td>\n",
       "      <td>2021-09-06</td>\n",
       "      <td>NaN</td>\n",
       "      <td>NaN</td>\n",
       "      <td>NaN</td>\n",
       "      <td>NaN</td>\n",
       "    </tr>\n",
       "  </tbody>\n",
       "</table>\n",
       "</div>"
      ],
      "text/plain": [
       "       speeches WPs        date wikidataid  novelty  transience  resonance\n",
       "122929  2066565  19  2021-09-06  Q40998965      NaN         NaN        NaN\n",
       "122930  2066537  19  2021-09-06  Q18169686      NaN         NaN        NaN\n",
       "122931  2066541  19  2021-09-06  Q15606894      NaN         NaN        NaN\n",
       "122932  2066520  19  2021-09-06        NaN      NaN         NaN        NaN\n",
       "122933  2066606  19  2021-09-06        NaN      NaN         NaN        NaN"
      ]
     },
     "execution_count": 262,
     "metadata": {},
     "output_type": "execute_result"
    }
   ],
   "source": [
    "speeches_and_WPs[speeches_and_WPs[\"WPs\"] == \"19\"].tail(5)#(30) "
   ]
  },
  {
   "cell_type": "code",
   "execution_count": 263,
   "metadata": {},
   "outputs": [
    {
     "data": {
      "text/html": [
       "<div>\n",
       "<style scoped>\n",
       "    .dataframe tbody tr th:only-of-type {\n",
       "        vertical-align: middle;\n",
       "    }\n",
       "\n",
       "    .dataframe tbody tr th {\n",
       "        vertical-align: top;\n",
       "    }\n",
       "\n",
       "    .dataframe thead th {\n",
       "        text-align: right;\n",
       "    }\n",
       "</style>\n",
       "<table border=\"1\" class=\"dataframe\">\n",
       "  <thead>\n",
       "    <tr style=\"text-align: right;\">\n",
       "      <th></th>\n",
       "      <th>speech</th>\n",
       "      <th>WPs</th>\n",
       "      <th>date</th>\n",
       "      <th>wikidataid</th>\n",
       "      <th>novelty</th>\n",
       "      <th>transience</th>\n",
       "      <th>resonance</th>\n",
       "      <th>politicianID</th>\n",
       "      <th>surname_lower_comb</th>\n",
       "      <th>forename_lower_comb</th>\n",
       "      <th>pageid</th>\n",
       "      <th>name</th>\n",
       "      <th>year</th>\n",
       "      <th>month</th>\n",
       "    </tr>\n",
       "  </thead>\n",
       "  <tbody>\n",
       "  </tbody>\n",
       "</table>\n",
       "</div>"
      ],
      "text/plain": [
       "Empty DataFrame\n",
       "Columns: [speech, WPs, date, wikidataid, novelty, transience, resonance, politicianID, surname_lower_comb, forename_lower_comb, pageid, name, year, month]\n",
       "Index: []"
      ]
     },
     "execution_count": 263,
     "metadata": {},
     "output_type": "execute_result"
    }
   ],
   "source": [
    "NamesWPSpeeches[NamesWPSpeeches[\"speech\"] == '1066516']"
   ]
  },
  {
   "cell_type": "code",
   "execution_count": 264,
   "metadata": {},
   "outputs": [],
   "source": [
    "#speech2KL[\"500\"]"
   ]
  },
  {
   "cell_type": "code",
   "execution_count": 265,
   "metadata": {},
   "outputs": [
    {
     "data": {
      "text/plain": [
       "['1066253']"
      ]
     },
     "execution_count": 265,
     "metadata": {},
     "output_type": "execute_result"
    }
   ],
   "source": [
    "[list(speech2KL_WP19[\"100\"].keys())[-1]]"
   ]
  },
  {
   "cell_type": "code",
   "execution_count": 266,
   "metadata": {},
   "outputs": [
    {
     "data": {
      "text/plain": [
       "'1066516'"
      ]
     },
     "execution_count": 266,
     "metadata": {},
     "output_type": "execute_result"
    }
   ],
   "source": [
    "list(speech2KL_WP19[\"25\"].keys())[-1]"
   ]
  },
  {
   "cell_type": "code",
   "execution_count": 267,
   "metadata": {},
   "outputs": [
    {
     "data": {
      "text/plain": [
       "{'novelty': 2.4922529010656316,\n",
       " 'transience': 2.806568976607826,\n",
       " 'resonance': -0.31431607554219454}"
      ]
     },
     "execution_count": 267,
     "metadata": {},
     "output_type": "execute_result"
    }
   ],
   "source": [
    "speech2KL_WP19[\"25\"]['1063071']"
   ]
  },
  {
   "cell_type": "code",
   "execution_count": 269,
   "metadata": {},
   "outputs": [],
   "source": [
    "#speech2KL[\"25\"][\"1063071\"]"
   ]
  },
  {
   "cell_type": "code",
   "execution_count": 270,
   "metadata": {},
   "outputs": [
    {
     "data": {
      "text/plain": [
       "Index(['speeches', 'WPs', 'date', 'wikidataid', 'novelty', 'transience',\n",
       "       'resonance'],\n",
       "      dtype='object')"
      ]
     },
     "execution_count": 270,
     "metadata": {},
     "output_type": "execute_result"
    }
   ],
   "source": [
    "speeches_and_WPs.columns # DATE IS MISSING!!!!!!!"
   ]
  },
  {
   "cell_type": "code",
   "execution_count": 271,
   "metadata": {},
   "outputs": [
    {
     "data": {
      "text/html": [
       "<div>\n",
       "<style scoped>\n",
       "    .dataframe tbody tr th:only-of-type {\n",
       "        vertical-align: middle;\n",
       "    }\n",
       "\n",
       "    .dataframe tbody tr th {\n",
       "        vertical-align: top;\n",
       "    }\n",
       "\n",
       "    .dataframe thead th {\n",
       "        text-align: right;\n",
       "    }\n",
       "</style>\n",
       "<table border=\"1\" class=\"dataframe\">\n",
       "  <thead>\n",
       "    <tr style=\"text-align: right;\">\n",
       "      <th></th>\n",
       "      <th>speeches</th>\n",
       "      <th>WPs</th>\n",
       "      <th>date</th>\n",
       "      <th>wikidataid</th>\n",
       "      <th>novelty</th>\n",
       "      <th>transience</th>\n",
       "      <th>resonance</th>\n",
       "    </tr>\n",
       "  </thead>\n",
       "  <tbody>\n",
       "    <tr>\n",
       "      <th>121665</th>\n",
       "      <td>1060406</td>\n",
       "      <td>19</td>\n",
       "      <td>2021-05-06</td>\n",
       "      <td>Q65126</td>\n",
       "      <td>2.679382</td>\n",
       "      <td>2.976706</td>\n",
       "      <td>-0.297323</td>\n",
       "    </tr>\n",
       "    <tr>\n",
       "      <th>121666</th>\n",
       "      <td>1060623</td>\n",
       "      <td>19</td>\n",
       "      <td>2021-05-06</td>\n",
       "      <td>Q2590313</td>\n",
       "      <td>3.781264</td>\n",
       "      <td>3.646506</td>\n",
       "      <td>0.134759</td>\n",
       "    </tr>\n",
       "    <tr>\n",
       "      <th>121667</th>\n",
       "      <td>1060590</td>\n",
       "      <td>19</td>\n",
       "      <td>2021-05-06</td>\n",
       "      <td>Q1889410</td>\n",
       "      <td>3.451854</td>\n",
       "      <td>3.537038</td>\n",
       "      <td>-0.085183</td>\n",
       "    </tr>\n",
       "    <tr>\n",
       "      <th>121668</th>\n",
       "      <td>1060591</td>\n",
       "      <td>19</td>\n",
       "      <td>2021-05-06</td>\n",
       "      <td>Q15433815</td>\n",
       "      <td>2.709636</td>\n",
       "      <td>2.637204</td>\n",
       "      <td>0.072432</td>\n",
       "    </tr>\n",
       "    <tr>\n",
       "      <th>121669</th>\n",
       "      <td>1060374</td>\n",
       "      <td>19</td>\n",
       "      <td>2021-05-06</td>\n",
       "      <td>Q1581364</td>\n",
       "      <td>2.626677</td>\n",
       "      <td>3.011960</td>\n",
       "      <td>-0.385283</td>\n",
       "    </tr>\n",
       "    <tr>\n",
       "      <th>...</th>\n",
       "      <td>...</td>\n",
       "      <td>...</td>\n",
       "      <td>...</td>\n",
       "      <td>...</td>\n",
       "      <td>...</td>\n",
       "      <td>...</td>\n",
       "      <td>...</td>\n",
       "    </tr>\n",
       "    <tr>\n",
       "      <th>121819</th>\n",
       "      <td>1060559</td>\n",
       "      <td>19</td>\n",
       "      <td>2021-05-06</td>\n",
       "      <td>Q39678866</td>\n",
       "      <td>2.329983</td>\n",
       "      <td>2.506201</td>\n",
       "      <td>-0.176218</td>\n",
       "    </tr>\n",
       "    <tr>\n",
       "      <th>121820</th>\n",
       "      <td>1060669</td>\n",
       "      <td>19</td>\n",
       "      <td>2021-05-06</td>\n",
       "      <td>Q2080285</td>\n",
       "      <td>3.341758</td>\n",
       "      <td>3.534447</td>\n",
       "      <td>-0.192690</td>\n",
       "    </tr>\n",
       "    <tr>\n",
       "      <th>121821</th>\n",
       "      <td>1060501</td>\n",
       "      <td>19</td>\n",
       "      <td>2021-05-06</td>\n",
       "      <td>Q40998580</td>\n",
       "      <td>2.591633</td>\n",
       "      <td>2.651798</td>\n",
       "      <td>-0.060165</td>\n",
       "    </tr>\n",
       "    <tr>\n",
       "      <th>121822</th>\n",
       "      <td>1060553</td>\n",
       "      <td>19</td>\n",
       "      <td>2021-05-06</td>\n",
       "      <td>Q38504341</td>\n",
       "      <td>2.973285</td>\n",
       "      <td>2.903832</td>\n",
       "      <td>0.069452</td>\n",
       "    </tr>\n",
       "    <tr>\n",
       "      <th>121823</th>\n",
       "      <td>1060250</td>\n",
       "      <td>19</td>\n",
       "      <td>2021-05-06</td>\n",
       "      <td>NaN</td>\n",
       "      <td>3.395377</td>\n",
       "      <td>2.994598</td>\n",
       "      <td>0.400779</td>\n",
       "    </tr>\n",
       "  </tbody>\n",
       "</table>\n",
       "<p>159 rows × 7 columns</p>\n",
       "</div>"
      ],
      "text/plain": [
       "       speeches WPs        date wikidataid   novelty  transience  resonance\n",
       "121665  1060406  19  2021-05-06     Q65126  2.679382    2.976706  -0.297323\n",
       "121666  1060623  19  2021-05-06   Q2590313  3.781264    3.646506   0.134759\n",
       "121667  1060590  19  2021-05-06   Q1889410  3.451854    3.537038  -0.085183\n",
       "121668  1060591  19  2021-05-06  Q15433815  2.709636    2.637204   0.072432\n",
       "121669  1060374  19  2021-05-06   Q1581364  2.626677    3.011960  -0.385283\n",
       "...         ...  ..         ...        ...       ...         ...        ...\n",
       "121819  1060559  19  2021-05-06  Q39678866  2.329983    2.506201  -0.176218\n",
       "121820  1060669  19  2021-05-06   Q2080285  3.341758    3.534447  -0.192690\n",
       "121821  1060501  19  2021-05-06  Q40998580  2.591633    2.651798  -0.060165\n",
       "121822  1060553  19  2021-05-06  Q38504341  2.973285    2.903832   0.069452\n",
       "121823  1060250  19  2021-05-06        NaN  3.395377    2.994598   0.400779\n",
       "\n",
       "[159 rows x 7 columns]"
      ]
     },
     "execution_count": 271,
     "metadata": {},
     "output_type": "execute_result"
    }
   ],
   "source": [
    "speeches_and_WPs[speeches_and_WPs[\"date\"] == '2021-05-06']"
   ]
  },
  {
   "cell_type": "code",
   "execution_count": 272,
   "metadata": {},
   "outputs": [],
   "source": [
    "#id2rede"
   ]
  },
  {
   "cell_type": "code",
   "execution_count": 273,
   "metadata": {},
   "outputs": [],
   "source": [
    "speeches_and_KL_19 = pd.read_csv(PATH + \"./processed/speeches_and_KL_19.csv\").rename(columns = {\"Unnamed: 0\": \"speeches\"})"
   ]
  },
  {
   "cell_type": "code",
   "execution_count": 274,
   "metadata": {},
   "outputs": [
    {
     "data": {
      "text/html": [
       "<div>\n",
       "<style scoped>\n",
       "    .dataframe tbody tr th:only-of-type {\n",
       "        vertical-align: middle;\n",
       "    }\n",
       "\n",
       "    .dataframe tbody tr th {\n",
       "        vertical-align: top;\n",
       "    }\n",
       "\n",
       "    .dataframe thead th {\n",
       "        text-align: right;\n",
       "    }\n",
       "</style>\n",
       "<table border=\"1\" class=\"dataframe\">\n",
       "  <thead>\n",
       "    <tr style=\"text-align: right;\">\n",
       "      <th></th>\n",
       "      <th>speeches</th>\n",
       "      <th>novelty</th>\n",
       "      <th>transience</th>\n",
       "      <th>resonance</th>\n",
       "    </tr>\n",
       "  </thead>\n",
       "  <tbody>\n",
       "    <tr>\n",
       "      <th>19136</th>\n",
       "      <td>1066543</td>\n",
       "      <td>2.627851</td>\n",
       "      <td>2.967004</td>\n",
       "      <td>-0.339153</td>\n",
       "    </tr>\n",
       "    <tr>\n",
       "      <th>19137</th>\n",
       "      <td>1066550</td>\n",
       "      <td>2.267331</td>\n",
       "      <td>2.578270</td>\n",
       "      <td>-0.310940</td>\n",
       "    </tr>\n",
       "    <tr>\n",
       "      <th>19138</th>\n",
       "      <td>1066552</td>\n",
       "      <td>2.445844</td>\n",
       "      <td>2.681773</td>\n",
       "      <td>-0.235928</td>\n",
       "    </tr>\n",
       "    <tr>\n",
       "      <th>19139</th>\n",
       "      <td>1066554</td>\n",
       "      <td>2.325480</td>\n",
       "      <td>2.468612</td>\n",
       "      <td>-0.143131</td>\n",
       "    </tr>\n",
       "    <tr>\n",
       "      <th>19140</th>\n",
       "      <td>1066556</td>\n",
       "      <td>2.638225</td>\n",
       "      <td>3.201299</td>\n",
       "      <td>-0.563074</td>\n",
       "    </tr>\n",
       "  </tbody>\n",
       "</table>\n",
       "</div>"
      ],
      "text/plain": [
       "       speeches   novelty  transience  resonance\n",
       "19136   1066543  2.627851    2.967004  -0.339153\n",
       "19137   1066550  2.267331    2.578270  -0.310940\n",
       "19138   1066552  2.445844    2.681773  -0.235928\n",
       "19139   1066554  2.325480    2.468612  -0.143131\n",
       "19140   1066556  2.638225    3.201299  -0.563074"
      ]
     },
     "execution_count": 274,
     "metadata": {},
     "output_type": "execute_result"
    }
   ],
   "source": [
    "speeches_and_KL_19.tail()"
   ]
  },
  {
   "cell_type": "code",
   "execution_count": 275,
   "metadata": {},
   "outputs": [],
   "source": [
    "with open(PATH + 'processed/speech2KL_WP19.txt', 'r') as infile: \n",
    "    speech2KL_WP19 = json.load(infile)\n",
    "infile.close()"
   ]
  },
  {
   "cell_type": "code",
   "execution_count": 276,
   "metadata": {},
   "outputs": [
    {
     "data": {
      "text/plain": [
       "dict_keys(['5', '7', '10', '25', '100'])"
      ]
     },
     "execution_count": 276,
     "metadata": {},
     "output_type": "execute_result"
    }
   ],
   "source": [
    "speech2KL_WP19.keys()"
   ]
  },
  {
   "cell_type": "code",
   "execution_count": 277,
   "metadata": {},
   "outputs": [
    {
     "data": {
      "text/plain": [
       "Index(['speech', 'WPs', 'date', 'wikidataid', 'novelty', 'transience',\n",
       "       'resonance', 'politicianID', 'surname_lower_comb',\n",
       "       'forename_lower_comb', 'pageid', 'name', 'year', 'month'],\n",
       "      dtype='object')"
      ]
     },
     "execution_count": 277,
     "metadata": {},
     "output_type": "execute_result"
    }
   ],
   "source": [
    "NamesWPSpeeches.columns"
   ]
  },
  {
   "cell_type": "markdown",
   "metadata": {},
   "source": [
    "# add Party"
   ]
  },
  {
   "cell_type": "code",
   "execution_count": 278,
   "metadata": {},
   "outputs": [],
   "source": [
    "party_dic = {'BÜNDNIS 90/DIE GRÜNEN': 'BÜNDNIS 90/DIE GRÜNEN', \n",
    "             'PDS': 'PDS', \n",
    "             'CDU': \"CDU/CSU\", \n",
    "             'SPD': 'SPD', \n",
    "             'FDP': 'FDP', \n",
    "             'CSU': \"CDU/CSU\",\n",
    "             'DIE LINKE.': 'DIE LINKE.', \n",
    "             'Die Linke.': 'DIE LINKE.',\n",
    "             'PDS/LL': 'PDS', \n",
    "             'Plos': 'Parteilos', \n",
    "             'AfD': 'AfD', \n",
    "            \"CDU/CSU\" : \"CDU/CSU\", \n",
    "            'Parteilos': 'Parteilos'}"
   ]
  },
  {
   "cell_type": "code",
   "execution_count": 279,
   "metadata": {},
   "outputs": [],
   "source": [
    "MissingName2Party = {'Otto Graf Lambsdorff': \"FDP\", \n",
    "                     'Jörg Wolfgang Ganschow': \"FDP\", \n",
    "                     'Jürgen Möllemann': \"FDP\", \n",
    "                     'Rainer Ortleb': \"FDP\", \n",
    "                     'Harald B. Schäfer': \"SPD\", \n",
    "                     'Joachim Graf von Schönburg-Glauchau': \"CDU\", \n",
    "                     'Peter Reuschenbach': \"SPD\", \n",
    "                     'Uwe Lühr': \"FDP\", \n",
    "                     'Cornelia von Teichman und Logischen': \"FDP\", \n",
    "                     'Heinrich Leonhard Kolb': \"FDP\", \n",
    "                     'Verena Wohlleben': \"SPD\", \n",
    "                     'Lieselott Blunck': \"SPD\", \n",
    "                     'Kurt Rossmanith': \"CSU\", \n",
    "                     'Hans H. Gattermann': \"FDP\", \n",
    "                     'Karsten Voigt': \"SPD\", \n",
    "                     'Gerhard O. Pfeffermann': \"CDU\",  \n",
    "                     'Ina Albowitz': \"FDP\", \n",
    "                     'Petra Bläss': \"PDS\", \n",
    "                     'Lutz Stavenhagen': \"CDU\", \n",
    "                     'Ferdinand Tillmann': \"CDU\", \n",
    "                     'Claudia Nolte': \"CDU\", \n",
    "                     'Gunter Weißgerber': \"SPD\", \n",
    "                     'Peter Paterna': \"SPD\", \n",
    "                     'Ursula Lehr': \"CDU\", \n",
    "                     'Klaus Lippold': \"CDU\", \n",
    "                     'Hans-Werner Müller': \"CDU\", \n",
    "                     'Roswitha Verhülsdonk': \"CDU\", \n",
    "                     'Ursula Seiler-Albring': \"FDP\", \n",
    "                     'Karl-Heinz Schröter': \"SPD\", \n",
    "                     'Herbert Meißner': \"SPD\", \n",
    "                     'Hedda Meseke': \"CDU\", \n",
    "                     'Erich G. Fritz': \"CDU\", \n",
    "                     'Heinz-Dieter Hackel': \"FDP\", \n",
    "                     'Jochen Welt': \"SPD\", \n",
    "                     'Paul Friedhoff': \"FDP\", \n",
    "                     'Hans Georg Wagner': \"SPD\", \n",
    "                     'Peter Harry Carstensen': \"CDU\", \n",
    "                     'Werner Skowron': \"CDU\", \n",
    "                     'Walter Franz Altherr': \"CDU\", \n",
    "                     'Karl Hermann Haack': \"SPD\", \n",
    "                     'Claire Marienfeld': \"CDU\", \n",
    "                     'Werner Schuster': \"SPD\", \n",
    "                     'Klaus-Dieter Uelhoff': \"CDU\", \n",
    "                     'Karl H. Fell': \"CDU\", \n",
    "                     'Erich Maaß': \"CDU\", \n",
    "                     'Hans P. H. Schuster': \"FDP\", \n",
    "                     'Reinhard Meyer zu Bentrup': \"CDU\", \n",
    "                     'Hans A. Engelhard': \"FDP\", \n",
    "                     'Heinrich Graf von Einsiedel': \"SPD\", \n",
    "                     'Gila Altmann': \"Bündnis 90/Die Grünen\", \n",
    "                     'Halo Saibold': \"Bündnis 90/Die Grünen\", \n",
    "                     'Wolfgang Ilte': \"SPD\", \n",
    "                     'Dagmar Wöhrl': \"CSU\", \n",
    "                     'Franz Peter Basten': \"CDU\", \n",
    "                     'Gottfried Tröger': \"CDU\", \n",
    "                     'Wilma Glücklich': \"CDU\", \n",
    "                     'Bernd Klaußner': \"CDU\", \n",
    "                     'Karl A. Lamers': \"CDU\",  \n",
    "                     'Ulrike Merten': \"SPD\", \n",
    "                     'Sabine Jünger': \"Die Linke.\", \n",
    "                     'Axel Fischer': \"CDU\", \n",
    "                     'Sylvia Bonitz': \"CDU\",  \n",
    "                     'Monika Balt': \"PDS\", \n",
    "                     'René Röspel': \"SPD\",  \n",
    "                     'Gudrun Serowiecki': \"FDP\",  \n",
    "                     'Melanie Oßwald': \"CSU\", \n",
    "                     'Elvira Drobinski-Weiß': \"SPD\",  \n",
    "                     'Jutta Krüger-Jacob': \"Bündnis 90/Die Grünen\", \n",
    "                     'Ursula von der Leyen': \"CDU\", \n",
    "                     'Dorothée Menzner': \"Die Linke.\",  \n",
    "                     'Sevim Dağdelen': \"Die Linke.\", \n",
    "                     'Lutz Heilmann': \"Die Linke.\",  \n",
    "                     'Andreas Lämmel': \"CDU\",  \n",
    "                     'Philipp Mißfelder': \"CDU\", \n",
    "                     'Henning Otte': \"CDU\",  \n",
    "                     'Matthias Birkwald': \"Die Linke.\",  \n",
    "                     'Hans-Georg von der Marwitz': \"CDU\", \n",
    "                     'Claudia Bögel': \"FDP\",  \n",
    "                     'Aydan Özoğuz': \"SPD\",  \n",
    "                     'Alexander Neu': \"Die Linke.\", \n",
    "                     'Daniela De Ridder': \"SPD\", \n",
    "                     'Charles M. Huber': \"CDU\", \n",
    "                     'Philipp Graf von und zu Lerchenfeld': \"CSU\", \n",
    "                     'Sylvia Jörrißen': \"CDU\", \n",
    "                     'André Berghegger': \"CDU\",  \n",
    "                     'Alexander Graf Lambsdorff': \"FDP\", \n",
    "                     'Amira Mohamed Ali': \"Die Linke.\",  \n",
    "                     'Olaf in der Beek': \"FDP\"}"
   ]
  },
  {
   "cell_type": "code",
   "execution_count": 280,
   "metadata": {},
   "outputs": [],
   "source": [
    "with open(PATH + 'processed/PolID2info.txt', 'r') as infile:\n",
    "    PolID2info = json.load(infile)\n",
    "infile.close()"
   ]
  },
  {
   "cell_type": "code",
   "execution_count": 281,
   "metadata": {},
   "outputs": [
    {
     "data": {
      "text/plain": [
       "'SPD'"
      ]
     },
     "execution_count": 281,
     "metadata": {},
     "output_type": "execute_result"
    }
   ],
   "source": [
    "PolID2info['11000246'][\"PARTY\"]#.keys()"
   ]
  },
  {
   "cell_type": "code",
   "execution_count": 282,
   "metadata": {},
   "outputs": [
    {
     "data": {
      "text/plain": [
       "Index(['speech', 'WPs', 'date', 'wikidataid', 'novelty', 'transience',\n",
       "       'resonance', 'politicianID', 'surname_lower_comb',\n",
       "       'forename_lower_comb', 'pageid', 'name', 'year', 'month'],\n",
       "      dtype='object')"
      ]
     },
     "execution_count": 282,
     "metadata": {},
     "output_type": "execute_result"
    }
   ],
   "source": [
    "NamesWPSpeeches.columns"
   ]
  },
  {
   "cell_type": "code",
   "execution_count": 283,
   "metadata": {},
   "outputs": [],
   "source": [
    "polIds = NamesWPSpeeches['politicianID']\n",
    "polNames = NamesWPSpeeches['name']"
   ]
  },
  {
   "cell_type": "code",
   "execution_count": 284,
   "metadata": {},
   "outputs": [
    {
     "ename": "KeyError",
     "evalue": "'André Hahn'",
     "output_type": "error",
     "traceback": [
      "\u001b[0;31m---------------------------------------------------------------------------\u001b[0m",
      "\u001b[0;31mKeyError\u001b[0m                                  Traceback (most recent call last)",
      "\u001b[0;32m<ipython-input-284-4c17307cfeba>\u001b[0m in \u001b[0;36m<module>\u001b[0;34m\u001b[0m\n\u001b[1;32m      6\u001b[0m                 \u001b[0mParties\u001b[0m\u001b[0;34m.\u001b[0m\u001b[0mappend\u001b[0m\u001b[0;34m(\u001b[0m\u001b[0mPolID2info\u001b[0m\u001b[0;34m[\u001b[0m\u001b[0mstr\u001b[0m\u001b[0;34m(\u001b[0m\u001b[0mint\u001b[0m\u001b[0;34m(\u001b[0m\u001b[0mpolIds\u001b[0m\u001b[0;34m[\u001b[0m\u001b[0mi\u001b[0m\u001b[0;34m]\u001b[0m\u001b[0;34m)\u001b[0m\u001b[0;34m)\u001b[0m\u001b[0;34m]\u001b[0m\u001b[0;34m[\u001b[0m\u001b[0;34m\"PARTY\"\u001b[0m\u001b[0;34m]\u001b[0m\u001b[0;34m)\u001b[0m\u001b[0;34m\u001b[0m\u001b[0;34m\u001b[0m\u001b[0m\n\u001b[1;32m      7\u001b[0m             \u001b[0;32melif\u001b[0m \u001b[0mtype\u001b[0m\u001b[0;34m(\u001b[0m\u001b[0mpolNames\u001b[0m\u001b[0;34m[\u001b[0m\u001b[0mi\u001b[0m\u001b[0;34m]\u001b[0m\u001b[0;34m)\u001b[0m \u001b[0;34m==\u001b[0m \u001b[0mstr\u001b[0m\u001b[0;34m:\u001b[0m\u001b[0;34m\u001b[0m\u001b[0;34m\u001b[0m\u001b[0m\n\u001b[0;32m----> 8\u001b[0;31m                 \u001b[0mParties\u001b[0m\u001b[0;34m.\u001b[0m\u001b[0mappend\u001b[0m\u001b[0;34m(\u001b[0m\u001b[0mMissingName2Party\u001b[0m\u001b[0;34m[\u001b[0m\u001b[0mpolNames\u001b[0m\u001b[0;34m[\u001b[0m\u001b[0mi\u001b[0m\u001b[0;34m]\u001b[0m\u001b[0;34m]\u001b[0m\u001b[0;34m)\u001b[0m\u001b[0;34m\u001b[0m\u001b[0;34m\u001b[0m\u001b[0m\n\u001b[0m\u001b[1;32m      9\u001b[0m             \u001b[0;32melse\u001b[0m\u001b[0;34m:\u001b[0m\u001b[0;34m\u001b[0m\u001b[0;34m\u001b[0m\u001b[0m\n\u001b[1;32m     10\u001b[0m                 \u001b[0mParties\u001b[0m\u001b[0;34m.\u001b[0m\u001b[0mappend\u001b[0m\u001b[0;34m(\u001b[0m\u001b[0mnp\u001b[0m\u001b[0;34m.\u001b[0m\u001b[0mnan\u001b[0m\u001b[0;34m)\u001b[0m\u001b[0;34m\u001b[0m\u001b[0;34m\u001b[0m\u001b[0m\n",
      "\u001b[0;31mKeyError\u001b[0m: 'André Hahn'"
     ]
    }
   ],
   "source": [
    "Parties = []\n",
    "for i in range(len(polIds)): \n",
    "    if np.isnan(polIds[i]) == False:\n",
    "        if str(int(polIds[i])) in PolID2info.keys():\n",
    "            if \"PARTY\" in PolID2info[str(int(polIds[i]))].keys():\n",
    "                Parties.append(PolID2info[str(int(polIds[i]))][\"PARTY\"])\n",
    "            elif type(polNames[i]) == str: \n",
    "                Parties.append(MissingName2Party[polNames[i]])\n",
    "            else: \n",
    "                Parties.append(np.nan)\n",
    "        elif type(polNames[i]) == str: \n",
    "                Parties.append(MissingName2Party[polNames[i]])\n",
    "        else: \n",
    "            Parties.append(np.nan)\n",
    "    elif type(polNames[i]) == str: \n",
    "        Parties.append(MissingName2Party[polNames[i]])\n",
    "    else: \n",
    "        Parties.append(np.nan)"
   ]
  },
  {
   "cell_type": "code",
   "execution_count": null,
   "metadata": {},
   "outputs": [],
   "source": [
    "type(polNames[121037]) == str, type(\"Herbert\") == str"
   ]
  },
  {
   "cell_type": "code",
   "execution_count": null,
   "metadata": {},
   "outputs": [],
   "source": [
    "len(Parties), len(polIds)"
   ]
  },
  {
   "cell_type": "code",
   "execution_count": null,
   "metadata": {},
   "outputs": [],
   "source": [
    "NamesWPSpeeches[\"PARTY_temp\"] = pd.Series(Parties)"
   ]
  },
  {
   "cell_type": "code",
   "execution_count": null,
   "metadata": {},
   "outputs": [],
   "source": [
    "NamesWPSpeeches[\"PARTY_temp\"].unique()"
   ]
  },
  {
   "cell_type": "code",
   "execution_count": null,
   "metadata": {},
   "outputs": [],
   "source": [
    "NamesWPSpeeches[\"PARTY\"] = NamesWPSpeeches[\"PARTY_temp\"].map(party_dic).fillna(NamesWPSpeeches['PARTY_temp'])"
   ]
  },
  {
   "cell_type": "code",
   "execution_count": null,
   "metadata": {},
   "outputs": [],
   "source": [
    "NamesWPSpeeches[\"PARTY\"].unique()"
   ]
  },
  {
   "cell_type": "code",
   "execution_count": 306,
   "metadata": {},
   "outputs": [],
   "source": [
    "#NamesWPSpeeches = NamesWPSpeeches.drop(columns = [\"PARTY_temp\"])"
   ]
  },
  {
   "cell_type": "code",
   "execution_count": 186,
   "metadata": {},
   "outputs": [
    {
     "data": {
      "text/plain": [
       "0                       SPD\n",
       "1                   CDU/CSU\n",
       "2     BÜNDNIS 90/DIE GRÜNEN\n",
       "3                   CDU/CSU\n",
       "4                       PDS\n",
       "5                   CDU/CSU\n",
       "6                       SPD\n",
       "7                       FDP\n",
       "8     BÜNDNIS 90/DIE GRÜNEN\n",
       "9                       SPD\n",
       "10                      FDP\n",
       "11                  CDU/CSU\n",
       "12                      SPD\n",
       "13                  CDU/CSU\n",
       "14                      SPD\n",
       "15                      FDP\n",
       "16                  CDU/CSU\n",
       "17                  CDU/CSU\n",
       "18                      SPD\n",
       "19                      FDP\n",
       "Name: PARTY, dtype: object"
      ]
     },
     "execution_count": 186,
     "metadata": {},
     "output_type": "execute_result"
    }
   ],
   "source": [
    "NamesWPSpeeches[\"PARTY\"].head(20)"
   ]
  },
  {
   "cell_type": "code",
   "execution_count": 227,
   "metadata": {},
   "outputs": [],
   "source": [
    "#len(NamesWPSpeeches[(NamesWPSpeeches[\"PARTY\"].isna()) & (NamesWPSpeeches[\"name\"].isna() == False)][\"name\"].unique())"
   ]
  },
  {
   "cell_type": "code",
   "execution_count": 229,
   "metadata": {},
   "outputs": [],
   "source": [
    "#len(NamesWPSpeeches[\"name\"].unique())-len(NamesWPSpeeches[(NamesWPSpeeches[\"PARTY\"].isna()) & (NamesWPSpeeches[\"name\"].isna() == False)][\"name\"].unique()), len(NamesWPSpeeches[(NamesWPSpeeches[\"PARTY\"].isna()) & (NamesWPSpeeches[\"name\"].isna() == False)][\"name\"].unique())/len(NamesWPSpeeches[\"name\"].unique())"
   ]
  },
  {
   "cell_type": "code",
   "execution_count": 230,
   "metadata": {},
   "outputs": [],
   "source": [
    "#MPs_without_party = NamesWPSpeeches[(NamesWPSpeeches[\"PARTY\"].isna()) & (NamesWPSpeeches[\"name\"].isna() == False)][\"name\"].unique()\n",
    "#MPs_without_party"
   ]
  },
  {
   "cell_type": "code",
   "execution_count": 286,
   "metadata": {},
   "outputs": [
    {
     "data": {
      "text/html": [
       "<div>\n",
       "<style scoped>\n",
       "    .dataframe tbody tr th:only-of-type {\n",
       "        vertical-align: middle;\n",
       "    }\n",
       "\n",
       "    .dataframe tbody tr th {\n",
       "        vertical-align: top;\n",
       "    }\n",
       "\n",
       "    .dataframe thead th {\n",
       "        text-align: right;\n",
       "    }\n",
       "</style>\n",
       "<table border=\"1\" class=\"dataframe\">\n",
       "  <thead>\n",
       "    <tr style=\"text-align: right;\">\n",
       "      <th></th>\n",
       "      <th>speech</th>\n",
       "      <th>WPs</th>\n",
       "      <th>date</th>\n",
       "      <th>wikidataid</th>\n",
       "      <th>novelty</th>\n",
       "      <th>transience</th>\n",
       "      <th>resonance</th>\n",
       "      <th>politicianID</th>\n",
       "      <th>surname_lower_comb</th>\n",
       "      <th>forename_lower_comb</th>\n",
       "      <th>pageid</th>\n",
       "      <th>name</th>\n",
       "      <th>year</th>\n",
       "      <th>month</th>\n",
       "    </tr>\n",
       "  </thead>\n",
       "  <tbody>\n",
       "    <tr>\n",
       "      <th>0</th>\n",
       "      <td>471526</td>\n",
       "      <td>12</td>\n",
       "      <td>1990-12-20</td>\n",
       "      <td>Q2514</td>\n",
       "      <td>2.613467</td>\n",
       "      <td>2.524375</td>\n",
       "      <td>0.089092</td>\n",
       "      <td>11000246.0</td>\n",
       "      <td>brandt</td>\n",
       "      <td>willy</td>\n",
       "      <td>1518001.0</td>\n",
       "      <td>Willy Brandt</td>\n",
       "      <td>1990</td>\n",
       "      <td>12</td>\n",
       "    </tr>\n",
       "    <tr>\n",
       "      <th>1</th>\n",
       "      <td>471554</td>\n",
       "      <td>12</td>\n",
       "      <td>1990-12-20</td>\n",
       "      <td>Q66286</td>\n",
       "      <td>3.038764</td>\n",
       "      <td>3.269209</td>\n",
       "      <td>-0.230445</td>\n",
       "      <td>11002287.0</td>\n",
       "      <td>süssmuth</td>\n",
       "      <td>rita</td>\n",
       "      <td>4253.0</td>\n",
       "      <td>Rita Süssmuth</td>\n",
       "      <td>1990</td>\n",
       "      <td>12</td>\n",
       "    </tr>\n",
       "    <tr>\n",
       "      <th>2</th>\n",
       "      <td>471532</td>\n",
       "      <td>12</td>\n",
       "      <td>1990-12-20</td>\n",
       "      <td>Q895636</td>\n",
       "      <td>3.009644</td>\n",
       "      <td>3.468754</td>\n",
       "      <td>-0.459110</td>\n",
       "      <td>11002354.0</td>\n",
       "      <td>ullmann</td>\n",
       "      <td>wolfgang</td>\n",
       "      <td>300219.0</td>\n",
       "      <td>Wolfgang Ullmann</td>\n",
       "      <td>1990</td>\n",
       "      <td>12</td>\n",
       "    </tr>\n",
       "    <tr>\n",
       "      <th>3</th>\n",
       "      <td>471527</td>\n",
       "      <td>12</td>\n",
       "      <td>1990-12-20</td>\n",
       "      <td>Q65389</td>\n",
       "      <td>3.212199</td>\n",
       "      <td>3.226515</td>\n",
       "      <td>-0.014315</td>\n",
       "      <td>11000418.0</td>\n",
       "      <td>dregger</td>\n",
       "      <td>alfred</td>\n",
       "      <td>73446.0</td>\n",
       "      <td>Alfred Dregger</td>\n",
       "      <td>1990</td>\n",
       "      <td>12</td>\n",
       "    </tr>\n",
       "    <tr>\n",
       "      <th>4</th>\n",
       "      <td>471536</td>\n",
       "      <td>12</td>\n",
       "      <td>1990-12-20</td>\n",
       "      <td>Q1594398</td>\n",
       "      <td>3.773353</td>\n",
       "      <td>3.857674</td>\n",
       "      <td>-0.084320</td>\n",
       "      <td>11000891.0</td>\n",
       "      <td>heuer</td>\n",
       "      <td>uwe-jens</td>\n",
       "      <td>1097338.0</td>\n",
       "      <td>Uwe-Jens Heuer</td>\n",
       "      <td>1990</td>\n",
       "      <td>12</td>\n",
       "    </tr>\n",
       "    <tr>\n",
       "      <th>5</th>\n",
       "      <td>471538</td>\n",
       "      <td>12</td>\n",
       "      <td>1990-12-20</td>\n",
       "      <td>Q90872</td>\n",
       "      <td>3.886377</td>\n",
       "      <td>4.169470</td>\n",
       "      <td>-0.283093</td>\n",
       "      <td>11000230.0</td>\n",
       "      <td>bohl</td>\n",
       "      <td>friedrich</td>\n",
       "      <td>68441.0</td>\n",
       "      <td>Friedrich Bohl</td>\n",
       "      <td>1990</td>\n",
       "      <td>12</td>\n",
       "    </tr>\n",
       "    <tr>\n",
       "      <th>6</th>\n",
       "      <td>471540</td>\n",
       "      <td>12</td>\n",
       "      <td>1990-12-20</td>\n",
       "      <td>Q62202</td>\n",
       "      <td>3.652626</td>\n",
       "      <td>3.742193</td>\n",
       "      <td>-0.089567</td>\n",
       "      <td>11002278.0</td>\n",
       "      <td>struck</td>\n",
       "      <td>peter</td>\n",
       "      <td>2775624.0</td>\n",
       "      <td>Peter Struck</td>\n",
       "      <td>1990</td>\n",
       "      <td>12</td>\n",
       "    </tr>\n",
       "    <tr>\n",
       "      <th>7</th>\n",
       "      <td>471542</td>\n",
       "      <td>12</td>\n",
       "      <td>1990-12-20</td>\n",
       "      <td>Q1671024</td>\n",
       "      <td>3.591342</td>\n",
       "      <td>4.055185</td>\n",
       "      <td>-0.463842</td>\n",
       "      <td>11002557.0</td>\n",
       "      <td>wolfgramm</td>\n",
       "      <td>torsten</td>\n",
       "      <td>217661.0</td>\n",
       "      <td>Torsten Wolfgramm</td>\n",
       "      <td>1990</td>\n",
       "      <td>12</td>\n",
       "    </tr>\n",
       "    <tr>\n",
       "      <th>8</th>\n",
       "      <td>471544</td>\n",
       "      <td>12</td>\n",
       "      <td>1990-12-20</td>\n",
       "      <td>Q1439517</td>\n",
       "      <td>4.003503</td>\n",
       "      <td>4.374980</td>\n",
       "      <td>-0.371477</td>\n",
       "      <td>11001159.0</td>\n",
       "      <td>köppe</td>\n",
       "      <td>ingrid</td>\n",
       "      <td>1139068.0</td>\n",
       "      <td>Ingrid Köppe</td>\n",
       "      <td>1990</td>\n",
       "      <td>12</td>\n",
       "    </tr>\n",
       "    <tr>\n",
       "      <th>9</th>\n",
       "      <td>471547</td>\n",
       "      <td>12</td>\n",
       "      <td>1990-12-20</td>\n",
       "      <td>Q1604393</td>\n",
       "      <td>NaN</td>\n",
       "      <td>NaN</td>\n",
       "      <td>NaN</td>\n",
       "      <td>11000127.0</td>\n",
       "      <td>becker</td>\n",
       "      <td>helmuth</td>\n",
       "      <td>394854.0</td>\n",
       "      <td>Helmuth Becker</td>\n",
       "      <td>1990</td>\n",
       "      <td>12</td>\n",
       "    </tr>\n",
       "    <tr>\n",
       "      <th>10</th>\n",
       "      <td>471549</td>\n",
       "      <td>12</td>\n",
       "      <td>1990-12-20</td>\n",
       "      <td>Q124036</td>\n",
       "      <td>NaN</td>\n",
       "      <td>NaN</td>\n",
       "      <td>NaN</td>\n",
       "      <td>11000342.0</td>\n",
       "      <td>cronenberg</td>\n",
       "      <td>dieter-julius</td>\n",
       "      <td>237953.0</td>\n",
       "      <td>Dieter-Julius Cronenberg</td>\n",
       "      <td>1990</td>\n",
       "      <td>12</td>\n",
       "    </tr>\n",
       "    <tr>\n",
       "      <th>11</th>\n",
       "      <td>471551</td>\n",
       "      <td>12</td>\n",
       "      <td>1990-12-20</td>\n",
       "      <td>Q90844</td>\n",
       "      <td>NaN</td>\n",
       "      <td>NaN</td>\n",
       "      <td>NaN</td>\n",
       "      <td>11001114.0</td>\n",
       "      <td>klein</td>\n",
       "      <td>hans</td>\n",
       "      <td>68502.0</td>\n",
       "      <td>Hans Klein</td>\n",
       "      <td>1990</td>\n",
       "      <td>12</td>\n",
       "    </tr>\n",
       "    <tr>\n",
       "      <th>12</th>\n",
       "      <td>471553</td>\n",
       "      <td>12</td>\n",
       "      <td>1990-12-20</td>\n",
       "      <td>Q69677</td>\n",
       "      <td>NaN</td>\n",
       "      <td>NaN</td>\n",
       "      <td>NaN</td>\n",
       "      <td>11002016.0</td>\n",
       "      <td>schmidt</td>\n",
       "      <td>renate</td>\n",
       "      <td>14924.0</td>\n",
       "      <td>Renate Schmidt</td>\n",
       "      <td>1990</td>\n",
       "      <td>12</td>\n",
       "    </tr>\n",
       "    <tr>\n",
       "      <th>13</th>\n",
       "      <td>471574</td>\n",
       "      <td>12</td>\n",
       "      <td>1991-01-14</td>\n",
       "      <td>Q66286</td>\n",
       "      <td>2.582023</td>\n",
       "      <td>2.406808</td>\n",
       "      <td>0.175215</td>\n",
       "      <td>11002287.0</td>\n",
       "      <td>süssmuth</td>\n",
       "      <td>rita</td>\n",
       "      <td>4253.0</td>\n",
       "      <td>Rita Süssmuth</td>\n",
       "      <td>1991</td>\n",
       "      <td>1</td>\n",
       "    </tr>\n",
       "    <tr>\n",
       "      <th>14</th>\n",
       "      <td>471561</td>\n",
       "      <td>12</td>\n",
       "      <td>1991-01-14</td>\n",
       "      <td>Q552483</td>\n",
       "      <td>3.059920</td>\n",
       "      <td>2.913479</td>\n",
       "      <td>0.146441</td>\n",
       "      <td>11002379.0</td>\n",
       "      <td>vogel</td>\n",
       "      <td>hans-jochen</td>\n",
       "      <td>52178.0</td>\n",
       "      <td>Hans-Jochen Vogel</td>\n",
       "      <td>1991</td>\n",
       "      <td>1</td>\n",
       "    </tr>\n",
       "    <tr>\n",
       "      <th>15</th>\n",
       "      <td>471568</td>\n",
       "      <td>12</td>\n",
       "      <td>1991-01-14</td>\n",
       "      <td>Q60153</td>\n",
       "      <td>2.779280</td>\n",
       "      <td>2.406154</td>\n",
       "      <td>0.373126</td>\n",
       "      <td>11001272.0</td>\n",
       "      <td>lambsdorff</td>\n",
       "      <td>otto graf</td>\n",
       "      <td>57565.0</td>\n",
       "      <td>Otto Graf Lambsdorff</td>\n",
       "      <td>1991</td>\n",
       "      <td>1</td>\n",
       "    </tr>\n",
       "    <tr>\n",
       "      <th>16</th>\n",
       "      <td>471556</td>\n",
       "      <td>12</td>\n",
       "      <td>1991-01-14</td>\n",
       "      <td>Q2518</td>\n",
       "      <td>2.755624</td>\n",
       "      <td>2.111408</td>\n",
       "      <td>0.644216</td>\n",
       "      <td>11001165.0</td>\n",
       "      <td>kohl</td>\n",
       "      <td>helmut</td>\n",
       "      <td>2155.0</td>\n",
       "      <td>Helmut Kohl</td>\n",
       "      <td>1991</td>\n",
       "      <td>1</td>\n",
       "    </tr>\n",
       "    <tr>\n",
       "      <th>17</th>\n",
       "      <td>471559</td>\n",
       "      <td>12</td>\n",
       "      <td>1991-01-14</td>\n",
       "      <td>Q85844</td>\n",
       "      <td>2.636132</td>\n",
       "      <td>2.335978</td>\n",
       "      <td>0.300154</td>\n",
       "      <td>11000228.0</td>\n",
       "      <td>bötsch</td>\n",
       "      <td>wolfgang</td>\n",
       "      <td>67618.0</td>\n",
       "      <td>Wolfgang Bötsch</td>\n",
       "      <td>1991</td>\n",
       "      <td>1</td>\n",
       "    </tr>\n",
       "    <tr>\n",
       "      <th>18</th>\n",
       "      <td>471567</td>\n",
       "      <td>12</td>\n",
       "      <td>1991-01-14</td>\n",
       "      <td>Q1454589</td>\n",
       "      <td>3.146056</td>\n",
       "      <td>3.057949</td>\n",
       "      <td>0.088107</td>\n",
       "      <td>11000425.0</td>\n",
       "      <td>duve</td>\n",
       "      <td>freimut</td>\n",
       "      <td>246009.0</td>\n",
       "      <td>Freimut Duve</td>\n",
       "      <td>1991</td>\n",
       "      <td>1</td>\n",
       "    </tr>\n",
       "    <tr>\n",
       "      <th>19</th>\n",
       "      <td>471569</td>\n",
       "      <td>12</td>\n",
       "      <td>1991-01-14</td>\n",
       "      <td>Q1715571</td>\n",
       "      <td>4.235937</td>\n",
       "      <td>4.162917</td>\n",
       "      <td>0.073019</td>\n",
       "      <td>11000629.0</td>\n",
       "      <td>ganschow</td>\n",
       "      <td>jörg wolfgang</td>\n",
       "      <td>6110269.0</td>\n",
       "      <td>Jörg Wolfgang Ganschow</td>\n",
       "      <td>1991</td>\n",
       "      <td>1</td>\n",
       "    </tr>\n",
       "  </tbody>\n",
       "</table>\n",
       "</div>"
      ],
      "text/plain": [
       "    speech WPs        date wikidataid   novelty  transience  resonance  \\\n",
       "0   471526  12  1990-12-20      Q2514  2.613467    2.524375   0.089092   \n",
       "1   471554  12  1990-12-20     Q66286  3.038764    3.269209  -0.230445   \n",
       "2   471532  12  1990-12-20    Q895636  3.009644    3.468754  -0.459110   \n",
       "3   471527  12  1990-12-20     Q65389  3.212199    3.226515  -0.014315   \n",
       "4   471536  12  1990-12-20   Q1594398  3.773353    3.857674  -0.084320   \n",
       "5   471538  12  1990-12-20     Q90872  3.886377    4.169470  -0.283093   \n",
       "6   471540  12  1990-12-20     Q62202  3.652626    3.742193  -0.089567   \n",
       "7   471542  12  1990-12-20   Q1671024  3.591342    4.055185  -0.463842   \n",
       "8   471544  12  1990-12-20   Q1439517  4.003503    4.374980  -0.371477   \n",
       "9   471547  12  1990-12-20   Q1604393       NaN         NaN        NaN   \n",
       "10  471549  12  1990-12-20    Q124036       NaN         NaN        NaN   \n",
       "11  471551  12  1990-12-20     Q90844       NaN         NaN        NaN   \n",
       "12  471553  12  1990-12-20     Q69677       NaN         NaN        NaN   \n",
       "13  471574  12  1991-01-14     Q66286  2.582023    2.406808   0.175215   \n",
       "14  471561  12  1991-01-14    Q552483  3.059920    2.913479   0.146441   \n",
       "15  471568  12  1991-01-14     Q60153  2.779280    2.406154   0.373126   \n",
       "16  471556  12  1991-01-14      Q2518  2.755624    2.111408   0.644216   \n",
       "17  471559  12  1991-01-14     Q85844  2.636132    2.335978   0.300154   \n",
       "18  471567  12  1991-01-14   Q1454589  3.146056    3.057949   0.088107   \n",
       "19  471569  12  1991-01-14   Q1715571  4.235937    4.162917   0.073019   \n",
       "\n",
       "    politicianID surname_lower_comb forename_lower_comb     pageid  \\\n",
       "0     11000246.0             brandt               willy  1518001.0   \n",
       "1     11002287.0           süssmuth                rita     4253.0   \n",
       "2     11002354.0            ullmann            wolfgang   300219.0   \n",
       "3     11000418.0            dregger              alfred    73446.0   \n",
       "4     11000891.0              heuer            uwe-jens  1097338.0   \n",
       "5     11000230.0               bohl           friedrich    68441.0   \n",
       "6     11002278.0             struck               peter  2775624.0   \n",
       "7     11002557.0          wolfgramm             torsten   217661.0   \n",
       "8     11001159.0              köppe              ingrid  1139068.0   \n",
       "9     11000127.0             becker             helmuth   394854.0   \n",
       "10    11000342.0         cronenberg       dieter-julius   237953.0   \n",
       "11    11001114.0              klein                hans    68502.0   \n",
       "12    11002016.0            schmidt              renate    14924.0   \n",
       "13    11002287.0           süssmuth                rita     4253.0   \n",
       "14    11002379.0              vogel         hans-jochen    52178.0   \n",
       "15    11001272.0         lambsdorff           otto graf    57565.0   \n",
       "16    11001165.0               kohl              helmut     2155.0   \n",
       "17    11000228.0             bötsch            wolfgang    67618.0   \n",
       "18    11000425.0               duve             freimut   246009.0   \n",
       "19    11000629.0           ganschow       jörg wolfgang  6110269.0   \n",
       "\n",
       "                        name  year  month  \n",
       "0               Willy Brandt  1990     12  \n",
       "1              Rita Süssmuth  1990     12  \n",
       "2           Wolfgang Ullmann  1990     12  \n",
       "3             Alfred Dregger  1990     12  \n",
       "4             Uwe-Jens Heuer  1990     12  \n",
       "5             Friedrich Bohl  1990     12  \n",
       "6               Peter Struck  1990     12  \n",
       "7          Torsten Wolfgramm  1990     12  \n",
       "8               Ingrid Köppe  1990     12  \n",
       "9             Helmuth Becker  1990     12  \n",
       "10  Dieter-Julius Cronenberg  1990     12  \n",
       "11                Hans Klein  1990     12  \n",
       "12            Renate Schmidt  1990     12  \n",
       "13             Rita Süssmuth  1991      1  \n",
       "14         Hans-Jochen Vogel  1991      1  \n",
       "15      Otto Graf Lambsdorff  1991      1  \n",
       "16               Helmut Kohl  1991      1  \n",
       "17           Wolfgang Bötsch  1991      1  \n",
       "18              Freimut Duve  1991      1  \n",
       "19    Jörg Wolfgang Ganschow  1991      1  "
      ]
     },
     "execution_count": 286,
     "metadata": {},
     "output_type": "execute_result"
    }
   ],
   "source": [
    "NamesWPSpeeches.head(20)"
   ]
  },
  {
   "cell_type": "code",
   "execution_count": 305,
   "metadata": {},
   "outputs": [
    {
     "data": {
      "text/html": [
       "<div>\n",
       "<style scoped>\n",
       "    .dataframe tbody tr th:only-of-type {\n",
       "        vertical-align: middle;\n",
       "    }\n",
       "\n",
       "    .dataframe tbody tr th {\n",
       "        vertical-align: top;\n",
       "    }\n",
       "\n",
       "    .dataframe thead th {\n",
       "        text-align: right;\n",
       "    }\n",
       "</style>\n",
       "<table border=\"1\" class=\"dataframe\">\n",
       "  <thead>\n",
       "    <tr style=\"text-align: right;\">\n",
       "      <th></th>\n",
       "      <th>speech</th>\n",
       "      <th>WPs</th>\n",
       "      <th>date</th>\n",
       "      <th>wikidataid</th>\n",
       "      <th>novelty</th>\n",
       "      <th>transience</th>\n",
       "      <th>resonance</th>\n",
       "      <th>politicianID</th>\n",
       "      <th>surname_lower_comb</th>\n",
       "      <th>forename_lower_comb</th>\n",
       "      <th>pageid</th>\n",
       "      <th>name</th>\n",
       "      <th>year</th>\n",
       "      <th>month</th>\n",
       "    </tr>\n",
       "  </thead>\n",
       "  <tbody>\n",
       "    <tr>\n",
       "      <th>101648</th>\n",
       "      <td>1000193</td>\n",
       "      <td>19</td>\n",
       "      <td>2017-11-21</td>\n",
       "      <td>Q27975838</td>\n",
       "      <td>2.953467</td>\n",
       "      <td>2.842333</td>\n",
       "      <td>0.111134</td>\n",
       "      <td>11004930.0</td>\n",
       "      <td>weidel</td>\n",
       "      <td>alice</td>\n",
       "      <td>9716234.0</td>\n",
       "      <td>Alice Weidel</td>\n",
       "      <td>2017</td>\n",
       "      <td>11</td>\n",
       "    </tr>\n",
       "    <tr>\n",
       "      <th>102071</th>\n",
       "      <td>1001634</td>\n",
       "      <td>19</td>\n",
       "      <td>2018-01-22</td>\n",
       "      <td>Q27975838</td>\n",
       "      <td>2.515721</td>\n",
       "      <td>2.472006</td>\n",
       "      <td>0.043715</td>\n",
       "      <td>11004930.0</td>\n",
       "      <td>weidel</td>\n",
       "      <td>alice</td>\n",
       "      <td>9716234.0</td>\n",
       "      <td>Alice Weidel</td>\n",
       "      <td>2018</td>\n",
       "      <td>1</td>\n",
       "    </tr>\n",
       "    <tr>\n",
       "      <th>102413</th>\n",
       "      <td>1002443</td>\n",
       "      <td>19</td>\n",
       "      <td>2018-02-22</td>\n",
       "      <td>Q27975838</td>\n",
       "      <td>3.003838</td>\n",
       "      <td>2.633588</td>\n",
       "      <td>0.370250</td>\n",
       "      <td>11004930.0</td>\n",
       "      <td>weidel</td>\n",
       "      <td>alice</td>\n",
       "      <td>9716234.0</td>\n",
       "      <td>Alice Weidel</td>\n",
       "      <td>2018</td>\n",
       "      <td>2</td>\n",
       "    </tr>\n",
       "    <tr>\n",
       "      <th>102968</th>\n",
       "      <td>1004413</td>\n",
       "      <td>19</td>\n",
       "      <td>2018-03-21</td>\n",
       "      <td>Q27975838</td>\n",
       "      <td>2.469791</td>\n",
       "      <td>2.594199</td>\n",
       "      <td>-0.124408</td>\n",
       "      <td>11004930.0</td>\n",
       "      <td>weidel</td>\n",
       "      <td>alice</td>\n",
       "      <td>9716234.0</td>\n",
       "      <td>Alice Weidel</td>\n",
       "      <td>2018</td>\n",
       "      <td>3</td>\n",
       "    </tr>\n",
       "    <tr>\n",
       "      <th>103830</th>\n",
       "      <td>1006873</td>\n",
       "      <td>19</td>\n",
       "      <td>2018-05-16</td>\n",
       "      <td>Q27975838</td>\n",
       "      <td>2.348647</td>\n",
       "      <td>2.426225</td>\n",
       "      <td>-0.077579</td>\n",
       "      <td>11004930.0</td>\n",
       "      <td>weidel</td>\n",
       "      <td>alice</td>\n",
       "      <td>9716234.0</td>\n",
       "      <td>Alice Weidel</td>\n",
       "      <td>2018</td>\n",
       "      <td>5</td>\n",
       "    </tr>\n",
       "    <tr>\n",
       "      <th>104960</th>\n",
       "      <td>1010475</td>\n",
       "      <td>19</td>\n",
       "      <td>2018-07-04</td>\n",
       "      <td>Q27975838</td>\n",
       "      <td>2.507970</td>\n",
       "      <td>2.408779</td>\n",
       "      <td>0.099191</td>\n",
       "      <td>11004930.0</td>\n",
       "      <td>weidel</td>\n",
       "      <td>alice</td>\n",
       "      <td>9716234.0</td>\n",
       "      <td>Alice Weidel</td>\n",
       "      <td>2018</td>\n",
       "      <td>7</td>\n",
       "    </tr>\n",
       "    <tr>\n",
       "      <th>105211</th>\n",
       "      <td>1011305</td>\n",
       "      <td>19</td>\n",
       "      <td>2018-09-12</td>\n",
       "      <td>Q27975838</td>\n",
       "      <td>1.894511</td>\n",
       "      <td>1.952360</td>\n",
       "      <td>-0.057848</td>\n",
       "      <td>11004930.0</td>\n",
       "      <td>weidel</td>\n",
       "      <td>alice</td>\n",
       "      <td>9716234.0</td>\n",
       "      <td>Alice Weidel</td>\n",
       "      <td>2018</td>\n",
       "      <td>9</td>\n",
       "    </tr>\n",
       "    <tr>\n",
       "      <th>105967</th>\n",
       "      <td>1013712</td>\n",
       "      <td>19</td>\n",
       "      <td>2018-10-17</td>\n",
       "      <td>Q27975838</td>\n",
       "      <td>2.932447</td>\n",
       "      <td>2.567365</td>\n",
       "      <td>0.365082</td>\n",
       "      <td>11004930.0</td>\n",
       "      <td>weidel</td>\n",
       "      <td>alice</td>\n",
       "      <td>9716234.0</td>\n",
       "      <td>Alice Weidel</td>\n",
       "      <td>2018</td>\n",
       "      <td>10</td>\n",
       "    </tr>\n",
       "    <tr>\n",
       "      <th>106668</th>\n",
       "      <td>1015653</td>\n",
       "      <td>19</td>\n",
       "      <td>2018-11-21</td>\n",
       "      <td>Q27975838</td>\n",
       "      <td>2.577977</td>\n",
       "      <td>2.393274</td>\n",
       "      <td>0.184703</td>\n",
       "      <td>11004930.0</td>\n",
       "      <td>weidel</td>\n",
       "      <td>alice</td>\n",
       "      <td>9716234.0</td>\n",
       "      <td>Alice Weidel</td>\n",
       "      <td>2018</td>\n",
       "      <td>11</td>\n",
       "    </tr>\n",
       "    <tr>\n",
       "      <th>108761</th>\n",
       "      <td>1021772</td>\n",
       "      <td>19</td>\n",
       "      <td>2019-03-21</td>\n",
       "      <td>Q27975838</td>\n",
       "      <td>2.867188</td>\n",
       "      <td>2.858462</td>\n",
       "      <td>0.008726</td>\n",
       "      <td>11004930.0</td>\n",
       "      <td>weidel</td>\n",
       "      <td>alice</td>\n",
       "      <td>9716234.0</td>\n",
       "      <td>Alice Weidel</td>\n",
       "      <td>2019</td>\n",
       "      <td>3</td>\n",
       "    </tr>\n",
       "    <tr>\n",
       "      <th>109390</th>\n",
       "      <td>1023744</td>\n",
       "      <td>19</td>\n",
       "      <td>2019-04-12</td>\n",
       "      <td>Q27975838</td>\n",
       "      <td>3.097296</td>\n",
       "      <td>2.874568</td>\n",
       "      <td>0.222728</td>\n",
       "      <td>11004930.0</td>\n",
       "      <td>weidel</td>\n",
       "      <td>alice</td>\n",
       "      <td>9716234.0</td>\n",
       "      <td>Alice Weidel</td>\n",
       "      <td>2019</td>\n",
       "      <td>4</td>\n",
       "    </tr>\n",
       "    <tr>\n",
       "      <th>109829</th>\n",
       "      <td>1025060</td>\n",
       "      <td>19</td>\n",
       "      <td>2019-05-16</td>\n",
       "      <td>Q27975838</td>\n",
       "      <td>2.829692</td>\n",
       "      <td>2.823014</td>\n",
       "      <td>0.006678</td>\n",
       "      <td>11004930.0</td>\n",
       "      <td>weidel</td>\n",
       "      <td>alice</td>\n",
       "      <td>9716234.0</td>\n",
       "      <td>Alice Weidel</td>\n",
       "      <td>2019</td>\n",
       "      <td>5</td>\n",
       "    </tr>\n",
       "    <tr>\n",
       "      <th>110708</th>\n",
       "      <td>1027674</td>\n",
       "      <td>19</td>\n",
       "      <td>2019-09-11</td>\n",
       "      <td>Q27975838</td>\n",
       "      <td>2.249351</td>\n",
       "      <td>2.042680</td>\n",
       "      <td>0.206671</td>\n",
       "      <td>11004930.0</td>\n",
       "      <td>weidel</td>\n",
       "      <td>alice</td>\n",
       "      <td>9716234.0</td>\n",
       "      <td>Alice Weidel</td>\n",
       "      <td>2019</td>\n",
       "      <td>9</td>\n",
       "    </tr>\n",
       "    <tr>\n",
       "      <th>112408</th>\n",
       "      <td>1032634</td>\n",
       "      <td>19</td>\n",
       "      <td>2019-11-27</td>\n",
       "      <td>Q27975838</td>\n",
       "      <td>2.303795</td>\n",
       "      <td>2.301034</td>\n",
       "      <td>0.002762</td>\n",
       "      <td>11004930.0</td>\n",
       "      <td>weidel</td>\n",
       "      <td>alice</td>\n",
       "      <td>9716234.0</td>\n",
       "      <td>Alice Weidel</td>\n",
       "      <td>2019</td>\n",
       "      <td>11</td>\n",
       "    </tr>\n",
       "    <tr>\n",
       "      <th>113993</th>\n",
       "      <td>1037320</td>\n",
       "      <td>19</td>\n",
       "      <td>2020-03-04</td>\n",
       "      <td>Q27975838</td>\n",
       "      <td>2.337581</td>\n",
       "      <td>2.238585</td>\n",
       "      <td>0.098997</td>\n",
       "      <td>11004930.0</td>\n",
       "      <td>weidel</td>\n",
       "      <td>alice</td>\n",
       "      <td>9716234.0</td>\n",
       "      <td>Alice Weidel</td>\n",
       "      <td>2020</td>\n",
       "      <td>3</td>\n",
       "    </tr>\n",
       "    <tr>\n",
       "      <th>115747</th>\n",
       "      <td>1042282</td>\n",
       "      <td>19</td>\n",
       "      <td>2020-06-18</td>\n",
       "      <td>Q27975838</td>\n",
       "      <td>2.480088</td>\n",
       "      <td>2.428828</td>\n",
       "      <td>0.051260</td>\n",
       "      <td>11004930.0</td>\n",
       "      <td>weidel</td>\n",
       "      <td>alice</td>\n",
       "      <td>9716234.0</td>\n",
       "      <td>Alice Weidel</td>\n",
       "      <td>2020</td>\n",
       "      <td>6</td>\n",
       "    </tr>\n",
       "    <tr>\n",
       "      <th>116211</th>\n",
       "      <td>1044082</td>\n",
       "      <td>19</td>\n",
       "      <td>2020-07-03</td>\n",
       "      <td>Q27975838</td>\n",
       "      <td>3.224724</td>\n",
       "      <td>2.858913</td>\n",
       "      <td>0.365811</td>\n",
       "      <td>11004930.0</td>\n",
       "      <td>weidel</td>\n",
       "      <td>alice</td>\n",
       "      <td>9716234.0</td>\n",
       "      <td>Alice Weidel</td>\n",
       "      <td>2020</td>\n",
       "      <td>7</td>\n",
       "    </tr>\n",
       "    <tr>\n",
       "      <th>116610</th>\n",
       "      <td>1045242</td>\n",
       "      <td>19</td>\n",
       "      <td>2020-09-16</td>\n",
       "      <td>Q27975838</td>\n",
       "      <td>2.782657</td>\n",
       "      <td>2.800120</td>\n",
       "      <td>-0.017463</td>\n",
       "      <td>11004930.0</td>\n",
       "      <td>weidel</td>\n",
       "      <td>alice</td>\n",
       "      <td>9716234.0</td>\n",
       "      <td>Alice Weidel</td>\n",
       "      <td>2020</td>\n",
       "      <td>9</td>\n",
       "    </tr>\n",
       "    <tr>\n",
       "      <th>117024</th>\n",
       "      <td>1046243</td>\n",
       "      <td>19</td>\n",
       "      <td>2020-09-30</td>\n",
       "      <td>Q27975838</td>\n",
       "      <td>2.644373</td>\n",
       "      <td>2.311807</td>\n",
       "      <td>0.332566</td>\n",
       "      <td>11004930.0</td>\n",
       "      <td>weidel</td>\n",
       "      <td>alice</td>\n",
       "      <td>9716234.0</td>\n",
       "      <td>Alice Weidel</td>\n",
       "      <td>2020</td>\n",
       "      <td>9</td>\n",
       "    </tr>\n",
       "    <tr>\n",
       "      <th>118581</th>\n",
       "      <td>1050792</td>\n",
       "      <td>19</td>\n",
       "      <td>2020-11-26</td>\n",
       "      <td>Q27975838</td>\n",
       "      <td>2.693004</td>\n",
       "      <td>2.398536</td>\n",
       "      <td>0.294468</td>\n",
       "      <td>11004930.0</td>\n",
       "      <td>weidel</td>\n",
       "      <td>alice</td>\n",
       "      <td>9716234.0</td>\n",
       "      <td>Alice Weidel</td>\n",
       "      <td>2020</td>\n",
       "      <td>11</td>\n",
       "    </tr>\n",
       "    <tr>\n",
       "      <th>118843</th>\n",
       "      <td>1051595</td>\n",
       "      <td>19</td>\n",
       "      <td>2020-12-09</td>\n",
       "      <td>Q27975838</td>\n",
       "      <td>2.377908</td>\n",
       "      <td>2.259299</td>\n",
       "      <td>0.118609</td>\n",
       "      <td>11004930.0</td>\n",
       "      <td>weidel</td>\n",
       "      <td>alice</td>\n",
       "      <td>9716234.0</td>\n",
       "      <td>Alice Weidel</td>\n",
       "      <td>2020</td>\n",
       "      <td>12</td>\n",
       "    </tr>\n",
       "    <tr>\n",
       "      <th>119862</th>\n",
       "      <td>1054623</td>\n",
       "      <td>19</td>\n",
       "      <td>2021-02-11</td>\n",
       "      <td>Q27975838</td>\n",
       "      <td>2.660256</td>\n",
       "      <td>2.554340</td>\n",
       "      <td>0.105916</td>\n",
       "      <td>11004930.0</td>\n",
       "      <td>weidel</td>\n",
       "      <td>alice</td>\n",
       "      <td>9716234.0</td>\n",
       "      <td>Alice Weidel</td>\n",
       "      <td>2021</td>\n",
       "      <td>2</td>\n",
       "    </tr>\n",
       "    <tr>\n",
       "      <th>121201</th>\n",
       "      <td>1058625</td>\n",
       "      <td>19</td>\n",
       "      <td>2021-04-16</td>\n",
       "      <td>Q27975838</td>\n",
       "      <td>2.865179</td>\n",
       "      <td>2.498985</td>\n",
       "      <td>0.366194</td>\n",
       "      <td>11004930.0</td>\n",
       "      <td>weidel</td>\n",
       "      <td>alice</td>\n",
       "      <td>9716234.0</td>\n",
       "      <td>Alice Weidel</td>\n",
       "      <td>2021</td>\n",
       "      <td>4</td>\n",
       "    </tr>\n",
       "  </tbody>\n",
       "</table>\n",
       "</div>"
      ],
      "text/plain": [
       "         speech WPs        date wikidataid   novelty  transience  resonance  \\\n",
       "101648  1000193  19  2017-11-21  Q27975838  2.953467    2.842333   0.111134   \n",
       "102071  1001634  19  2018-01-22  Q27975838  2.515721    2.472006   0.043715   \n",
       "102413  1002443  19  2018-02-22  Q27975838  3.003838    2.633588   0.370250   \n",
       "102968  1004413  19  2018-03-21  Q27975838  2.469791    2.594199  -0.124408   \n",
       "103830  1006873  19  2018-05-16  Q27975838  2.348647    2.426225  -0.077579   \n",
       "104960  1010475  19  2018-07-04  Q27975838  2.507970    2.408779   0.099191   \n",
       "105211  1011305  19  2018-09-12  Q27975838  1.894511    1.952360  -0.057848   \n",
       "105967  1013712  19  2018-10-17  Q27975838  2.932447    2.567365   0.365082   \n",
       "106668  1015653  19  2018-11-21  Q27975838  2.577977    2.393274   0.184703   \n",
       "108761  1021772  19  2019-03-21  Q27975838  2.867188    2.858462   0.008726   \n",
       "109390  1023744  19  2019-04-12  Q27975838  3.097296    2.874568   0.222728   \n",
       "109829  1025060  19  2019-05-16  Q27975838  2.829692    2.823014   0.006678   \n",
       "110708  1027674  19  2019-09-11  Q27975838  2.249351    2.042680   0.206671   \n",
       "112408  1032634  19  2019-11-27  Q27975838  2.303795    2.301034   0.002762   \n",
       "113993  1037320  19  2020-03-04  Q27975838  2.337581    2.238585   0.098997   \n",
       "115747  1042282  19  2020-06-18  Q27975838  2.480088    2.428828   0.051260   \n",
       "116211  1044082  19  2020-07-03  Q27975838  3.224724    2.858913   0.365811   \n",
       "116610  1045242  19  2020-09-16  Q27975838  2.782657    2.800120  -0.017463   \n",
       "117024  1046243  19  2020-09-30  Q27975838  2.644373    2.311807   0.332566   \n",
       "118581  1050792  19  2020-11-26  Q27975838  2.693004    2.398536   0.294468   \n",
       "118843  1051595  19  2020-12-09  Q27975838  2.377908    2.259299   0.118609   \n",
       "119862  1054623  19  2021-02-11  Q27975838  2.660256    2.554340   0.105916   \n",
       "121201  1058625  19  2021-04-16  Q27975838  2.865179    2.498985   0.366194   \n",
       "\n",
       "        politicianID surname_lower_comb forename_lower_comb     pageid  \\\n",
       "101648    11004930.0             weidel               alice  9716234.0   \n",
       "102071    11004930.0             weidel               alice  9716234.0   \n",
       "102413    11004930.0             weidel               alice  9716234.0   \n",
       "102968    11004930.0             weidel               alice  9716234.0   \n",
       "103830    11004930.0             weidel               alice  9716234.0   \n",
       "104960    11004930.0             weidel               alice  9716234.0   \n",
       "105211    11004930.0             weidel               alice  9716234.0   \n",
       "105967    11004930.0             weidel               alice  9716234.0   \n",
       "106668    11004930.0             weidel               alice  9716234.0   \n",
       "108761    11004930.0             weidel               alice  9716234.0   \n",
       "109390    11004930.0             weidel               alice  9716234.0   \n",
       "109829    11004930.0             weidel               alice  9716234.0   \n",
       "110708    11004930.0             weidel               alice  9716234.0   \n",
       "112408    11004930.0             weidel               alice  9716234.0   \n",
       "113993    11004930.0             weidel               alice  9716234.0   \n",
       "115747    11004930.0             weidel               alice  9716234.0   \n",
       "116211    11004930.0             weidel               alice  9716234.0   \n",
       "116610    11004930.0             weidel               alice  9716234.0   \n",
       "117024    11004930.0             weidel               alice  9716234.0   \n",
       "118581    11004930.0             weidel               alice  9716234.0   \n",
       "118843    11004930.0             weidel               alice  9716234.0   \n",
       "119862    11004930.0             weidel               alice  9716234.0   \n",
       "121201    11004930.0             weidel               alice  9716234.0   \n",
       "\n",
       "                name  year  month  \n",
       "101648  Alice Weidel  2017     11  \n",
       "102071  Alice Weidel  2018      1  \n",
       "102413  Alice Weidel  2018      2  \n",
       "102968  Alice Weidel  2018      3  \n",
       "103830  Alice Weidel  2018      5  \n",
       "104960  Alice Weidel  2018      7  \n",
       "105211  Alice Weidel  2018      9  \n",
       "105967  Alice Weidel  2018     10  \n",
       "106668  Alice Weidel  2018     11  \n",
       "108761  Alice Weidel  2019      3  \n",
       "109390  Alice Weidel  2019      4  \n",
       "109829  Alice Weidel  2019      5  \n",
       "110708  Alice Weidel  2019      9  \n",
       "112408  Alice Weidel  2019     11  \n",
       "113993  Alice Weidel  2020      3  \n",
       "115747  Alice Weidel  2020      6  \n",
       "116211  Alice Weidel  2020      7  \n",
       "116610  Alice Weidel  2020      9  \n",
       "117024  Alice Weidel  2020      9  \n",
       "118581  Alice Weidel  2020     11  \n",
       "118843  Alice Weidel  2020     12  \n",
       "119862  Alice Weidel  2021      2  \n",
       "121201  Alice Weidel  2021      4  "
      ]
     },
     "execution_count": 305,
     "metadata": {},
     "output_type": "execute_result"
    }
   ],
   "source": [
    "NamesWPSpeeches[NamesWPSpeeches[\"wikidataid\"] == \"Q27975838\"].tail(80)"
   ]
  },
  {
   "cell_type": "code",
   "execution_count": null,
   "metadata": {},
   "outputs": [],
   "source": []
  },
  {
   "cell_type": "code",
   "execution_count": null,
   "metadata": {},
   "outputs": [],
   "source": []
  },
  {
   "cell_type": "code",
   "execution_count": null,
   "metadata": {},
   "outputs": [],
   "source": []
  },
  {
   "cell_type": "code",
   "execution_count": null,
   "metadata": {},
   "outputs": [],
   "source": []
  },
  {
   "cell_type": "code",
   "execution_count": 288,
   "metadata": {},
   "outputs": [],
   "source": [
    "NamesWPSpeeches.to_csv(PATH + \"./processed/NamesWPSpeeches_withParty.csv\")"
   ]
  },
  {
   "cell_type": "markdown",
   "metadata": {},
   "source": [
    "# Group and save"
   ]
  },
  {
   "cell_type": "code",
   "execution_count": 314,
   "metadata": {},
   "outputs": [],
   "source": [
    "NamesWPSpeeches_later = NamesWPSpeeches[NamesWPSpeeches[\"year\"] >= 2015].copy()"
   ]
  },
  {
   "cell_type": "code",
   "execution_count": 316,
   "metadata": {},
   "outputs": [
    {
     "data": {
      "text/html": [
       "<div>\n",
       "<style scoped>\n",
       "    .dataframe tbody tr th:only-of-type {\n",
       "        vertical-align: middle;\n",
       "    }\n",
       "\n",
       "    .dataframe tbody tr th {\n",
       "        vertical-align: top;\n",
       "    }\n",
       "\n",
       "    .dataframe thead th {\n",
       "        text-align: right;\n",
       "    }\n",
       "</style>\n",
       "<table border=\"1\" class=\"dataframe\">\n",
       "  <thead>\n",
       "    <tr style=\"text-align: right;\">\n",
       "      <th></th>\n",
       "      <th>speech</th>\n",
       "      <th>WPs</th>\n",
       "      <th>date</th>\n",
       "      <th>wikidataid</th>\n",
       "      <th>novelty</th>\n",
       "      <th>transience</th>\n",
       "      <th>resonance</th>\n",
       "      <th>politicianID</th>\n",
       "      <th>surname_lower_comb</th>\n",
       "      <th>forename_lower_comb</th>\n",
       "      <th>pageid</th>\n",
       "      <th>name</th>\n",
       "      <th>year</th>\n",
       "      <th>month</th>\n",
       "    </tr>\n",
       "  </thead>\n",
       "  <tbody>\n",
       "    <tr>\n",
       "      <th>90754</th>\n",
       "      <td>810421</td>\n",
       "      <td>18</td>\n",
       "      <td>2015-01-14</td>\n",
       "      <td>Q87642</td>\n",
       "      <td>3.221553</td>\n",
       "      <td>3.354443</td>\n",
       "      <td>-0.132890</td>\n",
       "      <td>11000907.0</td>\n",
       "      <td>hintze</td>\n",
       "      <td>peter</td>\n",
       "      <td>151952.0</td>\n",
       "      <td>Peter Hintze</td>\n",
       "      <td>2015</td>\n",
       "      <td>1</td>\n",
       "    </tr>\n",
       "    <tr>\n",
       "      <th>90755</th>\n",
       "      <td>810387</td>\n",
       "      <td>18</td>\n",
       "      <td>2015-01-14</td>\n",
       "      <td>Q67529</td>\n",
       "      <td>3.144743</td>\n",
       "      <td>3.430577</td>\n",
       "      <td>-0.285834</td>\n",
       "      <td>11002630.0</td>\n",
       "      <td>böhmer</td>\n",
       "      <td>maria</td>\n",
       "      <td>156301.0</td>\n",
       "      <td>Maria Böhmer</td>\n",
       "      <td>2015</td>\n",
       "      <td>1</td>\n",
       "    </tr>\n",
       "    <tr>\n",
       "      <th>90756</th>\n",
       "      <td>810344</td>\n",
       "      <td>18</td>\n",
       "      <td>2015-01-14</td>\n",
       "      <td>Q103740</td>\n",
       "      <td>3.248926</td>\n",
       "      <td>3.370894</td>\n",
       "      <td>-0.121968</td>\n",
       "      <td>11001023.0</td>\n",
       "      <td>jelpke</td>\n",
       "      <td>ulla</td>\n",
       "      <td>953461.0</td>\n",
       "      <td>Ulla Jelpke</td>\n",
       "      <td>2015</td>\n",
       "      <td>1</td>\n",
       "    </tr>\n",
       "    <tr>\n",
       "      <th>90757</th>\n",
       "      <td>810431</td>\n",
       "      <td>18</td>\n",
       "      <td>2015-01-14</td>\n",
       "      <td>Q1522246</td>\n",
       "      <td>2.380810</td>\n",
       "      <td>1.996949</td>\n",
       "      <td>0.383861</td>\n",
       "      <td>11001062.0</td>\n",
       "      <td>kampeter</td>\n",
       "      <td>steffen</td>\n",
       "      <td>174275.0</td>\n",
       "      <td>Steffen Kampeter</td>\n",
       "      <td>2015</td>\n",
       "      <td>1</td>\n",
       "    </tr>\n",
       "    <tr>\n",
       "      <th>90758</th>\n",
       "      <td>810416</td>\n",
       "      <td>18</td>\n",
       "      <td>2015-01-14</td>\n",
       "      <td>Q71533</td>\n",
       "      <td>3.242615</td>\n",
       "      <td>3.740040</td>\n",
       "      <td>-0.497425</td>\n",
       "      <td>11002273.0</td>\n",
       "      <td>ströbele</td>\n",
       "      <td>hans-christian</td>\n",
       "      <td>4578948.0</td>\n",
       "      <td>Hans-Christian Ströbele</td>\n",
       "      <td>2015</td>\n",
       "      <td>1</td>\n",
       "    </tr>\n",
       "  </tbody>\n",
       "</table>\n",
       "</div>"
      ],
      "text/plain": [
       "       speech WPs        date wikidataid   novelty  transience  resonance  \\\n",
       "90754  810421  18  2015-01-14     Q87642  3.221553    3.354443  -0.132890   \n",
       "90755  810387  18  2015-01-14     Q67529  3.144743    3.430577  -0.285834   \n",
       "90756  810344  18  2015-01-14    Q103740  3.248926    3.370894  -0.121968   \n",
       "90757  810431  18  2015-01-14   Q1522246  2.380810    1.996949   0.383861   \n",
       "90758  810416  18  2015-01-14     Q71533  3.242615    3.740040  -0.497425   \n",
       "\n",
       "       politicianID surname_lower_comb forename_lower_comb     pageid  \\\n",
       "90754    11000907.0             hintze               peter   151952.0   \n",
       "90755    11002630.0             böhmer               maria   156301.0   \n",
       "90756    11001023.0             jelpke                ulla   953461.0   \n",
       "90757    11001062.0           kampeter             steffen   174275.0   \n",
       "90758    11002273.0           ströbele      hans-christian  4578948.0   \n",
       "\n",
       "                          name  year  month  \n",
       "90754             Peter Hintze  2015      1  \n",
       "90755             Maria Böhmer  2015      1  \n",
       "90756              Ulla Jelpke  2015      1  \n",
       "90757         Steffen Kampeter  2015      1  \n",
       "90758  Hans-Christian Ströbele  2015      1  "
      ]
     },
     "execution_count": 316,
     "metadata": {},
     "output_type": "execute_result"
    }
   ],
   "source": [
    "NamesWPSpeeches_later.head()"
   ]
  },
  {
   "cell_type": "code",
   "execution_count": 317,
   "metadata": {},
   "outputs": [
    {
     "data": {
      "text/plain": [
       "0.00826600372902424"
      ]
     },
     "execution_count": 317,
     "metadata": {},
     "output_type": "execute_result"
    }
   ],
   "source": [
    "sum(NamesWPSpeeches_later[\"novelty\"].isna() == True)/ len(NamesWPSpeeches_later[\"novelty\"])"
   ]
  },
  {
   "cell_type": "code",
   "execution_count": 319,
   "metadata": {},
   "outputs": [
    {
     "data": {
      "text/html": [
       "<div>\n",
       "<style scoped>\n",
       "    .dataframe tbody tr th:only-of-type {\n",
       "        vertical-align: middle;\n",
       "    }\n",
       "\n",
       "    .dataframe tbody tr th {\n",
       "        vertical-align: top;\n",
       "    }\n",
       "\n",
       "    .dataframe thead th {\n",
       "        text-align: right;\n",
       "    }\n",
       "</style>\n",
       "<table border=\"1\" class=\"dataframe\">\n",
       "  <thead>\n",
       "    <tr style=\"text-align: right;\">\n",
       "      <th></th>\n",
       "      <th>speech</th>\n",
       "      <th>WPs</th>\n",
       "      <th>date</th>\n",
       "      <th>wikidataid</th>\n",
       "      <th>novelty</th>\n",
       "      <th>transience</th>\n",
       "      <th>resonance</th>\n",
       "      <th>politicianID</th>\n",
       "      <th>surname_lower_comb</th>\n",
       "      <th>forename_lower_comb</th>\n",
       "      <th>pageid</th>\n",
       "      <th>name</th>\n",
       "      <th>year</th>\n",
       "      <th>month</th>\n",
       "    </tr>\n",
       "  </thead>\n",
       "  <tbody>\n",
       "    <tr>\n",
       "      <th>90940</th>\n",
       "      <td>811141</td>\n",
       "      <td>18</td>\n",
       "      <td>2015-01-28</td>\n",
       "      <td>Q66008</td>\n",
       "      <td>NaN</td>\n",
       "      <td>NaN</td>\n",
       "      <td>NaN</td>\n",
       "      <td>11000305.0</td>\n",
       "      <td>bulmahn</td>\n",
       "      <td>edelgard</td>\n",
       "      <td>1453.0</td>\n",
       "      <td>Edelgard Bulmahn</td>\n",
       "      <td>2015</td>\n",
       "      <td>1</td>\n",
       "    </tr>\n",
       "    <tr>\n",
       "      <th>90985</th>\n",
       "      <td>810870</td>\n",
       "      <td>18</td>\n",
       "      <td>2015-01-28</td>\n",
       "      <td>Q14947864</td>\n",
       "      <td>NaN</td>\n",
       "      <td>NaN</td>\n",
       "      <td>NaN</td>\n",
       "      <td>11004248.0</td>\n",
       "      <td>bartke</td>\n",
       "      <td>matthias</td>\n",
       "      <td>7888641.0</td>\n",
       "      <td>Matthias Bartke</td>\n",
       "      <td>2015</td>\n",
       "      <td>1</td>\n",
       "    </tr>\n",
       "    <tr>\n",
       "      <th>90986</th>\n",
       "      <td>810858</td>\n",
       "      <td>18</td>\n",
       "      <td>2015-01-28</td>\n",
       "      <td>Q15794282</td>\n",
       "      <td>NaN</td>\n",
       "      <td>NaN</td>\n",
       "      <td>NaN</td>\n",
       "      <td>11004313.0</td>\n",
       "      <td>jantz</td>\n",
       "      <td>christina</td>\n",
       "      <td>7935080.0</td>\n",
       "      <td>Christina Jantz</td>\n",
       "      <td>2015</td>\n",
       "      <td>1</td>\n",
       "    </tr>\n",
       "    <tr>\n",
       "      <th>90987</th>\n",
       "      <td>810900</td>\n",
       "      <td>18</td>\n",
       "      <td>2015-01-28</td>\n",
       "      <td>Q15813200</td>\n",
       "      <td>NaN</td>\n",
       "      <td>NaN</td>\n",
       "      <td>NaN</td>\n",
       "      <td>11004370.0</td>\n",
       "      <td>pantel</td>\n",
       "      <td>sylvia</td>\n",
       "      <td>7722346.0</td>\n",
       "      <td>Sylvia Pantel</td>\n",
       "      <td>2015</td>\n",
       "      <td>1</td>\n",
       "    </tr>\n",
       "    <tr>\n",
       "      <th>90988</th>\n",
       "      <td>810890</td>\n",
       "      <td>18</td>\n",
       "      <td>2015-01-28</td>\n",
       "      <td>Q57322</td>\n",
       "      <td>NaN</td>\n",
       "      <td>NaN</td>\n",
       "      <td>NaN</td>\n",
       "      <td>11002625.0</td>\n",
       "      <td>beck</td>\n",
       "      <td>volker</td>\n",
       "      <td>116688.0</td>\n",
       "      <td>Volker Beck</td>\n",
       "      <td>2015</td>\n",
       "      <td>1</td>\n",
       "    </tr>\n",
       "    <tr>\n",
       "      <th>...</th>\n",
       "      <td>...</td>\n",
       "      <td>...</td>\n",
       "      <td>...</td>\n",
       "      <td>...</td>\n",
       "      <td>...</td>\n",
       "      <td>...</td>\n",
       "      <td>...</td>\n",
       "      <td>...</td>\n",
       "      <td>...</td>\n",
       "      <td>...</td>\n",
       "      <td>...</td>\n",
       "      <td>...</td>\n",
       "      <td>...</td>\n",
       "      <td>...</td>\n",
       "    </tr>\n",
       "    <tr>\n",
       "      <th>122929</th>\n",
       "      <td>2066565</td>\n",
       "      <td>19</td>\n",
       "      <td>2021-09-06</td>\n",
       "      <td>Q40998965</td>\n",
       "      <td>NaN</td>\n",
       "      <td>NaN</td>\n",
       "      <td>NaN</td>\n",
       "      <td>11004745.0</td>\n",
       "      <td>herbrand</td>\n",
       "      <td>markus</td>\n",
       "      <td>10077271.0</td>\n",
       "      <td>Markus Herbrand</td>\n",
       "      <td>2021</td>\n",
       "      <td>9</td>\n",
       "    </tr>\n",
       "    <tr>\n",
       "      <th>122930</th>\n",
       "      <td>2066537</td>\n",
       "      <td>19</td>\n",
       "      <td>2021-09-06</td>\n",
       "      <td>Q18169686</td>\n",
       "      <td>NaN</td>\n",
       "      <td>NaN</td>\n",
       "      <td>NaN</td>\n",
       "      <td>11004938.0</td>\n",
       "      <td>ziemiak</td>\n",
       "      <td>paul</td>\n",
       "      <td>8400888.0</td>\n",
       "      <td>Paul Ziemiak</td>\n",
       "      <td>2021</td>\n",
       "      <td>9</td>\n",
       "    </tr>\n",
       "    <tr>\n",
       "      <th>122931</th>\n",
       "      <td>2066541</td>\n",
       "      <td>19</td>\n",
       "      <td>2021-09-06</td>\n",
       "      <td>Q15606894</td>\n",
       "      <td>NaN</td>\n",
       "      <td>NaN</td>\n",
       "      <td>NaN</td>\n",
       "      <td>11004713.0</td>\n",
       "      <td>fahimi</td>\n",
       "      <td>yasmin</td>\n",
       "      <td>8048619.0</td>\n",
       "      <td>Yasmin Fahimi</td>\n",
       "      <td>2021</td>\n",
       "      <td>9</td>\n",
       "    </tr>\n",
       "    <tr>\n",
       "      <th>122932</th>\n",
       "      <td>2066520</td>\n",
       "      <td>19</td>\n",
       "      <td>2021-09-06</td>\n",
       "      <td>NaN</td>\n",
       "      <td>NaN</td>\n",
       "      <td>NaN</td>\n",
       "      <td>NaN</td>\n",
       "      <td>NaN</td>\n",
       "      <td>NaN</td>\n",
       "      <td>NaN</td>\n",
       "      <td>NaN</td>\n",
       "      <td>NaN</td>\n",
       "      <td>2021</td>\n",
       "      <td>9</td>\n",
       "    </tr>\n",
       "    <tr>\n",
       "      <th>122933</th>\n",
       "      <td>2066606</td>\n",
       "      <td>19</td>\n",
       "      <td>2021-09-06</td>\n",
       "      <td>NaN</td>\n",
       "      <td>NaN</td>\n",
       "      <td>NaN</td>\n",
       "      <td>NaN</td>\n",
       "      <td>NaN</td>\n",
       "      <td>NaN</td>\n",
       "      <td>NaN</td>\n",
       "      <td>NaN</td>\n",
       "      <td>NaN</td>\n",
       "      <td>2021</td>\n",
       "      <td>9</td>\n",
       "    </tr>\n",
       "  </tbody>\n",
       "</table>\n",
       "<p>266 rows × 14 columns</p>\n",
       "</div>"
      ],
      "text/plain": [
       "         speech WPs        date wikidataid  novelty  transience  resonance  \\\n",
       "90940    811141  18  2015-01-28     Q66008      NaN         NaN        NaN   \n",
       "90985    810870  18  2015-01-28  Q14947864      NaN         NaN        NaN   \n",
       "90986    810858  18  2015-01-28  Q15794282      NaN         NaN        NaN   \n",
       "90987    810900  18  2015-01-28  Q15813200      NaN         NaN        NaN   \n",
       "90988    810890  18  2015-01-28     Q57322      NaN         NaN        NaN   \n",
       "...         ...  ..         ...        ...      ...         ...        ...   \n",
       "122929  2066565  19  2021-09-06  Q40998965      NaN         NaN        NaN   \n",
       "122930  2066537  19  2021-09-06  Q18169686      NaN         NaN        NaN   \n",
       "122931  2066541  19  2021-09-06  Q15606894      NaN         NaN        NaN   \n",
       "122932  2066520  19  2021-09-06        NaN      NaN         NaN        NaN   \n",
       "122933  2066606  19  2021-09-06        NaN      NaN         NaN        NaN   \n",
       "\n",
       "        politicianID surname_lower_comb forename_lower_comb      pageid  \\\n",
       "90940     11000305.0            bulmahn            edelgard      1453.0   \n",
       "90985     11004248.0             bartke            matthias   7888641.0   \n",
       "90986     11004313.0              jantz           christina   7935080.0   \n",
       "90987     11004370.0             pantel              sylvia   7722346.0   \n",
       "90988     11002625.0               beck              volker    116688.0   \n",
       "...              ...                ...                 ...         ...   \n",
       "122929    11004745.0           herbrand              markus  10077271.0   \n",
       "122930    11004938.0            ziemiak                paul   8400888.0   \n",
       "122931    11004713.0             fahimi              yasmin   8048619.0   \n",
       "122932           NaN                NaN                 NaN         NaN   \n",
       "122933           NaN                NaN                 NaN         NaN   \n",
       "\n",
       "                    name  year  month  \n",
       "90940   Edelgard Bulmahn  2015      1  \n",
       "90985    Matthias Bartke  2015      1  \n",
       "90986    Christina Jantz  2015      1  \n",
       "90987      Sylvia Pantel  2015      1  \n",
       "90988        Volker Beck  2015      1  \n",
       "...                  ...   ...    ...  \n",
       "122929   Markus Herbrand  2021      9  \n",
       "122930      Paul Ziemiak  2021      9  \n",
       "122931     Yasmin Fahimi  2021      9  \n",
       "122932               NaN  2021      9  \n",
       "122933               NaN  2021      9  \n",
       "\n",
       "[266 rows x 14 columns]"
      ]
     },
     "execution_count": 319,
     "metadata": {},
     "output_type": "execute_result"
    }
   ],
   "source": [
    "NamesWPSpeeches_later[NamesWPSpeeches_later[\"novelty\"].isna() == True]"
   ]
  },
  {
   "cell_type": "code",
   "execution_count": 290,
   "metadata": {},
   "outputs": [
    {
     "data": {
      "text/plain": [
       "Index(['speech', 'WPs', 'date', 'wikidataid', 'novelty', 'transience',\n",
       "       'resonance', 'politicianID', 'surname_lower_comb',\n",
       "       'forename_lower_comb', 'pageid', 'name', 'year', 'month'],\n",
       "      dtype='object')"
      ]
     },
     "execution_count": 290,
     "metadata": {},
     "output_type": "execute_result"
    }
   ],
   "source": [
    "NamesWPSpeeches.columns"
   ]
  },
  {
   "cell_type": "code",
   "execution_count": 326,
   "metadata": {},
   "outputs": [],
   "source": [
    "NamesWPSpeeches_grouped_WP = NamesWPSpeeches_later[['speech', 'WPs', 'wikidataid', 'novelty', 'transience',\n",
    "       'resonance', 'politicianID', 'name']].groupby([\"WPs\", \"wikidataid\", \"name\", \"politicianID\"]).mean().reset_index()\n",
    "NamesWPSpeeches_grouped_year = NamesWPSpeeches_later.groupby([\"year\", \"wikidataid\", \"name\"]).mean().reset_index()\n",
    "NamesWPSpeeches_grouped_month_year = NamesWPSpeeches_later.groupby([\"month\", \"year\", \"wikidataid\", \"name\"]).mean().reset_index()\n",
    "#NamesWPSpeeches_grouped_year_Party = NamesWPSpeeches.groupby([\"year\", \"PARTY\"]).mean().reset_index()"
   ]
  },
  {
   "cell_type": "code",
   "execution_count": 327,
   "metadata": {},
   "outputs": [
    {
     "data": {
      "text/plain": [
       "0.0015938069216757742"
      ]
     },
     "execution_count": 327,
     "metadata": {},
     "output_type": "execute_result"
    }
   ],
   "source": [
    "sum(NamesWPSpeeches_grouped_year[\"novelty\"].isna() == True)/ len(NamesWPSpeeches_grouped_year[\"novelty\"])"
   ]
  },
  {
   "cell_type": "code",
   "execution_count": 328,
   "metadata": {},
   "outputs": [
    {
     "data": {
      "text/plain": [
       "(122934, 1318, 4392, 20471)"
      ]
     },
     "execution_count": 328,
     "metadata": {},
     "output_type": "execute_result"
    }
   ],
   "source": [
    "len(NamesWPSpeeches), len(NamesWPSpeeches_grouped_WP), len(NamesWPSpeeches_grouped_year), len(NamesWPSpeeches_grouped_month_year)\n",
    "#(121038, 5130, 18326, 219, 79385)"
   ]
  },
  {
   "cell_type": "code",
   "execution_count": 329,
   "metadata": {},
   "outputs": [
    {
     "data": {
      "text/html": [
       "<div>\n",
       "<style scoped>\n",
       "    .dataframe tbody tr th:only-of-type {\n",
       "        vertical-align: middle;\n",
       "    }\n",
       "\n",
       "    .dataframe tbody tr th {\n",
       "        vertical-align: top;\n",
       "    }\n",
       "\n",
       "    .dataframe thead th {\n",
       "        text-align: right;\n",
       "    }\n",
       "</style>\n",
       "<table border=\"1\" class=\"dataframe\">\n",
       "  <thead>\n",
       "    <tr style=\"text-align: right;\">\n",
       "      <th></th>\n",
       "      <th>WPs</th>\n",
       "      <th>wikidataid</th>\n",
       "      <th>name</th>\n",
       "      <th>politicianID</th>\n",
       "      <th>novelty</th>\n",
       "      <th>transience</th>\n",
       "      <th>resonance</th>\n",
       "    </tr>\n",
       "  </thead>\n",
       "  <tbody>\n",
       "    <tr>\n",
       "      <th>0</th>\n",
       "      <td>18</td>\n",
       "      <td>Q100797</td>\n",
       "      <td>Florian Pronold</td>\n",
       "      <td>11003612.0</td>\n",
       "      <td>2.883056</td>\n",
       "      <td>2.914870</td>\n",
       "      <td>-0.031814</td>\n",
       "    </tr>\n",
       "    <tr>\n",
       "      <th>1</th>\n",
       "      <td>18</td>\n",
       "      <td>Q100986</td>\n",
       "      <td>Dirk Becker</td>\n",
       "      <td>11003736.0</td>\n",
       "      <td>2.852013</td>\n",
       "      <td>2.716966</td>\n",
       "      <td>0.135047</td>\n",
       "    </tr>\n",
       "    <tr>\n",
       "      <th>2</th>\n",
       "      <td>18</td>\n",
       "      <td>Q101192</td>\n",
       "      <td>Hans-Peter Bartels</td>\n",
       "      <td>11003031.0</td>\n",
       "      <td>2.700063</td>\n",
       "      <td>2.810514</td>\n",
       "      <td>-0.110451</td>\n",
       "    </tr>\n",
       "    <tr>\n",
       "      <th>3</th>\n",
       "      <td>18</td>\n",
       "      <td>Q101504</td>\n",
       "      <td>Klaus-Peter Willsch</td>\n",
       "      <td>11003264.0</td>\n",
       "      <td>2.620152</td>\n",
       "      <td>2.608408</td>\n",
       "      <td>0.011744</td>\n",
       "    </tr>\n",
       "    <tr>\n",
       "      <th>4</th>\n",
       "      <td>18</td>\n",
       "      <td>Q101617</td>\n",
       "      <td>Heidrun Bluhm</td>\n",
       "      <td>11003740.0</td>\n",
       "      <td>2.716741</td>\n",
       "      <td>2.595614</td>\n",
       "      <td>0.121127</td>\n",
       "    </tr>\n",
       "  </tbody>\n",
       "</table>\n",
       "</div>"
      ],
      "text/plain": [
       "  WPs wikidataid                 name  politicianID   novelty  transience  \\\n",
       "0  18    Q100797      Florian Pronold    11003612.0  2.883056    2.914870   \n",
       "1  18    Q100986          Dirk Becker    11003736.0  2.852013    2.716966   \n",
       "2  18    Q101192   Hans-Peter Bartels    11003031.0  2.700063    2.810514   \n",
       "3  18    Q101504  Klaus-Peter Willsch    11003264.0  2.620152    2.608408   \n",
       "4  18    Q101617        Heidrun Bluhm    11003740.0  2.716741    2.595614   \n",
       "\n",
       "   resonance  \n",
       "0  -0.031814  \n",
       "1   0.135047  \n",
       "2  -0.110451  \n",
       "3   0.011744  \n",
       "4   0.121127  "
      ]
     },
     "execution_count": 329,
     "metadata": {},
     "output_type": "execute_result"
    }
   ],
   "source": [
    "NamesWPSpeeches_grouped_WP.head()"
   ]
  },
  {
   "cell_type": "code",
   "execution_count": 330,
   "metadata": {},
   "outputs": [
    {
     "data": {
      "text/plain": [
       "1318"
      ]
     },
     "execution_count": 330,
     "metadata": {},
     "output_type": "execute_result"
    }
   ],
   "source": [
    "len(NamesWPSpeeches_grouped_WP) #5130"
   ]
  },
  {
   "cell_type": "code",
   "execution_count": 331,
   "metadata": {},
   "outputs": [],
   "source": [
    "NamesWPSpeeches_grouped_WP.to_csv(PATH + \"./processed/NamesWPSpeeches_grouped_by_IDNameWP_with_AfD_later.csv\")\n",
    "NamesWPSpeeches_grouped_year.to_csv(PATH + \"./processed/NamesWPSpeeches_grouped_by_IDNameYear_with_AfD_later.csv\")\n",
    "#NamesWPSpeeches_grouped_year_Party.to_csv(PATH + \"./processed/NamesWPSpeeches_grouped_by_YearPARTY_with_AfD.csv\")\n",
    "NamesWPSpeeches_grouped_month_year.to_csv(PATH + \"./processed/NamesWPSpeeches_grouped_by_Month_Year_with_AfD_later.csv\")"
   ]
  },
  {
   "cell_type": "code",
   "execution_count": 296,
   "metadata": {},
   "outputs": [
    {
     "data": {
      "text/plain": [
       "'/Users/alexandrarottenkolber/Documents/02_Hertie_School/Master thesis/Master_Thesis_Hertie/data_analysis/01_data/Plenarprotokolle/'"
      ]
     },
     "execution_count": 296,
     "metadata": {},
     "output_type": "execute_result"
    }
   ],
   "source": [
    "PATH"
   ]
  },
  {
   "cell_type": "code",
   "execution_count": 297,
   "metadata": {},
   "outputs": [
    {
     "data": {
      "text/plain": [
       "Index(['year', 'wikidataid', 'name', 'novelty', 'transience', 'resonance',\n",
       "       'politicianID', 'pageid', 'month'],\n",
       "      dtype='object')"
      ]
     },
     "execution_count": 297,
     "metadata": {},
     "output_type": "execute_result"
    }
   ],
   "source": [
    "NamesWPSpeeches_grouped_year.columns"
   ]
  },
  {
   "cell_type": "code",
   "execution_count": 298,
   "metadata": {},
   "outputs": [
    {
     "data": {
      "text/plain": [
       "<AxesSubplot:>"
      ]
     },
     "execution_count": 298,
     "metadata": {},
     "output_type": "execute_result"
    },
    {
     "data": {
      "image/png": "[encoded data removed]",
      "text/plain": [
       "<Figure size 432x288 with 1 Axes>"
      ]
     },
     "metadata": {
      "needs_background": "light"
     },
     "output_type": "display_data"
    }
   ],
   "source": [
    "NamesWPSpeeches_grouped_WP['novelty'][NamesWPSpeeches_grouped_WP[\"WPs\"] == \"19\"].hist()"
   ]
  },
  {
   "cell_type": "code",
   "execution_count": 299,
   "metadata": {},
   "outputs": [
    {
     "data": {
      "text/plain": [
       "<AxesSubplot:>"
      ]
     },
     "execution_count": 299,
     "metadata": {},
     "output_type": "execute_result"
    },
    {
     "data": {
      "image/png": "[encoded data removed]",
      "text/plain": [
       "<Figure size 432x288 with 1 Axes>"
      ]
     },
     "metadata": {
      "needs_background": "light"
     },
     "output_type": "display_data"
    }
   ],
   "source": [
    "NamesWPSpeeches_grouped_WP['novelty'][NamesWPSpeeches_grouped_WP[\"WPs\"] == \"18\"].hist()"
   ]
  },
  {
   "cell_type": "code",
   "execution_count": 300,
   "metadata": {},
   "outputs": [
    {
     "data": {
      "text/plain": [
       "<AxesSubplot:>"
      ]
     },
     "execution_count": 300,
     "metadata": {},
     "output_type": "execute_result"
    },
    {
     "data": {
      "image/png": "[encoded data removed]",
      "text/plain": [
       "<Figure size 432x288 with 1 Axes>"
      ]
     },
     "metadata": {
      "needs_background": "light"
     },
     "output_type": "display_data"
    }
   ],
   "source": [
    "NamesWPSpeeches_grouped_WP['novelty'][NamesWPSpeeches_grouped_WP[\"WPs\"] == \"17\"].hist()"
   ]
  },
  {
   "cell_type": "code",
   "execution_count": 301,
   "metadata": {},
   "outputs": [
    {
     "data": {
      "text/plain": [
       "<AxesSubplot:>"
      ]
     },
     "execution_count": 301,
     "metadata": {},
     "output_type": "execute_result"
    },
    {
     "data": {
      "image/png": "[encoded data removed]",
      "text/plain": [
       "<Figure size 432x288 with 1 Axes>"
      ]
     },
     "metadata": {
      "needs_background": "light"
     },
     "output_type": "display_data"
    }
   ],
   "source": [
    "NamesWPSpeeches_grouped_WP['novelty'][NamesWPSpeeches_grouped_WP[\"WPs\"] == \"16\"].hist()"
   ]
  },
  {
   "cell_type": "code",
   "execution_count": 302,
   "metadata": {},
   "outputs": [
    {
     "data": {
      "text/plain": [
       "<AxesSubplot:>"
      ]
     },
     "execution_count": 302,
     "metadata": {},
     "output_type": "execute_result"
    },
    {
     "data": {
      "image/png": "[encoded data removed]",
      "text/plain": [
       "<Figure size 432x288 with 1 Axes>"
      ]
     },
     "metadata": {
      "needs_background": "light"
     },
     "output_type": "display_data"
    }
   ],
   "source": [
    "NamesWPSpeeches_grouped_WP['novelty'][NamesWPSpeeches_grouped_WP[\"WPs\"] == \"15\"].hist()"
   ]
  },
  {
   "cell_type": "code",
   "execution_count": 303,
   "metadata": {},
   "outputs": [
    {
     "ename": "NameError",
     "evalue": "name 'NamesWPSpeeches_grouped' is not defined",
     "output_type": "error",
     "traceback": [
      "\u001b[0;31m---------------------------------------------------------------------------\u001b[0m",
      "\u001b[0;31mNameError\u001b[0m                                 Traceback (most recent call last)",
      "\u001b[0;32m<ipython-input-303-4fc36e98a0e6>\u001b[0m in \u001b[0;36m<module>\u001b[0;34m\u001b[0m\n\u001b[0;32m----> 1\u001b[0;31m \u001b[0mNamesWPSpeeches_grouped\u001b[0m\u001b[0;34m[\u001b[0m\u001b[0;34m'resonance'\u001b[0m\u001b[0;34m]\u001b[0m\u001b[0;34m[\u001b[0m\u001b[0mNamesWPSpeeches_grouped\u001b[0m\u001b[0;34m[\u001b[0m\u001b[0;34m\"WPs\"\u001b[0m\u001b[0;34m]\u001b[0m \u001b[0;34m==\u001b[0m \u001b[0;34m\"19\"\u001b[0m\u001b[0;34m]\u001b[0m\u001b[0;34m.\u001b[0m\u001b[0mhist\u001b[0m\u001b[0;34m(\u001b[0m\u001b[0;34m)\u001b[0m\u001b[0;34m\u001b[0m\u001b[0;34m\u001b[0m\u001b[0m\n\u001b[0m",
      "\u001b[0;31mNameError\u001b[0m: name 'NamesWPSpeeches_grouped' is not defined"
     ]
    }
   ],
   "source": [
    "NamesWPSpeeches_grouped['resonance'][NamesWPSpeeches_grouped[\"WPs\"] == \"19\"].hist()\n"
   ]
  },
  {
   "cell_type": "code",
   "execution_count": 121,
   "metadata": {},
   "outputs": [
    {
     "data": {
      "text/plain": [
       "<AxesSubplot:>"
      ]
     },
     "execution_count": 121,
     "metadata": {},
     "output_type": "execute_result"
    },
    {
     "data": {
      "image/png": "[encoded data removed]",
      "text/plain": [
       "<Figure size 432x288 with 1 Axes>"
      ]
     },
     "metadata": {
      "needs_background": "light"
     },
     "output_type": "display_data"
    }
   ],
   "source": [
    "NamesWPSpeeches_grouped['transience'][NamesWPSpeeches_grouped[\"WPs\"] == \"19\"].hist()"
   ]
  },
  {
   "cell_type": "code",
   "execution_count": 343,
   "metadata": {},
   "outputs": [
    {
     "data": {
      "text/plain": [
       "<AxesSubplot:>"
      ]
     },
     "execution_count": 343,
     "metadata": {},
     "output_type": "execute_result"
    },
    {
     "data": {
      "image/png": "[encoded data removed]",
      "text/plain": [
       "<Figure size 432x288 with 1 Axes>"
      ]
     },
     "metadata": {
      "needs_background": "light"
     },
     "output_type": "display_data"
    }
   ],
   "source": [
    "NamesWPSpeeches_grouped['novelty'][NamesWPSpeeches_grouped[\"WPs\"] == \"19\"].hist()"
   ]
  },
  {
   "cell_type": "code",
   "execution_count": null,
   "metadata": {},
   "outputs": [],
   "source": []
  },
  {
   "cell_type": "code",
   "execution_count": 244,
   "metadata": {},
   "outputs": [
    {
     "data": {
      "text/html": [
       "<div>\n",
       "<style scoped>\n",
       "    .dataframe tbody tr th:only-of-type {\n",
       "        vertical-align: middle;\n",
       "    }\n",
       "\n",
       "    .dataframe tbody tr th {\n",
       "        vertical-align: top;\n",
       "    }\n",
       "\n",
       "    .dataframe thead th {\n",
       "        text-align: right;\n",
       "    }\n",
       "</style>\n",
       "<table border=\"1\" class=\"dataframe\">\n",
       "  <thead>\n",
       "    <tr style=\"text-align: right;\">\n",
       "      <th></th>\n",
       "      <th>year</th>\n",
       "      <th>PARTY</th>\n",
       "      <th>novelty</th>\n",
       "      <th>transience</th>\n",
       "      <th>resonance</th>\n",
       "      <th>politicianID</th>\n",
       "      <th>pageid</th>\n",
       "      <th>month</th>\n",
       "    </tr>\n",
       "  </thead>\n",
       "  <tbody>\n",
       "    <tr>\n",
       "      <th>209</th>\n",
       "      <td>2020</td>\n",
       "      <td>DIE LINKE.</td>\n",
       "      <td>3.029498</td>\n",
       "      <td>3.003245</td>\n",
       "      <td>0.026253</td>\n",
       "      <td>1.100397e+07</td>\n",
       "      <td>4.372483e+06</td>\n",
       "      <td>7.042453</td>\n",
       "    </tr>\n",
       "    <tr>\n",
       "      <th>210</th>\n",
       "      <td>2020</td>\n",
       "      <td>FDP</td>\n",
       "      <td>3.012242</td>\n",
       "      <td>2.974792</td>\n",
       "      <td>0.037451</td>\n",
       "      <td>1.100443e+07</td>\n",
       "      <td>6.372712e+06</td>\n",
       "      <td>6.864078</td>\n",
       "    </tr>\n",
       "    <tr>\n",
       "      <th>211</th>\n",
       "      <td>2020</td>\n",
       "      <td>Parteilos</td>\n",
       "      <td>3.043556</td>\n",
       "      <td>3.103845</td>\n",
       "      <td>-0.060289</td>\n",
       "      <td>1.100426e+07</td>\n",
       "      <td>5.117902e+06</td>\n",
       "      <td>7.300000</td>\n",
       "    </tr>\n",
       "    <tr>\n",
       "      <th>212</th>\n",
       "      <td>2020</td>\n",
       "      <td>SPD</td>\n",
       "      <td>2.944036</td>\n",
       "      <td>2.938103</td>\n",
       "      <td>0.005933</td>\n",
       "      <td>1.100411e+07</td>\n",
       "      <td>5.418569e+06</td>\n",
       "      <td>7.040000</td>\n",
       "    </tr>\n",
       "    <tr>\n",
       "      <th>213</th>\n",
       "      <td>2021</td>\n",
       "      <td>BÜNDNIS 90/DIE GRÜNEN</td>\n",
       "      <td>2.987454</td>\n",
       "      <td>3.001343</td>\n",
       "      <td>-0.013889</td>\n",
       "      <td>1.100414e+07</td>\n",
       "      <td>4.421144e+06</td>\n",
       "      <td>3.733189</td>\n",
       "    </tr>\n",
       "    <tr>\n",
       "      <th>214</th>\n",
       "      <td>2021</td>\n",
       "      <td>CDU/CSU</td>\n",
       "      <td>2.949654</td>\n",
       "      <td>2.961184</td>\n",
       "      <td>-0.011530</td>\n",
       "      <td>1.100417e+07</td>\n",
       "      <td>5.097435e+06</td>\n",
       "      <td>3.691176</td>\n",
       "    </tr>\n",
       "    <tr>\n",
       "      <th>215</th>\n",
       "      <td>2021</td>\n",
       "      <td>DIE LINKE.</td>\n",
       "      <td>3.011877</td>\n",
       "      <td>2.977449</td>\n",
       "      <td>0.034428</td>\n",
       "      <td>1.100398e+07</td>\n",
       "      <td>4.385085e+06</td>\n",
       "      <td>3.693095</td>\n",
       "    </tr>\n",
       "    <tr>\n",
       "      <th>216</th>\n",
       "      <td>2021</td>\n",
       "      <td>FDP</td>\n",
       "      <td>3.000059</td>\n",
       "      <td>2.971540</td>\n",
       "      <td>0.028519</td>\n",
       "      <td>1.100439e+07</td>\n",
       "      <td>6.318255e+06</td>\n",
       "      <td>3.784884</td>\n",
       "    </tr>\n",
       "    <tr>\n",
       "      <th>217</th>\n",
       "      <td>2021</td>\n",
       "      <td>Parteilos</td>\n",
       "      <td>2.929437</td>\n",
       "      <td>2.982874</td>\n",
       "      <td>-0.053437</td>\n",
       "      <td>1.100437e+07</td>\n",
       "      <td>5.610070e+06</td>\n",
       "      <td>3.895833</td>\n",
       "    </tr>\n",
       "    <tr>\n",
       "      <th>218</th>\n",
       "      <td>2021</td>\n",
       "      <td>SPD</td>\n",
       "      <td>2.980507</td>\n",
       "      <td>2.961719</td>\n",
       "      <td>0.018788</td>\n",
       "      <td>1.100413e+07</td>\n",
       "      <td>5.531496e+06</td>\n",
       "      <td>3.757241</td>\n",
       "    </tr>\n",
       "  </tbody>\n",
       "</table>\n",
       "</div>"
      ],
      "text/plain": [
       "     year                  PARTY   novelty  transience  resonance  \\\n",
       "209  2020             DIE LINKE.  3.029498    3.003245   0.026253   \n",
       "210  2020                    FDP  3.012242    2.974792   0.037451   \n",
       "211  2020              Parteilos  3.043556    3.103845  -0.060289   \n",
       "212  2020                    SPD  2.944036    2.938103   0.005933   \n",
       "213  2021  BÜNDNIS 90/DIE GRÜNEN  2.987454    3.001343  -0.013889   \n",
       "214  2021                CDU/CSU  2.949654    2.961184  -0.011530   \n",
       "215  2021             DIE LINKE.  3.011877    2.977449   0.034428   \n",
       "216  2021                    FDP  3.000059    2.971540   0.028519   \n",
       "217  2021              Parteilos  2.929437    2.982874  -0.053437   \n",
       "218  2021                    SPD  2.980507    2.961719   0.018788   \n",
       "\n",
       "     politicianID        pageid     month  \n",
       "209  1.100397e+07  4.372483e+06  7.042453  \n",
       "210  1.100443e+07  6.372712e+06  6.864078  \n",
       "211  1.100426e+07  5.117902e+06  7.300000  \n",
       "212  1.100411e+07  5.418569e+06  7.040000  \n",
       "213  1.100414e+07  4.421144e+06  3.733189  \n",
       "214  1.100417e+07  5.097435e+06  3.691176  \n",
       "215  1.100398e+07  4.385085e+06  3.693095  \n",
       "216  1.100439e+07  6.318255e+06  3.784884  \n",
       "217  1.100437e+07  5.610070e+06  3.895833  \n",
       "218  1.100413e+07  5.531496e+06  3.757241  "
      ]
     },
     "execution_count": 244,
     "metadata": {},
     "output_type": "execute_result"
    }
   ],
   "source": [
    "NamesWPSpeeches_grouped_year_Party.tail(10)"
   ]
  },
  {
   "cell_type": "code",
   "execution_count": 245,
   "metadata": {},
   "outputs": [
    {
     "data": {
      "text/plain": [
       "<AxesSubplot:>"
      ]
     },
     "execution_count": 245,
     "metadata": {},
     "output_type": "execute_result"
    },
    {
     "data": {
      "image/png": "[encoded data removed]",
      "text/plain": [
       "<Figure size 432x288 with 1 Axes>"
      ]
     },
     "metadata": {
      "needs_background": "light"
     },
     "output_type": "display_data"
    }
   ],
   "source": [
    "NamesWPSpeeches_grouped_year_Party['novelty'][(NamesWPSpeeches_grouped_year_Party[\"PARTY\"] == \"CDU/CSU\")].hist()"
   ]
  },
  {
   "cell_type": "code",
   "execution_count": 246,
   "metadata": {},
   "outputs": [
    {
     "data": {
      "text/plain": [
       "<AxesSubplot:>"
      ]
     },
     "execution_count": 246,
     "metadata": {},
     "output_type": "execute_result"
    },
    {
     "data": {
      "image/png": "[encoded data removed]",
      "text/plain": [
       "<Figure size 432x288 with 1 Axes>"
      ]
     },
     "metadata": {
      "needs_background": "light"
     },
     "output_type": "display_data"
    }
   ],
   "source": [
    "NamesWPSpeeches_grouped_year_Party['novelty'][NamesWPSpeeches_grouped_year_Party[\"PARTY\"] == \"BÜNDNIS 90/DIE GRÜNEN\"].hist()"
   ]
  },
  {
   "cell_type": "code",
   "execution_count": null,
   "metadata": {},
   "outputs": [],
   "source": []
  },
  {
   "cell_type": "code",
   "execution_count": null,
   "metadata": {},
   "outputs": [],
   "source": []
  },
  {
   "cell_type": "code",
   "execution_count": null,
   "metadata": {},
   "outputs": [],
   "source": []
  },
  {
   "cell_type": "code",
   "execution_count": null,
   "metadata": {},
   "outputs": [],
   "source": []
  },
  {
   "cell_type": "code",
   "execution_count": 126,
   "metadata": {},
   "outputs": [],
   "source": [
    "#list(speeches_and_WPs[\"speeches\"])\n"
   ]
  },
  {
   "cell_type": "code",
   "execution_count": 317,
   "metadata": {},
   "outputs": [],
   "source": [
    "#speech2KL.keys()"
   ]
  },
  {
   "cell_type": "code",
   "execution_count": 318,
   "metadata": {},
   "outputs": [],
   "source": [
    "#speech2KL['25']"
   ]
  },
  {
   "cell_type": "code",
   "execution_count": null,
   "metadata": {},
   "outputs": [],
   "source": []
  },
  {
   "cell_type": "code",
   "execution_count": null,
   "metadata": {},
   "outputs": [],
   "source": []
  },
  {
   "cell_type": "code",
   "execution_count": null,
   "metadata": {},
   "outputs": [],
   "source": []
  },
  {
   "cell_type": "code",
   "execution_count": null,
   "metadata": {},
   "outputs": [],
   "source": []
  },
  {
   "cell_type": "code",
   "execution_count": 319,
   "metadata": {},
   "outputs": [],
   "source": [
    "#list(NamesAndSpeeches[\"speeches\"][NamesAndSpeeches[\"wikidataid\"] ==  NamesAndSpeeches[\"wikidataid\"][6]])[0]"
   ]
  },
  {
   "cell_type": "code",
   "execution_count": null,
   "metadata": {},
   "outputs": [],
   "source": []
  },
  {
   "cell_type": "code",
   "execution_count": null,
   "metadata": {},
   "outputs": [],
   "source": []
  },
  {
   "cell_type": "code",
   "execution_count": null,
   "metadata": {},
   "outputs": [],
   "source": []
  },
  {
   "cell_type": "code",
   "execution_count": null,
   "metadata": {},
   "outputs": [],
   "source": []
  },
  {
   "cell_type": "code",
   "execution_count": null,
   "metadata": {},
   "outputs": [],
   "source": []
  }
 ],
 "metadata": {
  "kernelspec": {
   "display_name": "Python 3",
   "language": "python",
   "name": "python3"
  },
  "language_info": {
   "codemirror_mode": {
    "name": "ipython",
    "version": 3
   },
   "file_extension": ".py",
   "mimetype": "text/x-python",
   "name": "python",
   "nbconvert_exporter": "python",
   "pygments_lexer": "ipython3",
   "version": "3.8.5"
  }
 },
 "nbformat": 4,
 "nbformat_minor": 4
}
