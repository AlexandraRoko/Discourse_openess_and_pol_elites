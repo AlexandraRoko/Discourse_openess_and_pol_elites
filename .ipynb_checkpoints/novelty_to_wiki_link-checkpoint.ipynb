{
 "cells": [
  {
   "cell_type": "code",
   "execution_count": null,
   "metadata": {},
   "outputs": [],
   "source": []
  },
  {
   "cell_type": "code",
   "execution_count": 1,
   "metadata": {},
   "outputs": [],
   "source": [
    "import numpy as np\n",
    "import pandas as pd\n",
    "import matplotlib.pyplot as plt\n",
    "\n",
    "from collections import Counter\n",
    "\n",
    "from itertools import *\n",
    "\n",
    "import json\n",
    "import os\n",
    "import time\n",
    "import sys\n",
    "import xmltodict\n",
    "from datetime import datetime\n",
    "\n",
    "\n",
    "PATH = \"/Users/alexandrarottenkolber/Documents/02_Hertie_School/Master thesis/Master_Thesis_Hertie/data_analysis/01_data/Plenarprotokolle/\""
   ]
  },
  {
   "cell_type": "code",
   "execution_count": 2,
   "metadata": {},
   "outputs": [],
   "source": [
    "with open(PATH + 'processed/id2speech_concat_POSTag_inshape.txt', 'r') as infile:\n",
    "    id2rede_12_19 = json.load(infile)\n",
    "infile.close()"
   ]
  },
  {
   "cell_type": "code",
   "execution_count": 3,
   "metadata": {},
   "outputs": [],
   "source": [
    "with open(PATH + 'processed/speech2KL_lda_model_concat_POSTag_self_tuned_all_without_very_short_speeches.txt', 'r') as infile:\n",
    "    speech2KL = json.load(infile)\n",
    "infile.close()"
   ]
  },
  {
   "cell_type": "code",
   "execution_count": 4,
   "metadata": {},
   "outputs": [],
   "source": [
    "NamesAndSpeeches = pd.read_csv(PATH + \"processed/NamesAndSpeeches_full.csv\").drop(columns = [\"Unnamed: 0\"])"
   ]
  },
  {
   "cell_type": "code",
   "execution_count": 5,
   "metadata": {},
   "outputs": [
    {
     "data": {
      "text/html": [
       "<div>\n",
       "<style scoped>\n",
       "    .dataframe tbody tr th:only-of-type {\n",
       "        vertical-align: middle;\n",
       "    }\n",
       "\n",
       "    .dataframe tbody tr th {\n",
       "        vertical-align: top;\n",
       "    }\n",
       "\n",
       "    .dataframe thead th {\n",
       "        text-align: right;\n",
       "    }\n",
       "</style>\n",
       "<table border=\"1\" class=\"dataframe\">\n",
       "  <thead>\n",
       "    <tr style=\"text-align: right;\">\n",
       "      <th></th>\n",
       "      <th>speeches</th>\n",
       "      <th>politicianID</th>\n",
       "      <th>surname_lower_comb</th>\n",
       "      <th>forename_lower_comb</th>\n",
       "      <th>pageid</th>\n",
       "      <th>wikidataid</th>\n",
       "      <th>name</th>\n",
       "    </tr>\n",
       "  </thead>\n",
       "  <tbody>\n",
       "    <tr>\n",
       "      <th>0</th>\n",
       "      <td>[471526, 479132, 489844]</td>\n",
       "      <td>11000246.0</td>\n",
       "      <td>brandt</td>\n",
       "      <td>willy</td>\n",
       "      <td>1518001.0</td>\n",
       "      <td>Q2514</td>\n",
       "      <td>Willy Brandt</td>\n",
       "    </tr>\n",
       "    <tr>\n",
       "      <th>1</th>\n",
       "      <td>[471554, 471574, 471612, 471651, 471680, 47168...</td>\n",
       "      <td>11002287.0</td>\n",
       "      <td>süssmuth</td>\n",
       "      <td>rita</td>\n",
       "      <td>4253.0</td>\n",
       "      <td>Q66286</td>\n",
       "      <td>Rita Süssmuth</td>\n",
       "    </tr>\n",
       "    <tr>\n",
       "      <th>2</th>\n",
       "      <td>[471532, 471825, 471980, 472676, 473851, 47411...</td>\n",
       "      <td>11002354.0</td>\n",
       "      <td>ullmann</td>\n",
       "      <td>wolfgang</td>\n",
       "      <td>300219.0</td>\n",
       "      <td>Q895636</td>\n",
       "      <td>Wolfgang Ullmann</td>\n",
       "    </tr>\n",
       "    <tr>\n",
       "      <th>3</th>\n",
       "      <td>[471527, 471596, 471692, 473651, 479473, 50886...</td>\n",
       "      <td>11000418.0</td>\n",
       "      <td>dregger</td>\n",
       "      <td>alfred</td>\n",
       "      <td>73446.0</td>\n",
       "      <td>Q65389</td>\n",
       "      <td>Alfred Dregger</td>\n",
       "    </tr>\n",
       "    <tr>\n",
       "      <th>4</th>\n",
       "      <td>[471536, 471967, 472560, 473468, 473996, 47411...</td>\n",
       "      <td>11000891.0</td>\n",
       "      <td>heuer</td>\n",
       "      <td>uwe-jens</td>\n",
       "      <td>1097338.0</td>\n",
       "      <td>Q1594398</td>\n",
       "      <td>Uwe-Jens Heuer</td>\n",
       "    </tr>\n",
       "  </tbody>\n",
       "</table>\n",
       "</div>"
      ],
      "text/plain": [
       "                                            speeches  politicianID  \\\n",
       "0                           [471526, 479132, 489844]    11000246.0   \n",
       "1  [471554, 471574, 471612, 471651, 471680, 47168...    11002287.0   \n",
       "2  [471532, 471825, 471980, 472676, 473851, 47411...    11002354.0   \n",
       "3  [471527, 471596, 471692, 473651, 479473, 50886...    11000418.0   \n",
       "4  [471536, 471967, 472560, 473468, 473996, 47411...    11000891.0   \n",
       "\n",
       "  surname_lower_comb forename_lower_comb     pageid wikidataid  \\\n",
       "0             brandt               willy  1518001.0      Q2514   \n",
       "1           süssmuth                rita     4253.0     Q66286   \n",
       "2            ullmann            wolfgang   300219.0    Q895636   \n",
       "3            dregger              alfred    73446.0     Q65389   \n",
       "4              heuer            uwe-jens  1097338.0   Q1594398   \n",
       "\n",
       "               name  \n",
       "0      Willy Brandt  \n",
       "1     Rita Süssmuth  \n",
       "2  Wolfgang Ullmann  \n",
       "3    Alfred Dregger  \n",
       "4    Uwe-Jens Heuer  "
      ]
     },
     "execution_count": 5,
     "metadata": {},
     "output_type": "execute_result"
    }
   ],
   "source": [
    "NamesAndSpeeches.head()"
   ]
  },
  {
   "cell_type": "code",
   "execution_count": 6,
   "metadata": {},
   "outputs": [
    {
     "data": {
      "text/plain": [
       "'12'"
      ]
     },
     "execution_count": 6,
     "metadata": {},
     "output_type": "execute_result"
    }
   ],
   "source": [
    "id2rede_12_19['471583']['electoralTerm']#.keys()"
   ]
  },
  {
   "cell_type": "code",
   "execution_count": 7,
   "metadata": {},
   "outputs": [
    {
     "data": {
      "text/plain": [
       "dict_keys(['concatSpeech', 'name', 'date', 'data_ready', 'electoralTerm', 'firstName', 'lastName', 'politicianId', 'positionShort', 'positionLong', 'date_control', 'timestamp'])"
      ]
     },
     "execution_count": 7,
     "metadata": {},
     "output_type": "execute_result"
    }
   ],
   "source": [
    "id2rede_12_19['471583'].keys()"
   ]
  },
  {
   "cell_type": "code",
   "execution_count": 8,
   "metadata": {},
   "outputs": [
    {
     "data": {
      "text/plain": [
       "dict_keys(['1', '3', '5', '7', '10', '15', '20', '25', '30', '35', '40', '45', '50', '55', '60', '65', '70', '75', '80', '85', '90', '95', '100', '500', '1000'])"
      ]
     },
     "execution_count": 8,
     "metadata": {},
     "output_type": "execute_result"
    }
   ],
   "source": [
    "speech2KL.keys()"
   ]
  },
  {
   "cell_type": "code",
   "execution_count": 9,
   "metadata": {},
   "outputs": [],
   "source": [
    "def string_to_list(string): \n",
    "    if string is np.nan: \n",
    "        res = np.nan\n",
    "    elif type(string) == str: \n",
    "        res = string.replace(\"[\", \"\").replace(\"]\", \"\").split(\", \")\n",
    "        \n",
    "    return res"
   ]
  },
  {
   "cell_type": "code",
   "execution_count": 10,
   "metadata": {},
   "outputs": [],
   "source": [
    "NamesAndSpeeches[\"speeches\"] = NamesAndSpeeches[\"speeches\"].map(lambda x : string_to_list(x))"
   ]
  },
  {
   "cell_type": "code",
   "execution_count": 11,
   "metadata": {},
   "outputs": [
    {
     "data": {
      "text/html": [
       "<div>\n",
       "<style scoped>\n",
       "    .dataframe tbody tr th:only-of-type {\n",
       "        vertical-align: middle;\n",
       "    }\n",
       "\n",
       "    .dataframe tbody tr th {\n",
       "        vertical-align: top;\n",
       "    }\n",
       "\n",
       "    .dataframe thead th {\n",
       "        text-align: right;\n",
       "    }\n",
       "</style>\n",
       "<table border=\"1\" class=\"dataframe\">\n",
       "  <thead>\n",
       "    <tr style=\"text-align: right;\">\n",
       "      <th></th>\n",
       "      <th>speeches</th>\n",
       "      <th>politicianID</th>\n",
       "      <th>surname_lower_comb</th>\n",
       "      <th>forename_lower_comb</th>\n",
       "      <th>pageid</th>\n",
       "      <th>wikidataid</th>\n",
       "      <th>name</th>\n",
       "    </tr>\n",
       "  </thead>\n",
       "  <tbody>\n",
       "    <tr>\n",
       "      <th>0</th>\n",
       "      <td>[471526, 479132, 489844]</td>\n",
       "      <td>11000246.0</td>\n",
       "      <td>brandt</td>\n",
       "      <td>willy</td>\n",
       "      <td>1518001.0</td>\n",
       "      <td>Q2514</td>\n",
       "      <td>Willy Brandt</td>\n",
       "    </tr>\n",
       "    <tr>\n",
       "      <th>1</th>\n",
       "      <td>[471554, 471574, 471612, 471651, 471680, 47168...</td>\n",
       "      <td>11002287.0</td>\n",
       "      <td>süssmuth</td>\n",
       "      <td>rita</td>\n",
       "      <td>4253.0</td>\n",
       "      <td>Q66286</td>\n",
       "      <td>Rita Süssmuth</td>\n",
       "    </tr>\n",
       "    <tr>\n",
       "      <th>2</th>\n",
       "      <td>[471532, 471825, 471980, 472676, 473851, 47411...</td>\n",
       "      <td>11002354.0</td>\n",
       "      <td>ullmann</td>\n",
       "      <td>wolfgang</td>\n",
       "      <td>300219.0</td>\n",
       "      <td>Q895636</td>\n",
       "      <td>Wolfgang Ullmann</td>\n",
       "    </tr>\n",
       "  </tbody>\n",
       "</table>\n",
       "</div>"
      ],
      "text/plain": [
       "                                            speeches  politicianID  \\\n",
       "0                           [471526, 479132, 489844]    11000246.0   \n",
       "1  [471554, 471574, 471612, 471651, 471680, 47168...    11002287.0   \n",
       "2  [471532, 471825, 471980, 472676, 473851, 47411...    11002354.0   \n",
       "\n",
       "  surname_lower_comb forename_lower_comb     pageid wikidataid  \\\n",
       "0             brandt               willy  1518001.0      Q2514   \n",
       "1           süssmuth                rita     4253.0     Q66286   \n",
       "2            ullmann            wolfgang   300219.0    Q895636   \n",
       "\n",
       "               name  \n",
       "0      Willy Brandt  \n",
       "1     Rita Süssmuth  \n",
       "2  Wolfgang Ullmann  "
      ]
     },
     "execution_count": 11,
     "metadata": {},
     "output_type": "execute_result"
    }
   ],
   "source": [
    "NamesAndSpeeches.head(3)"
   ]
  },
  {
   "cell_type": "code",
   "execution_count": null,
   "metadata": {},
   "outputs": [],
   "source": []
  },
  {
   "cell_type": "code",
   "execution_count": 12,
   "metadata": {},
   "outputs": [],
   "source": [
    "NamesAndSpeeches_per_WP = pd.DataFrame()"
   ]
  },
  {
   "cell_type": "code",
   "execution_count": 132,
   "metadata": {},
   "outputs": [],
   "source": [
    "speech_ids = []\n",
    "WPs = []\n",
    "date_stamp = []\n",
    "\n",
    "for key in id2rede_12_19.keys(): \n",
    "    speech_ids.append(key)\n",
    "    WPs.append(id2rede_12_19[key][\"electoralTerm\"])\n",
    "    date_stamp.append(id2rede_12_19[key][\"date\"])"
   ]
  },
  {
   "cell_type": "code",
   "execution_count": 133,
   "metadata": {},
   "outputs": [
    {
     "data": {
      "text/plain": [
       "(121038, 121038, 121038)"
      ]
     },
     "execution_count": 133,
     "metadata": {},
     "output_type": "execute_result"
    }
   ],
   "source": [
    "len(speech_ids), len(WPs), len(date_stamp) #(121038, 121038)"
   ]
  },
  {
   "cell_type": "code",
   "execution_count": 134,
   "metadata": {},
   "outputs": [],
   "source": [
    "speeches_and_WPs = pd.DataFrame(list(zip(speech_ids, WPs, date_stamp)), columns =['speeches', \"WPs\", \"date\"])"
   ]
  },
  {
   "cell_type": "code",
   "execution_count": 135,
   "metadata": {},
   "outputs": [
    {
     "data": {
      "text/html": [
       "<div>\n",
       "<style scoped>\n",
       "    .dataframe tbody tr th:only-of-type {\n",
       "        vertical-align: middle;\n",
       "    }\n",
       "\n",
       "    .dataframe tbody tr th {\n",
       "        vertical-align: top;\n",
       "    }\n",
       "\n",
       "    .dataframe thead th {\n",
       "        text-align: right;\n",
       "    }\n",
       "</style>\n",
       "<table border=\"1\" class=\"dataframe\">\n",
       "  <thead>\n",
       "    <tr style=\"text-align: right;\">\n",
       "      <th></th>\n",
       "      <th>speeches</th>\n",
       "      <th>WPs</th>\n",
       "      <th>date</th>\n",
       "    </tr>\n",
       "  </thead>\n",
       "  <tbody>\n",
       "    <tr>\n",
       "      <th>0</th>\n",
       "      <td>471526</td>\n",
       "      <td>12</td>\n",
       "      <td>1990-12-20</td>\n",
       "    </tr>\n",
       "    <tr>\n",
       "      <th>1</th>\n",
       "      <td>471554</td>\n",
       "      <td>12</td>\n",
       "      <td>1990-12-20</td>\n",
       "    </tr>\n",
       "    <tr>\n",
       "      <th>2</th>\n",
       "      <td>471532</td>\n",
       "      <td>12</td>\n",
       "      <td>1990-12-20</td>\n",
       "    </tr>\n",
       "    <tr>\n",
       "      <th>3</th>\n",
       "      <td>471527</td>\n",
       "      <td>12</td>\n",
       "      <td>1990-12-20</td>\n",
       "    </tr>\n",
       "    <tr>\n",
       "      <th>4</th>\n",
       "      <td>471536</td>\n",
       "      <td>12</td>\n",
       "      <td>1990-12-20</td>\n",
       "    </tr>\n",
       "    <tr>\n",
       "      <th>...</th>\n",
       "      <td>...</td>\n",
       "      <td>...</td>\n",
       "      <td>...</td>\n",
       "    </tr>\n",
       "    <tr>\n",
       "      <th>121033</th>\n",
       "      <td>1066565</td>\n",
       "      <td>19</td>\n",
       "      <td>2021-09-06</td>\n",
       "    </tr>\n",
       "    <tr>\n",
       "      <th>121034</th>\n",
       "      <td>1066537</td>\n",
       "      <td>19</td>\n",
       "      <td>2021-09-06</td>\n",
       "    </tr>\n",
       "    <tr>\n",
       "      <th>121035</th>\n",
       "      <td>1066541</td>\n",
       "      <td>19</td>\n",
       "      <td>2021-09-06</td>\n",
       "    </tr>\n",
       "    <tr>\n",
       "      <th>121036</th>\n",
       "      <td>1066520</td>\n",
       "      <td>19</td>\n",
       "      <td>2021-09-06</td>\n",
       "    </tr>\n",
       "    <tr>\n",
       "      <th>121037</th>\n",
       "      <td>1066606</td>\n",
       "      <td>19</td>\n",
       "      <td>2021-09-06</td>\n",
       "    </tr>\n",
       "  </tbody>\n",
       "</table>\n",
       "<p>121038 rows × 3 columns</p>\n",
       "</div>"
      ],
      "text/plain": [
       "       speeches WPs        date\n",
       "0        471526  12  1990-12-20\n",
       "1        471554  12  1990-12-20\n",
       "2        471532  12  1990-12-20\n",
       "3        471527  12  1990-12-20\n",
       "4        471536  12  1990-12-20\n",
       "...         ...  ..         ...\n",
       "121033  1066565  19  2021-09-06\n",
       "121034  1066537  19  2021-09-06\n",
       "121035  1066541  19  2021-09-06\n",
       "121036  1066520  19  2021-09-06\n",
       "121037  1066606  19  2021-09-06\n",
       "\n",
       "[121038 rows x 3 columns]"
      ]
     },
     "execution_count": 135,
     "metadata": {},
     "output_type": "execute_result"
    }
   ],
   "source": [
    "speeches_and_WPs"
   ]
  },
  {
   "cell_type": "code",
   "execution_count": 136,
   "metadata": {},
   "outputs": [],
   "source": [
    "#id2rede_12_19[\"1066606\"]"
   ]
  },
  {
   "cell_type": "code",
   "execution_count": 137,
   "metadata": {},
   "outputs": [
    {
     "name": "stdout",
     "output_type": "stream",
     "text": [
      "471526\n",
      "479132\n",
      "489844\n"
     ]
    }
   ],
   "source": [
    "for speech in NamesAndSpeeches[\"speeches\"][NamesAndSpeeches[\"wikidataid\"] == \"Q2514\"][0]: \n",
    "    print(speech)"
   ]
  },
  {
   "cell_type": "code",
   "execution_count": 138,
   "metadata": {},
   "outputs": [
    {
     "data": {
      "text/plain": [
       "0    [471526, 479132, 489844]\n",
       "Name: speeches, dtype: object"
      ]
     },
     "execution_count": 138,
     "metadata": {},
     "output_type": "execute_result"
    }
   ],
   "source": [
    "NamesAndSpeeches[\"speeches\"][NamesAndSpeeches[\"wikidataid\"] == \"Q2514\"]"
   ]
  },
  {
   "cell_type": "code",
   "execution_count": 139,
   "metadata": {},
   "outputs": [
    {
     "data": {
      "text/plain": [
       "'Q66286'"
      ]
     },
     "execution_count": 139,
     "metadata": {},
     "output_type": "execute_result"
    }
   ],
   "source": [
    "NamesAndSpeeches[\"wikidataid\"][1]"
   ]
  },
  {
   "cell_type": "code",
   "execution_count": 140,
   "metadata": {},
   "outputs": [
    {
     "data": {
      "text/plain": [
       "Index(['speeches', 'politicianID', 'surname_lower_comb', 'forename_lower_comb',\n",
       "       'pageid', 'wikidataid', 'name'],\n",
       "      dtype='object')"
      ]
     },
     "execution_count": 140,
     "metadata": {},
     "output_type": "execute_result"
    }
   ],
   "source": [
    "NamesAndSpeeches.columns"
   ]
  },
  {
   "cell_type": "code",
   "execution_count": 141,
   "metadata": {},
   "outputs": [],
   "source": [
    "#NamesAndSpeeches[\"speeches\"][NamesAndSpeeches[\"wikidataid\"] == ID]#[0]"
   ]
  },
  {
   "cell_type": "code",
   "execution_count": 142,
   "metadata": {},
   "outputs": [
    {
     "data": {
      "text/plain": [
       "True"
      ]
     },
     "execution_count": 142,
     "metadata": {},
     "output_type": "execute_result"
    }
   ],
   "source": [
    "list(NamesAndSpeeches[\"speeches\"][NamesAndSpeeches[\"wikidataid\"] == \"Q20645389\"])[0] is np.nan"
   ]
  },
  {
   "cell_type": "code",
   "execution_count": 143,
   "metadata": {},
   "outputs": [],
   "source": [
    "speech2wikidataid = {}\n",
    "\n",
    "for ID in list(NamesAndSpeeches[\"wikidataid\"]): \n",
    "    \n",
    "    if list(NamesAndSpeeches[\"speeches\"][NamesAndSpeeches[\"wikidataid\"] == ID])[0] is np.nan: \n",
    "        pass\n",
    "    else:\n",
    "        for speech in list(NamesAndSpeeches[\"speeches\"][NamesAndSpeeches[\"wikidataid\"] == ID])[0]: \n",
    "            speech2wikidataid[speech] = ID"
   ]
  },
  {
   "cell_type": "code",
   "execution_count": 144,
   "metadata": {},
   "outputs": [
    {
     "data": {
      "text/plain": [
       "116643"
      ]
     },
     "execution_count": 144,
     "metadata": {},
     "output_type": "execute_result"
    }
   ],
   "source": [
    "len(speech2wikidataid) #116643"
   ]
  },
  {
   "cell_type": "code",
   "execution_count": 145,
   "metadata": {},
   "outputs": [],
   "source": [
    "def apply_dic_mapping(item): \n",
    "    if item in speech2wikidataid.keys(): \n",
    "        res = speech2wikidataid[item]\n",
    "        \n",
    "    else: \n",
    "        res = np.nan\n",
    "        \n",
    "    return res"
   ]
  },
  {
   "cell_type": "code",
   "execution_count": 146,
   "metadata": {},
   "outputs": [],
   "source": [
    "speeches_and_WPs[\"wikidataid\"] = speeches_and_WPs[\"speeches\"].map(lambda x : apply_dic_mapping(x))"
   ]
  },
  {
   "cell_type": "code",
   "execution_count": 147,
   "metadata": {},
   "outputs": [
    {
     "data": {
      "text/html": [
       "<div>\n",
       "<style scoped>\n",
       "    .dataframe tbody tr th:only-of-type {\n",
       "        vertical-align: middle;\n",
       "    }\n",
       "\n",
       "    .dataframe tbody tr th {\n",
       "        vertical-align: top;\n",
       "    }\n",
       "\n",
       "    .dataframe thead th {\n",
       "        text-align: right;\n",
       "    }\n",
       "</style>\n",
       "<table border=\"1\" class=\"dataframe\">\n",
       "  <thead>\n",
       "    <tr style=\"text-align: right;\">\n",
       "      <th></th>\n",
       "      <th>speeches</th>\n",
       "      <th>WPs</th>\n",
       "      <th>date</th>\n",
       "      <th>wikidataid</th>\n",
       "    </tr>\n",
       "  </thead>\n",
       "  <tbody>\n",
       "    <tr>\n",
       "      <th>20</th>\n",
       "      <td>471571</td>\n",
       "      <td>12</td>\n",
       "      <td>1991-01-14</td>\n",
       "      <td>NaN</td>\n",
       "    </tr>\n",
       "    <tr>\n",
       "      <th>21</th>\n",
       "      <td>471573</td>\n",
       "      <td>12</td>\n",
       "      <td>1991-01-14</td>\n",
       "      <td>NaN</td>\n",
       "    </tr>\n",
       "    <tr>\n",
       "      <th>31</th>\n",
       "      <td>471603</td>\n",
       "      <td>12</td>\n",
       "      <td>1991-01-17</td>\n",
       "      <td>NaN</td>\n",
       "    </tr>\n",
       "    <tr>\n",
       "      <th>32</th>\n",
       "      <td>471609</td>\n",
       "      <td>12</td>\n",
       "      <td>1991-01-17</td>\n",
       "      <td>NaN</td>\n",
       "    </tr>\n",
       "    <tr>\n",
       "      <th>71</th>\n",
       "      <td>471862</td>\n",
       "      <td>12</td>\n",
       "      <td>1991-01-31</td>\n",
       "      <td>NaN</td>\n",
       "    </tr>\n",
       "    <tr>\n",
       "      <th>...</th>\n",
       "      <td>...</td>\n",
       "      <td>...</td>\n",
       "      <td>...</td>\n",
       "      <td>...</td>\n",
       "    </tr>\n",
       "    <tr>\n",
       "      <th>121001</th>\n",
       "      <td>1066462</td>\n",
       "      <td>19</td>\n",
       "      <td>2021-08-24</td>\n",
       "      <td>NaN</td>\n",
       "    </tr>\n",
       "    <tr>\n",
       "      <th>121003</th>\n",
       "      <td>1066517</td>\n",
       "      <td>19</td>\n",
       "      <td>2021-09-06</td>\n",
       "      <td>NaN</td>\n",
       "    </tr>\n",
       "    <tr>\n",
       "      <th>121006</th>\n",
       "      <td>1066538</td>\n",
       "      <td>19</td>\n",
       "      <td>2021-09-06</td>\n",
       "      <td>NaN</td>\n",
       "    </tr>\n",
       "    <tr>\n",
       "      <th>121036</th>\n",
       "      <td>1066520</td>\n",
       "      <td>19</td>\n",
       "      <td>2021-09-06</td>\n",
       "      <td>NaN</td>\n",
       "    </tr>\n",
       "    <tr>\n",
       "      <th>121037</th>\n",
       "      <td>1066606</td>\n",
       "      <td>19</td>\n",
       "      <td>2021-09-06</td>\n",
       "      <td>NaN</td>\n",
       "    </tr>\n",
       "  </tbody>\n",
       "</table>\n",
       "<p>4395 rows × 4 columns</p>\n",
       "</div>"
      ],
      "text/plain": [
       "       speeches WPs        date wikidataid\n",
       "20       471571  12  1991-01-14        NaN\n",
       "21       471573  12  1991-01-14        NaN\n",
       "31       471603  12  1991-01-17        NaN\n",
       "32       471609  12  1991-01-17        NaN\n",
       "71       471862  12  1991-01-31        NaN\n",
       "...         ...  ..         ...        ...\n",
       "121001  1066462  19  2021-08-24        NaN\n",
       "121003  1066517  19  2021-09-06        NaN\n",
       "121006  1066538  19  2021-09-06        NaN\n",
       "121036  1066520  19  2021-09-06        NaN\n",
       "121037  1066606  19  2021-09-06        NaN\n",
       "\n",
       "[4395 rows x 4 columns]"
      ]
     },
     "execution_count": 147,
     "metadata": {},
     "output_type": "execute_result"
    }
   ],
   "source": [
    "speeches_and_WPs[speeches_and_WPs[\"wikidataid\"].isna() == True]"
   ]
  },
  {
   "cell_type": "code",
   "execution_count": 148,
   "metadata": {},
   "outputs": [],
   "source": [
    "with open(PATH + 'processed/speech2KL_WP19.txt', 'r') as infile: \n",
    "    speech2KL_WP19 = json.load(infile)\n",
    "infile.close()"
   ]
  },
  {
   "cell_type": "code",
   "execution_count": 149,
   "metadata": {},
   "outputs": [
    {
     "data": {
      "text/html": [
       "<div>\n",
       "<style scoped>\n",
       "    .dataframe tbody tr th:only-of-type {\n",
       "        vertical-align: middle;\n",
       "    }\n",
       "\n",
       "    .dataframe tbody tr th {\n",
       "        vertical-align: top;\n",
       "    }\n",
       "\n",
       "    .dataframe thead th {\n",
       "        text-align: right;\n",
       "    }\n",
       "</style>\n",
       "<table border=\"1\" class=\"dataframe\">\n",
       "  <thead>\n",
       "    <tr style=\"text-align: right;\">\n",
       "      <th></th>\n",
       "      <th>speeches</th>\n",
       "      <th>WPs</th>\n",
       "      <th>date</th>\n",
       "      <th>wikidataid</th>\n",
       "    </tr>\n",
       "  </thead>\n",
       "  <tbody>\n",
       "    <tr>\n",
       "      <th>121008</th>\n",
       "      <td>1066506</td>\n",
       "      <td>19</td>\n",
       "      <td>2021-09-06</td>\n",
       "      <td>Q99450</td>\n",
       "    </tr>\n",
       "  </tbody>\n",
       "</table>\n",
       "</div>"
      ],
      "text/plain": [
       "       speeches WPs        date wikidataid\n",
       "121008  1066506  19  2021-09-06     Q99450"
      ]
     },
     "execution_count": 149,
     "metadata": {},
     "output_type": "execute_result"
    }
   ],
   "source": [
    "speeches_and_WPs[speeches_and_WPs[\"speeches\"] == '1066506']"
   ]
  },
  {
   "cell_type": "code",
   "execution_count": 150,
   "metadata": {},
   "outputs": [
    {
     "data": {
      "text/plain": [
       "'1066506'"
      ]
     },
     "execution_count": 150,
     "metadata": {},
     "output_type": "execute_result"
    }
   ],
   "source": [
    "list(speeches_and_WPs[\"speeches\"])[-30]"
   ]
  },
  {
   "cell_type": "code",
   "execution_count": 151,
   "metadata": {},
   "outputs": [
    {
     "data": {
      "text/plain": [
       "{'novelty': 2.213904107861204,\n",
       " 'transience': 1.8539109033568522,\n",
       " 'resonance': 0.3599932045043517}"
      ]
     },
     "execution_count": 151,
     "metadata": {},
     "output_type": "execute_result"
    }
   ],
   "source": [
    "speech2KL_WP19[\"10\"]['1066506']"
   ]
  },
  {
   "cell_type": "code",
   "execution_count": 152,
   "metadata": {},
   "outputs": [],
   "source": [
    "novelty = []\n",
    "transience = []\n",
    "resonance = []\n",
    "window = 25\n",
    "\n",
    "no_value = []\n",
    "\n",
    "ls_speeches = list(speeches_and_WPs[\"speeches\"])\n",
    "\n",
    "for i in range(len(ls_speeches)): \n",
    "    #if speech in speech2KL_WP19[str(window)].keys():\n",
    "    #    if \"novelty\" in speech2KL_WP19[str(window)][speech].keys():\n",
    "    #        novelty.append(speech2KL_WP19[str(window)][speech][\"novelty\"])\n",
    "    #    else:\n",
    "    #        novelty.append(np.nan)\n",
    "    #        \n",
    "    #    if \"transience\" in speech2KL_WP19[str(window)][speech].keys():\n",
    "    #        transience.append(speech2KL_WP19[str(window)][speech][\"transience\"])\n",
    "    #    else: \n",
    "    #        transience.append(np.nan)    \n",
    "    #        \n",
    "    #    if \"resonance\" in speech2KL_WP19[str(window)][speech].keys():\n",
    "    #        resonance.append(speech2KL_WP19[str(window)][speech][\"resonance\"])\n",
    "    #    else: \n",
    "    #        resonance.append(np.nan) \n",
    "    \n",
    "    if ls_speeches[i] in speech2KL[str(window)].keys():\n",
    "        if \"novelty\" in speech2KL[str(window)][ls_speeches[i]].keys():\n",
    "            novelty.append(speech2KL[str(window)][ls_speeches[i]][\"novelty\"])\n",
    "        else: \n",
    "            print(i)\n",
    "            novelty.append(np.nan)\n",
    "                \n",
    "        if \"transience\" in speech2KL[str(window)][ls_speeches[i]].keys():\n",
    "            transience.append(speech2KL[str(window)][ls_speeches[i]][\"transience\"])\n",
    "        else: \n",
    "            transience.append(np.nan)    \n",
    "            \n",
    "        if \"resonance\" in speech2KL[str(window)][ls_speeches[i]].keys():\n",
    "            resonance.append(speech2KL[str(window)][ls_speeches[i]][\"resonance\"])\n",
    "        else: \n",
    "            resonance.append(np.nan)  \n",
    "            \n",
    "    else: \n",
    "        no_value.append(i)\n",
    "        novelty.append(np.nan)\n",
    "        transience.append(np.nan)\n",
    "        resonance.append(np.nan)"
   ]
  },
  {
   "cell_type": "code",
   "execution_count": 153,
   "metadata": {},
   "outputs": [
    {
     "data": {
      "text/plain": [
       "(121038, 2984)"
      ]
     },
     "execution_count": 153,
     "metadata": {},
     "output_type": "execute_result"
    }
   ],
   "source": [
    "len(transience), len(no_value) #(121038, 2984)"
   ]
  },
  {
   "cell_type": "code",
   "execution_count": 154,
   "metadata": {},
   "outputs": [
    {
     "data": {
      "text/plain": [
       "121038"
      ]
     },
     "execution_count": 154,
     "metadata": {},
     "output_type": "execute_result"
    }
   ],
   "source": [
    "len(speeches_and_WPs)"
   ]
  },
  {
   "cell_type": "code",
   "execution_count": 155,
   "metadata": {},
   "outputs": [],
   "source": [
    "speeches_and_WPs[\"novelty\"] = pd.Series(novelty)\n",
    "speeches_and_WPs[\"transience\"] = pd.Series(transience)\n",
    "speeches_and_WPs[\"resonance\"] = pd.Series(resonance)"
   ]
  },
  {
   "cell_type": "code",
   "execution_count": 156,
   "metadata": {},
   "outputs": [
    {
     "data": {
      "text/html": [
       "<div>\n",
       "<style scoped>\n",
       "    .dataframe tbody tr th:only-of-type {\n",
       "        vertical-align: middle;\n",
       "    }\n",
       "\n",
       "    .dataframe tbody tr th {\n",
       "        vertical-align: top;\n",
       "    }\n",
       "\n",
       "    .dataframe thead th {\n",
       "        text-align: right;\n",
       "    }\n",
       "</style>\n",
       "<table border=\"1\" class=\"dataframe\">\n",
       "  <thead>\n",
       "    <tr style=\"text-align: right;\">\n",
       "      <th></th>\n",
       "      <th>speeches</th>\n",
       "      <th>WPs</th>\n",
       "      <th>date</th>\n",
       "      <th>wikidataid</th>\n",
       "      <th>novelty</th>\n",
       "      <th>transience</th>\n",
       "      <th>resonance</th>\n",
       "    </tr>\n",
       "  </thead>\n",
       "  <tbody>\n",
       "    <tr>\n",
       "      <th>0</th>\n",
       "      <td>471526</td>\n",
       "      <td>12</td>\n",
       "      <td>1990-12-20</td>\n",
       "      <td>Q2514</td>\n",
       "      <td>2.549234</td>\n",
       "      <td>2.488905</td>\n",
       "      <td>0.060329</td>\n",
       "    </tr>\n",
       "    <tr>\n",
       "      <th>1</th>\n",
       "      <td>471554</td>\n",
       "      <td>12</td>\n",
       "      <td>1990-12-20</td>\n",
       "      <td>Q66286</td>\n",
       "      <td>2.592673</td>\n",
       "      <td>2.386411</td>\n",
       "      <td>0.206261</td>\n",
       "    </tr>\n",
       "    <tr>\n",
       "      <th>2</th>\n",
       "      <td>471532</td>\n",
       "      <td>12</td>\n",
       "      <td>1990-12-20</td>\n",
       "      <td>Q895636</td>\n",
       "      <td>3.153690</td>\n",
       "      <td>3.067440</td>\n",
       "      <td>0.086250</td>\n",
       "    </tr>\n",
       "    <tr>\n",
       "      <th>3</th>\n",
       "      <td>471527</td>\n",
       "      <td>12</td>\n",
       "      <td>1990-12-20</td>\n",
       "      <td>Q65389</td>\n",
       "      <td>NaN</td>\n",
       "      <td>NaN</td>\n",
       "      <td>NaN</td>\n",
       "    </tr>\n",
       "    <tr>\n",
       "      <th>4</th>\n",
       "      <td>471536</td>\n",
       "      <td>12</td>\n",
       "      <td>1990-12-20</td>\n",
       "      <td>Q1594398</td>\n",
       "      <td>3.193564</td>\n",
       "      <td>2.898972</td>\n",
       "      <td>0.294592</td>\n",
       "    </tr>\n",
       "    <tr>\n",
       "      <th>...</th>\n",
       "      <td>...</td>\n",
       "      <td>...</td>\n",
       "      <td>...</td>\n",
       "      <td>...</td>\n",
       "      <td>...</td>\n",
       "      <td>...</td>\n",
       "      <td>...</td>\n",
       "    </tr>\n",
       "    <tr>\n",
       "      <th>121033</th>\n",
       "      <td>1066565</td>\n",
       "      <td>19</td>\n",
       "      <td>2021-09-06</td>\n",
       "      <td>Q40998965</td>\n",
       "      <td>NaN</td>\n",
       "      <td>NaN</td>\n",
       "      <td>NaN</td>\n",
       "    </tr>\n",
       "    <tr>\n",
       "      <th>121034</th>\n",
       "      <td>1066537</td>\n",
       "      <td>19</td>\n",
       "      <td>2021-09-06</td>\n",
       "      <td>Q18169686</td>\n",
       "      <td>NaN</td>\n",
       "      <td>NaN</td>\n",
       "      <td>NaN</td>\n",
       "    </tr>\n",
       "    <tr>\n",
       "      <th>121035</th>\n",
       "      <td>1066541</td>\n",
       "      <td>19</td>\n",
       "      <td>2021-09-06</td>\n",
       "      <td>Q15606894</td>\n",
       "      <td>NaN</td>\n",
       "      <td>NaN</td>\n",
       "      <td>NaN</td>\n",
       "    </tr>\n",
       "    <tr>\n",
       "      <th>121036</th>\n",
       "      <td>1066520</td>\n",
       "      <td>19</td>\n",
       "      <td>2021-09-06</td>\n",
       "      <td>NaN</td>\n",
       "      <td>NaN</td>\n",
       "      <td>NaN</td>\n",
       "      <td>NaN</td>\n",
       "    </tr>\n",
       "    <tr>\n",
       "      <th>121037</th>\n",
       "      <td>1066606</td>\n",
       "      <td>19</td>\n",
       "      <td>2021-09-06</td>\n",
       "      <td>NaN</td>\n",
       "      <td>NaN</td>\n",
       "      <td>NaN</td>\n",
       "      <td>NaN</td>\n",
       "    </tr>\n",
       "  </tbody>\n",
       "</table>\n",
       "<p>121038 rows × 7 columns</p>\n",
       "</div>"
      ],
      "text/plain": [
       "       speeches WPs        date wikidataid   novelty  transience  resonance\n",
       "0        471526  12  1990-12-20      Q2514  2.549234    2.488905   0.060329\n",
       "1        471554  12  1990-12-20     Q66286  2.592673    2.386411   0.206261\n",
       "2        471532  12  1990-12-20    Q895636  3.153690    3.067440   0.086250\n",
       "3        471527  12  1990-12-20     Q65389       NaN         NaN        NaN\n",
       "4        471536  12  1990-12-20   Q1594398  3.193564    2.898972   0.294592\n",
       "...         ...  ..         ...        ...       ...         ...        ...\n",
       "121033  1066565  19  2021-09-06  Q40998965       NaN         NaN        NaN\n",
       "121034  1066537  19  2021-09-06  Q18169686       NaN         NaN        NaN\n",
       "121035  1066541  19  2021-09-06  Q15606894       NaN         NaN        NaN\n",
       "121036  1066520  19  2021-09-06        NaN       NaN         NaN        NaN\n",
       "121037  1066606  19  2021-09-06        NaN       NaN         NaN        NaN\n",
       "\n",
       "[121038 rows x 7 columns]"
      ]
     },
     "execution_count": 156,
     "metadata": {},
     "output_type": "execute_result"
    }
   ],
   "source": [
    "speeches_and_WPs #121038 rows × 7 columns"
   ]
  },
  {
   "cell_type": "code",
   "execution_count": 157,
   "metadata": {},
   "outputs": [
    {
     "data": {
      "text/html": [
       "<div>\n",
       "<style scoped>\n",
       "    .dataframe tbody tr th:only-of-type {\n",
       "        vertical-align: middle;\n",
       "    }\n",
       "\n",
       "    .dataframe tbody tr th {\n",
       "        vertical-align: top;\n",
       "    }\n",
       "\n",
       "    .dataframe thead th {\n",
       "        text-align: right;\n",
       "    }\n",
       "</style>\n",
       "<table border=\"1\" class=\"dataframe\">\n",
       "  <thead>\n",
       "    <tr style=\"text-align: right;\">\n",
       "      <th></th>\n",
       "      <th>speeches</th>\n",
       "      <th>WPs</th>\n",
       "      <th>date</th>\n",
       "      <th>wikidataid</th>\n",
       "      <th>novelty</th>\n",
       "      <th>transience</th>\n",
       "      <th>resonance</th>\n",
       "    </tr>\n",
       "  </thead>\n",
       "  <tbody>\n",
       "    <tr>\n",
       "      <th>0</th>\n",
       "      <td>471526</td>\n",
       "      <td>12</td>\n",
       "      <td>1990-12-20</td>\n",
       "      <td>Q2514</td>\n",
       "      <td>2.549234</td>\n",
       "      <td>2.488905</td>\n",
       "      <td>0.060329</td>\n",
       "    </tr>\n",
       "    <tr>\n",
       "      <th>1</th>\n",
       "      <td>471554</td>\n",
       "      <td>12</td>\n",
       "      <td>1990-12-20</td>\n",
       "      <td>Q66286</td>\n",
       "      <td>2.592673</td>\n",
       "      <td>2.386411</td>\n",
       "      <td>0.206261</td>\n",
       "    </tr>\n",
       "    <tr>\n",
       "      <th>2</th>\n",
       "      <td>471532</td>\n",
       "      <td>12</td>\n",
       "      <td>1990-12-20</td>\n",
       "      <td>Q895636</td>\n",
       "      <td>3.153690</td>\n",
       "      <td>3.067440</td>\n",
       "      <td>0.086250</td>\n",
       "    </tr>\n",
       "    <tr>\n",
       "      <th>3</th>\n",
       "      <td>471527</td>\n",
       "      <td>12</td>\n",
       "      <td>1990-12-20</td>\n",
       "      <td>Q65389</td>\n",
       "      <td>NaN</td>\n",
       "      <td>NaN</td>\n",
       "      <td>NaN</td>\n",
       "    </tr>\n",
       "    <tr>\n",
       "      <th>4</th>\n",
       "      <td>471536</td>\n",
       "      <td>12</td>\n",
       "      <td>1990-12-20</td>\n",
       "      <td>Q1594398</td>\n",
       "      <td>3.193564</td>\n",
       "      <td>2.898972</td>\n",
       "      <td>0.294592</td>\n",
       "    </tr>\n",
       "  </tbody>\n",
       "</table>\n",
       "</div>"
      ],
      "text/plain": [
       "  speeches WPs        date wikidataid   novelty  transience  resonance\n",
       "0   471526  12  1990-12-20      Q2514  2.549234    2.488905   0.060329\n",
       "1   471554  12  1990-12-20     Q66286  2.592673    2.386411   0.206261\n",
       "2   471532  12  1990-12-20    Q895636  3.153690    3.067440   0.086250\n",
       "3   471527  12  1990-12-20     Q65389       NaN         NaN        NaN\n",
       "4   471536  12  1990-12-20   Q1594398  3.193564    2.898972   0.294592"
      ]
     },
     "execution_count": 157,
     "metadata": {},
     "output_type": "execute_result"
    }
   ],
   "source": [
    "speeches_and_WPs.head(5)"
   ]
  },
  {
   "cell_type": "code",
   "execution_count": 158,
   "metadata": {},
   "outputs": [
    {
     "data": {
      "text/plain": [
       "Index(['speeches', 'politicianID', 'surname_lower_comb', 'forename_lower_comb',\n",
       "       'pageid', 'wikidataid', 'name'],\n",
       "      dtype='object')"
      ]
     },
     "execution_count": 158,
     "metadata": {},
     "output_type": "execute_result"
    }
   ],
   "source": [
    "NamesAndSpeeches.columns"
   ]
  },
  {
   "cell_type": "code",
   "execution_count": 182,
   "metadata": {},
   "outputs": [],
   "source": [
    "NamesWPSpeeches = pd.merge(speeches_and_WPs, NamesAndSpeeches[['politicianID', 'surname_lower_comb', 'forename_lower_comb',\n",
    "       'pageid', 'wikidataid', 'name']], how = \"left\", left_on=[\"wikidataid\"], right_on=[\"wikidataid\"])"
   ]
  },
  {
   "cell_type": "code",
   "execution_count": 183,
   "metadata": {},
   "outputs": [],
   "source": [
    "NamesWPSpeeches = NamesWPSpeeches.rename(columns = {\"speeches\" : \"speech\"})"
   ]
  },
  {
   "cell_type": "code",
   "execution_count": 184,
   "metadata": {},
   "outputs": [
    {
     "data": {
      "text/html": [
       "<div>\n",
       "<style scoped>\n",
       "    .dataframe tbody tr th:only-of-type {\n",
       "        vertical-align: middle;\n",
       "    }\n",
       "\n",
       "    .dataframe tbody tr th {\n",
       "        vertical-align: top;\n",
       "    }\n",
       "\n",
       "    .dataframe thead th {\n",
       "        text-align: right;\n",
       "    }\n",
       "</style>\n",
       "<table border=\"1\" class=\"dataframe\">\n",
       "  <thead>\n",
       "    <tr style=\"text-align: right;\">\n",
       "      <th></th>\n",
       "      <th>speech</th>\n",
       "      <th>WPs</th>\n",
       "      <th>date</th>\n",
       "      <th>wikidataid</th>\n",
       "      <th>novelty</th>\n",
       "      <th>transience</th>\n",
       "      <th>resonance</th>\n",
       "      <th>politicianID</th>\n",
       "      <th>surname_lower_comb</th>\n",
       "      <th>forename_lower_comb</th>\n",
       "      <th>pageid</th>\n",
       "      <th>name</th>\n",
       "    </tr>\n",
       "  </thead>\n",
       "  <tbody>\n",
       "    <tr>\n",
       "      <th>0</th>\n",
       "      <td>471526</td>\n",
       "      <td>12</td>\n",
       "      <td>1990-12-20</td>\n",
       "      <td>Q2514</td>\n",
       "      <td>2.549234</td>\n",
       "      <td>2.488905</td>\n",
       "      <td>0.060329</td>\n",
       "      <td>11000246.0</td>\n",
       "      <td>brandt</td>\n",
       "      <td>willy</td>\n",
       "      <td>1518001.0</td>\n",
       "      <td>Willy Brandt</td>\n",
       "    </tr>\n",
       "    <tr>\n",
       "      <th>1</th>\n",
       "      <td>471554</td>\n",
       "      <td>12</td>\n",
       "      <td>1990-12-20</td>\n",
       "      <td>Q66286</td>\n",
       "      <td>2.592673</td>\n",
       "      <td>2.386411</td>\n",
       "      <td>0.206261</td>\n",
       "      <td>11002287.0</td>\n",
       "      <td>süssmuth</td>\n",
       "      <td>rita</td>\n",
       "      <td>4253.0</td>\n",
       "      <td>Rita Süssmuth</td>\n",
       "    </tr>\n",
       "    <tr>\n",
       "      <th>2</th>\n",
       "      <td>471532</td>\n",
       "      <td>12</td>\n",
       "      <td>1990-12-20</td>\n",
       "      <td>Q895636</td>\n",
       "      <td>3.153690</td>\n",
       "      <td>3.067440</td>\n",
       "      <td>0.086250</td>\n",
       "      <td>11002354.0</td>\n",
       "      <td>ullmann</td>\n",
       "      <td>wolfgang</td>\n",
       "      <td>300219.0</td>\n",
       "      <td>Wolfgang Ullmann</td>\n",
       "    </tr>\n",
       "    <tr>\n",
       "      <th>3</th>\n",
       "      <td>471527</td>\n",
       "      <td>12</td>\n",
       "      <td>1990-12-20</td>\n",
       "      <td>Q65389</td>\n",
       "      <td>NaN</td>\n",
       "      <td>NaN</td>\n",
       "      <td>NaN</td>\n",
       "      <td>11000418.0</td>\n",
       "      <td>dregger</td>\n",
       "      <td>alfred</td>\n",
       "      <td>73446.0</td>\n",
       "      <td>Alfred Dregger</td>\n",
       "    </tr>\n",
       "    <tr>\n",
       "      <th>4</th>\n",
       "      <td>471536</td>\n",
       "      <td>12</td>\n",
       "      <td>1990-12-20</td>\n",
       "      <td>Q1594398</td>\n",
       "      <td>3.193564</td>\n",
       "      <td>2.898972</td>\n",
       "      <td>0.294592</td>\n",
       "      <td>11000891.0</td>\n",
       "      <td>heuer</td>\n",
       "      <td>uwe-jens</td>\n",
       "      <td>1097338.0</td>\n",
       "      <td>Uwe-Jens Heuer</td>\n",
       "    </tr>\n",
       "  </tbody>\n",
       "</table>\n",
       "</div>"
      ],
      "text/plain": [
       "   speech WPs        date wikidataid   novelty  transience  resonance  \\\n",
       "0  471526  12  1990-12-20      Q2514  2.549234    2.488905   0.060329   \n",
       "1  471554  12  1990-12-20     Q66286  2.592673    2.386411   0.206261   \n",
       "2  471532  12  1990-12-20    Q895636  3.153690    3.067440   0.086250   \n",
       "3  471527  12  1990-12-20     Q65389       NaN         NaN        NaN   \n",
       "4  471536  12  1990-12-20   Q1594398  3.193564    2.898972   0.294592   \n",
       "\n",
       "   politicianID surname_lower_comb forename_lower_comb     pageid  \\\n",
       "0    11000246.0             brandt               willy  1518001.0   \n",
       "1    11002287.0           süssmuth                rita     4253.0   \n",
       "2    11002354.0            ullmann            wolfgang   300219.0   \n",
       "3    11000418.0            dregger              alfred    73446.0   \n",
       "4    11000891.0              heuer            uwe-jens  1097338.0   \n",
       "\n",
       "               name  \n",
       "0      Willy Brandt  \n",
       "1     Rita Süssmuth  \n",
       "2  Wolfgang Ullmann  \n",
       "3    Alfred Dregger  \n",
       "4    Uwe-Jens Heuer  "
      ]
     },
     "execution_count": 184,
     "metadata": {},
     "output_type": "execute_result"
    }
   ],
   "source": [
    "NamesWPSpeeches.head(5)"
   ]
  },
  {
   "cell_type": "code",
   "execution_count": 185,
   "metadata": {},
   "outputs": [],
   "source": [
    "NamesWPSpeeches[\"year\"] = NamesWPSpeeches[\"date\"].map(lambda x: datetime.strptime(x, '%Y-%m-%d').year)\n",
    "NamesWPSpeeches[\"month\"] = NamesWPSpeeches[\"date\"].map(lambda x: datetime.strptime(x, '%Y-%m-%d').month)"
   ]
  },
  {
   "cell_type": "code",
   "execution_count": 187,
   "metadata": {},
   "outputs": [
    {
     "data": {
      "text/html": [
       "<div>\n",
       "<style scoped>\n",
       "    .dataframe tbody tr th:only-of-type {\n",
       "        vertical-align: middle;\n",
       "    }\n",
       "\n",
       "    .dataframe tbody tr th {\n",
       "        vertical-align: top;\n",
       "    }\n",
       "\n",
       "    .dataframe thead th {\n",
       "        text-align: right;\n",
       "    }\n",
       "</style>\n",
       "<table border=\"1\" class=\"dataframe\">\n",
       "  <thead>\n",
       "    <tr style=\"text-align: right;\">\n",
       "      <th></th>\n",
       "      <th>speech</th>\n",
       "      <th>WPs</th>\n",
       "      <th>date</th>\n",
       "      <th>wikidataid</th>\n",
       "      <th>novelty</th>\n",
       "      <th>transience</th>\n",
       "      <th>resonance</th>\n",
       "      <th>politicianID</th>\n",
       "      <th>surname_lower_comb</th>\n",
       "      <th>forename_lower_comb</th>\n",
       "      <th>pageid</th>\n",
       "      <th>name</th>\n",
       "      <th>year</th>\n",
       "      <th>month</th>\n",
       "    </tr>\n",
       "  </thead>\n",
       "  <tbody>\n",
       "    <tr>\n",
       "      <th>0</th>\n",
       "      <td>471526</td>\n",
       "      <td>12</td>\n",
       "      <td>1990-12-20</td>\n",
       "      <td>Q2514</td>\n",
       "      <td>2.549234</td>\n",
       "      <td>2.488905</td>\n",
       "      <td>0.060329</td>\n",
       "      <td>11000246.0</td>\n",
       "      <td>brandt</td>\n",
       "      <td>willy</td>\n",
       "      <td>1518001.0</td>\n",
       "      <td>Willy Brandt</td>\n",
       "      <td>1990</td>\n",
       "      <td>12</td>\n",
       "    </tr>\n",
       "    <tr>\n",
       "      <th>1</th>\n",
       "      <td>471554</td>\n",
       "      <td>12</td>\n",
       "      <td>1990-12-20</td>\n",
       "      <td>Q66286</td>\n",
       "      <td>2.592673</td>\n",
       "      <td>2.386411</td>\n",
       "      <td>0.206261</td>\n",
       "      <td>11002287.0</td>\n",
       "      <td>süssmuth</td>\n",
       "      <td>rita</td>\n",
       "      <td>4253.0</td>\n",
       "      <td>Rita Süssmuth</td>\n",
       "      <td>1990</td>\n",
       "      <td>12</td>\n",
       "    </tr>\n",
       "    <tr>\n",
       "      <th>2</th>\n",
       "      <td>471532</td>\n",
       "      <td>12</td>\n",
       "      <td>1990-12-20</td>\n",
       "      <td>Q895636</td>\n",
       "      <td>3.153690</td>\n",
       "      <td>3.067440</td>\n",
       "      <td>0.086250</td>\n",
       "      <td>11002354.0</td>\n",
       "      <td>ullmann</td>\n",
       "      <td>wolfgang</td>\n",
       "      <td>300219.0</td>\n",
       "      <td>Wolfgang Ullmann</td>\n",
       "      <td>1990</td>\n",
       "      <td>12</td>\n",
       "    </tr>\n",
       "    <tr>\n",
       "      <th>3</th>\n",
       "      <td>471527</td>\n",
       "      <td>12</td>\n",
       "      <td>1990-12-20</td>\n",
       "      <td>Q65389</td>\n",
       "      <td>NaN</td>\n",
       "      <td>NaN</td>\n",
       "      <td>NaN</td>\n",
       "      <td>11000418.0</td>\n",
       "      <td>dregger</td>\n",
       "      <td>alfred</td>\n",
       "      <td>73446.0</td>\n",
       "      <td>Alfred Dregger</td>\n",
       "      <td>1990</td>\n",
       "      <td>12</td>\n",
       "    </tr>\n",
       "    <tr>\n",
       "      <th>4</th>\n",
       "      <td>471536</td>\n",
       "      <td>12</td>\n",
       "      <td>1990-12-20</td>\n",
       "      <td>Q1594398</td>\n",
       "      <td>3.193564</td>\n",
       "      <td>2.898972</td>\n",
       "      <td>0.294592</td>\n",
       "      <td>11000891.0</td>\n",
       "      <td>heuer</td>\n",
       "      <td>uwe-jens</td>\n",
       "      <td>1097338.0</td>\n",
       "      <td>Uwe-Jens Heuer</td>\n",
       "      <td>1990</td>\n",
       "      <td>12</td>\n",
       "    </tr>\n",
       "  </tbody>\n",
       "</table>\n",
       "</div>"
      ],
      "text/plain": [
       "   speech WPs        date wikidataid   novelty  transience  resonance  \\\n",
       "0  471526  12  1990-12-20      Q2514  2.549234    2.488905   0.060329   \n",
       "1  471554  12  1990-12-20     Q66286  2.592673    2.386411   0.206261   \n",
       "2  471532  12  1990-12-20    Q895636  3.153690    3.067440   0.086250   \n",
       "3  471527  12  1990-12-20     Q65389       NaN         NaN        NaN   \n",
       "4  471536  12  1990-12-20   Q1594398  3.193564    2.898972   0.294592   \n",
       "\n",
       "   politicianID surname_lower_comb forename_lower_comb     pageid  \\\n",
       "0    11000246.0             brandt               willy  1518001.0   \n",
       "1    11002287.0           süssmuth                rita     4253.0   \n",
       "2    11002354.0            ullmann            wolfgang   300219.0   \n",
       "3    11000418.0            dregger              alfred    73446.0   \n",
       "4    11000891.0              heuer            uwe-jens  1097338.0   \n",
       "\n",
       "               name  year  month  \n",
       "0      Willy Brandt  1990     12  \n",
       "1     Rita Süssmuth  1990     12  \n",
       "2  Wolfgang Ullmann  1990     12  \n",
       "3    Alfred Dregger  1990     12  \n",
       "4    Uwe-Jens Heuer  1990     12  "
      ]
     },
     "execution_count": 187,
     "metadata": {},
     "output_type": "execute_result"
    }
   ],
   "source": [
    "NamesWPSpeeches.head(5)"
   ]
  },
  {
   "cell_type": "code",
   "execution_count": 188,
   "metadata": {},
   "outputs": [],
   "source": [
    "#NamesWPSpeeches.to_csv(PATH + \"./processed/NamesWPSpeeches.csv\")"
   ]
  },
  {
   "cell_type": "code",
   "execution_count": 162,
   "metadata": {},
   "outputs": [
    {
     "data": {
      "text/plain": [
       "dict_keys(['concatSpeech', 'name', 'date', 'data_ready', 'electoralTerm', 'firstName', 'lastName', 'politicianId', 'positionShort', 'positionLong', 'date_control', 'timestamp'])"
      ]
     },
     "execution_count": 162,
     "metadata": {},
     "output_type": "execute_result"
    }
   ],
   "source": [
    "id2rede_12_19['471526'].keys() #dict_keys(['concatSpeech', 'name', 'date', 'data_ready', 'electoralTerm', 'firstName', 'lastName', 'politicianId', 'positionShort', 'positionLong', 'date_control', 'timestamp'])"
   ]
  },
  {
   "cell_type": "raw",
   "metadata": {},
   "source": [
    "date = []\n",
    "window = 25\n",
    "\n",
    "for speech in list(NamesWPSpeeches[\"speech\"]): \n",
    "    if speech in id2rede_12_19.keys(): \n",
    "        if \"date\" in id2rede_12_19[speech].keys():\n",
    "            date.append(id2rede_12_19[speech][\"date\"])\n",
    "        else: \n",
    "            date.append(np.nan)\n",
    "    else: \n",
    "        date.append(np.nan)"
   ]
  },
  {
   "cell_type": "raw",
   "metadata": {},
   "source": [
    "len(date), len(NamesWPSpeeches)"
   ]
  },
  {
   "cell_type": "raw",
   "metadata": {},
   "source": [
    "NamesWPSpeeches[\"date\"] = pd.Series(date)"
   ]
  },
  {
   "cell_type": "code",
   "execution_count": 163,
   "metadata": {},
   "outputs": [
    {
     "data": {
      "text/plain": [
       "'1990-12-20'"
      ]
     },
     "execution_count": 163,
     "metadata": {},
     "output_type": "execute_result"
    }
   ],
   "source": [
    "NamesWPSpeeches[\"date\"][10]"
   ]
  },
  {
   "cell_type": "code",
   "execution_count": 164,
   "metadata": {},
   "outputs": [
    {
     "data": {
      "text/html": [
       "<div>\n",
       "<style scoped>\n",
       "    .dataframe tbody tr th:only-of-type {\n",
       "        vertical-align: middle;\n",
       "    }\n",
       "\n",
       "    .dataframe tbody tr th {\n",
       "        vertical-align: top;\n",
       "    }\n",
       "\n",
       "    .dataframe thead th {\n",
       "        text-align: right;\n",
       "    }\n",
       "</style>\n",
       "<table border=\"1\" class=\"dataframe\">\n",
       "  <thead>\n",
       "    <tr style=\"text-align: right;\">\n",
       "      <th></th>\n",
       "      <th>speeches</th>\n",
       "      <th>WPs</th>\n",
       "      <th>date</th>\n",
       "      <th>wikidataid</th>\n",
       "      <th>novelty</th>\n",
       "      <th>transience</th>\n",
       "      <th>resonance</th>\n",
       "    </tr>\n",
       "  </thead>\n",
       "  <tbody>\n",
       "    <tr>\n",
       "      <th>121033</th>\n",
       "      <td>1066565</td>\n",
       "      <td>19</td>\n",
       "      <td>2021-09-06</td>\n",
       "      <td>Q40998965</td>\n",
       "      <td>NaN</td>\n",
       "      <td>NaN</td>\n",
       "      <td>NaN</td>\n",
       "    </tr>\n",
       "    <tr>\n",
       "      <th>121034</th>\n",
       "      <td>1066537</td>\n",
       "      <td>19</td>\n",
       "      <td>2021-09-06</td>\n",
       "      <td>Q18169686</td>\n",
       "      <td>NaN</td>\n",
       "      <td>NaN</td>\n",
       "      <td>NaN</td>\n",
       "    </tr>\n",
       "    <tr>\n",
       "      <th>121035</th>\n",
       "      <td>1066541</td>\n",
       "      <td>19</td>\n",
       "      <td>2021-09-06</td>\n",
       "      <td>Q15606894</td>\n",
       "      <td>NaN</td>\n",
       "      <td>NaN</td>\n",
       "      <td>NaN</td>\n",
       "    </tr>\n",
       "    <tr>\n",
       "      <th>121036</th>\n",
       "      <td>1066520</td>\n",
       "      <td>19</td>\n",
       "      <td>2021-09-06</td>\n",
       "      <td>NaN</td>\n",
       "      <td>NaN</td>\n",
       "      <td>NaN</td>\n",
       "      <td>NaN</td>\n",
       "    </tr>\n",
       "    <tr>\n",
       "      <th>121037</th>\n",
       "      <td>1066606</td>\n",
       "      <td>19</td>\n",
       "      <td>2021-09-06</td>\n",
       "      <td>NaN</td>\n",
       "      <td>NaN</td>\n",
       "      <td>NaN</td>\n",
       "      <td>NaN</td>\n",
       "    </tr>\n",
       "  </tbody>\n",
       "</table>\n",
       "</div>"
      ],
      "text/plain": [
       "       speeches WPs        date wikidataid  novelty  transience  resonance\n",
       "121033  1066565  19  2021-09-06  Q40998965      NaN         NaN        NaN\n",
       "121034  1066537  19  2021-09-06  Q18169686      NaN         NaN        NaN\n",
       "121035  1066541  19  2021-09-06  Q15606894      NaN         NaN        NaN\n",
       "121036  1066520  19  2021-09-06        NaN      NaN         NaN        NaN\n",
       "121037  1066606  19  2021-09-06        NaN      NaN         NaN        NaN"
      ]
     },
     "execution_count": 164,
     "metadata": {},
     "output_type": "execute_result"
    }
   ],
   "source": [
    "speeches_and_WPs[speeches_and_WPs[\"WPs\"] == \"19\"].tail(5)#(30) "
   ]
  },
  {
   "cell_type": "code",
   "execution_count": 165,
   "metadata": {},
   "outputs": [
    {
     "data": {
      "text/html": [
       "<div>\n",
       "<style scoped>\n",
       "    .dataframe tbody tr th:only-of-type {\n",
       "        vertical-align: middle;\n",
       "    }\n",
       "\n",
       "    .dataframe tbody tr th {\n",
       "        vertical-align: top;\n",
       "    }\n",
       "\n",
       "    .dataframe thead th {\n",
       "        text-align: right;\n",
       "    }\n",
       "</style>\n",
       "<table border=\"1\" class=\"dataframe\">\n",
       "  <thead>\n",
       "    <tr style=\"text-align: right;\">\n",
       "      <th></th>\n",
       "      <th>speech</th>\n",
       "      <th>WPs</th>\n",
       "      <th>date</th>\n",
       "      <th>wikidataid</th>\n",
       "      <th>novelty</th>\n",
       "      <th>transience</th>\n",
       "      <th>resonance</th>\n",
       "      <th>politicianID</th>\n",
       "      <th>surname_lower_comb</th>\n",
       "      <th>forename_lower_comb</th>\n",
       "      <th>pageid</th>\n",
       "      <th>name</th>\n",
       "    </tr>\n",
       "  </thead>\n",
       "  <tbody>\n",
       "    <tr>\n",
       "      <th>121024</th>\n",
       "      <td>1066516</td>\n",
       "      <td>19</td>\n",
       "      <td>2021-09-06</td>\n",
       "      <td>Q564328</td>\n",
       "      <td>1.908871</td>\n",
       "      <td>2.024505</td>\n",
       "      <td>-0.115634</td>\n",
       "      <td>11004245.0</td>\n",
       "      <td>baerbock</td>\n",
       "      <td>annalena</td>\n",
       "      <td>4967001.0</td>\n",
       "      <td>Annalena Baerbock</td>\n",
       "    </tr>\n",
       "  </tbody>\n",
       "</table>\n",
       "</div>"
      ],
      "text/plain": [
       "         speech WPs        date wikidataid   novelty  transience  resonance  \\\n",
       "121024  1066516  19  2021-09-06    Q564328  1.908871    2.024505  -0.115634   \n",
       "\n",
       "        politicianID surname_lower_comb forename_lower_comb     pageid  \\\n",
       "121024    11004245.0           baerbock            annalena  4967001.0   \n",
       "\n",
       "                     name  \n",
       "121024  Annalena Baerbock  "
      ]
     },
     "execution_count": 165,
     "metadata": {},
     "output_type": "execute_result"
    }
   ],
   "source": [
    "NamesWPSpeeches[NamesWPSpeeches[\"speech\"] == '1066516']"
   ]
  },
  {
   "cell_type": "code",
   "execution_count": 166,
   "metadata": {},
   "outputs": [],
   "source": [
    "#speech2KL[\"500\"]"
   ]
  },
  {
   "cell_type": "code",
   "execution_count": 167,
   "metadata": {},
   "outputs": [
    {
     "data": {
      "text/plain": [
       "['1066253']"
      ]
     },
     "execution_count": 167,
     "metadata": {},
     "output_type": "execute_result"
    }
   ],
   "source": [
    "[list(speech2KL_WP19[\"100\"].keys())[-1]]"
   ]
  },
  {
   "cell_type": "code",
   "execution_count": 100,
   "metadata": {},
   "outputs": [
    {
     "data": {
      "text/plain": [
       "'1066516'"
      ]
     },
     "execution_count": 100,
     "metadata": {},
     "output_type": "execute_result"
    }
   ],
   "source": [
    "list(speech2KL_WP19[\"25\"].keys())[-1]"
   ]
  },
  {
   "cell_type": "code",
   "execution_count": 101,
   "metadata": {},
   "outputs": [
    {
     "data": {
      "text/plain": [
       "{'novelty': 1.9094954024053783,\n",
       " 'transience': 2.0175418083979877,\n",
       " 'resonance': -0.1080464059926094}"
      ]
     },
     "execution_count": 101,
     "metadata": {},
     "output_type": "execute_result"
    }
   ],
   "source": [
    "speech2KL_WP19[\"25\"]['1066516']"
   ]
  },
  {
   "cell_type": "code",
   "execution_count": 102,
   "metadata": {},
   "outputs": [
    {
     "data": {
      "text/plain": [
       "{'novelty': 1.9088706536543258,\n",
       " 'transience': 2.024504943478037,\n",
       " 'resonance': -0.11563428982371105}"
      ]
     },
     "execution_count": 102,
     "metadata": {},
     "output_type": "execute_result"
    }
   ],
   "source": [
    "speech2KL[\"25\"]['1066516']"
   ]
  },
  {
   "cell_type": "code",
   "execution_count": 103,
   "metadata": {},
   "outputs": [
    {
     "data": {
      "text/plain": [
       "Index(['speeches', 'WPs', 'date', 'wikidataid', 'novelty', 'transience',\n",
       "       'resonance'],\n",
       "      dtype='object')"
      ]
     },
     "execution_count": 103,
     "metadata": {},
     "output_type": "execute_result"
    }
   ],
   "source": [
    "speeches_and_WPs.columns # DATE IS MISSING!!!!!!!"
   ]
  },
  {
   "cell_type": "code",
   "execution_count": 106,
   "metadata": {},
   "outputs": [
    {
     "data": {
      "text/html": [
       "<div>\n",
       "<style scoped>\n",
       "    .dataframe tbody tr th:only-of-type {\n",
       "        vertical-align: middle;\n",
       "    }\n",
       "\n",
       "    .dataframe tbody tr th {\n",
       "        vertical-align: top;\n",
       "    }\n",
       "\n",
       "    .dataframe thead th {\n",
       "        text-align: right;\n",
       "    }\n",
       "</style>\n",
       "<table border=\"1\" class=\"dataframe\">\n",
       "  <thead>\n",
       "    <tr style=\"text-align: right;\">\n",
       "      <th></th>\n",
       "      <th>speeches</th>\n",
       "      <th>WPs</th>\n",
       "      <th>date</th>\n",
       "      <th>wikidataid</th>\n",
       "      <th>novelty</th>\n",
       "      <th>transience</th>\n",
       "      <th>resonance</th>\n",
       "    </tr>\n",
       "  </thead>\n",
       "  <tbody>\n",
       "    <tr>\n",
       "      <th>119938</th>\n",
       "      <td>1063050</td>\n",
       "      <td>19</td>\n",
       "      <td>2021-05-06</td>\n",
       "      <td>NaN</td>\n",
       "      <td>2.418201</td>\n",
       "      <td>2.461538</td>\n",
       "      <td>-0.043336</td>\n",
       "    </tr>\n",
       "    <tr>\n",
       "      <th>119939</th>\n",
       "      <td>1063136</td>\n",
       "      <td>19</td>\n",
       "      <td>2021-05-06</td>\n",
       "      <td>Q2590313</td>\n",
       "      <td>2.834857</td>\n",
       "      <td>2.831130</td>\n",
       "      <td>0.003727</td>\n",
       "    </tr>\n",
       "    <tr>\n",
       "      <th>119940</th>\n",
       "      <td>1063071</td>\n",
       "      <td>19</td>\n",
       "      <td>2021-05-06</td>\n",
       "      <td>Q97332</td>\n",
       "      <td>2.509440</td>\n",
       "      <td>2.796606</td>\n",
       "      <td>-0.287166</td>\n",
       "    </tr>\n",
       "    <tr>\n",
       "      <th>119941</th>\n",
       "      <td>1063270</td>\n",
       "      <td>19</td>\n",
       "      <td>2021-05-06</td>\n",
       "      <td>Q77195</td>\n",
       "      <td>2.157983</td>\n",
       "      <td>2.443720</td>\n",
       "      <td>-0.285737</td>\n",
       "    </tr>\n",
       "    <tr>\n",
       "      <th>119942</th>\n",
       "      <td>1063170</td>\n",
       "      <td>19</td>\n",
       "      <td>2021-05-06</td>\n",
       "      <td>Q11762</td>\n",
       "      <td>2.933550</td>\n",
       "      <td>2.729172</td>\n",
       "      <td>0.204379</td>\n",
       "    </tr>\n",
       "    <tr>\n",
       "      <th>...</th>\n",
       "      <td>...</td>\n",
       "      <td>...</td>\n",
       "      <td>...</td>\n",
       "      <td>...</td>\n",
       "      <td>...</td>\n",
       "      <td>...</td>\n",
       "      <td>...</td>\n",
       "    </tr>\n",
       "    <tr>\n",
       "      <th>120013</th>\n",
       "      <td>1063059</td>\n",
       "      <td>19</td>\n",
       "      <td>2021-05-06</td>\n",
       "      <td>Q18202322</td>\n",
       "      <td>2.979127</td>\n",
       "      <td>3.012757</td>\n",
       "      <td>-0.033630</td>\n",
       "    </tr>\n",
       "    <tr>\n",
       "      <th>120014</th>\n",
       "      <td>1063063</td>\n",
       "      <td>19</td>\n",
       "      <td>2021-05-06</td>\n",
       "      <td>NaN</td>\n",
       "      <td>2.988408</td>\n",
       "      <td>3.107007</td>\n",
       "      <td>-0.118599</td>\n",
       "    </tr>\n",
       "    <tr>\n",
       "      <th>120015</th>\n",
       "      <td>1063135</td>\n",
       "      <td>19</td>\n",
       "      <td>2021-05-06</td>\n",
       "      <td>NaN</td>\n",
       "      <td>2.880750</td>\n",
       "      <td>3.263802</td>\n",
       "      <td>-0.383052</td>\n",
       "    </tr>\n",
       "    <tr>\n",
       "      <th>120016</th>\n",
       "      <td>1063104</td>\n",
       "      <td>19</td>\n",
       "      <td>2021-05-06</td>\n",
       "      <td>NaN</td>\n",
       "      <td>3.158512</td>\n",
       "      <td>3.408175</td>\n",
       "      <td>-0.249663</td>\n",
       "    </tr>\n",
       "    <tr>\n",
       "      <th>120017</th>\n",
       "      <td>1063204</td>\n",
       "      <td>19</td>\n",
       "      <td>2021-05-06</td>\n",
       "      <td>NaN</td>\n",
       "      <td>3.439709</td>\n",
       "      <td>3.369462</td>\n",
       "      <td>0.070247</td>\n",
       "    </tr>\n",
       "  </tbody>\n",
       "</table>\n",
       "<p>80 rows × 7 columns</p>\n",
       "</div>"
      ],
      "text/plain": [
       "       speeches WPs        date wikidataid   novelty  transience  resonance\n",
       "119938  1063050  19  2021-05-06        NaN  2.418201    2.461538  -0.043336\n",
       "119939  1063136  19  2021-05-06   Q2590313  2.834857    2.831130   0.003727\n",
       "119940  1063071  19  2021-05-06     Q97332  2.509440    2.796606  -0.287166\n",
       "119941  1063270  19  2021-05-06     Q77195  2.157983    2.443720  -0.285737\n",
       "119942  1063170  19  2021-05-06     Q11762  2.933550    2.729172   0.204379\n",
       "...         ...  ..         ...        ...       ...         ...        ...\n",
       "120013  1063059  19  2021-05-06  Q18202322  2.979127    3.012757  -0.033630\n",
       "120014  1063063  19  2021-05-06        NaN  2.988408    3.107007  -0.118599\n",
       "120015  1063135  19  2021-05-06        NaN  2.880750    3.263802  -0.383052\n",
       "120016  1063104  19  2021-05-06        NaN  3.158512    3.408175  -0.249663\n",
       "120017  1063204  19  2021-05-06        NaN  3.439709    3.369462   0.070247\n",
       "\n",
       "[80 rows x 7 columns]"
      ]
     },
     "execution_count": 106,
     "metadata": {},
     "output_type": "execute_result"
    }
   ],
   "source": [
    "speeches_and_WPs[speeches_and_WPs[\"date\"] == '2021-05-06']"
   ]
  },
  {
   "cell_type": "code",
   "execution_count": 107,
   "metadata": {},
   "outputs": [
    {
     "data": {
      "text/plain": [
       "'/Users/alexandrarottenkolber/Documents/02_Hertie_School/Master thesis/Master_Thesis_Hertie/data_analysis/01_data/Plenarprotokolle/'"
      ]
     },
     "execution_count": 107,
     "metadata": {},
     "output_type": "execute_result"
    }
   ],
   "source": [
    "PATH"
   ]
  },
  {
   "cell_type": "code",
   "execution_count": 112,
   "metadata": {},
   "outputs": [],
   "source": [
    "speeches_and_KL_19 = pd.read_csv(PATH + \"./processed/speeches_and_KL_19.csv\").rename(columns = {\"Unnamed: 0\": \"speeches\"})"
   ]
  },
  {
   "cell_type": "code",
   "execution_count": 113,
   "metadata": {},
   "outputs": [
    {
     "data": {
      "text/html": [
       "<div>\n",
       "<style scoped>\n",
       "    .dataframe tbody tr th:only-of-type {\n",
       "        vertical-align: middle;\n",
       "    }\n",
       "\n",
       "    .dataframe tbody tr th {\n",
       "        vertical-align: top;\n",
       "    }\n",
       "\n",
       "    .dataframe thead th {\n",
       "        text-align: right;\n",
       "    }\n",
       "</style>\n",
       "<table border=\"1\" class=\"dataframe\">\n",
       "  <thead>\n",
       "    <tr style=\"text-align: right;\">\n",
       "      <th></th>\n",
       "      <th>speeches</th>\n",
       "      <th>novelty</th>\n",
       "      <th>transience</th>\n",
       "      <th>resonance</th>\n",
       "    </tr>\n",
       "  </thead>\n",
       "  <tbody>\n",
       "    <tr>\n",
       "      <th>19136</th>\n",
       "      <td>1066543</td>\n",
       "      <td>2.627851</td>\n",
       "      <td>2.967004</td>\n",
       "      <td>-0.339153</td>\n",
       "    </tr>\n",
       "    <tr>\n",
       "      <th>19137</th>\n",
       "      <td>1066550</td>\n",
       "      <td>2.267331</td>\n",
       "      <td>2.578270</td>\n",
       "      <td>-0.310940</td>\n",
       "    </tr>\n",
       "    <tr>\n",
       "      <th>19138</th>\n",
       "      <td>1066552</td>\n",
       "      <td>2.445844</td>\n",
       "      <td>2.681773</td>\n",
       "      <td>-0.235928</td>\n",
       "    </tr>\n",
       "    <tr>\n",
       "      <th>19139</th>\n",
       "      <td>1066554</td>\n",
       "      <td>2.325480</td>\n",
       "      <td>2.468612</td>\n",
       "      <td>-0.143131</td>\n",
       "    </tr>\n",
       "    <tr>\n",
       "      <th>19140</th>\n",
       "      <td>1066556</td>\n",
       "      <td>2.638225</td>\n",
       "      <td>3.201299</td>\n",
       "      <td>-0.563074</td>\n",
       "    </tr>\n",
       "  </tbody>\n",
       "</table>\n",
       "</div>"
      ],
      "text/plain": [
       "       speeches   novelty  transience  resonance\n",
       "19136   1066543  2.627851    2.967004  -0.339153\n",
       "19137   1066550  2.267331    2.578270  -0.310940\n",
       "19138   1066552  2.445844    2.681773  -0.235928\n",
       "19139   1066554  2.325480    2.468612  -0.143131\n",
       "19140   1066556  2.638225    3.201299  -0.563074"
      ]
     },
     "execution_count": 113,
     "metadata": {},
     "output_type": "execute_result"
    }
   ],
   "source": [
    "speeches_and_KL_19.tail()"
   ]
  },
  {
   "cell_type": "code",
   "execution_count": 114,
   "metadata": {},
   "outputs": [],
   "source": [
    "with open(PATH + 'processed/speech2KL_WP19.txt', 'r') as infile: \n",
    "    speech2KL_WP19 = json.load(infile)\n",
    "infile.close()"
   ]
  },
  {
   "cell_type": "code",
   "execution_count": 126,
   "metadata": {},
   "outputs": [
    {
     "data": {
      "text/plain": [
       "dict_keys(['5', '7', '10', '25', '100'])"
      ]
     },
     "execution_count": 126,
     "metadata": {},
     "output_type": "execute_result"
    }
   ],
   "source": [
    "speech2KL_WP19.keys()"
   ]
  },
  {
   "cell_type": "code",
   "execution_count": 115,
   "metadata": {},
   "outputs": [
    {
     "data": {
      "text/plain": [
       "Index(['speech', 'WPs', 'date', 'wikidataid', 'novelty', 'transience',\n",
       "       'resonance', 'politicianID', 'surname_lower_comb',\n",
       "       'forename_lower_comb', 'pageid', 'name'],\n",
       "      dtype='object')"
      ]
     },
     "execution_count": 115,
     "metadata": {},
     "output_type": "execute_result"
    }
   ],
   "source": [
    "NamesWPSpeeches.columns"
   ]
  },
  {
   "cell_type": "code",
   "execution_count": 131,
   "metadata": {},
   "outputs": [],
   "source": [
    "#NamesWPSpeeches.tail(50)"
   ]
  },
  {
   "cell_type": "code",
   "execution_count": 191,
   "metadata": {},
   "outputs": [],
   "source": [
    "NamesWPSpeeches_grouped_WP = NamesWPSpeeches.groupby([\"WPs\", \"wikidataid\", \"name\"]).mean().reset_index()\n",
    "NamesWPSpeeches_grouped_year = NamesWPSpeeches.groupby([\"year\", \"wikidataid\", \"name\"]).mean().reset_index()"
   ]
  },
  {
   "cell_type": "code",
   "execution_count": 193,
   "metadata": {},
   "outputs": [
    {
     "data": {
      "text/plain": [
       "(5130, 18326)"
      ]
     },
     "execution_count": 193,
     "metadata": {},
     "output_type": "execute_result"
    }
   ],
   "source": [
    "len(NamesWPSpeeches_grouped_WP), len(NamesWPSpeeches_grouped_year)"
   ]
  },
  {
   "cell_type": "code",
   "execution_count": 194,
   "metadata": {},
   "outputs": [],
   "source": [
    "NamesWPSpeeches_grouped_WP.to_csv(PATH + \"./processed/NamesWPSpeeches_grouped_by_IDNameWP.csv\")\n",
    "NamesWPSpeeches_grouped_year.to_csv(PATH + \"./processed/NamesWPSpeeches_grouped_by_IDNameYear.csv\")"
   ]
  },
  {
   "cell_type": "code",
   "execution_count": 118,
   "metadata": {},
   "outputs": [
    {
     "data": {
      "text/plain": [
       "Index(['WPs', 'wikidataid', 'name', 'novelty', 'transience', 'resonance',\n",
       "       'politicianID', 'pageid'],\n",
       "      dtype='object')"
      ]
     },
     "execution_count": 118,
     "metadata": {},
     "output_type": "execute_result"
    }
   ],
   "source": [
    "NamesWPSpeeches_grouped.columns"
   ]
  },
  {
   "cell_type": "code",
   "execution_count": 119,
   "metadata": {},
   "outputs": [
    {
     "data": {
      "text/plain": [
       "<AxesSubplot:>"
      ]
     },
     "execution_count": 119,
     "metadata": {},
     "output_type": "execute_result"
    },
    {
     "data": {
      "image/png": "[encoded data removed]",
      "text/plain": [
       "<Figure size 432x288 with 1 Axes>"
      ]
     },
     "metadata": {
      "needs_background": "light"
     },
     "output_type": "display_data"
    }
   ],
   "source": [
    "NamesWPSpeeches_grouped['novelty'][NamesWPSpeeches_grouped[\"WPs\"] == \"19\"].hist()"
   ]
  },
  {
   "cell_type": "code",
   "execution_count": 122,
   "metadata": {},
   "outputs": [
    {
     "data": {
      "text/plain": [
       "<AxesSubplot:>"
      ]
     },
     "execution_count": 122,
     "metadata": {},
     "output_type": "execute_result"
    },
    {
     "data": {
      "image/png": "[encoded data removed]",
      "text/plain": [
       "<Figure size 432x288 with 1 Axes>"
      ]
     },
     "metadata": {
      "needs_background": "light"
     },
     "output_type": "display_data"
    }
   ],
   "source": [
    "NamesWPSpeeches_grouped['novelty'][NamesWPSpeeches_grouped[\"WPs\"] == \"18\"].hist()"
   ]
  },
  {
   "cell_type": "code",
   "execution_count": 123,
   "metadata": {},
   "outputs": [
    {
     "data": {
      "text/plain": [
       "<AxesSubplot:>"
      ]
     },
     "execution_count": 123,
     "metadata": {},
     "output_type": "execute_result"
    },
    {
     "data": {
      "image/png": "[encoded data removed]",
      "text/plain": [
       "<Figure size 432x288 with 1 Axes>"
      ]
     },
     "metadata": {
      "needs_background": "light"
     },
     "output_type": "display_data"
    }
   ],
   "source": [
    "NamesWPSpeeches_grouped['novelty'][NamesWPSpeeches_grouped[\"WPs\"] == \"17\"].hist()"
   ]
  },
  {
   "cell_type": "code",
   "execution_count": 124,
   "metadata": {},
   "outputs": [
    {
     "data": {
      "text/plain": [
       "<AxesSubplot:>"
      ]
     },
     "execution_count": 124,
     "metadata": {},
     "output_type": "execute_result"
    },
    {
     "data": {
      "image/png": "[encoded data removed]",
      "text/plain": [
       "<Figure size 432x288 with 1 Axes>"
      ]
     },
     "metadata": {
      "needs_background": "light"
     },
     "output_type": "display_data"
    }
   ],
   "source": [
    "NamesWPSpeeches_grouped['novelty'][NamesWPSpeeches_grouped[\"WPs\"] == \"16\"].hist()"
   ]
  },
  {
   "cell_type": "code",
   "execution_count": 125,
   "metadata": {},
   "outputs": [
    {
     "data": {
      "text/plain": [
       "<AxesSubplot:>"
      ]
     },
     "execution_count": 125,
     "metadata": {},
     "output_type": "execute_result"
    },
    {
     "data": {
      "image/png": "[encoded data removed]",
      "text/plain": [
       "<Figure size 432x288 with 1 Axes>"
      ]
     },
     "metadata": {
      "needs_background": "light"
     },
     "output_type": "display_data"
    }
   ],
   "source": [
    "NamesWPSpeeches_grouped['novelty'][NamesWPSpeeches_grouped[\"WPs\"] == \"15\"].hist()"
   ]
  },
  {
   "cell_type": "code",
   "execution_count": 120,
   "metadata": {},
   "outputs": [
    {
     "data": {
      "text/plain": [
       "<AxesSubplot:>"
      ]
     },
     "execution_count": 120,
     "metadata": {},
     "output_type": "execute_result"
    },
    {
     "data": {
      "image/png": "[encoded data removed]",
      "text/plain": [
       "<Figure size 432x288 with 1 Axes>"
      ]
     },
     "metadata": {
      "needs_background": "light"
     },
     "output_type": "display_data"
    }
   ],
   "source": [
    "NamesWPSpeeches_grouped['resonance'][NamesWPSpeeches_grouped[\"WPs\"] == \"19\"].hist()\n"
   ]
  },
  {
   "cell_type": "code",
   "execution_count": 121,
   "metadata": {},
   "outputs": [
    {
     "data": {
      "text/plain": [
       "<AxesSubplot:>"
      ]
     },
     "execution_count": 121,
     "metadata": {},
     "output_type": "execute_result"
    },
    {
     "data": {
      "image/png": "[encoded data removed]",
      "text/plain": [
       "<Figure size 432x288 with 1 Axes>"
      ]
     },
     "metadata": {
      "needs_background": "light"
     },
     "output_type": "display_data"
    }
   ],
   "source": [
    "NamesWPSpeeches_grouped['transience'][NamesWPSpeeches_grouped[\"WPs\"] == \"19\"].hist()"
   ]
  },
  {
   "cell_type": "code",
   "execution_count": 343,
   "metadata": {},
   "outputs": [
    {
     "data": {
      "text/plain": [
       "<AxesSubplot:>"
      ]
     },
     "execution_count": 343,
     "metadata": {},
     "output_type": "execute_result"
    },
    {
     "data": {
      "image/png": "[encoded data removed]",
      "text/plain": [
       "<Figure size 432x288 with 1 Axes>"
      ]
     },
     "metadata": {
      "needs_background": "light"
     },
     "output_type": "display_data"
    }
   ],
   "source": [
    "NamesWPSpeeches_grouped['novelty'][NamesWPSpeeches_grouped[\"WPs\"] == \"19\"].hist()"
   ]
  },
  {
   "cell_type": "code",
   "execution_count": null,
   "metadata": {},
   "outputs": [],
   "source": []
  },
  {
   "cell_type": "code",
   "execution_count": null,
   "metadata": {},
   "outputs": [],
   "source": []
  },
  {
   "cell_type": "code",
   "execution_count": null,
   "metadata": {},
   "outputs": [],
   "source": []
  },
  {
   "cell_type": "code",
   "execution_count": null,
   "metadata": {},
   "outputs": [],
   "source": []
  },
  {
   "cell_type": "code",
   "execution_count": null,
   "metadata": {},
   "outputs": [],
   "source": []
  },
  {
   "cell_type": "code",
   "execution_count": null,
   "metadata": {},
   "outputs": [],
   "source": []
  },
  {
   "cell_type": "code",
   "execution_count": null,
   "metadata": {},
   "outputs": [],
   "source": []
  },
  {
   "cell_type": "code",
   "execution_count": null,
   "metadata": {},
   "outputs": [],
   "source": []
  },
  {
   "cell_type": "code",
   "execution_count": 126,
   "metadata": {},
   "outputs": [],
   "source": [
    "#list(speeches_and_WPs[\"speeches\"])\n"
   ]
  },
  {
   "cell_type": "code",
   "execution_count": 317,
   "metadata": {},
   "outputs": [],
   "source": [
    "#speech2KL.keys()"
   ]
  },
  {
   "cell_type": "code",
   "execution_count": 318,
   "metadata": {},
   "outputs": [],
   "source": [
    "#speech2KL['25']"
   ]
  },
  {
   "cell_type": "code",
   "execution_count": null,
   "metadata": {},
   "outputs": [],
   "source": []
  },
  {
   "cell_type": "code",
   "execution_count": null,
   "metadata": {},
   "outputs": [],
   "source": []
  },
  {
   "cell_type": "code",
   "execution_count": null,
   "metadata": {},
   "outputs": [],
   "source": []
  },
  {
   "cell_type": "code",
   "execution_count": null,
   "metadata": {},
   "outputs": [],
   "source": []
  },
  {
   "cell_type": "code",
   "execution_count": 319,
   "metadata": {},
   "outputs": [],
   "source": [
    "#list(NamesAndSpeeches[\"speeches\"][NamesAndSpeeches[\"wikidataid\"] ==  NamesAndSpeeches[\"wikidataid\"][6]])[0]"
   ]
  },
  {
   "cell_type": "code",
   "execution_count": null,
   "metadata": {},
   "outputs": [],
   "source": []
  },
  {
   "cell_type": "code",
   "execution_count": null,
   "metadata": {},
   "outputs": [],
   "source": []
  },
  {
   "cell_type": "code",
   "execution_count": null,
   "metadata": {},
   "outputs": [],
   "source": []
  },
  {
   "cell_type": "code",
   "execution_count": null,
   "metadata": {},
   "outputs": [],
   "source": []
  },
  {
   "cell_type": "code",
   "execution_count": null,
   "metadata": {},
   "outputs": [],
   "source": []
  }
 ],
 "metadata": {
  "kernelspec": {
   "display_name": "Python 3",
   "language": "python",
   "name": "python3"
  },
  "language_info": {
   "codemirror_mode": {
    "name": "ipython",
    "version": 3
   },
   "file_extension": ".py",
   "mimetype": "text/x-python",
   "name": "python",
   "nbconvert_exporter": "python",
   "pygments_lexer": "ipython3",
   "version": "3.8.5"
  }
 },
 "nbformat": 4,
 "nbformat_minor": 4
}
