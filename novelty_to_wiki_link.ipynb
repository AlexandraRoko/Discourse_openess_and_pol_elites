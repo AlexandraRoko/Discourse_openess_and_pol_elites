{
 "cells": [
  {
   "cell_type": "code",
   "execution_count": null,
   "metadata": {},
   "outputs": [],
   "source": []
  },
  {
   "cell_type": "code",
   "execution_count": 1,
   "metadata": {},
   "outputs": [],
   "source": [
    "import numpy as np\n",
    "import pandas as pd\n",
    "import matplotlib.pyplot as plt\n",
    "\n",
    "from collections import Counter\n",
    "\n",
    "from itertools import *\n",
    "\n",
    "import json\n",
    "import os\n",
    "import time\n",
    "import sys\n",
    "import xmltodict\n",
    "from datetime import datetime\n",
    "\n",
    "\n",
    "PATH = \"/Users/alexandrarottenkolber/Documents/02_Hertie_School/Master thesis/Master_Thesis_Hertie/data_analysis/01_data/Plenarprotokolle/\""
   ]
  },
  {
   "cell_type": "code",
   "execution_count": 2,
   "metadata": {},
   "outputs": [],
   "source": [
    "with open(PATH + 'processed/id2speech_concat_POSTag_inshape.txt', 'r') as infile:\n",
    "    id2rede_12_19 = json.load(infile)\n",
    "infile.close()"
   ]
  },
  {
   "cell_type": "code",
   "execution_count": 3,
   "metadata": {},
   "outputs": [],
   "source": [
    "with open(PATH + 'processed/speech2KL_lda_model_concat_POSTag_self_tuned_all_without_very_short_speeches.txt', 'r') as infile:\n",
    "    speech2KL = json.load(infile)\n",
    "infile.close()"
   ]
  },
  {
   "cell_type": "code",
   "execution_count": 4,
   "metadata": {},
   "outputs": [],
   "source": [
    "NamesAndSpeeches = pd.read_csv(PATH + \"processed/NamesAndSpeeches_full.csv\").drop(columns = [\"Unnamed: 0\"])"
   ]
  },
  {
   "cell_type": "code",
   "execution_count": 5,
   "metadata": {},
   "outputs": [
    {
     "data": {
      "text/html": [
       "<div>\n",
       "<style scoped>\n",
       "    .dataframe tbody tr th:only-of-type {\n",
       "        vertical-align: middle;\n",
       "    }\n",
       "\n",
       "    .dataframe tbody tr th {\n",
       "        vertical-align: top;\n",
       "    }\n",
       "\n",
       "    .dataframe thead th {\n",
       "        text-align: right;\n",
       "    }\n",
       "</style>\n",
       "<table border=\"1\" class=\"dataframe\">\n",
       "  <thead>\n",
       "    <tr style=\"text-align: right;\">\n",
       "      <th></th>\n",
       "      <th>speeches</th>\n",
       "      <th>politicianID</th>\n",
       "      <th>surname_lower_comb</th>\n",
       "      <th>forename_lower_comb</th>\n",
       "      <th>pageid</th>\n",
       "      <th>wikidataid</th>\n",
       "      <th>name</th>\n",
       "    </tr>\n",
       "  </thead>\n",
       "  <tbody>\n",
       "    <tr>\n",
       "      <th>0</th>\n",
       "      <td>[471526, 479132, 489844]</td>\n",
       "      <td>11000246.0</td>\n",
       "      <td>brandt</td>\n",
       "      <td>willy</td>\n",
       "      <td>1518001.0</td>\n",
       "      <td>Q2514</td>\n",
       "      <td>Willy Brandt</td>\n",
       "    </tr>\n",
       "    <tr>\n",
       "      <th>1</th>\n",
       "      <td>[471554, 471574, 471612, 471651, 471680, 47168...</td>\n",
       "      <td>11002287.0</td>\n",
       "      <td>süssmuth</td>\n",
       "      <td>rita</td>\n",
       "      <td>4253.0</td>\n",
       "      <td>Q66286</td>\n",
       "      <td>Rita Süssmuth</td>\n",
       "    </tr>\n",
       "    <tr>\n",
       "      <th>2</th>\n",
       "      <td>[471532, 471825, 471980, 472676, 473851, 47411...</td>\n",
       "      <td>11002354.0</td>\n",
       "      <td>ullmann</td>\n",
       "      <td>wolfgang</td>\n",
       "      <td>300219.0</td>\n",
       "      <td>Q895636</td>\n",
       "      <td>Wolfgang Ullmann</td>\n",
       "    </tr>\n",
       "    <tr>\n",
       "      <th>3</th>\n",
       "      <td>[471527, 471596, 471692, 473651, 479473, 50886...</td>\n",
       "      <td>11000418.0</td>\n",
       "      <td>dregger</td>\n",
       "      <td>alfred</td>\n",
       "      <td>73446.0</td>\n",
       "      <td>Q65389</td>\n",
       "      <td>Alfred Dregger</td>\n",
       "    </tr>\n",
       "    <tr>\n",
       "      <th>4</th>\n",
       "      <td>[471536, 471967, 472560, 473468, 473996, 47411...</td>\n",
       "      <td>11000891.0</td>\n",
       "      <td>heuer</td>\n",
       "      <td>uwe-jens</td>\n",
       "      <td>1097338.0</td>\n",
       "      <td>Q1594398</td>\n",
       "      <td>Uwe-Jens Heuer</td>\n",
       "    </tr>\n",
       "  </tbody>\n",
       "</table>\n",
       "</div>"
      ],
      "text/plain": [
       "                                            speeches  politicianID  \\\n",
       "0                           [471526, 479132, 489844]    11000246.0   \n",
       "1  [471554, 471574, 471612, 471651, 471680, 47168...    11002287.0   \n",
       "2  [471532, 471825, 471980, 472676, 473851, 47411...    11002354.0   \n",
       "3  [471527, 471596, 471692, 473651, 479473, 50886...    11000418.0   \n",
       "4  [471536, 471967, 472560, 473468, 473996, 47411...    11000891.0   \n",
       "\n",
       "  surname_lower_comb forename_lower_comb     pageid wikidataid  \\\n",
       "0             brandt               willy  1518001.0      Q2514   \n",
       "1           süssmuth                rita     4253.0     Q66286   \n",
       "2            ullmann            wolfgang   300219.0    Q895636   \n",
       "3            dregger              alfred    73446.0     Q65389   \n",
       "4              heuer            uwe-jens  1097338.0   Q1594398   \n",
       "\n",
       "               name  \n",
       "0      Willy Brandt  \n",
       "1     Rita Süssmuth  \n",
       "2  Wolfgang Ullmann  \n",
       "3    Alfred Dregger  \n",
       "4    Uwe-Jens Heuer  "
      ]
     },
     "execution_count": 5,
     "metadata": {},
     "output_type": "execute_result"
    }
   ],
   "source": [
    "NamesAndSpeeches.head()"
   ]
  },
  {
   "cell_type": "code",
   "execution_count": 6,
   "metadata": {},
   "outputs": [
    {
     "data": {
      "text/plain": [
       "2187"
      ]
     },
     "execution_count": 6,
     "metadata": {},
     "output_type": "execute_result"
    }
   ],
   "source": [
    "len(NamesAndSpeeches)"
   ]
  },
  {
   "cell_type": "code",
   "execution_count": 9,
   "metadata": {},
   "outputs": [
    {
     "data": {
      "text/html": [
       "<div>\n",
       "<style scoped>\n",
       "    .dataframe tbody tr th:only-of-type {\n",
       "        vertical-align: middle;\n",
       "    }\n",
       "\n",
       "    .dataframe tbody tr th {\n",
       "        vertical-align: top;\n",
       "    }\n",
       "\n",
       "    .dataframe thead th {\n",
       "        text-align: right;\n",
       "    }\n",
       "</style>\n",
       "<table border=\"1\" class=\"dataframe\">\n",
       "  <thead>\n",
       "    <tr style=\"text-align: right;\">\n",
       "      <th></th>\n",
       "      <th>speeches</th>\n",
       "      <th>politicianID</th>\n",
       "      <th>surname_lower_comb</th>\n",
       "      <th>forename_lower_comb</th>\n",
       "      <th>pageid</th>\n",
       "      <th>wikidataid</th>\n",
       "      <th>name</th>\n",
       "    </tr>\n",
       "  </thead>\n",
       "  <tbody>\n",
       "    <tr>\n",
       "      <th>2042</th>\n",
       "      <td>NaN</td>\n",
       "      <td>NaN</td>\n",
       "      <td>NaN</td>\n",
       "      <td>NaN</td>\n",
       "      <td>9716234.0</td>\n",
       "      <td>Q27975838</td>\n",
       "      <td>Alice Weidel</td>\n",
       "    </tr>\n",
       "  </tbody>\n",
       "</table>\n",
       "</div>"
      ],
      "text/plain": [
       "     speeches  politicianID surname_lower_comb forename_lower_comb     pageid  \\\n",
       "2042      NaN           NaN                NaN                 NaN  9716234.0   \n",
       "\n",
       "     wikidataid          name  \n",
       "2042  Q27975838  Alice Weidel  "
      ]
     },
     "execution_count": 9,
     "metadata": {},
     "output_type": "execute_result"
    }
   ],
   "source": [
    "NamesAndSpeeches[NamesAndSpeeches[\"wikidataid\"] == \"Q27975838\"]"
   ]
  },
  {
   "cell_type": "code",
   "execution_count": 11,
   "metadata": {},
   "outputs": [
    {
     "data": {
      "text/plain": [
       "'12'"
      ]
     },
     "execution_count": 11,
     "metadata": {},
     "output_type": "execute_result"
    }
   ],
   "source": [
    "id2rede_12_19['471583']['electoralTerm']#.keys()"
   ]
  },
  {
   "cell_type": "code",
   "execution_count": 12,
   "metadata": {},
   "outputs": [
    {
     "data": {
      "text/plain": [
       "dict_keys(['concatSpeech', 'name', 'date', 'data_ready', 'electoralTerm', 'firstName', 'lastName', 'politicianId', 'positionShort', 'positionLong', 'date_control', 'timestamp'])"
      ]
     },
     "execution_count": 12,
     "metadata": {},
     "output_type": "execute_result"
    }
   ],
   "source": [
    "id2rede_12_19['471583'].keys()"
   ]
  },
  {
   "cell_type": "code",
   "execution_count": 13,
   "metadata": {},
   "outputs": [
    {
     "data": {
      "text/plain": [
       "dict_keys(['1', '3', '5', '7', '10', '15', '20', '25', '30', '35', '40', '45', '50', '55', '60', '65', '70', '75', '80', '85', '90', '95', '100', '500', '1000'])"
      ]
     },
     "execution_count": 13,
     "metadata": {},
     "output_type": "execute_result"
    }
   ],
   "source": [
    "speech2KL.keys()"
   ]
  },
  {
   "cell_type": "code",
   "execution_count": 14,
   "metadata": {},
   "outputs": [],
   "source": [
    "def string_to_list(string): \n",
    "    if string is np.nan: \n",
    "        res = np.nan\n",
    "    elif type(string) == str: \n",
    "        res = string.replace(\"[\", \"\").replace(\"]\", \"\").split(\", \")\n",
    "        \n",
    "    return res"
   ]
  },
  {
   "cell_type": "code",
   "execution_count": 15,
   "metadata": {},
   "outputs": [],
   "source": [
    "NamesAndSpeeches[\"speeches\"] = NamesAndSpeeches[\"speeches\"].map(lambda x : string_to_list(x))"
   ]
  },
  {
   "cell_type": "code",
   "execution_count": 16,
   "metadata": {},
   "outputs": [
    {
     "data": {
      "text/html": [
       "<div>\n",
       "<style scoped>\n",
       "    .dataframe tbody tr th:only-of-type {\n",
       "        vertical-align: middle;\n",
       "    }\n",
       "\n",
       "    .dataframe tbody tr th {\n",
       "        vertical-align: top;\n",
       "    }\n",
       "\n",
       "    .dataframe thead th {\n",
       "        text-align: right;\n",
       "    }\n",
       "</style>\n",
       "<table border=\"1\" class=\"dataframe\">\n",
       "  <thead>\n",
       "    <tr style=\"text-align: right;\">\n",
       "      <th></th>\n",
       "      <th>speeches</th>\n",
       "      <th>politicianID</th>\n",
       "      <th>surname_lower_comb</th>\n",
       "      <th>forename_lower_comb</th>\n",
       "      <th>pageid</th>\n",
       "      <th>wikidataid</th>\n",
       "      <th>name</th>\n",
       "    </tr>\n",
       "  </thead>\n",
       "  <tbody>\n",
       "    <tr>\n",
       "      <th>0</th>\n",
       "      <td>[471526, 479132, 489844]</td>\n",
       "      <td>11000246.0</td>\n",
       "      <td>brandt</td>\n",
       "      <td>willy</td>\n",
       "      <td>1518001.0</td>\n",
       "      <td>Q2514</td>\n",
       "      <td>Willy Brandt</td>\n",
       "    </tr>\n",
       "    <tr>\n",
       "      <th>1</th>\n",
       "      <td>[471554, 471574, 471612, 471651, 471680, 47168...</td>\n",
       "      <td>11002287.0</td>\n",
       "      <td>süssmuth</td>\n",
       "      <td>rita</td>\n",
       "      <td>4253.0</td>\n",
       "      <td>Q66286</td>\n",
       "      <td>Rita Süssmuth</td>\n",
       "    </tr>\n",
       "    <tr>\n",
       "      <th>2</th>\n",
       "      <td>[471532, 471825, 471980, 472676, 473851, 47411...</td>\n",
       "      <td>11002354.0</td>\n",
       "      <td>ullmann</td>\n",
       "      <td>wolfgang</td>\n",
       "      <td>300219.0</td>\n",
       "      <td>Q895636</td>\n",
       "      <td>Wolfgang Ullmann</td>\n",
       "    </tr>\n",
       "  </tbody>\n",
       "</table>\n",
       "</div>"
      ],
      "text/plain": [
       "                                            speeches  politicianID  \\\n",
       "0                           [471526, 479132, 489844]    11000246.0   \n",
       "1  [471554, 471574, 471612, 471651, 471680, 47168...    11002287.0   \n",
       "2  [471532, 471825, 471980, 472676, 473851, 47411...    11002354.0   \n",
       "\n",
       "  surname_lower_comb forename_lower_comb     pageid wikidataid  \\\n",
       "0             brandt               willy  1518001.0      Q2514   \n",
       "1           süssmuth                rita     4253.0     Q66286   \n",
       "2            ullmann            wolfgang   300219.0    Q895636   \n",
       "\n",
       "               name  \n",
       "0      Willy Brandt  \n",
       "1     Rita Süssmuth  \n",
       "2  Wolfgang Ullmann  "
      ]
     },
     "execution_count": 16,
     "metadata": {},
     "output_type": "execute_result"
    }
   ],
   "source": [
    "NamesAndSpeeches.head(3)"
   ]
  },
  {
   "cell_type": "code",
   "execution_count": 17,
   "metadata": {},
   "outputs": [],
   "source": [
    "NamesAndSpeeches_per_WP = pd.DataFrame()"
   ]
  },
  {
   "cell_type": "code",
   "execution_count": 18,
   "metadata": {},
   "outputs": [],
   "source": [
    "speech_ids = []\n",
    "WPs = []\n",
    "date_stamp = []\n",
    "\n",
    "for key in id2rede_12_19.keys(): \n",
    "    speech_ids.append(key)\n",
    "    WPs.append(id2rede_12_19[key][\"electoralTerm\"])\n",
    "    date_stamp.append(id2rede_12_19[key][\"date\"])"
   ]
  },
  {
   "cell_type": "code",
   "execution_count": 19,
   "metadata": {},
   "outputs": [
    {
     "data": {
      "text/plain": [
       "(121038, 121038, 121038)"
      ]
     },
     "execution_count": 19,
     "metadata": {},
     "output_type": "execute_result"
    }
   ],
   "source": [
    "len(speech_ids), len(WPs), len(date_stamp) #(121038, 121038)"
   ]
  },
  {
   "cell_type": "code",
   "execution_count": 20,
   "metadata": {},
   "outputs": [],
   "source": [
    "speeches_and_WPs = pd.DataFrame(list(zip(speech_ids, WPs, date_stamp)), columns =['speeches', \"WPs\", \"date\"])"
   ]
  },
  {
   "cell_type": "code",
   "execution_count": 21,
   "metadata": {},
   "outputs": [
    {
     "data": {
      "text/html": [
       "<div>\n",
       "<style scoped>\n",
       "    .dataframe tbody tr th:only-of-type {\n",
       "        vertical-align: middle;\n",
       "    }\n",
       "\n",
       "    .dataframe tbody tr th {\n",
       "        vertical-align: top;\n",
       "    }\n",
       "\n",
       "    .dataframe thead th {\n",
       "        text-align: right;\n",
       "    }\n",
       "</style>\n",
       "<table border=\"1\" class=\"dataframe\">\n",
       "  <thead>\n",
       "    <tr style=\"text-align: right;\">\n",
       "      <th></th>\n",
       "      <th>speeches</th>\n",
       "      <th>WPs</th>\n",
       "      <th>date</th>\n",
       "    </tr>\n",
       "  </thead>\n",
       "  <tbody>\n",
       "    <tr>\n",
       "      <th>0</th>\n",
       "      <td>471526</td>\n",
       "      <td>12</td>\n",
       "      <td>1990-12-20</td>\n",
       "    </tr>\n",
       "    <tr>\n",
       "      <th>1</th>\n",
       "      <td>471554</td>\n",
       "      <td>12</td>\n",
       "      <td>1990-12-20</td>\n",
       "    </tr>\n",
       "    <tr>\n",
       "      <th>2</th>\n",
       "      <td>471532</td>\n",
       "      <td>12</td>\n",
       "      <td>1990-12-20</td>\n",
       "    </tr>\n",
       "    <tr>\n",
       "      <th>3</th>\n",
       "      <td>471527</td>\n",
       "      <td>12</td>\n",
       "      <td>1990-12-20</td>\n",
       "    </tr>\n",
       "    <tr>\n",
       "      <th>4</th>\n",
       "      <td>471536</td>\n",
       "      <td>12</td>\n",
       "      <td>1990-12-20</td>\n",
       "    </tr>\n",
       "    <tr>\n",
       "      <th>...</th>\n",
       "      <td>...</td>\n",
       "      <td>...</td>\n",
       "      <td>...</td>\n",
       "    </tr>\n",
       "    <tr>\n",
       "      <th>121033</th>\n",
       "      <td>1066565</td>\n",
       "      <td>19</td>\n",
       "      <td>2021-09-06</td>\n",
       "    </tr>\n",
       "    <tr>\n",
       "      <th>121034</th>\n",
       "      <td>1066537</td>\n",
       "      <td>19</td>\n",
       "      <td>2021-09-06</td>\n",
       "    </tr>\n",
       "    <tr>\n",
       "      <th>121035</th>\n",
       "      <td>1066541</td>\n",
       "      <td>19</td>\n",
       "      <td>2021-09-06</td>\n",
       "    </tr>\n",
       "    <tr>\n",
       "      <th>121036</th>\n",
       "      <td>1066520</td>\n",
       "      <td>19</td>\n",
       "      <td>2021-09-06</td>\n",
       "    </tr>\n",
       "    <tr>\n",
       "      <th>121037</th>\n",
       "      <td>1066606</td>\n",
       "      <td>19</td>\n",
       "      <td>2021-09-06</td>\n",
       "    </tr>\n",
       "  </tbody>\n",
       "</table>\n",
       "<p>121038 rows × 3 columns</p>\n",
       "</div>"
      ],
      "text/plain": [
       "       speeches WPs        date\n",
       "0        471526  12  1990-12-20\n",
       "1        471554  12  1990-12-20\n",
       "2        471532  12  1990-12-20\n",
       "3        471527  12  1990-12-20\n",
       "4        471536  12  1990-12-20\n",
       "...         ...  ..         ...\n",
       "121033  1066565  19  2021-09-06\n",
       "121034  1066537  19  2021-09-06\n",
       "121035  1066541  19  2021-09-06\n",
       "121036  1066520  19  2021-09-06\n",
       "121037  1066606  19  2021-09-06\n",
       "\n",
       "[121038 rows x 3 columns]"
      ]
     },
     "execution_count": 21,
     "metadata": {},
     "output_type": "execute_result"
    }
   ],
   "source": [
    "speeches_and_WPs"
   ]
  },
  {
   "cell_type": "code",
   "execution_count": 22,
   "metadata": {},
   "outputs": [],
   "source": [
    "#id2rede_12_19[\"1066606\"]"
   ]
  },
  {
   "cell_type": "code",
   "execution_count": 23,
   "metadata": {},
   "outputs": [
    {
     "name": "stdout",
     "output_type": "stream",
     "text": [
      "471526\n",
      "479132\n",
      "489844\n"
     ]
    }
   ],
   "source": [
    "for speech in NamesAndSpeeches[\"speeches\"][NamesAndSpeeches[\"wikidataid\"] == \"Q2514\"][0]: \n",
    "    print(speech)"
   ]
  },
  {
   "cell_type": "code",
   "execution_count": 24,
   "metadata": {},
   "outputs": [
    {
     "data": {
      "text/plain": [
       "0    [471526, 479132, 489844]\n",
       "Name: speeches, dtype: object"
      ]
     },
     "execution_count": 24,
     "metadata": {},
     "output_type": "execute_result"
    }
   ],
   "source": [
    "NamesAndSpeeches[\"speeches\"][NamesAndSpeeches[\"wikidataid\"] == \"Q2514\"]"
   ]
  },
  {
   "cell_type": "code",
   "execution_count": 25,
   "metadata": {},
   "outputs": [
    {
     "data": {
      "text/plain": [
       "'Q66286'"
      ]
     },
     "execution_count": 25,
     "metadata": {},
     "output_type": "execute_result"
    }
   ],
   "source": [
    "NamesAndSpeeches[\"wikidataid\"][1]"
   ]
  },
  {
   "cell_type": "code",
   "execution_count": 26,
   "metadata": {},
   "outputs": [
    {
     "data": {
      "text/plain": [
       "Index(['speeches', 'politicianID', 'surname_lower_comb', 'forename_lower_comb',\n",
       "       'pageid', 'wikidataid', 'name'],\n",
       "      dtype='object')"
      ]
     },
     "execution_count": 26,
     "metadata": {},
     "output_type": "execute_result"
    }
   ],
   "source": [
    "NamesAndSpeeches.columns"
   ]
  },
  {
   "cell_type": "code",
   "execution_count": 27,
   "metadata": {},
   "outputs": [],
   "source": [
    "#NamesAndSpeeches[\"speeches\"][NamesAndSpeeches[\"wikidataid\"] == ID]#[0]"
   ]
  },
  {
   "cell_type": "code",
   "execution_count": 28,
   "metadata": {},
   "outputs": [
    {
     "data": {
      "text/plain": [
       "True"
      ]
     },
     "execution_count": 28,
     "metadata": {},
     "output_type": "execute_result"
    }
   ],
   "source": [
    "list(NamesAndSpeeches[\"speeches\"][NamesAndSpeeches[\"wikidataid\"] == \"Q20645389\"])[0] is np.nan"
   ]
  },
  {
   "cell_type": "code",
   "execution_count": 29,
   "metadata": {},
   "outputs": [],
   "source": [
    "speech2wikidataid = {}\n",
    "\n",
    "for ID in list(NamesAndSpeeches[\"wikidataid\"]): \n",
    "    \n",
    "    if list(NamesAndSpeeches[\"speeches\"][NamesAndSpeeches[\"wikidataid\"] == ID])[0] is np.nan: \n",
    "        pass\n",
    "    else:\n",
    "        for speech in list(NamesAndSpeeches[\"speeches\"][NamesAndSpeeches[\"wikidataid\"] == ID])[0]: \n",
    "            speech2wikidataid[speech] = ID"
   ]
  },
  {
   "cell_type": "code",
   "execution_count": 30,
   "metadata": {},
   "outputs": [
    {
     "data": {
      "text/plain": [
       "116643"
      ]
     },
     "execution_count": 30,
     "metadata": {},
     "output_type": "execute_result"
    }
   ],
   "source": [
    "len(speech2wikidataid) #116643"
   ]
  },
  {
   "cell_type": "code",
   "execution_count": 31,
   "metadata": {},
   "outputs": [],
   "source": [
    "def apply_dic_mapping(item): \n",
    "    if item in speech2wikidataid.keys(): \n",
    "        res = speech2wikidataid[item]\n",
    "        \n",
    "    else: \n",
    "        res = np.nan\n",
    "        \n",
    "    return res"
   ]
  },
  {
   "cell_type": "code",
   "execution_count": 32,
   "metadata": {},
   "outputs": [],
   "source": [
    "speeches_and_WPs[\"wikidataid\"] = speeches_and_WPs[\"speeches\"].map(lambda x : apply_dic_mapping(x))"
   ]
  },
  {
   "cell_type": "code",
   "execution_count": 33,
   "metadata": {},
   "outputs": [
    {
     "data": {
      "text/html": [
       "<div>\n",
       "<style scoped>\n",
       "    .dataframe tbody tr th:only-of-type {\n",
       "        vertical-align: middle;\n",
       "    }\n",
       "\n",
       "    .dataframe tbody tr th {\n",
       "        vertical-align: top;\n",
       "    }\n",
       "\n",
       "    .dataframe thead th {\n",
       "        text-align: right;\n",
       "    }\n",
       "</style>\n",
       "<table border=\"1\" class=\"dataframe\">\n",
       "  <thead>\n",
       "    <tr style=\"text-align: right;\">\n",
       "      <th></th>\n",
       "      <th>speeches</th>\n",
       "      <th>WPs</th>\n",
       "      <th>date</th>\n",
       "      <th>wikidataid</th>\n",
       "    </tr>\n",
       "  </thead>\n",
       "  <tbody>\n",
       "    <tr>\n",
       "      <th>20</th>\n",
       "      <td>471571</td>\n",
       "      <td>12</td>\n",
       "      <td>1991-01-14</td>\n",
       "      <td>NaN</td>\n",
       "    </tr>\n",
       "    <tr>\n",
       "      <th>21</th>\n",
       "      <td>471573</td>\n",
       "      <td>12</td>\n",
       "      <td>1991-01-14</td>\n",
       "      <td>NaN</td>\n",
       "    </tr>\n",
       "    <tr>\n",
       "      <th>31</th>\n",
       "      <td>471603</td>\n",
       "      <td>12</td>\n",
       "      <td>1991-01-17</td>\n",
       "      <td>NaN</td>\n",
       "    </tr>\n",
       "    <tr>\n",
       "      <th>32</th>\n",
       "      <td>471609</td>\n",
       "      <td>12</td>\n",
       "      <td>1991-01-17</td>\n",
       "      <td>NaN</td>\n",
       "    </tr>\n",
       "    <tr>\n",
       "      <th>71</th>\n",
       "      <td>471862</td>\n",
       "      <td>12</td>\n",
       "      <td>1991-01-31</td>\n",
       "      <td>NaN</td>\n",
       "    </tr>\n",
       "    <tr>\n",
       "      <th>...</th>\n",
       "      <td>...</td>\n",
       "      <td>...</td>\n",
       "      <td>...</td>\n",
       "      <td>...</td>\n",
       "    </tr>\n",
       "    <tr>\n",
       "      <th>121001</th>\n",
       "      <td>1066462</td>\n",
       "      <td>19</td>\n",
       "      <td>2021-08-24</td>\n",
       "      <td>NaN</td>\n",
       "    </tr>\n",
       "    <tr>\n",
       "      <th>121003</th>\n",
       "      <td>1066517</td>\n",
       "      <td>19</td>\n",
       "      <td>2021-09-06</td>\n",
       "      <td>NaN</td>\n",
       "    </tr>\n",
       "    <tr>\n",
       "      <th>121006</th>\n",
       "      <td>1066538</td>\n",
       "      <td>19</td>\n",
       "      <td>2021-09-06</td>\n",
       "      <td>NaN</td>\n",
       "    </tr>\n",
       "    <tr>\n",
       "      <th>121036</th>\n",
       "      <td>1066520</td>\n",
       "      <td>19</td>\n",
       "      <td>2021-09-06</td>\n",
       "      <td>NaN</td>\n",
       "    </tr>\n",
       "    <tr>\n",
       "      <th>121037</th>\n",
       "      <td>1066606</td>\n",
       "      <td>19</td>\n",
       "      <td>2021-09-06</td>\n",
       "      <td>NaN</td>\n",
       "    </tr>\n",
       "  </tbody>\n",
       "</table>\n",
       "<p>4395 rows × 4 columns</p>\n",
       "</div>"
      ],
      "text/plain": [
       "       speeches WPs        date wikidataid\n",
       "20       471571  12  1991-01-14        NaN\n",
       "21       471573  12  1991-01-14        NaN\n",
       "31       471603  12  1991-01-17        NaN\n",
       "32       471609  12  1991-01-17        NaN\n",
       "71       471862  12  1991-01-31        NaN\n",
       "...         ...  ..         ...        ...\n",
       "121001  1066462  19  2021-08-24        NaN\n",
       "121003  1066517  19  2021-09-06        NaN\n",
       "121006  1066538  19  2021-09-06        NaN\n",
       "121036  1066520  19  2021-09-06        NaN\n",
       "121037  1066606  19  2021-09-06        NaN\n",
       "\n",
       "[4395 rows x 4 columns]"
      ]
     },
     "execution_count": 33,
     "metadata": {},
     "output_type": "execute_result"
    }
   ],
   "source": [
    "speeches_and_WPs[speeches_and_WPs[\"wikidataid\"].isna() == True]"
   ]
  },
  {
   "cell_type": "code",
   "execution_count": 34,
   "metadata": {},
   "outputs": [],
   "source": [
    "with open(PATH + 'processed/speech2KL_WP19.txt', 'r') as infile: \n",
    "    speech2KL_WP19 = json.load(infile)\n",
    "infile.close()"
   ]
  },
  {
   "cell_type": "code",
   "execution_count": 35,
   "metadata": {},
   "outputs": [
    {
     "data": {
      "text/html": [
       "<div>\n",
       "<style scoped>\n",
       "    .dataframe tbody tr th:only-of-type {\n",
       "        vertical-align: middle;\n",
       "    }\n",
       "\n",
       "    .dataframe tbody tr th {\n",
       "        vertical-align: top;\n",
       "    }\n",
       "\n",
       "    .dataframe thead th {\n",
       "        text-align: right;\n",
       "    }\n",
       "</style>\n",
       "<table border=\"1\" class=\"dataframe\">\n",
       "  <thead>\n",
       "    <tr style=\"text-align: right;\">\n",
       "      <th></th>\n",
       "      <th>speeches</th>\n",
       "      <th>WPs</th>\n",
       "      <th>date</th>\n",
       "      <th>wikidataid</th>\n",
       "    </tr>\n",
       "  </thead>\n",
       "  <tbody>\n",
       "    <tr>\n",
       "      <th>121008</th>\n",
       "      <td>1066506</td>\n",
       "      <td>19</td>\n",
       "      <td>2021-09-06</td>\n",
       "      <td>Q99450</td>\n",
       "    </tr>\n",
       "  </tbody>\n",
       "</table>\n",
       "</div>"
      ],
      "text/plain": [
       "       speeches WPs        date wikidataid\n",
       "121008  1066506  19  2021-09-06     Q99450"
      ]
     },
     "execution_count": 35,
     "metadata": {},
     "output_type": "execute_result"
    }
   ],
   "source": [
    "speeches_and_WPs[speeches_and_WPs[\"speeches\"] == '1066506']"
   ]
  },
  {
   "cell_type": "code",
   "execution_count": 36,
   "metadata": {},
   "outputs": [
    {
     "data": {
      "text/plain": [
       "'1066506'"
      ]
     },
     "execution_count": 36,
     "metadata": {},
     "output_type": "execute_result"
    }
   ],
   "source": [
    "list(speeches_and_WPs[\"speeches\"])[-30]"
   ]
  },
  {
   "cell_type": "code",
   "execution_count": 37,
   "metadata": {},
   "outputs": [
    {
     "data": {
      "text/plain": [
       "{'novelty': 2.213904107861204,\n",
       " 'transience': 1.8539109033568522,\n",
       " 'resonance': 0.3599932045043517}"
      ]
     },
     "execution_count": 37,
     "metadata": {},
     "output_type": "execute_result"
    }
   ],
   "source": [
    "speech2KL_WP19[\"10\"]['1066506']"
   ]
  },
  {
   "cell_type": "code",
   "execution_count": 38,
   "metadata": {},
   "outputs": [],
   "source": [
    "novelty = []\n",
    "transience = []\n",
    "resonance = []\n",
    "window = 25\n",
    "\n",
    "no_value = []\n",
    "\n",
    "ls_speeches = list(speeches_and_WPs[\"speeches\"])\n",
    "\n",
    "for i in range(len(ls_speeches)): \n",
    "    #if speech in speech2KL_WP19[str(window)].keys():\n",
    "    #    if \"novelty\" in speech2KL_WP19[str(window)][speech].keys():\n",
    "    #        novelty.append(speech2KL_WP19[str(window)][speech][\"novelty\"])\n",
    "    #    else:\n",
    "    #        novelty.append(np.nan)\n",
    "    #        \n",
    "    #    if \"transience\" in speech2KL_WP19[str(window)][speech].keys():\n",
    "    #        transience.append(speech2KL_WP19[str(window)][speech][\"transience\"])\n",
    "    #    else: \n",
    "    #        transience.append(np.nan)    \n",
    "    #        \n",
    "    #    if \"resonance\" in speech2KL_WP19[str(window)][speech].keys():\n",
    "    #        resonance.append(speech2KL_WP19[str(window)][speech][\"resonance\"])\n",
    "    #    else: \n",
    "    #        resonance.append(np.nan) \n",
    "    \n",
    "    if ls_speeches[i] in speech2KL[str(window)].keys():\n",
    "        if \"novelty\" in speech2KL[str(window)][ls_speeches[i]].keys():\n",
    "            novelty.append(speech2KL[str(window)][ls_speeches[i]][\"novelty\"])\n",
    "        else: \n",
    "            print(i)\n",
    "            novelty.append(np.nan)\n",
    "                \n",
    "        if \"transience\" in speech2KL[str(window)][ls_speeches[i]].keys():\n",
    "            transience.append(speech2KL[str(window)][ls_speeches[i]][\"transience\"])\n",
    "        else: \n",
    "            transience.append(np.nan)    \n",
    "            \n",
    "        if \"resonance\" in speech2KL[str(window)][ls_speeches[i]].keys():\n",
    "            resonance.append(speech2KL[str(window)][ls_speeches[i]][\"resonance\"])\n",
    "        else: \n",
    "            resonance.append(np.nan)  \n",
    "            \n",
    "    else: \n",
    "        no_value.append(i)\n",
    "        novelty.append(np.nan)\n",
    "        transience.append(np.nan)\n",
    "        resonance.append(np.nan)"
   ]
  },
  {
   "cell_type": "code",
   "execution_count": 39,
   "metadata": {},
   "outputs": [
    {
     "data": {
      "text/plain": [
       "(121038, 2984)"
      ]
     },
     "execution_count": 39,
     "metadata": {},
     "output_type": "execute_result"
    }
   ],
   "source": [
    "len(transience), len(no_value) #(121038, 2984)"
   ]
  },
  {
   "cell_type": "code",
   "execution_count": 40,
   "metadata": {},
   "outputs": [
    {
     "data": {
      "text/plain": [
       "121038"
      ]
     },
     "execution_count": 40,
     "metadata": {},
     "output_type": "execute_result"
    }
   ],
   "source": [
    "len(speeches_and_WPs)"
   ]
  },
  {
   "cell_type": "code",
   "execution_count": 41,
   "metadata": {},
   "outputs": [],
   "source": [
    "speeches_and_WPs[\"novelty\"] = pd.Series(novelty)\n",
    "speeches_and_WPs[\"transience\"] = pd.Series(transience)\n",
    "speeches_and_WPs[\"resonance\"] = pd.Series(resonance)"
   ]
  },
  {
   "cell_type": "code",
   "execution_count": 42,
   "metadata": {},
   "outputs": [
    {
     "data": {
      "text/html": [
       "<div>\n",
       "<style scoped>\n",
       "    .dataframe tbody tr th:only-of-type {\n",
       "        vertical-align: middle;\n",
       "    }\n",
       "\n",
       "    .dataframe tbody tr th {\n",
       "        vertical-align: top;\n",
       "    }\n",
       "\n",
       "    .dataframe thead th {\n",
       "        text-align: right;\n",
       "    }\n",
       "</style>\n",
       "<table border=\"1\" class=\"dataframe\">\n",
       "  <thead>\n",
       "    <tr style=\"text-align: right;\">\n",
       "      <th></th>\n",
       "      <th>speeches</th>\n",
       "      <th>WPs</th>\n",
       "      <th>date</th>\n",
       "      <th>wikidataid</th>\n",
       "      <th>novelty</th>\n",
       "      <th>transience</th>\n",
       "      <th>resonance</th>\n",
       "    </tr>\n",
       "  </thead>\n",
       "  <tbody>\n",
       "    <tr>\n",
       "      <th>0</th>\n",
       "      <td>471526</td>\n",
       "      <td>12</td>\n",
       "      <td>1990-12-20</td>\n",
       "      <td>Q2514</td>\n",
       "      <td>2.549234</td>\n",
       "      <td>2.488905</td>\n",
       "      <td>0.060329</td>\n",
       "    </tr>\n",
       "    <tr>\n",
       "      <th>1</th>\n",
       "      <td>471554</td>\n",
       "      <td>12</td>\n",
       "      <td>1990-12-20</td>\n",
       "      <td>Q66286</td>\n",
       "      <td>2.592673</td>\n",
       "      <td>2.386411</td>\n",
       "      <td>0.206261</td>\n",
       "    </tr>\n",
       "    <tr>\n",
       "      <th>2</th>\n",
       "      <td>471532</td>\n",
       "      <td>12</td>\n",
       "      <td>1990-12-20</td>\n",
       "      <td>Q895636</td>\n",
       "      <td>3.153690</td>\n",
       "      <td>3.067440</td>\n",
       "      <td>0.086250</td>\n",
       "    </tr>\n",
       "    <tr>\n",
       "      <th>3</th>\n",
       "      <td>471527</td>\n",
       "      <td>12</td>\n",
       "      <td>1990-12-20</td>\n",
       "      <td>Q65389</td>\n",
       "      <td>NaN</td>\n",
       "      <td>NaN</td>\n",
       "      <td>NaN</td>\n",
       "    </tr>\n",
       "    <tr>\n",
       "      <th>4</th>\n",
       "      <td>471536</td>\n",
       "      <td>12</td>\n",
       "      <td>1990-12-20</td>\n",
       "      <td>Q1594398</td>\n",
       "      <td>3.193564</td>\n",
       "      <td>2.898972</td>\n",
       "      <td>0.294592</td>\n",
       "    </tr>\n",
       "    <tr>\n",
       "      <th>...</th>\n",
       "      <td>...</td>\n",
       "      <td>...</td>\n",
       "      <td>...</td>\n",
       "      <td>...</td>\n",
       "      <td>...</td>\n",
       "      <td>...</td>\n",
       "      <td>...</td>\n",
       "    </tr>\n",
       "    <tr>\n",
       "      <th>121033</th>\n",
       "      <td>1066565</td>\n",
       "      <td>19</td>\n",
       "      <td>2021-09-06</td>\n",
       "      <td>Q40998965</td>\n",
       "      <td>NaN</td>\n",
       "      <td>NaN</td>\n",
       "      <td>NaN</td>\n",
       "    </tr>\n",
       "    <tr>\n",
       "      <th>121034</th>\n",
       "      <td>1066537</td>\n",
       "      <td>19</td>\n",
       "      <td>2021-09-06</td>\n",
       "      <td>Q18169686</td>\n",
       "      <td>NaN</td>\n",
       "      <td>NaN</td>\n",
       "      <td>NaN</td>\n",
       "    </tr>\n",
       "    <tr>\n",
       "      <th>121035</th>\n",
       "      <td>1066541</td>\n",
       "      <td>19</td>\n",
       "      <td>2021-09-06</td>\n",
       "      <td>Q15606894</td>\n",
       "      <td>NaN</td>\n",
       "      <td>NaN</td>\n",
       "      <td>NaN</td>\n",
       "    </tr>\n",
       "    <tr>\n",
       "      <th>121036</th>\n",
       "      <td>1066520</td>\n",
       "      <td>19</td>\n",
       "      <td>2021-09-06</td>\n",
       "      <td>NaN</td>\n",
       "      <td>NaN</td>\n",
       "      <td>NaN</td>\n",
       "      <td>NaN</td>\n",
       "    </tr>\n",
       "    <tr>\n",
       "      <th>121037</th>\n",
       "      <td>1066606</td>\n",
       "      <td>19</td>\n",
       "      <td>2021-09-06</td>\n",
       "      <td>NaN</td>\n",
       "      <td>NaN</td>\n",
       "      <td>NaN</td>\n",
       "      <td>NaN</td>\n",
       "    </tr>\n",
       "  </tbody>\n",
       "</table>\n",
       "<p>121038 rows × 7 columns</p>\n",
       "</div>"
      ],
      "text/plain": [
       "       speeches WPs        date wikidataid   novelty  transience  resonance\n",
       "0        471526  12  1990-12-20      Q2514  2.549234    2.488905   0.060329\n",
       "1        471554  12  1990-12-20     Q66286  2.592673    2.386411   0.206261\n",
       "2        471532  12  1990-12-20    Q895636  3.153690    3.067440   0.086250\n",
       "3        471527  12  1990-12-20     Q65389       NaN         NaN        NaN\n",
       "4        471536  12  1990-12-20   Q1594398  3.193564    2.898972   0.294592\n",
       "...         ...  ..         ...        ...       ...         ...        ...\n",
       "121033  1066565  19  2021-09-06  Q40998965       NaN         NaN        NaN\n",
       "121034  1066537  19  2021-09-06  Q18169686       NaN         NaN        NaN\n",
       "121035  1066541  19  2021-09-06  Q15606894       NaN         NaN        NaN\n",
       "121036  1066520  19  2021-09-06        NaN       NaN         NaN        NaN\n",
       "121037  1066606  19  2021-09-06        NaN       NaN         NaN        NaN\n",
       "\n",
       "[121038 rows x 7 columns]"
      ]
     },
     "execution_count": 42,
     "metadata": {},
     "output_type": "execute_result"
    }
   ],
   "source": [
    "speeches_and_WPs #121038 rows × 7 columns"
   ]
  },
  {
   "cell_type": "code",
   "execution_count": 43,
   "metadata": {},
   "outputs": [
    {
     "data": {
      "text/html": [
       "<div>\n",
       "<style scoped>\n",
       "    .dataframe tbody tr th:only-of-type {\n",
       "        vertical-align: middle;\n",
       "    }\n",
       "\n",
       "    .dataframe tbody tr th {\n",
       "        vertical-align: top;\n",
       "    }\n",
       "\n",
       "    .dataframe thead th {\n",
       "        text-align: right;\n",
       "    }\n",
       "</style>\n",
       "<table border=\"1\" class=\"dataframe\">\n",
       "  <thead>\n",
       "    <tr style=\"text-align: right;\">\n",
       "      <th></th>\n",
       "      <th>speeches</th>\n",
       "      <th>WPs</th>\n",
       "      <th>date</th>\n",
       "      <th>wikidataid</th>\n",
       "      <th>novelty</th>\n",
       "      <th>transience</th>\n",
       "      <th>resonance</th>\n",
       "    </tr>\n",
       "  </thead>\n",
       "  <tbody>\n",
       "    <tr>\n",
       "      <th>0</th>\n",
       "      <td>471526</td>\n",
       "      <td>12</td>\n",
       "      <td>1990-12-20</td>\n",
       "      <td>Q2514</td>\n",
       "      <td>2.549234</td>\n",
       "      <td>2.488905</td>\n",
       "      <td>0.060329</td>\n",
       "    </tr>\n",
       "    <tr>\n",
       "      <th>1</th>\n",
       "      <td>471554</td>\n",
       "      <td>12</td>\n",
       "      <td>1990-12-20</td>\n",
       "      <td>Q66286</td>\n",
       "      <td>2.592673</td>\n",
       "      <td>2.386411</td>\n",
       "      <td>0.206261</td>\n",
       "    </tr>\n",
       "    <tr>\n",
       "      <th>2</th>\n",
       "      <td>471532</td>\n",
       "      <td>12</td>\n",
       "      <td>1990-12-20</td>\n",
       "      <td>Q895636</td>\n",
       "      <td>3.153690</td>\n",
       "      <td>3.067440</td>\n",
       "      <td>0.086250</td>\n",
       "    </tr>\n",
       "    <tr>\n",
       "      <th>3</th>\n",
       "      <td>471527</td>\n",
       "      <td>12</td>\n",
       "      <td>1990-12-20</td>\n",
       "      <td>Q65389</td>\n",
       "      <td>NaN</td>\n",
       "      <td>NaN</td>\n",
       "      <td>NaN</td>\n",
       "    </tr>\n",
       "    <tr>\n",
       "      <th>4</th>\n",
       "      <td>471536</td>\n",
       "      <td>12</td>\n",
       "      <td>1990-12-20</td>\n",
       "      <td>Q1594398</td>\n",
       "      <td>3.193564</td>\n",
       "      <td>2.898972</td>\n",
       "      <td>0.294592</td>\n",
       "    </tr>\n",
       "  </tbody>\n",
       "</table>\n",
       "</div>"
      ],
      "text/plain": [
       "  speeches WPs        date wikidataid   novelty  transience  resonance\n",
       "0   471526  12  1990-12-20      Q2514  2.549234    2.488905   0.060329\n",
       "1   471554  12  1990-12-20     Q66286  2.592673    2.386411   0.206261\n",
       "2   471532  12  1990-12-20    Q895636  3.153690    3.067440   0.086250\n",
       "3   471527  12  1990-12-20     Q65389       NaN         NaN        NaN\n",
       "4   471536  12  1990-12-20   Q1594398  3.193564    2.898972   0.294592"
      ]
     },
     "execution_count": 43,
     "metadata": {},
     "output_type": "execute_result"
    }
   ],
   "source": [
    "speeches_and_WPs.head(5)"
   ]
  },
  {
   "cell_type": "code",
   "execution_count": 44,
   "metadata": {},
   "outputs": [
    {
     "data": {
      "text/plain": [
       "Index(['speeches', 'politicianID', 'surname_lower_comb', 'forename_lower_comb',\n",
       "       'pageid', 'wikidataid', 'name'],\n",
       "      dtype='object')"
      ]
     },
     "execution_count": 44,
     "metadata": {},
     "output_type": "execute_result"
    }
   ],
   "source": [
    "NamesAndSpeeches.columns"
   ]
  },
  {
   "cell_type": "code",
   "execution_count": 45,
   "metadata": {},
   "outputs": [],
   "source": [
    "NamesWPSpeeches = pd.merge(speeches_and_WPs, NamesAndSpeeches[['politicianID', 'surname_lower_comb', 'forename_lower_comb',\n",
    "       'pageid', 'wikidataid', 'name']], how = \"left\", left_on=[\"wikidataid\"], right_on=[\"wikidataid\"])"
   ]
  },
  {
   "cell_type": "code",
   "execution_count": 46,
   "metadata": {},
   "outputs": [],
   "source": [
    "NamesWPSpeeches = NamesWPSpeeches.rename(columns = {\"speeches\" : \"speech\"})"
   ]
  },
  {
   "cell_type": "code",
   "execution_count": 47,
   "metadata": {},
   "outputs": [
    {
     "data": {
      "text/html": [
       "<div>\n",
       "<style scoped>\n",
       "    .dataframe tbody tr th:only-of-type {\n",
       "        vertical-align: middle;\n",
       "    }\n",
       "\n",
       "    .dataframe tbody tr th {\n",
       "        vertical-align: top;\n",
       "    }\n",
       "\n",
       "    .dataframe thead th {\n",
       "        text-align: right;\n",
       "    }\n",
       "</style>\n",
       "<table border=\"1\" class=\"dataframe\">\n",
       "  <thead>\n",
       "    <tr style=\"text-align: right;\">\n",
       "      <th></th>\n",
       "      <th>speech</th>\n",
       "      <th>WPs</th>\n",
       "      <th>date</th>\n",
       "      <th>wikidataid</th>\n",
       "      <th>novelty</th>\n",
       "      <th>transience</th>\n",
       "      <th>resonance</th>\n",
       "      <th>politicianID</th>\n",
       "      <th>surname_lower_comb</th>\n",
       "      <th>forename_lower_comb</th>\n",
       "      <th>pageid</th>\n",
       "      <th>name</th>\n",
       "    </tr>\n",
       "  </thead>\n",
       "  <tbody>\n",
       "    <tr>\n",
       "      <th>0</th>\n",
       "      <td>471526</td>\n",
       "      <td>12</td>\n",
       "      <td>1990-12-20</td>\n",
       "      <td>Q2514</td>\n",
       "      <td>2.549234</td>\n",
       "      <td>2.488905</td>\n",
       "      <td>0.060329</td>\n",
       "      <td>11000246.0</td>\n",
       "      <td>brandt</td>\n",
       "      <td>willy</td>\n",
       "      <td>1518001.0</td>\n",
       "      <td>Willy Brandt</td>\n",
       "    </tr>\n",
       "    <tr>\n",
       "      <th>1</th>\n",
       "      <td>471554</td>\n",
       "      <td>12</td>\n",
       "      <td>1990-12-20</td>\n",
       "      <td>Q66286</td>\n",
       "      <td>2.592673</td>\n",
       "      <td>2.386411</td>\n",
       "      <td>0.206261</td>\n",
       "      <td>11002287.0</td>\n",
       "      <td>süssmuth</td>\n",
       "      <td>rita</td>\n",
       "      <td>4253.0</td>\n",
       "      <td>Rita Süssmuth</td>\n",
       "    </tr>\n",
       "    <tr>\n",
       "      <th>2</th>\n",
       "      <td>471532</td>\n",
       "      <td>12</td>\n",
       "      <td>1990-12-20</td>\n",
       "      <td>Q895636</td>\n",
       "      <td>3.153690</td>\n",
       "      <td>3.067440</td>\n",
       "      <td>0.086250</td>\n",
       "      <td>11002354.0</td>\n",
       "      <td>ullmann</td>\n",
       "      <td>wolfgang</td>\n",
       "      <td>300219.0</td>\n",
       "      <td>Wolfgang Ullmann</td>\n",
       "    </tr>\n",
       "    <tr>\n",
       "      <th>3</th>\n",
       "      <td>471527</td>\n",
       "      <td>12</td>\n",
       "      <td>1990-12-20</td>\n",
       "      <td>Q65389</td>\n",
       "      <td>NaN</td>\n",
       "      <td>NaN</td>\n",
       "      <td>NaN</td>\n",
       "      <td>11000418.0</td>\n",
       "      <td>dregger</td>\n",
       "      <td>alfred</td>\n",
       "      <td>73446.0</td>\n",
       "      <td>Alfred Dregger</td>\n",
       "    </tr>\n",
       "    <tr>\n",
       "      <th>4</th>\n",
       "      <td>471536</td>\n",
       "      <td>12</td>\n",
       "      <td>1990-12-20</td>\n",
       "      <td>Q1594398</td>\n",
       "      <td>3.193564</td>\n",
       "      <td>2.898972</td>\n",
       "      <td>0.294592</td>\n",
       "      <td>11000891.0</td>\n",
       "      <td>heuer</td>\n",
       "      <td>uwe-jens</td>\n",
       "      <td>1097338.0</td>\n",
       "      <td>Uwe-Jens Heuer</td>\n",
       "    </tr>\n",
       "  </tbody>\n",
       "</table>\n",
       "</div>"
      ],
      "text/plain": [
       "   speech WPs        date wikidataid   novelty  transience  resonance  \\\n",
       "0  471526  12  1990-12-20      Q2514  2.549234    2.488905   0.060329   \n",
       "1  471554  12  1990-12-20     Q66286  2.592673    2.386411   0.206261   \n",
       "2  471532  12  1990-12-20    Q895636  3.153690    3.067440   0.086250   \n",
       "3  471527  12  1990-12-20     Q65389       NaN         NaN        NaN   \n",
       "4  471536  12  1990-12-20   Q1594398  3.193564    2.898972   0.294592   \n",
       "\n",
       "   politicianID surname_lower_comb forename_lower_comb     pageid  \\\n",
       "0    11000246.0             brandt               willy  1518001.0   \n",
       "1    11002287.0           süssmuth                rita     4253.0   \n",
       "2    11002354.0            ullmann            wolfgang   300219.0   \n",
       "3    11000418.0            dregger              alfred    73446.0   \n",
       "4    11000891.0              heuer            uwe-jens  1097338.0   \n",
       "\n",
       "               name  \n",
       "0      Willy Brandt  \n",
       "1     Rita Süssmuth  \n",
       "2  Wolfgang Ullmann  \n",
       "3    Alfred Dregger  \n",
       "4    Uwe-Jens Heuer  "
      ]
     },
     "execution_count": 47,
     "metadata": {},
     "output_type": "execute_result"
    }
   ],
   "source": [
    "NamesWPSpeeches.head(5)"
   ]
  },
  {
   "cell_type": "code",
   "execution_count": 48,
   "metadata": {},
   "outputs": [],
   "source": [
    "NamesWPSpeeches[\"year\"] = NamesWPSpeeches[\"date\"].map(lambda x: datetime.strptime(x, '%Y-%m-%d').year)\n",
    "NamesWPSpeeches[\"month\"] = NamesWPSpeeches[\"date\"].map(lambda x: datetime.strptime(x, '%Y-%m-%d').month)"
   ]
  },
  {
   "cell_type": "code",
   "execution_count": 49,
   "metadata": {},
   "outputs": [
    {
     "data": {
      "text/html": [
       "<div>\n",
       "<style scoped>\n",
       "    .dataframe tbody tr th:only-of-type {\n",
       "        vertical-align: middle;\n",
       "    }\n",
       "\n",
       "    .dataframe tbody tr th {\n",
       "        vertical-align: top;\n",
       "    }\n",
       "\n",
       "    .dataframe thead th {\n",
       "        text-align: right;\n",
       "    }\n",
       "</style>\n",
       "<table border=\"1\" class=\"dataframe\">\n",
       "  <thead>\n",
       "    <tr style=\"text-align: right;\">\n",
       "      <th></th>\n",
       "      <th>speech</th>\n",
       "      <th>WPs</th>\n",
       "      <th>date</th>\n",
       "      <th>wikidataid</th>\n",
       "      <th>novelty</th>\n",
       "      <th>transience</th>\n",
       "      <th>resonance</th>\n",
       "      <th>politicianID</th>\n",
       "      <th>surname_lower_comb</th>\n",
       "      <th>forename_lower_comb</th>\n",
       "      <th>pageid</th>\n",
       "      <th>name</th>\n",
       "      <th>year</th>\n",
       "      <th>month</th>\n",
       "    </tr>\n",
       "  </thead>\n",
       "  <tbody>\n",
       "    <tr>\n",
       "      <th>0</th>\n",
       "      <td>471526</td>\n",
       "      <td>12</td>\n",
       "      <td>1990-12-20</td>\n",
       "      <td>Q2514</td>\n",
       "      <td>2.549234</td>\n",
       "      <td>2.488905</td>\n",
       "      <td>0.060329</td>\n",
       "      <td>11000246.0</td>\n",
       "      <td>brandt</td>\n",
       "      <td>willy</td>\n",
       "      <td>1518001.0</td>\n",
       "      <td>Willy Brandt</td>\n",
       "      <td>1990</td>\n",
       "      <td>12</td>\n",
       "    </tr>\n",
       "    <tr>\n",
       "      <th>1</th>\n",
       "      <td>471554</td>\n",
       "      <td>12</td>\n",
       "      <td>1990-12-20</td>\n",
       "      <td>Q66286</td>\n",
       "      <td>2.592673</td>\n",
       "      <td>2.386411</td>\n",
       "      <td>0.206261</td>\n",
       "      <td>11002287.0</td>\n",
       "      <td>süssmuth</td>\n",
       "      <td>rita</td>\n",
       "      <td>4253.0</td>\n",
       "      <td>Rita Süssmuth</td>\n",
       "      <td>1990</td>\n",
       "      <td>12</td>\n",
       "    </tr>\n",
       "    <tr>\n",
       "      <th>2</th>\n",
       "      <td>471532</td>\n",
       "      <td>12</td>\n",
       "      <td>1990-12-20</td>\n",
       "      <td>Q895636</td>\n",
       "      <td>3.153690</td>\n",
       "      <td>3.067440</td>\n",
       "      <td>0.086250</td>\n",
       "      <td>11002354.0</td>\n",
       "      <td>ullmann</td>\n",
       "      <td>wolfgang</td>\n",
       "      <td>300219.0</td>\n",
       "      <td>Wolfgang Ullmann</td>\n",
       "      <td>1990</td>\n",
       "      <td>12</td>\n",
       "    </tr>\n",
       "    <tr>\n",
       "      <th>3</th>\n",
       "      <td>471527</td>\n",
       "      <td>12</td>\n",
       "      <td>1990-12-20</td>\n",
       "      <td>Q65389</td>\n",
       "      <td>NaN</td>\n",
       "      <td>NaN</td>\n",
       "      <td>NaN</td>\n",
       "      <td>11000418.0</td>\n",
       "      <td>dregger</td>\n",
       "      <td>alfred</td>\n",
       "      <td>73446.0</td>\n",
       "      <td>Alfred Dregger</td>\n",
       "      <td>1990</td>\n",
       "      <td>12</td>\n",
       "    </tr>\n",
       "    <tr>\n",
       "      <th>4</th>\n",
       "      <td>471536</td>\n",
       "      <td>12</td>\n",
       "      <td>1990-12-20</td>\n",
       "      <td>Q1594398</td>\n",
       "      <td>3.193564</td>\n",
       "      <td>2.898972</td>\n",
       "      <td>0.294592</td>\n",
       "      <td>11000891.0</td>\n",
       "      <td>heuer</td>\n",
       "      <td>uwe-jens</td>\n",
       "      <td>1097338.0</td>\n",
       "      <td>Uwe-Jens Heuer</td>\n",
       "      <td>1990</td>\n",
       "      <td>12</td>\n",
       "    </tr>\n",
       "  </tbody>\n",
       "</table>\n",
       "</div>"
      ],
      "text/plain": [
       "   speech WPs        date wikidataid   novelty  transience  resonance  \\\n",
       "0  471526  12  1990-12-20      Q2514  2.549234    2.488905   0.060329   \n",
       "1  471554  12  1990-12-20     Q66286  2.592673    2.386411   0.206261   \n",
       "2  471532  12  1990-12-20    Q895636  3.153690    3.067440   0.086250   \n",
       "3  471527  12  1990-12-20     Q65389       NaN         NaN        NaN   \n",
       "4  471536  12  1990-12-20   Q1594398  3.193564    2.898972   0.294592   \n",
       "\n",
       "   politicianID surname_lower_comb forename_lower_comb     pageid  \\\n",
       "0    11000246.0             brandt               willy  1518001.0   \n",
       "1    11002287.0           süssmuth                rita     4253.0   \n",
       "2    11002354.0            ullmann            wolfgang   300219.0   \n",
       "3    11000418.0            dregger              alfred    73446.0   \n",
       "4    11000891.0              heuer            uwe-jens  1097338.0   \n",
       "\n",
       "               name  year  month  \n",
       "0      Willy Brandt  1990     12  \n",
       "1     Rita Süssmuth  1990     12  \n",
       "2  Wolfgang Ullmann  1990     12  \n",
       "3    Alfred Dregger  1990     12  \n",
       "4    Uwe-Jens Heuer  1990     12  "
      ]
     },
     "execution_count": 49,
     "metadata": {},
     "output_type": "execute_result"
    }
   ],
   "source": [
    "NamesWPSpeeches.head(5)"
   ]
  },
  {
   "cell_type": "code",
   "execution_count": 50,
   "metadata": {},
   "outputs": [],
   "source": [
    "#NamesWPSpeeches.to_csv(PATH + \"./processed/NamesWPSpeeches.csv\")"
   ]
  },
  {
   "cell_type": "code",
   "execution_count": 51,
   "metadata": {},
   "outputs": [
    {
     "data": {
      "text/plain": [
       "dict_keys(['concatSpeech', 'name', 'date', 'data_ready', 'electoralTerm', 'firstName', 'lastName', 'politicianId', 'positionShort', 'positionLong', 'date_control', 'timestamp'])"
      ]
     },
     "execution_count": 51,
     "metadata": {},
     "output_type": "execute_result"
    }
   ],
   "source": [
    "id2rede_12_19['471526'].keys() #dict_keys(['concatSpeech', 'name', 'date', 'data_ready', 'electoralTerm', 'firstName', 'lastName', 'politicianId', 'positionShort', 'positionLong', 'date_control', 'timestamp'])"
   ]
  },
  {
   "cell_type": "raw",
   "metadata": {},
   "source": [
    "date = []\n",
    "window = 25\n",
    "\n",
    "for speech in list(NamesWPSpeeches[\"speech\"]): \n",
    "    if speech in id2rede_12_19.keys(): \n",
    "        if \"date\" in id2rede_12_19[speech].keys():\n",
    "            date.append(id2rede_12_19[speech][\"date\"])\n",
    "        else: \n",
    "            date.append(np.nan)\n",
    "    else: \n",
    "        date.append(np.nan)"
   ]
  },
  {
   "cell_type": "raw",
   "metadata": {},
   "source": [
    "len(date), len(NamesWPSpeeches)"
   ]
  },
  {
   "cell_type": "raw",
   "metadata": {},
   "source": [
    "NamesWPSpeeches[\"date\"] = pd.Series(date)"
   ]
  },
  {
   "cell_type": "code",
   "execution_count": 52,
   "metadata": {},
   "outputs": [
    {
     "data": {
      "text/plain": [
       "'1990-12-20'"
      ]
     },
     "execution_count": 52,
     "metadata": {},
     "output_type": "execute_result"
    }
   ],
   "source": [
    "NamesWPSpeeches[\"date\"][10]"
   ]
  },
  {
   "cell_type": "code",
   "execution_count": 53,
   "metadata": {},
   "outputs": [
    {
     "data": {
      "text/html": [
       "<div>\n",
       "<style scoped>\n",
       "    .dataframe tbody tr th:only-of-type {\n",
       "        vertical-align: middle;\n",
       "    }\n",
       "\n",
       "    .dataframe tbody tr th {\n",
       "        vertical-align: top;\n",
       "    }\n",
       "\n",
       "    .dataframe thead th {\n",
       "        text-align: right;\n",
       "    }\n",
       "</style>\n",
       "<table border=\"1\" class=\"dataframe\">\n",
       "  <thead>\n",
       "    <tr style=\"text-align: right;\">\n",
       "      <th></th>\n",
       "      <th>speeches</th>\n",
       "      <th>WPs</th>\n",
       "      <th>date</th>\n",
       "      <th>wikidataid</th>\n",
       "      <th>novelty</th>\n",
       "      <th>transience</th>\n",
       "      <th>resonance</th>\n",
       "    </tr>\n",
       "  </thead>\n",
       "  <tbody>\n",
       "    <tr>\n",
       "      <th>121033</th>\n",
       "      <td>1066565</td>\n",
       "      <td>19</td>\n",
       "      <td>2021-09-06</td>\n",
       "      <td>Q40998965</td>\n",
       "      <td>NaN</td>\n",
       "      <td>NaN</td>\n",
       "      <td>NaN</td>\n",
       "    </tr>\n",
       "    <tr>\n",
       "      <th>121034</th>\n",
       "      <td>1066537</td>\n",
       "      <td>19</td>\n",
       "      <td>2021-09-06</td>\n",
       "      <td>Q18169686</td>\n",
       "      <td>NaN</td>\n",
       "      <td>NaN</td>\n",
       "      <td>NaN</td>\n",
       "    </tr>\n",
       "    <tr>\n",
       "      <th>121035</th>\n",
       "      <td>1066541</td>\n",
       "      <td>19</td>\n",
       "      <td>2021-09-06</td>\n",
       "      <td>Q15606894</td>\n",
       "      <td>NaN</td>\n",
       "      <td>NaN</td>\n",
       "      <td>NaN</td>\n",
       "    </tr>\n",
       "    <tr>\n",
       "      <th>121036</th>\n",
       "      <td>1066520</td>\n",
       "      <td>19</td>\n",
       "      <td>2021-09-06</td>\n",
       "      <td>NaN</td>\n",
       "      <td>NaN</td>\n",
       "      <td>NaN</td>\n",
       "      <td>NaN</td>\n",
       "    </tr>\n",
       "    <tr>\n",
       "      <th>121037</th>\n",
       "      <td>1066606</td>\n",
       "      <td>19</td>\n",
       "      <td>2021-09-06</td>\n",
       "      <td>NaN</td>\n",
       "      <td>NaN</td>\n",
       "      <td>NaN</td>\n",
       "      <td>NaN</td>\n",
       "    </tr>\n",
       "  </tbody>\n",
       "</table>\n",
       "</div>"
      ],
      "text/plain": [
       "       speeches WPs        date wikidataid  novelty  transience  resonance\n",
       "121033  1066565  19  2021-09-06  Q40998965      NaN         NaN        NaN\n",
       "121034  1066537  19  2021-09-06  Q18169686      NaN         NaN        NaN\n",
       "121035  1066541  19  2021-09-06  Q15606894      NaN         NaN        NaN\n",
       "121036  1066520  19  2021-09-06        NaN      NaN         NaN        NaN\n",
       "121037  1066606  19  2021-09-06        NaN      NaN         NaN        NaN"
      ]
     },
     "execution_count": 53,
     "metadata": {},
     "output_type": "execute_result"
    }
   ],
   "source": [
    "speeches_and_WPs[speeches_and_WPs[\"WPs\"] == \"19\"].tail(5)#(30) "
   ]
  },
  {
   "cell_type": "code",
   "execution_count": 54,
   "metadata": {},
   "outputs": [
    {
     "data": {
      "text/html": [
       "<div>\n",
       "<style scoped>\n",
       "    .dataframe tbody tr th:only-of-type {\n",
       "        vertical-align: middle;\n",
       "    }\n",
       "\n",
       "    .dataframe tbody tr th {\n",
       "        vertical-align: top;\n",
       "    }\n",
       "\n",
       "    .dataframe thead th {\n",
       "        text-align: right;\n",
       "    }\n",
       "</style>\n",
       "<table border=\"1\" class=\"dataframe\">\n",
       "  <thead>\n",
       "    <tr style=\"text-align: right;\">\n",
       "      <th></th>\n",
       "      <th>speech</th>\n",
       "      <th>WPs</th>\n",
       "      <th>date</th>\n",
       "      <th>wikidataid</th>\n",
       "      <th>novelty</th>\n",
       "      <th>transience</th>\n",
       "      <th>resonance</th>\n",
       "      <th>politicianID</th>\n",
       "      <th>surname_lower_comb</th>\n",
       "      <th>forename_lower_comb</th>\n",
       "      <th>pageid</th>\n",
       "      <th>name</th>\n",
       "      <th>year</th>\n",
       "      <th>month</th>\n",
       "    </tr>\n",
       "  </thead>\n",
       "  <tbody>\n",
       "    <tr>\n",
       "      <th>121024</th>\n",
       "      <td>1066516</td>\n",
       "      <td>19</td>\n",
       "      <td>2021-09-06</td>\n",
       "      <td>Q564328</td>\n",
       "      <td>1.908871</td>\n",
       "      <td>2.024505</td>\n",
       "      <td>-0.115634</td>\n",
       "      <td>11004245.0</td>\n",
       "      <td>baerbock</td>\n",
       "      <td>annalena</td>\n",
       "      <td>4967001.0</td>\n",
       "      <td>Annalena Baerbock</td>\n",
       "      <td>2021</td>\n",
       "      <td>9</td>\n",
       "    </tr>\n",
       "  </tbody>\n",
       "</table>\n",
       "</div>"
      ],
      "text/plain": [
       "         speech WPs        date wikidataid   novelty  transience  resonance  \\\n",
       "121024  1066516  19  2021-09-06    Q564328  1.908871    2.024505  -0.115634   \n",
       "\n",
       "        politicianID surname_lower_comb forename_lower_comb     pageid  \\\n",
       "121024    11004245.0           baerbock            annalena  4967001.0   \n",
       "\n",
       "                     name  year  month  \n",
       "121024  Annalena Baerbock  2021      9  "
      ]
     },
     "execution_count": 54,
     "metadata": {},
     "output_type": "execute_result"
    }
   ],
   "source": [
    "NamesWPSpeeches[NamesWPSpeeches[\"speech\"] == '1066516']"
   ]
  },
  {
   "cell_type": "code",
   "execution_count": 55,
   "metadata": {},
   "outputs": [],
   "source": [
    "#speech2KL[\"500\"]"
   ]
  },
  {
   "cell_type": "code",
   "execution_count": 56,
   "metadata": {},
   "outputs": [
    {
     "data": {
      "text/plain": [
       "['1066253']"
      ]
     },
     "execution_count": 56,
     "metadata": {},
     "output_type": "execute_result"
    }
   ],
   "source": [
    "[list(speech2KL_WP19[\"100\"].keys())[-1]]"
   ]
  },
  {
   "cell_type": "code",
   "execution_count": 57,
   "metadata": {},
   "outputs": [
    {
     "data": {
      "text/plain": [
       "'1066516'"
      ]
     },
     "execution_count": 57,
     "metadata": {},
     "output_type": "execute_result"
    }
   ],
   "source": [
    "list(speech2KL_WP19[\"25\"].keys())[-1]"
   ]
  },
  {
   "cell_type": "code",
   "execution_count": 58,
   "metadata": {},
   "outputs": [
    {
     "data": {
      "text/plain": [
       "{'novelty': 1.9094954024053783,\n",
       " 'transience': 2.0175418083979877,\n",
       " 'resonance': -0.1080464059926094}"
      ]
     },
     "execution_count": 58,
     "metadata": {},
     "output_type": "execute_result"
    }
   ],
   "source": [
    "speech2KL_WP19[\"25\"]['1066516']"
   ]
  },
  {
   "cell_type": "code",
   "execution_count": 59,
   "metadata": {},
   "outputs": [
    {
     "data": {
      "text/plain": [
       "{'novelty': 1.9088706536543258,\n",
       " 'transience': 2.024504943478037,\n",
       " 'resonance': -0.11563428982371105}"
      ]
     },
     "execution_count": 59,
     "metadata": {},
     "output_type": "execute_result"
    }
   ],
   "source": [
    "speech2KL[\"25\"]['1066516']"
   ]
  },
  {
   "cell_type": "code",
   "execution_count": 60,
   "metadata": {},
   "outputs": [
    {
     "data": {
      "text/plain": [
       "Index(['speeches', 'WPs', 'date', 'wikidataid', 'novelty', 'transience',\n",
       "       'resonance'],\n",
       "      dtype='object')"
      ]
     },
     "execution_count": 60,
     "metadata": {},
     "output_type": "execute_result"
    }
   ],
   "source": [
    "speeches_and_WPs.columns # DATE IS MISSING!!!!!!!"
   ]
  },
  {
   "cell_type": "code",
   "execution_count": 61,
   "metadata": {},
   "outputs": [
    {
     "data": {
      "text/html": [
       "<div>\n",
       "<style scoped>\n",
       "    .dataframe tbody tr th:only-of-type {\n",
       "        vertical-align: middle;\n",
       "    }\n",
       "\n",
       "    .dataframe tbody tr th {\n",
       "        vertical-align: top;\n",
       "    }\n",
       "\n",
       "    .dataframe thead th {\n",
       "        text-align: right;\n",
       "    }\n",
       "</style>\n",
       "<table border=\"1\" class=\"dataframe\">\n",
       "  <thead>\n",
       "    <tr style=\"text-align: right;\">\n",
       "      <th></th>\n",
       "      <th>speeches</th>\n",
       "      <th>WPs</th>\n",
       "      <th>date</th>\n",
       "      <th>wikidataid</th>\n",
       "      <th>novelty</th>\n",
       "      <th>transience</th>\n",
       "      <th>resonance</th>\n",
       "    </tr>\n",
       "  </thead>\n",
       "  <tbody>\n",
       "    <tr>\n",
       "      <th>119938</th>\n",
       "      <td>1063050</td>\n",
       "      <td>19</td>\n",
       "      <td>2021-05-06</td>\n",
       "      <td>NaN</td>\n",
       "      <td>2.418201</td>\n",
       "      <td>2.461538</td>\n",
       "      <td>-0.043336</td>\n",
       "    </tr>\n",
       "    <tr>\n",
       "      <th>119939</th>\n",
       "      <td>1063136</td>\n",
       "      <td>19</td>\n",
       "      <td>2021-05-06</td>\n",
       "      <td>Q2590313</td>\n",
       "      <td>2.834857</td>\n",
       "      <td>2.831130</td>\n",
       "      <td>0.003727</td>\n",
       "    </tr>\n",
       "    <tr>\n",
       "      <th>119940</th>\n",
       "      <td>1063071</td>\n",
       "      <td>19</td>\n",
       "      <td>2021-05-06</td>\n",
       "      <td>Q97332</td>\n",
       "      <td>2.509440</td>\n",
       "      <td>2.796606</td>\n",
       "      <td>-0.287166</td>\n",
       "    </tr>\n",
       "    <tr>\n",
       "      <th>119941</th>\n",
       "      <td>1063270</td>\n",
       "      <td>19</td>\n",
       "      <td>2021-05-06</td>\n",
       "      <td>Q77195</td>\n",
       "      <td>2.157983</td>\n",
       "      <td>2.443720</td>\n",
       "      <td>-0.285737</td>\n",
       "    </tr>\n",
       "    <tr>\n",
       "      <th>119942</th>\n",
       "      <td>1063170</td>\n",
       "      <td>19</td>\n",
       "      <td>2021-05-06</td>\n",
       "      <td>Q11762</td>\n",
       "      <td>2.933550</td>\n",
       "      <td>2.729172</td>\n",
       "      <td>0.204379</td>\n",
       "    </tr>\n",
       "    <tr>\n",
       "      <th>...</th>\n",
       "      <td>...</td>\n",
       "      <td>...</td>\n",
       "      <td>...</td>\n",
       "      <td>...</td>\n",
       "      <td>...</td>\n",
       "      <td>...</td>\n",
       "      <td>...</td>\n",
       "    </tr>\n",
       "    <tr>\n",
       "      <th>120013</th>\n",
       "      <td>1063059</td>\n",
       "      <td>19</td>\n",
       "      <td>2021-05-06</td>\n",
       "      <td>Q18202322</td>\n",
       "      <td>2.979127</td>\n",
       "      <td>3.012757</td>\n",
       "      <td>-0.033630</td>\n",
       "    </tr>\n",
       "    <tr>\n",
       "      <th>120014</th>\n",
       "      <td>1063063</td>\n",
       "      <td>19</td>\n",
       "      <td>2021-05-06</td>\n",
       "      <td>NaN</td>\n",
       "      <td>2.988408</td>\n",
       "      <td>3.107007</td>\n",
       "      <td>-0.118599</td>\n",
       "    </tr>\n",
       "    <tr>\n",
       "      <th>120015</th>\n",
       "      <td>1063135</td>\n",
       "      <td>19</td>\n",
       "      <td>2021-05-06</td>\n",
       "      <td>NaN</td>\n",
       "      <td>2.880750</td>\n",
       "      <td>3.263802</td>\n",
       "      <td>-0.383052</td>\n",
       "    </tr>\n",
       "    <tr>\n",
       "      <th>120016</th>\n",
       "      <td>1063104</td>\n",
       "      <td>19</td>\n",
       "      <td>2021-05-06</td>\n",
       "      <td>NaN</td>\n",
       "      <td>3.158512</td>\n",
       "      <td>3.408175</td>\n",
       "      <td>-0.249663</td>\n",
       "    </tr>\n",
       "    <tr>\n",
       "      <th>120017</th>\n",
       "      <td>1063204</td>\n",
       "      <td>19</td>\n",
       "      <td>2021-05-06</td>\n",
       "      <td>NaN</td>\n",
       "      <td>3.439709</td>\n",
       "      <td>3.369462</td>\n",
       "      <td>0.070247</td>\n",
       "    </tr>\n",
       "  </tbody>\n",
       "</table>\n",
       "<p>80 rows × 7 columns</p>\n",
       "</div>"
      ],
      "text/plain": [
       "       speeches WPs        date wikidataid   novelty  transience  resonance\n",
       "119938  1063050  19  2021-05-06        NaN  2.418201    2.461538  -0.043336\n",
       "119939  1063136  19  2021-05-06   Q2590313  2.834857    2.831130   0.003727\n",
       "119940  1063071  19  2021-05-06     Q97332  2.509440    2.796606  -0.287166\n",
       "119941  1063270  19  2021-05-06     Q77195  2.157983    2.443720  -0.285737\n",
       "119942  1063170  19  2021-05-06     Q11762  2.933550    2.729172   0.204379\n",
       "...         ...  ..         ...        ...       ...         ...        ...\n",
       "120013  1063059  19  2021-05-06  Q18202322  2.979127    3.012757  -0.033630\n",
       "120014  1063063  19  2021-05-06        NaN  2.988408    3.107007  -0.118599\n",
       "120015  1063135  19  2021-05-06        NaN  2.880750    3.263802  -0.383052\n",
       "120016  1063104  19  2021-05-06        NaN  3.158512    3.408175  -0.249663\n",
       "120017  1063204  19  2021-05-06        NaN  3.439709    3.369462   0.070247\n",
       "\n",
       "[80 rows x 7 columns]"
      ]
     },
     "execution_count": 61,
     "metadata": {},
     "output_type": "execute_result"
    }
   ],
   "source": [
    "speeches_and_WPs[speeches_and_WPs[\"date\"] == '2021-05-06']"
   ]
  },
  {
   "cell_type": "code",
   "execution_count": 62,
   "metadata": {},
   "outputs": [
    {
     "data": {
      "text/plain": [
       "'/Users/alexandrarottenkolber/Documents/02_Hertie_School/Master thesis/Master_Thesis_Hertie/data_analysis/01_data/Plenarprotokolle/'"
      ]
     },
     "execution_count": 62,
     "metadata": {},
     "output_type": "execute_result"
    }
   ],
   "source": [
    "id2rede"
   ]
  },
  {
   "cell_type": "code",
   "execution_count": 112,
   "metadata": {},
   "outputs": [],
   "source": [
    "speeches_and_KL_19 = pd.read_csv(PATH + \"./processed/speeches_and_KL_19.csv\").rename(columns = {\"Unnamed: 0\": \"speeches\"})"
   ]
  },
  {
   "cell_type": "code",
   "execution_count": 113,
   "metadata": {},
   "outputs": [
    {
     "data": {
      "text/html": [
       "<div>\n",
       "<style scoped>\n",
       "    .dataframe tbody tr th:only-of-type {\n",
       "        vertical-align: middle;\n",
       "    }\n",
       "\n",
       "    .dataframe tbody tr th {\n",
       "        vertical-align: top;\n",
       "    }\n",
       "\n",
       "    .dataframe thead th {\n",
       "        text-align: right;\n",
       "    }\n",
       "</style>\n",
       "<table border=\"1\" class=\"dataframe\">\n",
       "  <thead>\n",
       "    <tr style=\"text-align: right;\">\n",
       "      <th></th>\n",
       "      <th>speeches</th>\n",
       "      <th>novelty</th>\n",
       "      <th>transience</th>\n",
       "      <th>resonance</th>\n",
       "    </tr>\n",
       "  </thead>\n",
       "  <tbody>\n",
       "    <tr>\n",
       "      <th>19136</th>\n",
       "      <td>1066543</td>\n",
       "      <td>2.627851</td>\n",
       "      <td>2.967004</td>\n",
       "      <td>-0.339153</td>\n",
       "    </tr>\n",
       "    <tr>\n",
       "      <th>19137</th>\n",
       "      <td>1066550</td>\n",
       "      <td>2.267331</td>\n",
       "      <td>2.578270</td>\n",
       "      <td>-0.310940</td>\n",
       "    </tr>\n",
       "    <tr>\n",
       "      <th>19138</th>\n",
       "      <td>1066552</td>\n",
       "      <td>2.445844</td>\n",
       "      <td>2.681773</td>\n",
       "      <td>-0.235928</td>\n",
       "    </tr>\n",
       "    <tr>\n",
       "      <th>19139</th>\n",
       "      <td>1066554</td>\n",
       "      <td>2.325480</td>\n",
       "      <td>2.468612</td>\n",
       "      <td>-0.143131</td>\n",
       "    </tr>\n",
       "    <tr>\n",
       "      <th>19140</th>\n",
       "      <td>1066556</td>\n",
       "      <td>2.638225</td>\n",
       "      <td>3.201299</td>\n",
       "      <td>-0.563074</td>\n",
       "    </tr>\n",
       "  </tbody>\n",
       "</table>\n",
       "</div>"
      ],
      "text/plain": [
       "       speeches   novelty  transience  resonance\n",
       "19136   1066543  2.627851    2.967004  -0.339153\n",
       "19137   1066550  2.267331    2.578270  -0.310940\n",
       "19138   1066552  2.445844    2.681773  -0.235928\n",
       "19139   1066554  2.325480    2.468612  -0.143131\n",
       "19140   1066556  2.638225    3.201299  -0.563074"
      ]
     },
     "execution_count": 113,
     "metadata": {},
     "output_type": "execute_result"
    }
   ],
   "source": [
    "speeches_and_KL_19.tail()"
   ]
  },
  {
   "cell_type": "code",
   "execution_count": 114,
   "metadata": {},
   "outputs": [],
   "source": [
    "with open(PATH + 'processed/speech2KL_WP19.txt', 'r') as infile: \n",
    "    speech2KL_WP19 = json.load(infile)\n",
    "infile.close()"
   ]
  },
  {
   "cell_type": "code",
   "execution_count": 126,
   "metadata": {},
   "outputs": [
    {
     "data": {
      "text/plain": [
       "dict_keys(['5', '7', '10', '25', '100'])"
      ]
     },
     "execution_count": 126,
     "metadata": {},
     "output_type": "execute_result"
    }
   ],
   "source": [
    "speech2KL_WP19.keys()"
   ]
  },
  {
   "cell_type": "code",
   "execution_count": 115,
   "metadata": {},
   "outputs": [
    {
     "data": {
      "text/plain": [
       "Index(['speech', 'WPs', 'date', 'wikidataid', 'novelty', 'transience',\n",
       "       'resonance', 'politicianID', 'surname_lower_comb',\n",
       "       'forename_lower_comb', 'pageid', 'name'],\n",
       "      dtype='object')"
      ]
     },
     "execution_count": 115,
     "metadata": {},
     "output_type": "execute_result"
    }
   ],
   "source": [
    "NamesWPSpeeches.columns"
   ]
  },
  {
   "cell_type": "markdown",
   "metadata": {},
   "source": [
    "# add Party"
   ]
  },
  {
   "cell_type": "code",
   "execution_count": 211,
   "metadata": {},
   "outputs": [],
   "source": [
    "party_dic = {'BÜNDNIS 90/DIE GRÜNEN': 'BÜNDNIS 90/DIE GRÜNEN', \n",
    "             'PDS': 'PDS', \n",
    "             'CDU': \"CDU/CSU\", \n",
    "             'SPD': 'SPD', \n",
    "             'FDP': 'FDP', \n",
    "             'CSU': \"CDU/CSU\",\n",
    "             'DIE LINKE.': 'DIE LINKE.', \n",
    "             'Die Linke.': 'DIE LINKE.',\n",
    "             'PDS/LL': 'PDS', \n",
    "             'Plos': 'Parteilos', \n",
    "             'AfD': 'AfD', \n",
    "            \"CDU/CSU\" : \"CDU/CSU\", \n",
    "            'Parteilos': 'Parteilos'}"
   ]
  },
  {
   "cell_type": "code",
   "execution_count": 212,
   "metadata": {},
   "outputs": [],
   "source": [
    "MissingName2Party = {'Otto Graf Lambsdorff': \"FDP\", \n",
    "                     'Jörg Wolfgang Ganschow': \"FDP\", \n",
    "                     'Jürgen Möllemann': \"FDP\", \n",
    "                     'Rainer Ortleb': \"FDP\", \n",
    "                     'Harald B. Schäfer': \"SPD\", \n",
    "                     'Joachim Graf von Schönburg-Glauchau': \"CDU\", \n",
    "                     'Peter Reuschenbach': \"SPD\", \n",
    "                     'Uwe Lühr': \"FDP\", \n",
    "                     'Cornelia von Teichman und Logischen': \"FDP\", \n",
    "                     'Heinrich Leonhard Kolb': \"FDP\", \n",
    "                     'Verena Wohlleben': \"SPD\", \n",
    "                     'Lieselott Blunck': \"SPD\", \n",
    "                     'Kurt Rossmanith': \"CSU\", \n",
    "                     'Hans H. Gattermann': \"FDP\", \n",
    "                     'Karsten Voigt': \"SPD\", \n",
    "                     'Gerhard O. Pfeffermann': \"CDU\",  \n",
    "                     'Ina Albowitz': \"FDP\", \n",
    "                     'Petra Bläss': \"PDS\", \n",
    "                     'Lutz Stavenhagen': \"CDU\", \n",
    "                     'Ferdinand Tillmann': \"CDU\", \n",
    "                     'Claudia Nolte': \"CDU\", \n",
    "                     'Gunter Weißgerber': \"SPD\", \n",
    "                     'Peter Paterna': \"SPD\", \n",
    "                     'Ursula Lehr': \"CDU\", \n",
    "                     'Klaus Lippold': \"CDU\", \n",
    "                     'Hans-Werner Müller': \"CDU\", \n",
    "                     'Roswitha Verhülsdonk': \"CDU\", \n",
    "                     'Ursula Seiler-Albring': \"FDP\", \n",
    "                     'Karl-Heinz Schröter': \"SPD\", \n",
    "                     'Herbert Meißner': \"SPD\", \n",
    "                     'Hedda Meseke': \"CDU\", \n",
    "                     'Erich G. Fritz': \"CDU\", \n",
    "                     'Heinz-Dieter Hackel': \"FDP\", \n",
    "                     'Jochen Welt': \"SPD\", \n",
    "                     'Paul Friedhoff': \"FDP\", \n",
    "                     'Hans Georg Wagner': \"SPD\", \n",
    "                     'Peter Harry Carstensen': \"CDU\", \n",
    "                     'Werner Skowron': \"CDU\", \n",
    "                     'Walter Franz Altherr': \"CDU\", \n",
    "                     'Karl Hermann Haack': \"SPD\", \n",
    "                     'Claire Marienfeld': \"CDU\", \n",
    "                     'Werner Schuster': \"SPD\", \n",
    "                     'Klaus-Dieter Uelhoff': \"CDU\", \n",
    "                     'Karl H. Fell': \"CDU\", \n",
    "                     'Erich Maaß': \"CDU\", \n",
    "                     'Hans P. H. Schuster': \"FDP\", \n",
    "                     'Reinhard Meyer zu Bentrup': \"CDU\", \n",
    "                     'Hans A. Engelhard': \"FDP\", \n",
    "                     'Heinrich Graf von Einsiedel': \"SPD\", \n",
    "                     'Gila Altmann': \"Bündnis 90/Die Grünen\", \n",
    "                     'Halo Saibold': \"Bündnis 90/Die Grünen\", \n",
    "                     'Wolfgang Ilte': \"SPD\", \n",
    "                     'Dagmar Wöhrl': \"CSU\", \n",
    "                     'Franz Peter Basten': \"CDU\", \n",
    "                     'Gottfried Tröger': \"CDU\", \n",
    "                     'Wilma Glücklich': \"CDU\", \n",
    "                     'Bernd Klaußner': \"CDU\", \n",
    "                     'Karl A. Lamers': \"CDU\",  \n",
    "                     'Ulrike Merten': \"SPD\", \n",
    "                     'Sabine Jünger': \"Die Linke.\", \n",
    "                     'Axel Fischer': \"CDU\", \n",
    "                     'Sylvia Bonitz': \"CDU\",  \n",
    "                     'Monika Balt': \"PDS\", \n",
    "                     'René Röspel': \"SPD\",  \n",
    "                     'Gudrun Serowiecki': \"FDP\",  \n",
    "                     'Melanie Oßwald': \"CSU\", \n",
    "                     'Elvira Drobinski-Weiß': \"SPD\",  \n",
    "                     'Jutta Krüger-Jacob': \"Bündnis 90/Die Grünen\", \n",
    "                     'Ursula von der Leyen': \"CDU\", \n",
    "                     'Dorothée Menzner': \"Die Linke.\",  \n",
    "                     'Sevim Dağdelen': \"Die Linke.\", \n",
    "                     'Lutz Heilmann': \"Die Linke.\",  \n",
    "                     'Andreas Lämmel': \"CDU\",  \n",
    "                     'Philipp Mißfelder': \"CDU\", \n",
    "                     'Henning Otte': \"CDU\",  \n",
    "                     'Matthias Birkwald': \"Die Linke.\",  \n",
    "                     'Hans-Georg von der Marwitz': \"CDU\", \n",
    "                     'Claudia Bögel': \"FDP\",  \n",
    "                     'Aydan Özoğuz': \"SPD\",  \n",
    "                     'Alexander Neu': \"Die Linke.\", \n",
    "                     'Daniela De Ridder': \"SPD\", \n",
    "                     'Charles M. Huber': \"CDU\", \n",
    "                     'Philipp Graf von und zu Lerchenfeld': \"CSU\", \n",
    "                     'Sylvia Jörrißen': \"CDU\", \n",
    "                     'André Berghegger': \"CDU\",  \n",
    "                     'Alexander Graf Lambsdorff': \"FDP\", \n",
    "                     'Amira Mohamed Ali': \"Die Linke.\",  \n",
    "                     'Olaf in der Beek': \"FDP\"}"
   ]
  },
  {
   "cell_type": "code",
   "execution_count": 213,
   "metadata": {},
   "outputs": [],
   "source": [
    "with open(PATH + 'processed/PolID2info.txt', 'r') as infile:\n",
    "    PolID2info = json.load(infile)\n",
    "infile.close()"
   ]
  },
  {
   "cell_type": "code",
   "execution_count": 214,
   "metadata": {},
   "outputs": [
    {
     "data": {
      "text/plain": [
       "'SPD'"
      ]
     },
     "execution_count": 214,
     "metadata": {},
     "output_type": "execute_result"
    }
   ],
   "source": [
    "PolID2info['11000246'][\"PARTY\"]#.keys()"
   ]
  },
  {
   "cell_type": "code",
   "execution_count": 215,
   "metadata": {},
   "outputs": [
    {
     "data": {
      "text/plain": [
       "Index(['speech', 'WPs', 'date', 'wikidataid', 'novelty', 'transience',\n",
       "       'resonance', 'politicianID', 'surname_lower_comb',\n",
       "       'forename_lower_comb', 'pageid', 'name', 'year', 'month', 'PARTY',\n",
       "       'PARTY_temp'],\n",
       "      dtype='object')"
      ]
     },
     "execution_count": 215,
     "metadata": {},
     "output_type": "execute_result"
    }
   ],
   "source": [
    "NamesWPSpeeches.columns"
   ]
  },
  {
   "cell_type": "code",
   "execution_count": 216,
   "metadata": {},
   "outputs": [],
   "source": [
    "polIds = NamesWPSpeeches['politicianID']\n",
    "polNames = NamesWPSpeeches['name']"
   ]
  },
  {
   "cell_type": "code",
   "execution_count": 217,
   "metadata": {},
   "outputs": [],
   "source": [
    "Parties = []\n",
    "for i in range(len(polIds)): \n",
    "    if np.isnan(polIds[i]) == False:\n",
    "        if str(int(polIds[i])) in PolID2info.keys():\n",
    "            if \"PARTY\" in PolID2info[str(int(polIds[i]))].keys():\n",
    "                Parties.append(PolID2info[str(int(polIds[i]))][\"PARTY\"])\n",
    "            elif type(polNames[i]) == str: \n",
    "                Parties.append(MissingName2Party[polNames[i]])\n",
    "            else: \n",
    "                Parties.append(np.nan)\n",
    "        elif type(polNames[i]) == str: \n",
    "                Parties.append(MissingName2Party[polNames[i]])\n",
    "        else: \n",
    "            Parties.append(np.nan)\n",
    "    elif type(polNames[i]) == str: \n",
    "        Parties.append(MissingName2Party[polNames[i]])\n",
    "    else: \n",
    "        Parties.append(np.nan)"
   ]
  },
  {
   "cell_type": "code",
   "execution_count": 218,
   "metadata": {},
   "outputs": [
    {
     "data": {
      "text/plain": [
       "(False, True)"
      ]
     },
     "execution_count": 218,
     "metadata": {},
     "output_type": "execute_result"
    }
   ],
   "source": [
    "type(polNames[121037]) == str, type(\"Herbert\") == str"
   ]
  },
  {
   "cell_type": "code",
   "execution_count": 219,
   "metadata": {},
   "outputs": [
    {
     "data": {
      "text/plain": [
       "(121038, 121038)"
      ]
     },
     "execution_count": 219,
     "metadata": {},
     "output_type": "execute_result"
    }
   ],
   "source": [
    "len(Parties), len(polIds)"
   ]
  },
  {
   "cell_type": "code",
   "execution_count": 220,
   "metadata": {},
   "outputs": [],
   "source": [
    "NamesWPSpeeches[\"PARTY_temp\"] = pd.Series(Parties)"
   ]
  },
  {
   "cell_type": "code",
   "execution_count": 221,
   "metadata": {},
   "outputs": [
    {
     "data": {
      "text/plain": [
       "array(['SPD', 'CDU', 'BÜNDNIS 90/DIE GRÜNEN', 'PDS', 'FDP', 'CSU', nan,\n",
       "       'DIE LINKE.', 'PDS/LL', 'Plos', 'Bündnis 90/Die Grünen',\n",
       "       'Die Linke.', 'AfD'], dtype=object)"
      ]
     },
     "execution_count": 221,
     "metadata": {},
     "output_type": "execute_result"
    }
   ],
   "source": [
    "NamesWPSpeeches[\"PARTY_temp\"].unique()"
   ]
  },
  {
   "cell_type": "code",
   "execution_count": 222,
   "metadata": {},
   "outputs": [],
   "source": [
    "NamesWPSpeeches[\"PARTY\"] = NamesWPSpeeches[\"PARTY_temp\"].map(party_dic).fillna(NamesWPSpeeches['PARTY_temp'])"
   ]
  },
  {
   "cell_type": "code",
   "execution_count": 223,
   "metadata": {},
   "outputs": [
    {
     "data": {
      "text/plain": [
       "array(['SPD', 'CDU/CSU', 'BÜNDNIS 90/DIE GRÜNEN', 'PDS', 'FDP', nan,\n",
       "       'DIE LINKE.', 'Parteilos', 'Bündnis 90/Die Grünen', 'AfD'],\n",
       "      dtype=object)"
      ]
     },
     "execution_count": 223,
     "metadata": {},
     "output_type": "execute_result"
    }
   ],
   "source": [
    "NamesWPSpeeches[\"PARTY\"].unique()"
   ]
  },
  {
   "cell_type": "code",
   "execution_count": 224,
   "metadata": {},
   "outputs": [],
   "source": [
    "NamesWPSpeeches = NamesWPSpeeches.drop(columns = [\"PARTY_temp\"])"
   ]
  },
  {
   "cell_type": "code",
   "execution_count": 225,
   "metadata": {},
   "outputs": [
    {
     "data": {
      "text/plain": [
       "0                       SPD\n",
       "1                   CDU/CSU\n",
       "2     BÜNDNIS 90/DIE GRÜNEN\n",
       "3                   CDU/CSU\n",
       "4                       PDS\n",
       "5                   CDU/CSU\n",
       "6                       SPD\n",
       "7                       FDP\n",
       "8     BÜNDNIS 90/DIE GRÜNEN\n",
       "9                       SPD\n",
       "10                      FDP\n",
       "11                  CDU/CSU\n",
       "12                      SPD\n",
       "13                  CDU/CSU\n",
       "14                      SPD\n",
       "15                      FDP\n",
       "16                  CDU/CSU\n",
       "17                  CDU/CSU\n",
       "18                      SPD\n",
       "19                      FDP\n",
       "Name: PARTY, dtype: object"
      ]
     },
     "execution_count": 225,
     "metadata": {},
     "output_type": "execute_result"
    }
   ],
   "source": [
    "NamesWPSpeeches[\"PARTY\"].head(20)"
   ]
  },
  {
   "cell_type": "code",
   "execution_count": 227,
   "metadata": {},
   "outputs": [],
   "source": [
    "#len(NamesWPSpeeches[(NamesWPSpeeches[\"PARTY\"].isna()) & (NamesWPSpeeches[\"name\"].isna() == False)][\"name\"].unique())"
   ]
  },
  {
   "cell_type": "code",
   "execution_count": 229,
   "metadata": {},
   "outputs": [],
   "source": [
    "#len(NamesWPSpeeches[\"name\"].unique())-len(NamesWPSpeeches[(NamesWPSpeeches[\"PARTY\"].isna()) & (NamesWPSpeeches[\"name\"].isna() == False)][\"name\"].unique()), len(NamesWPSpeeches[(NamesWPSpeeches[\"PARTY\"].isna()) & (NamesWPSpeeches[\"name\"].isna() == False)][\"name\"].unique())/len(NamesWPSpeeches[\"name\"].unique())"
   ]
  },
  {
   "cell_type": "code",
   "execution_count": 230,
   "metadata": {},
   "outputs": [],
   "source": [
    "#MPs_without_party = NamesWPSpeeches[(NamesWPSpeeches[\"PARTY\"].isna()) & (NamesWPSpeeches[\"name\"].isna() == False)][\"name\"].unique()\n",
    "#MPs_without_party"
   ]
  },
  {
   "cell_type": "code",
   "execution_count": 238,
   "metadata": {},
   "outputs": [
    {
     "data": {
      "text/html": [
       "<div>\n",
       "<style scoped>\n",
       "    .dataframe tbody tr th:only-of-type {\n",
       "        vertical-align: middle;\n",
       "    }\n",
       "\n",
       "    .dataframe tbody tr th {\n",
       "        vertical-align: top;\n",
       "    }\n",
       "\n",
       "    .dataframe thead th {\n",
       "        text-align: right;\n",
       "    }\n",
       "</style>\n",
       "<table border=\"1\" class=\"dataframe\">\n",
       "  <thead>\n",
       "    <tr style=\"text-align: right;\">\n",
       "      <th></th>\n",
       "      <th>speech</th>\n",
       "      <th>WPs</th>\n",
       "      <th>date</th>\n",
       "      <th>wikidataid</th>\n",
       "      <th>novelty</th>\n",
       "      <th>transience</th>\n",
       "      <th>resonance</th>\n",
       "      <th>politicianID</th>\n",
       "      <th>surname_lower_comb</th>\n",
       "      <th>forename_lower_comb</th>\n",
       "      <th>pageid</th>\n",
       "      <th>name</th>\n",
       "      <th>year</th>\n",
       "      <th>month</th>\n",
       "      <th>PARTY</th>\n",
       "    </tr>\n",
       "  </thead>\n",
       "  <tbody>\n",
       "    <tr>\n",
       "      <th>0</th>\n",
       "      <td>471526</td>\n",
       "      <td>12</td>\n",
       "      <td>1990-12-20</td>\n",
       "      <td>Q2514</td>\n",
       "      <td>2.549234</td>\n",
       "      <td>2.488905</td>\n",
       "      <td>0.060329</td>\n",
       "      <td>11000246.0</td>\n",
       "      <td>brandt</td>\n",
       "      <td>willy</td>\n",
       "      <td>1518001.0</td>\n",
       "      <td>Willy Brandt</td>\n",
       "      <td>1990</td>\n",
       "      <td>12</td>\n",
       "      <td>SPD</td>\n",
       "    </tr>\n",
       "    <tr>\n",
       "      <th>1</th>\n",
       "      <td>471554</td>\n",
       "      <td>12</td>\n",
       "      <td>1990-12-20</td>\n",
       "      <td>Q66286</td>\n",
       "      <td>2.592673</td>\n",
       "      <td>2.386411</td>\n",
       "      <td>0.206261</td>\n",
       "      <td>11002287.0</td>\n",
       "      <td>süssmuth</td>\n",
       "      <td>rita</td>\n",
       "      <td>4253.0</td>\n",
       "      <td>Rita Süssmuth</td>\n",
       "      <td>1990</td>\n",
       "      <td>12</td>\n",
       "      <td>CDU/CSU</td>\n",
       "    </tr>\n",
       "    <tr>\n",
       "      <th>2</th>\n",
       "      <td>471532</td>\n",
       "      <td>12</td>\n",
       "      <td>1990-12-20</td>\n",
       "      <td>Q895636</td>\n",
       "      <td>3.153690</td>\n",
       "      <td>3.067440</td>\n",
       "      <td>0.086250</td>\n",
       "      <td>11002354.0</td>\n",
       "      <td>ullmann</td>\n",
       "      <td>wolfgang</td>\n",
       "      <td>300219.0</td>\n",
       "      <td>Wolfgang Ullmann</td>\n",
       "      <td>1990</td>\n",
       "      <td>12</td>\n",
       "      <td>BÜNDNIS 90/DIE GRÜNEN</td>\n",
       "    </tr>\n",
       "    <tr>\n",
       "      <th>3</th>\n",
       "      <td>471527</td>\n",
       "      <td>12</td>\n",
       "      <td>1990-12-20</td>\n",
       "      <td>Q65389</td>\n",
       "      <td>NaN</td>\n",
       "      <td>NaN</td>\n",
       "      <td>NaN</td>\n",
       "      <td>11000418.0</td>\n",
       "      <td>dregger</td>\n",
       "      <td>alfred</td>\n",
       "      <td>73446.0</td>\n",
       "      <td>Alfred Dregger</td>\n",
       "      <td>1990</td>\n",
       "      <td>12</td>\n",
       "      <td>CDU/CSU</td>\n",
       "    </tr>\n",
       "    <tr>\n",
       "      <th>4</th>\n",
       "      <td>471536</td>\n",
       "      <td>12</td>\n",
       "      <td>1990-12-20</td>\n",
       "      <td>Q1594398</td>\n",
       "      <td>3.193564</td>\n",
       "      <td>2.898972</td>\n",
       "      <td>0.294592</td>\n",
       "      <td>11000891.0</td>\n",
       "      <td>heuer</td>\n",
       "      <td>uwe-jens</td>\n",
       "      <td>1097338.0</td>\n",
       "      <td>Uwe-Jens Heuer</td>\n",
       "      <td>1990</td>\n",
       "      <td>12</td>\n",
       "      <td>PDS</td>\n",
       "    </tr>\n",
       "    <tr>\n",
       "      <th>5</th>\n",
       "      <td>471538</td>\n",
       "      <td>12</td>\n",
       "      <td>1990-12-20</td>\n",
       "      <td>Q90872</td>\n",
       "      <td>2.792925</td>\n",
       "      <td>2.473792</td>\n",
       "      <td>0.319134</td>\n",
       "      <td>11000230.0</td>\n",
       "      <td>bohl</td>\n",
       "      <td>friedrich</td>\n",
       "      <td>68441.0</td>\n",
       "      <td>Friedrich Bohl</td>\n",
       "      <td>1990</td>\n",
       "      <td>12</td>\n",
       "      <td>CDU/CSU</td>\n",
       "    </tr>\n",
       "    <tr>\n",
       "      <th>6</th>\n",
       "      <td>471540</td>\n",
       "      <td>12</td>\n",
       "      <td>1990-12-20</td>\n",
       "      <td>Q62202</td>\n",
       "      <td>3.348402</td>\n",
       "      <td>3.364183</td>\n",
       "      <td>-0.015781</td>\n",
       "      <td>11002278.0</td>\n",
       "      <td>struck</td>\n",
       "      <td>peter</td>\n",
       "      <td>2775624.0</td>\n",
       "      <td>Peter Struck</td>\n",
       "      <td>1990</td>\n",
       "      <td>12</td>\n",
       "      <td>SPD</td>\n",
       "    </tr>\n",
       "    <tr>\n",
       "      <th>7</th>\n",
       "      <td>471542</td>\n",
       "      <td>12</td>\n",
       "      <td>1990-12-20</td>\n",
       "      <td>Q1671024</td>\n",
       "      <td>2.663834</td>\n",
       "      <td>2.557006</td>\n",
       "      <td>0.106828</td>\n",
       "      <td>11002557.0</td>\n",
       "      <td>wolfgramm</td>\n",
       "      <td>torsten</td>\n",
       "      <td>217661.0</td>\n",
       "      <td>Torsten Wolfgramm</td>\n",
       "      <td>1990</td>\n",
       "      <td>12</td>\n",
       "      <td>FDP</td>\n",
       "    </tr>\n",
       "    <tr>\n",
       "      <th>8</th>\n",
       "      <td>471544</td>\n",
       "      <td>12</td>\n",
       "      <td>1990-12-20</td>\n",
       "      <td>Q1439517</td>\n",
       "      <td>3.122824</td>\n",
       "      <td>3.174104</td>\n",
       "      <td>-0.051281</td>\n",
       "      <td>11001159.0</td>\n",
       "      <td>köppe</td>\n",
       "      <td>ingrid</td>\n",
       "      <td>1139068.0</td>\n",
       "      <td>Ingrid Köppe</td>\n",
       "      <td>1990</td>\n",
       "      <td>12</td>\n",
       "      <td>BÜNDNIS 90/DIE GRÜNEN</td>\n",
       "    </tr>\n",
       "    <tr>\n",
       "      <th>9</th>\n",
       "      <td>471547</td>\n",
       "      <td>12</td>\n",
       "      <td>1990-12-20</td>\n",
       "      <td>Q1604393</td>\n",
       "      <td>NaN</td>\n",
       "      <td>NaN</td>\n",
       "      <td>NaN</td>\n",
       "      <td>11000127.0</td>\n",
       "      <td>becker</td>\n",
       "      <td>helmuth</td>\n",
       "      <td>394854.0</td>\n",
       "      <td>Helmuth Becker</td>\n",
       "      <td>1990</td>\n",
       "      <td>12</td>\n",
       "      <td>SPD</td>\n",
       "    </tr>\n",
       "    <tr>\n",
       "      <th>10</th>\n",
       "      <td>471549</td>\n",
       "      <td>12</td>\n",
       "      <td>1990-12-20</td>\n",
       "      <td>Q124036</td>\n",
       "      <td>NaN</td>\n",
       "      <td>NaN</td>\n",
       "      <td>NaN</td>\n",
       "      <td>11000342.0</td>\n",
       "      <td>cronenberg</td>\n",
       "      <td>dieter-julius</td>\n",
       "      <td>237953.0</td>\n",
       "      <td>Dieter-Julius Cronenberg</td>\n",
       "      <td>1990</td>\n",
       "      <td>12</td>\n",
       "      <td>FDP</td>\n",
       "    </tr>\n",
       "    <tr>\n",
       "      <th>11</th>\n",
       "      <td>471551</td>\n",
       "      <td>12</td>\n",
       "      <td>1990-12-20</td>\n",
       "      <td>Q90844</td>\n",
       "      <td>NaN</td>\n",
       "      <td>NaN</td>\n",
       "      <td>NaN</td>\n",
       "      <td>11001114.0</td>\n",
       "      <td>klein</td>\n",
       "      <td>hans</td>\n",
       "      <td>68502.0</td>\n",
       "      <td>Hans Klein</td>\n",
       "      <td>1990</td>\n",
       "      <td>12</td>\n",
       "      <td>CDU/CSU</td>\n",
       "    </tr>\n",
       "    <tr>\n",
       "      <th>12</th>\n",
       "      <td>471553</td>\n",
       "      <td>12</td>\n",
       "      <td>1990-12-20</td>\n",
       "      <td>Q69677</td>\n",
       "      <td>NaN</td>\n",
       "      <td>NaN</td>\n",
       "      <td>NaN</td>\n",
       "      <td>11002016.0</td>\n",
       "      <td>schmidt</td>\n",
       "      <td>renate</td>\n",
       "      <td>14924.0</td>\n",
       "      <td>Renate Schmidt</td>\n",
       "      <td>1990</td>\n",
       "      <td>12</td>\n",
       "      <td>SPD</td>\n",
       "    </tr>\n",
       "    <tr>\n",
       "      <th>13</th>\n",
       "      <td>471574</td>\n",
       "      <td>12</td>\n",
       "      <td>1991-01-14</td>\n",
       "      <td>Q66286</td>\n",
       "      <td>2.250488</td>\n",
       "      <td>2.065502</td>\n",
       "      <td>0.184986</td>\n",
       "      <td>11002287.0</td>\n",
       "      <td>süssmuth</td>\n",
       "      <td>rita</td>\n",
       "      <td>4253.0</td>\n",
       "      <td>Rita Süssmuth</td>\n",
       "      <td>1991</td>\n",
       "      <td>1</td>\n",
       "      <td>CDU/CSU</td>\n",
       "    </tr>\n",
       "    <tr>\n",
       "      <th>14</th>\n",
       "      <td>471561</td>\n",
       "      <td>12</td>\n",
       "      <td>1991-01-14</td>\n",
       "      <td>Q552483</td>\n",
       "      <td>2.719399</td>\n",
       "      <td>2.572175</td>\n",
       "      <td>0.147224</td>\n",
       "      <td>11002379.0</td>\n",
       "      <td>vogel</td>\n",
       "      <td>hans-jochen</td>\n",
       "      <td>52178.0</td>\n",
       "      <td>Hans-Jochen Vogel</td>\n",
       "      <td>1991</td>\n",
       "      <td>1</td>\n",
       "      <td>SPD</td>\n",
       "    </tr>\n",
       "    <tr>\n",
       "      <th>15</th>\n",
       "      <td>471568</td>\n",
       "      <td>12</td>\n",
       "      <td>1991-01-14</td>\n",
       "      <td>Q60153</td>\n",
       "      <td>2.619367</td>\n",
       "      <td>2.481450</td>\n",
       "      <td>0.137917</td>\n",
       "      <td>11001272.0</td>\n",
       "      <td>lambsdorff</td>\n",
       "      <td>otto graf</td>\n",
       "      <td>57565.0</td>\n",
       "      <td>Otto Graf Lambsdorff</td>\n",
       "      <td>1991</td>\n",
       "      <td>1</td>\n",
       "      <td>FDP</td>\n",
       "    </tr>\n",
       "    <tr>\n",
       "      <th>16</th>\n",
       "      <td>471556</td>\n",
       "      <td>12</td>\n",
       "      <td>1991-01-14</td>\n",
       "      <td>Q2518</td>\n",
       "      <td>2.613605</td>\n",
       "      <td>2.015166</td>\n",
       "      <td>0.598438</td>\n",
       "      <td>11001165.0</td>\n",
       "      <td>kohl</td>\n",
       "      <td>helmut</td>\n",
       "      <td>2155.0</td>\n",
       "      <td>Helmut Kohl</td>\n",
       "      <td>1991</td>\n",
       "      <td>1</td>\n",
       "      <td>CDU/CSU</td>\n",
       "    </tr>\n",
       "    <tr>\n",
       "      <th>17</th>\n",
       "      <td>471559</td>\n",
       "      <td>12</td>\n",
       "      <td>1991-01-14</td>\n",
       "      <td>Q85844</td>\n",
       "      <td>2.665911</td>\n",
       "      <td>2.383297</td>\n",
       "      <td>0.282614</td>\n",
       "      <td>11000228.0</td>\n",
       "      <td>bötsch</td>\n",
       "      <td>wolfgang</td>\n",
       "      <td>67618.0</td>\n",
       "      <td>Wolfgang Bötsch</td>\n",
       "      <td>1991</td>\n",
       "      <td>1</td>\n",
       "      <td>CDU/CSU</td>\n",
       "    </tr>\n",
       "    <tr>\n",
       "      <th>18</th>\n",
       "      <td>471567</td>\n",
       "      <td>12</td>\n",
       "      <td>1991-01-14</td>\n",
       "      <td>Q1454589</td>\n",
       "      <td>NaN</td>\n",
       "      <td>NaN</td>\n",
       "      <td>NaN</td>\n",
       "      <td>11000425.0</td>\n",
       "      <td>duve</td>\n",
       "      <td>freimut</td>\n",
       "      <td>246009.0</td>\n",
       "      <td>Freimut Duve</td>\n",
       "      <td>1991</td>\n",
       "      <td>1</td>\n",
       "      <td>SPD</td>\n",
       "    </tr>\n",
       "    <tr>\n",
       "      <th>19</th>\n",
       "      <td>471569</td>\n",
       "      <td>12</td>\n",
       "      <td>1991-01-14</td>\n",
       "      <td>Q1715571</td>\n",
       "      <td>4.242502</td>\n",
       "      <td>3.796441</td>\n",
       "      <td>0.446061</td>\n",
       "      <td>11000629.0</td>\n",
       "      <td>ganschow</td>\n",
       "      <td>jörg wolfgang</td>\n",
       "      <td>6110269.0</td>\n",
       "      <td>Jörg Wolfgang Ganschow</td>\n",
       "      <td>1991</td>\n",
       "      <td>1</td>\n",
       "      <td>FDP</td>\n",
       "    </tr>\n",
       "  </tbody>\n",
       "</table>\n",
       "</div>"
      ],
      "text/plain": [
       "    speech WPs        date wikidataid   novelty  transience  resonance  \\\n",
       "0   471526  12  1990-12-20      Q2514  2.549234    2.488905   0.060329   \n",
       "1   471554  12  1990-12-20     Q66286  2.592673    2.386411   0.206261   \n",
       "2   471532  12  1990-12-20    Q895636  3.153690    3.067440   0.086250   \n",
       "3   471527  12  1990-12-20     Q65389       NaN         NaN        NaN   \n",
       "4   471536  12  1990-12-20   Q1594398  3.193564    2.898972   0.294592   \n",
       "5   471538  12  1990-12-20     Q90872  2.792925    2.473792   0.319134   \n",
       "6   471540  12  1990-12-20     Q62202  3.348402    3.364183  -0.015781   \n",
       "7   471542  12  1990-12-20   Q1671024  2.663834    2.557006   0.106828   \n",
       "8   471544  12  1990-12-20   Q1439517  3.122824    3.174104  -0.051281   \n",
       "9   471547  12  1990-12-20   Q1604393       NaN         NaN        NaN   \n",
       "10  471549  12  1990-12-20    Q124036       NaN         NaN        NaN   \n",
       "11  471551  12  1990-12-20     Q90844       NaN         NaN        NaN   \n",
       "12  471553  12  1990-12-20     Q69677       NaN         NaN        NaN   \n",
       "13  471574  12  1991-01-14     Q66286  2.250488    2.065502   0.184986   \n",
       "14  471561  12  1991-01-14    Q552483  2.719399    2.572175   0.147224   \n",
       "15  471568  12  1991-01-14     Q60153  2.619367    2.481450   0.137917   \n",
       "16  471556  12  1991-01-14      Q2518  2.613605    2.015166   0.598438   \n",
       "17  471559  12  1991-01-14     Q85844  2.665911    2.383297   0.282614   \n",
       "18  471567  12  1991-01-14   Q1454589       NaN         NaN        NaN   \n",
       "19  471569  12  1991-01-14   Q1715571  4.242502    3.796441   0.446061   \n",
       "\n",
       "    politicianID surname_lower_comb forename_lower_comb     pageid  \\\n",
       "0     11000246.0             brandt               willy  1518001.0   \n",
       "1     11002287.0           süssmuth                rita     4253.0   \n",
       "2     11002354.0            ullmann            wolfgang   300219.0   \n",
       "3     11000418.0            dregger              alfred    73446.0   \n",
       "4     11000891.0              heuer            uwe-jens  1097338.0   \n",
       "5     11000230.0               bohl           friedrich    68441.0   \n",
       "6     11002278.0             struck               peter  2775624.0   \n",
       "7     11002557.0          wolfgramm             torsten   217661.0   \n",
       "8     11001159.0              köppe              ingrid  1139068.0   \n",
       "9     11000127.0             becker             helmuth   394854.0   \n",
       "10    11000342.0         cronenberg       dieter-julius   237953.0   \n",
       "11    11001114.0              klein                hans    68502.0   \n",
       "12    11002016.0            schmidt              renate    14924.0   \n",
       "13    11002287.0           süssmuth                rita     4253.0   \n",
       "14    11002379.0              vogel         hans-jochen    52178.0   \n",
       "15    11001272.0         lambsdorff           otto graf    57565.0   \n",
       "16    11001165.0               kohl              helmut     2155.0   \n",
       "17    11000228.0             bötsch            wolfgang    67618.0   \n",
       "18    11000425.0               duve             freimut   246009.0   \n",
       "19    11000629.0           ganschow       jörg wolfgang  6110269.0   \n",
       "\n",
       "                        name  year  month                  PARTY  \n",
       "0               Willy Brandt  1990     12                    SPD  \n",
       "1              Rita Süssmuth  1990     12                CDU/CSU  \n",
       "2           Wolfgang Ullmann  1990     12  BÜNDNIS 90/DIE GRÜNEN  \n",
       "3             Alfred Dregger  1990     12                CDU/CSU  \n",
       "4             Uwe-Jens Heuer  1990     12                    PDS  \n",
       "5             Friedrich Bohl  1990     12                CDU/CSU  \n",
       "6               Peter Struck  1990     12                    SPD  \n",
       "7          Torsten Wolfgramm  1990     12                    FDP  \n",
       "8               Ingrid Köppe  1990     12  BÜNDNIS 90/DIE GRÜNEN  \n",
       "9             Helmuth Becker  1990     12                    SPD  \n",
       "10  Dieter-Julius Cronenberg  1990     12                    FDP  \n",
       "11                Hans Klein  1990     12                CDU/CSU  \n",
       "12            Renate Schmidt  1990     12                    SPD  \n",
       "13             Rita Süssmuth  1991      1                CDU/CSU  \n",
       "14         Hans-Jochen Vogel  1991      1                    SPD  \n",
       "15      Otto Graf Lambsdorff  1991      1                    FDP  \n",
       "16               Helmut Kohl  1991      1                CDU/CSU  \n",
       "17           Wolfgang Bötsch  1991      1                CDU/CSU  \n",
       "18              Freimut Duve  1991      1                    SPD  \n",
       "19    Jörg Wolfgang Ganschow  1991      1                    FDP  "
      ]
     },
     "execution_count": 238,
     "metadata": {},
     "output_type": "execute_result"
    }
   ],
   "source": [
    "NamesWPSpeeches.head(20)"
   ]
  },
  {
   "cell_type": "code",
   "execution_count": 271,
   "metadata": {},
   "outputs": [],
   "source": [
    "NamesWPSpeeches.to_csv(PATH + \"./processed/NamesWPSpeeches_withParty.csv\")"
   ]
  },
  {
   "cell_type": "markdown",
   "metadata": {},
   "source": [
    "# Group and save"
   ]
  },
  {
   "cell_type": "code",
   "execution_count": 249,
   "metadata": {},
   "outputs": [
    {
     "data": {
      "text/html": [
       "<div>\n",
       "<style scoped>\n",
       "    .dataframe tbody tr th:only-of-type {\n",
       "        vertical-align: middle;\n",
       "    }\n",
       "\n",
       "    .dataframe tbody tr th {\n",
       "        vertical-align: top;\n",
       "    }\n",
       "\n",
       "    .dataframe thead th {\n",
       "        text-align: right;\n",
       "    }\n",
       "</style>\n",
       "<table border=\"1\" class=\"dataframe\">\n",
       "  <thead>\n",
       "    <tr style=\"text-align: right;\">\n",
       "      <th></th>\n",
       "      <th>speech</th>\n",
       "      <th>WPs</th>\n",
       "      <th>date</th>\n",
       "      <th>wikidataid</th>\n",
       "      <th>novelty</th>\n",
       "      <th>transience</th>\n",
       "      <th>resonance</th>\n",
       "      <th>politicianID</th>\n",
       "      <th>surname_lower_comb</th>\n",
       "      <th>forename_lower_comb</th>\n",
       "      <th>pageid</th>\n",
       "      <th>name</th>\n",
       "      <th>year</th>\n",
       "      <th>month</th>\n",
       "      <th>PARTY</th>\n",
       "    </tr>\n",
       "  </thead>\n",
       "  <tbody>\n",
       "    <tr>\n",
       "      <th>0</th>\n",
       "      <td>471526</td>\n",
       "      <td>12</td>\n",
       "      <td>1990-12-20</td>\n",
       "      <td>Q2514</td>\n",
       "      <td>2.549234</td>\n",
       "      <td>2.488905</td>\n",
       "      <td>0.060329</td>\n",
       "      <td>11000246.0</td>\n",
       "      <td>brandt</td>\n",
       "      <td>willy</td>\n",
       "      <td>1518001.0</td>\n",
       "      <td>Willy Brandt</td>\n",
       "      <td>1990</td>\n",
       "      <td>12</td>\n",
       "      <td>SPD</td>\n",
       "    </tr>\n",
       "    <tr>\n",
       "      <th>1</th>\n",
       "      <td>471554</td>\n",
       "      <td>12</td>\n",
       "      <td>1990-12-20</td>\n",
       "      <td>Q66286</td>\n",
       "      <td>2.592673</td>\n",
       "      <td>2.386411</td>\n",
       "      <td>0.206261</td>\n",
       "      <td>11002287.0</td>\n",
       "      <td>süssmuth</td>\n",
       "      <td>rita</td>\n",
       "      <td>4253.0</td>\n",
       "      <td>Rita Süssmuth</td>\n",
       "      <td>1990</td>\n",
       "      <td>12</td>\n",
       "      <td>CDU/CSU</td>\n",
       "    </tr>\n",
       "    <tr>\n",
       "      <th>2</th>\n",
       "      <td>471532</td>\n",
       "      <td>12</td>\n",
       "      <td>1990-12-20</td>\n",
       "      <td>Q895636</td>\n",
       "      <td>3.153690</td>\n",
       "      <td>3.067440</td>\n",
       "      <td>0.086250</td>\n",
       "      <td>11002354.0</td>\n",
       "      <td>ullmann</td>\n",
       "      <td>wolfgang</td>\n",
       "      <td>300219.0</td>\n",
       "      <td>Wolfgang Ullmann</td>\n",
       "      <td>1990</td>\n",
       "      <td>12</td>\n",
       "      <td>BÜNDNIS 90/DIE GRÜNEN</td>\n",
       "    </tr>\n",
       "    <tr>\n",
       "      <th>3</th>\n",
       "      <td>471527</td>\n",
       "      <td>12</td>\n",
       "      <td>1990-12-20</td>\n",
       "      <td>Q65389</td>\n",
       "      <td>NaN</td>\n",
       "      <td>NaN</td>\n",
       "      <td>NaN</td>\n",
       "      <td>11000418.0</td>\n",
       "      <td>dregger</td>\n",
       "      <td>alfred</td>\n",
       "      <td>73446.0</td>\n",
       "      <td>Alfred Dregger</td>\n",
       "      <td>1990</td>\n",
       "      <td>12</td>\n",
       "      <td>CDU/CSU</td>\n",
       "    </tr>\n",
       "    <tr>\n",
       "      <th>4</th>\n",
       "      <td>471536</td>\n",
       "      <td>12</td>\n",
       "      <td>1990-12-20</td>\n",
       "      <td>Q1594398</td>\n",
       "      <td>3.193564</td>\n",
       "      <td>2.898972</td>\n",
       "      <td>0.294592</td>\n",
       "      <td>11000891.0</td>\n",
       "      <td>heuer</td>\n",
       "      <td>uwe-jens</td>\n",
       "      <td>1097338.0</td>\n",
       "      <td>Uwe-Jens Heuer</td>\n",
       "      <td>1990</td>\n",
       "      <td>12</td>\n",
       "      <td>PDS</td>\n",
       "    </tr>\n",
       "  </tbody>\n",
       "</table>\n",
       "</div>"
      ],
      "text/plain": [
       "   speech WPs        date wikidataid   novelty  transience  resonance  \\\n",
       "0  471526  12  1990-12-20      Q2514  2.549234    2.488905   0.060329   \n",
       "1  471554  12  1990-12-20     Q66286  2.592673    2.386411   0.206261   \n",
       "2  471532  12  1990-12-20    Q895636  3.153690    3.067440   0.086250   \n",
       "3  471527  12  1990-12-20     Q65389       NaN         NaN        NaN   \n",
       "4  471536  12  1990-12-20   Q1594398  3.193564    2.898972   0.294592   \n",
       "\n",
       "   politicianID surname_lower_comb forename_lower_comb     pageid  \\\n",
       "0    11000246.0             brandt               willy  1518001.0   \n",
       "1    11002287.0           süssmuth                rita     4253.0   \n",
       "2    11002354.0            ullmann            wolfgang   300219.0   \n",
       "3    11000418.0            dregger              alfred    73446.0   \n",
       "4    11000891.0              heuer            uwe-jens  1097338.0   \n",
       "\n",
       "               name  year  month                  PARTY  \n",
       "0      Willy Brandt  1990     12                    SPD  \n",
       "1     Rita Süssmuth  1990     12                CDU/CSU  \n",
       "2  Wolfgang Ullmann  1990     12  BÜNDNIS 90/DIE GRÜNEN  \n",
       "3    Alfred Dregger  1990     12                CDU/CSU  \n",
       "4    Uwe-Jens Heuer  1990     12                    PDS  "
      ]
     },
     "execution_count": 249,
     "metadata": {},
     "output_type": "execute_result"
    }
   ],
   "source": [
    "NamesWPSpeeches.head()"
   ]
  },
  {
   "cell_type": "code",
   "execution_count": 263,
   "metadata": {},
   "outputs": [
    {
     "data": {
      "text/plain": [
       "Index(['speech', 'WPs', 'date', 'wikidataid', 'novelty', 'transience',\n",
       "       'resonance', 'politicianID', 'surname_lower_comb',\n",
       "       'forename_lower_comb', 'pageid', 'name', 'year', 'month', 'PARTY'],\n",
       "      dtype='object')"
      ]
     },
     "execution_count": 263,
     "metadata": {},
     "output_type": "execute_result"
    }
   ],
   "source": [
    "NamesWPSpeeches.columns"
   ]
  },
  {
   "cell_type": "code",
   "execution_count": 272,
   "metadata": {},
   "outputs": [],
   "source": [
    "NamesWPSpeeches_grouped_WP = NamesWPSpeeches[['speech', 'WPs', 'wikidataid', 'novelty', 'transience',\n",
    "       'resonance', 'politicianID', 'name','PARTY']].groupby([\"WPs\", \"wikidataid\", \"name\", \"PARTY\", \"politicianID\"]).mean().reset_index()\n",
    "NamesWPSpeeches_grouped_year = NamesWPSpeeches.groupby([\"year\", \"wikidataid\", \"name\", \"PARTY\"]).mean().reset_index()\n",
    "NamesWPSpeeches_grouped_month_year = NamesWPSpeeches.groupby([\"month\", \"year\", \"wikidataid\", \"name\", \"PARTY\"]).mean().reset_index()\n",
    "NamesWPSpeeches_grouped_year_Party = NamesWPSpeeches.groupby([\"year\", \"PARTY\"]).mean().reset_index()"
   ]
  },
  {
   "cell_type": "code",
   "execution_count": 274,
   "metadata": {},
   "outputs": [
    {
     "data": {
      "text/plain": [
       "(121038, 5130, 18326, 219, 79385)"
      ]
     },
     "execution_count": 274,
     "metadata": {},
     "output_type": "execute_result"
    }
   ],
   "source": [
    "len(NamesWPSpeeches), len(NamesWPSpeeches_grouped_WP), len(NamesWPSpeeches_grouped_year), len(NamesWPSpeeches_grouped_year_Party), len(NamesWPSpeeches_grouped_month_year)"
   ]
  },
  {
   "cell_type": "code",
   "execution_count": 269,
   "metadata": {},
   "outputs": [
    {
     "data": {
      "text/html": [
       "<div>\n",
       "<style scoped>\n",
       "    .dataframe tbody tr th:only-of-type {\n",
       "        vertical-align: middle;\n",
       "    }\n",
       "\n",
       "    .dataframe tbody tr th {\n",
       "        vertical-align: top;\n",
       "    }\n",
       "\n",
       "    .dataframe thead th {\n",
       "        text-align: right;\n",
       "    }\n",
       "</style>\n",
       "<table border=\"1\" class=\"dataframe\">\n",
       "  <thead>\n",
       "    <tr style=\"text-align: right;\">\n",
       "      <th></th>\n",
       "      <th>WPs</th>\n",
       "      <th>wikidataid</th>\n",
       "      <th>name</th>\n",
       "      <th>PARTY</th>\n",
       "      <th>politicianID</th>\n",
       "      <th>novelty</th>\n",
       "      <th>transience</th>\n",
       "      <th>resonance</th>\n",
       "    </tr>\n",
       "  </thead>\n",
       "  <tbody>\n",
       "    <tr>\n",
       "      <th>0</th>\n",
       "      <td>12</td>\n",
       "      <td>Q100250</td>\n",
       "      <td>Wolf Bauer</td>\n",
       "      <td>CDU/CSU</td>\n",
       "      <td>11000108.0</td>\n",
       "      <td>2.671833</td>\n",
       "      <td>2.715625</td>\n",
       "      <td>-0.043792</td>\n",
       "    </tr>\n",
       "    <tr>\n",
       "      <th>1</th>\n",
       "      <td>12</td>\n",
       "      <td>Q100617</td>\n",
       "      <td>Rolf Schwanitz</td>\n",
       "      <td>SPD</td>\n",
       "      <td>11002123.0</td>\n",
       "      <td>2.592855</td>\n",
       "      <td>2.494435</td>\n",
       "      <td>0.098420</td>\n",
       "    </tr>\n",
       "    <tr>\n",
       "      <th>2</th>\n",
       "      <td>12</td>\n",
       "      <td>Q100924</td>\n",
       "      <td>Holger Bartsch</td>\n",
       "      <td>SPD</td>\n",
       "      <td>11000100.0</td>\n",
       "      <td>2.718271</td>\n",
       "      <td>2.699845</td>\n",
       "      <td>0.018425</td>\n",
       "    </tr>\n",
       "    <tr>\n",
       "      <th>3</th>\n",
       "      <td>12</td>\n",
       "      <td>Q100960</td>\n",
       "      <td>Michaela Geiger</td>\n",
       "      <td>CDU/CSU</td>\n",
       "      <td>11000649.0</td>\n",
       "      <td>2.931277</td>\n",
       "      <td>2.966084</td>\n",
       "      <td>-0.034807</td>\n",
       "    </tr>\n",
       "    <tr>\n",
       "      <th>4</th>\n",
       "      <td>12</td>\n",
       "      <td>Q101206</td>\n",
       "      <td>Ottmar Schreiner</td>\n",
       "      <td>SPD</td>\n",
       "      <td>11002073.0</td>\n",
       "      <td>2.578439</td>\n",
       "      <td>2.573651</td>\n",
       "      <td>0.004788</td>\n",
       "    </tr>\n",
       "  </tbody>\n",
       "</table>\n",
       "</div>"
      ],
      "text/plain": [
       "  WPs wikidataid              name    PARTY  politicianID   novelty  \\\n",
       "0  12    Q100250        Wolf Bauer  CDU/CSU    11000108.0  2.671833   \n",
       "1  12    Q100617    Rolf Schwanitz      SPD    11002123.0  2.592855   \n",
       "2  12    Q100924    Holger Bartsch      SPD    11000100.0  2.718271   \n",
       "3  12    Q100960   Michaela Geiger  CDU/CSU    11000649.0  2.931277   \n",
       "4  12    Q101206  Ottmar Schreiner      SPD    11002073.0  2.578439   \n",
       "\n",
       "   transience  resonance  \n",
       "0    2.715625  -0.043792  \n",
       "1    2.494435   0.098420  \n",
       "2    2.699845   0.018425  \n",
       "3    2.966084  -0.034807  \n",
       "4    2.573651   0.004788  "
      ]
     },
     "execution_count": 269,
     "metadata": {},
     "output_type": "execute_result"
    }
   ],
   "source": [
    "NamesWPSpeeches_grouped_WP.head()"
   ]
  },
  {
   "cell_type": "code",
   "execution_count": 262,
   "metadata": {},
   "outputs": [
    {
     "data": {
      "text/plain": [
       "5130"
      ]
     },
     "execution_count": 262,
     "metadata": {},
     "output_type": "execute_result"
    }
   ],
   "source": [
    "len(NamesWPSpeeches_grouped_WP) #5130"
   ]
  },
  {
   "cell_type": "code",
   "execution_count": 275,
   "metadata": {},
   "outputs": [],
   "source": [
    "#NamesWPSpeeches_grouped_WP.to_csv(PATH + \"./processed/NamesWPSpeeches_grouped_by_IDNameWP.csv\")\n",
    "#NamesWPSpeeches_grouped_year.to_csv(PATH + \"./processed/NamesWPSpeeches_grouped_by_IDNameYear.csv\")\n",
    "#NamesWPSpeeches_grouped_year_Party.to_csv(PATH + \"./processed/NamesWPSpeeches_grouped_by_YearPARTY.csv\")\n",
    "#NamesWPSpeeches_grouped_month_year.to_csv(PATH + \"./processed/NamesWPSpeeches_grouped_by_Month_Year.csv\")"
   ]
  },
  {
   "cell_type": "code",
   "execution_count": 247,
   "metadata": {},
   "outputs": [
    {
     "data": {
      "text/plain": [
       "'/Users/alexandrarottenkolber/Documents/02_Hertie_School/Master thesis/Master_Thesis_Hertie/data_analysis/01_data/Plenarprotokolle/'"
      ]
     },
     "execution_count": 247,
     "metadata": {},
     "output_type": "execute_result"
    }
   ],
   "source": [
    "PATH"
   ]
  },
  {
   "cell_type": "code",
   "execution_count": 118,
   "metadata": {},
   "outputs": [
    {
     "data": {
      "text/plain": [
       "Index(['WPs', 'wikidataid', 'name', 'novelty', 'transience', 'resonance',\n",
       "       'politicianID', 'pageid'],\n",
       "      dtype='object')"
      ]
     },
     "execution_count": 118,
     "metadata": {},
     "output_type": "execute_result"
    }
   ],
   "source": [
    "NamesWPSpeeches_grouped.columns"
   ]
  },
  {
   "cell_type": "code",
   "execution_count": 119,
   "metadata": {},
   "outputs": [
    {
     "data": {
      "text/plain": [
       "<AxesSubplot:>"
      ]
     },
     "execution_count": 119,
     "metadata": {},
     "output_type": "execute_result"
    },
    {
     "data": {
      "image/png": "[encoded data removed]",
      "text/plain": [
       "<Figure size 432x288 with 1 Axes>"
      ]
     },
     "metadata": {
      "needs_background": "light"
     },
     "output_type": "display_data"
    }
   ],
   "source": [
    "NamesWPSpeeches_grouped['novelty'][NamesWPSpeeches_grouped[\"WPs\"] == \"19\"].hist()"
   ]
  },
  {
   "cell_type": "code",
   "execution_count": 122,
   "metadata": {},
   "outputs": [
    {
     "data": {
      "text/plain": [
       "<AxesSubplot:>"
      ]
     },
     "execution_count": 122,
     "metadata": {},
     "output_type": "execute_result"
    },
    {
     "data": {
      "image/png": "[encoded data removed]",
      "text/plain": [
       "<Figure size 432x288 with 1 Axes>"
      ]
     },
     "metadata": {
      "needs_background": "light"
     },
     "output_type": "display_data"
    }
   ],
   "source": [
    "NamesWPSpeeches_grouped['novelty'][NamesWPSpeeches_grouped[\"WPs\"] == \"18\"].hist()"
   ]
  },
  {
   "cell_type": "code",
   "execution_count": 123,
   "metadata": {},
   "outputs": [
    {
     "data": {
      "text/plain": [
       "<AxesSubplot:>"
      ]
     },
     "execution_count": 123,
     "metadata": {},
     "output_type": "execute_result"
    },
    {
     "data": {
      "image/png": "[encoded data removed]",
      "text/plain": [
       "<Figure size 432x288 with 1 Axes>"
      ]
     },
     "metadata": {
      "needs_background": "light"
     },
     "output_type": "display_data"
    }
   ],
   "source": [
    "NamesWPSpeeches_grouped['novelty'][NamesWPSpeeches_grouped[\"WPs\"] == \"17\"].hist()"
   ]
  },
  {
   "cell_type": "code",
   "execution_count": 124,
   "metadata": {},
   "outputs": [
    {
     "data": {
      "text/plain": [
       "<AxesSubplot:>"
      ]
     },
     "execution_count": 124,
     "metadata": {},
     "output_type": "execute_result"
    },
    {
     "data": {
      "image/png": "[encoded data removed]",
      "text/plain": [
       "<Figure size 432x288 with 1 Axes>"
      ]
     },
     "metadata": {
      "needs_background": "light"
     },
     "output_type": "display_data"
    }
   ],
   "source": [
    "NamesWPSpeeches_grouped['novelty'][NamesWPSpeeches_grouped[\"WPs\"] == \"16\"].hist()"
   ]
  },
  {
   "cell_type": "code",
   "execution_count": 125,
   "metadata": {},
   "outputs": [
    {
     "data": {
      "text/plain": [
       "<AxesSubplot:>"
      ]
     },
     "execution_count": 125,
     "metadata": {},
     "output_type": "execute_result"
    },
    {
     "data": {
      "image/png": "[encoded data removed]",
      "text/plain": [
       "<Figure size 432x288 with 1 Axes>"
      ]
     },
     "metadata": {
      "needs_background": "light"
     },
     "output_type": "display_data"
    }
   ],
   "source": [
    "NamesWPSpeeches_grouped['novelty'][NamesWPSpeeches_grouped[\"WPs\"] == \"15\"].hist()"
   ]
  },
  {
   "cell_type": "code",
   "execution_count": 120,
   "metadata": {},
   "outputs": [
    {
     "data": {
      "text/plain": [
       "<AxesSubplot:>"
      ]
     },
     "execution_count": 120,
     "metadata": {},
     "output_type": "execute_result"
    },
    {
     "data": {
      "image/png": "[encoded data removed]",
      "text/plain": [
       "<Figure size 432x288 with 1 Axes>"
      ]
     },
     "metadata": {
      "needs_background": "light"
     },
     "output_type": "display_data"
    }
   ],
   "source": [
    "NamesWPSpeeches_grouped['resonance'][NamesWPSpeeches_grouped[\"WPs\"] == \"19\"].hist()\n"
   ]
  },
  {
   "cell_type": "code",
   "execution_count": 121,
   "metadata": {},
   "outputs": [
    {
     "data": {
      "text/plain": [
       "<AxesSubplot:>"
      ]
     },
     "execution_count": 121,
     "metadata": {},
     "output_type": "execute_result"
    },
    {
     "data": {
      "image/png": "[encoded data removed]",
      "text/plain": [
       "<Figure size 432x288 with 1 Axes>"
      ]
     },
     "metadata": {
      "needs_background": "light"
     },
     "output_type": "display_data"
    }
   ],
   "source": [
    "NamesWPSpeeches_grouped['transience'][NamesWPSpeeches_grouped[\"WPs\"] == \"19\"].hist()"
   ]
  },
  {
   "cell_type": "code",
   "execution_count": 343,
   "metadata": {},
   "outputs": [
    {
     "data": {
      "text/plain": [
       "<AxesSubplot:>"
      ]
     },
     "execution_count": 343,
     "metadata": {},
     "output_type": "execute_result"
    },
    {
     "data": {
      "image/png": "[encoded data removed]",
      "text/plain": [
       "<Figure size 432x288 with 1 Axes>"
      ]
     },
     "metadata": {
      "needs_background": "light"
     },
     "output_type": "display_data"
    }
   ],
   "source": [
    "NamesWPSpeeches_grouped['novelty'][NamesWPSpeeches_grouped[\"WPs\"] == \"19\"].hist()"
   ]
  },
  {
   "cell_type": "code",
   "execution_count": null,
   "metadata": {},
   "outputs": [],
   "source": []
  },
  {
   "cell_type": "code",
   "execution_count": 244,
   "metadata": {},
   "outputs": [
    {
     "data": {
      "text/html": [
       "<div>\n",
       "<style scoped>\n",
       "    .dataframe tbody tr th:only-of-type {\n",
       "        vertical-align: middle;\n",
       "    }\n",
       "\n",
       "    .dataframe tbody tr th {\n",
       "        vertical-align: top;\n",
       "    }\n",
       "\n",
       "    .dataframe thead th {\n",
       "        text-align: right;\n",
       "    }\n",
       "</style>\n",
       "<table border=\"1\" class=\"dataframe\">\n",
       "  <thead>\n",
       "    <tr style=\"text-align: right;\">\n",
       "      <th></th>\n",
       "      <th>year</th>\n",
       "      <th>PARTY</th>\n",
       "      <th>novelty</th>\n",
       "      <th>transience</th>\n",
       "      <th>resonance</th>\n",
       "      <th>politicianID</th>\n",
       "      <th>pageid</th>\n",
       "      <th>month</th>\n",
       "    </tr>\n",
       "  </thead>\n",
       "  <tbody>\n",
       "    <tr>\n",
       "      <th>209</th>\n",
       "      <td>2020</td>\n",
       "      <td>DIE LINKE.</td>\n",
       "      <td>3.029498</td>\n",
       "      <td>3.003245</td>\n",
       "      <td>0.026253</td>\n",
       "      <td>1.100397e+07</td>\n",
       "      <td>4.372483e+06</td>\n",
       "      <td>7.042453</td>\n",
       "    </tr>\n",
       "    <tr>\n",
       "      <th>210</th>\n",
       "      <td>2020</td>\n",
       "      <td>FDP</td>\n",
       "      <td>3.012242</td>\n",
       "      <td>2.974792</td>\n",
       "      <td>0.037451</td>\n",
       "      <td>1.100443e+07</td>\n",
       "      <td>6.372712e+06</td>\n",
       "      <td>6.864078</td>\n",
       "    </tr>\n",
       "    <tr>\n",
       "      <th>211</th>\n",
       "      <td>2020</td>\n",
       "      <td>Parteilos</td>\n",
       "      <td>3.043556</td>\n",
       "      <td>3.103845</td>\n",
       "      <td>-0.060289</td>\n",
       "      <td>1.100426e+07</td>\n",
       "      <td>5.117902e+06</td>\n",
       "      <td>7.300000</td>\n",
       "    </tr>\n",
       "    <tr>\n",
       "      <th>212</th>\n",
       "      <td>2020</td>\n",
       "      <td>SPD</td>\n",
       "      <td>2.944036</td>\n",
       "      <td>2.938103</td>\n",
       "      <td>0.005933</td>\n",
       "      <td>1.100411e+07</td>\n",
       "      <td>5.418569e+06</td>\n",
       "      <td>7.040000</td>\n",
       "    </tr>\n",
       "    <tr>\n",
       "      <th>213</th>\n",
       "      <td>2021</td>\n",
       "      <td>BÜNDNIS 90/DIE GRÜNEN</td>\n",
       "      <td>2.987454</td>\n",
       "      <td>3.001343</td>\n",
       "      <td>-0.013889</td>\n",
       "      <td>1.100414e+07</td>\n",
       "      <td>4.421144e+06</td>\n",
       "      <td>3.733189</td>\n",
       "    </tr>\n",
       "    <tr>\n",
       "      <th>214</th>\n",
       "      <td>2021</td>\n",
       "      <td>CDU/CSU</td>\n",
       "      <td>2.949654</td>\n",
       "      <td>2.961184</td>\n",
       "      <td>-0.011530</td>\n",
       "      <td>1.100417e+07</td>\n",
       "      <td>5.097435e+06</td>\n",
       "      <td>3.691176</td>\n",
       "    </tr>\n",
       "    <tr>\n",
       "      <th>215</th>\n",
       "      <td>2021</td>\n",
       "      <td>DIE LINKE.</td>\n",
       "      <td>3.011877</td>\n",
       "      <td>2.977449</td>\n",
       "      <td>0.034428</td>\n",
       "      <td>1.100398e+07</td>\n",
       "      <td>4.385085e+06</td>\n",
       "      <td>3.693095</td>\n",
       "    </tr>\n",
       "    <tr>\n",
       "      <th>216</th>\n",
       "      <td>2021</td>\n",
       "      <td>FDP</td>\n",
       "      <td>3.000059</td>\n",
       "      <td>2.971540</td>\n",
       "      <td>0.028519</td>\n",
       "      <td>1.100439e+07</td>\n",
       "      <td>6.318255e+06</td>\n",
       "      <td>3.784884</td>\n",
       "    </tr>\n",
       "    <tr>\n",
       "      <th>217</th>\n",
       "      <td>2021</td>\n",
       "      <td>Parteilos</td>\n",
       "      <td>2.929437</td>\n",
       "      <td>2.982874</td>\n",
       "      <td>-0.053437</td>\n",
       "      <td>1.100437e+07</td>\n",
       "      <td>5.610070e+06</td>\n",
       "      <td>3.895833</td>\n",
       "    </tr>\n",
       "    <tr>\n",
       "      <th>218</th>\n",
       "      <td>2021</td>\n",
       "      <td>SPD</td>\n",
       "      <td>2.980507</td>\n",
       "      <td>2.961719</td>\n",
       "      <td>0.018788</td>\n",
       "      <td>1.100413e+07</td>\n",
       "      <td>5.531496e+06</td>\n",
       "      <td>3.757241</td>\n",
       "    </tr>\n",
       "  </tbody>\n",
       "</table>\n",
       "</div>"
      ],
      "text/plain": [
       "     year                  PARTY   novelty  transience  resonance  \\\n",
       "209  2020             DIE LINKE.  3.029498    3.003245   0.026253   \n",
       "210  2020                    FDP  3.012242    2.974792   0.037451   \n",
       "211  2020              Parteilos  3.043556    3.103845  -0.060289   \n",
       "212  2020                    SPD  2.944036    2.938103   0.005933   \n",
       "213  2021  BÜNDNIS 90/DIE GRÜNEN  2.987454    3.001343  -0.013889   \n",
       "214  2021                CDU/CSU  2.949654    2.961184  -0.011530   \n",
       "215  2021             DIE LINKE.  3.011877    2.977449   0.034428   \n",
       "216  2021                    FDP  3.000059    2.971540   0.028519   \n",
       "217  2021              Parteilos  2.929437    2.982874  -0.053437   \n",
       "218  2021                    SPD  2.980507    2.961719   0.018788   \n",
       "\n",
       "     politicianID        pageid     month  \n",
       "209  1.100397e+07  4.372483e+06  7.042453  \n",
       "210  1.100443e+07  6.372712e+06  6.864078  \n",
       "211  1.100426e+07  5.117902e+06  7.300000  \n",
       "212  1.100411e+07  5.418569e+06  7.040000  \n",
       "213  1.100414e+07  4.421144e+06  3.733189  \n",
       "214  1.100417e+07  5.097435e+06  3.691176  \n",
       "215  1.100398e+07  4.385085e+06  3.693095  \n",
       "216  1.100439e+07  6.318255e+06  3.784884  \n",
       "217  1.100437e+07  5.610070e+06  3.895833  \n",
       "218  1.100413e+07  5.531496e+06  3.757241  "
      ]
     },
     "execution_count": 244,
     "metadata": {},
     "output_type": "execute_result"
    }
   ],
   "source": [
    "NamesWPSpeeches_grouped_year_Party.tail(10)"
   ]
  },
  {
   "cell_type": "code",
   "execution_count": 245,
   "metadata": {},
   "outputs": [
    {
     "data": {
      "text/plain": [
       "<AxesSubplot:>"
      ]
     },
     "execution_count": 245,
     "metadata": {},
     "output_type": "execute_result"
    },
    {
     "data": {
      "image/png": "[encoded data removed]",
      "text/plain": [
       "<Figure size 432x288 with 1 Axes>"
      ]
     },
     "metadata": {
      "needs_background": "light"
     },
     "output_type": "display_data"
    }
   ],
   "source": [
    "NamesWPSpeeches_grouped_year_Party['novelty'][(NamesWPSpeeches_grouped_year_Party[\"PARTY\"] == \"CDU/CSU\")].hist()"
   ]
  },
  {
   "cell_type": "code",
   "execution_count": 246,
   "metadata": {},
   "outputs": [
    {
     "data": {
      "text/plain": [
       "<AxesSubplot:>"
      ]
     },
     "execution_count": 246,
     "metadata": {},
     "output_type": "execute_result"
    },
    {
     "data": {
      "image/png": "[encoded data removed]",
      "text/plain": [
       "<Figure size 432x288 with 1 Axes>"
      ]
     },
     "metadata": {
      "needs_background": "light"
     },
     "output_type": "display_data"
    }
   ],
   "source": [
    "NamesWPSpeeches_grouped_year_Party['novelty'][NamesWPSpeeches_grouped_year_Party[\"PARTY\"] == \"BÜNDNIS 90/DIE GRÜNEN\"].hist()"
   ]
  },
  {
   "cell_type": "code",
   "execution_count": null,
   "metadata": {},
   "outputs": [],
   "source": []
  },
  {
   "cell_type": "code",
   "execution_count": null,
   "metadata": {},
   "outputs": [],
   "source": []
  },
  {
   "cell_type": "code",
   "execution_count": null,
   "metadata": {},
   "outputs": [],
   "source": []
  },
  {
   "cell_type": "code",
   "execution_count": null,
   "metadata": {},
   "outputs": [],
   "source": []
  },
  {
   "cell_type": "code",
   "execution_count": 126,
   "metadata": {},
   "outputs": [],
   "source": [
    "#list(speeches_and_WPs[\"speeches\"])\n"
   ]
  },
  {
   "cell_type": "code",
   "execution_count": 317,
   "metadata": {},
   "outputs": [],
   "source": [
    "#speech2KL.keys()"
   ]
  },
  {
   "cell_type": "code",
   "execution_count": 318,
   "metadata": {},
   "outputs": [],
   "source": [
    "#speech2KL['25']"
   ]
  },
  {
   "cell_type": "code",
   "execution_count": null,
   "metadata": {},
   "outputs": [],
   "source": []
  },
  {
   "cell_type": "code",
   "execution_count": null,
   "metadata": {},
   "outputs": [],
   "source": []
  },
  {
   "cell_type": "code",
   "execution_count": null,
   "metadata": {},
   "outputs": [],
   "source": []
  },
  {
   "cell_type": "code",
   "execution_count": null,
   "metadata": {},
   "outputs": [],
   "source": []
  },
  {
   "cell_type": "code",
   "execution_count": 319,
   "metadata": {},
   "outputs": [],
   "source": [
    "#list(NamesAndSpeeches[\"speeches\"][NamesAndSpeeches[\"wikidataid\"] ==  NamesAndSpeeches[\"wikidataid\"][6]])[0]"
   ]
  },
  {
   "cell_type": "code",
   "execution_count": null,
   "metadata": {},
   "outputs": [],
   "source": []
  },
  {
   "cell_type": "code",
   "execution_count": null,
   "metadata": {},
   "outputs": [],
   "source": []
  },
  {
   "cell_type": "code",
   "execution_count": null,
   "metadata": {},
   "outputs": [],
   "source": []
  },
  {
   "cell_type": "code",
   "execution_count": null,
   "metadata": {},
   "outputs": [],
   "source": []
  },
  {
   "cell_type": "code",
   "execution_count": null,
   "metadata": {},
   "outputs": [],
   "source": []
  }
 ],
 "metadata": {
  "kernelspec": {
   "display_name": "Python 3",
   "language": "python",
   "name": "python3"
  },
  "language_info": {
   "codemirror_mode": {
    "name": "ipython",
    "version": 3
   },
   "file_extension": ".py",
   "mimetype": "text/x-python",
   "name": "python",
   "nbconvert_exporter": "python",
   "pygments_lexer": "ipython3",
   "version": "3.8.5"
  }
 },
 "nbformat": 4,
 "nbformat_minor": 4
}
